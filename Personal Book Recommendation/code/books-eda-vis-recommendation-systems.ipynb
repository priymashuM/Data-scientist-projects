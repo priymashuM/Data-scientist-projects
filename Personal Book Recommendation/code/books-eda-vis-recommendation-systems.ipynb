{
 "cells": [
  {
   "cell_type": "markdown",
   "metadata": {},
   "source": [
    "## Importing Necessary Libraries"
   ]
  },
  {
   "cell_type": "code",
   "execution_count": 3,
   "metadata": {},
   "outputs": [
    {
     "name": "stdout",
     "output_type": "stream",
     "text": [
      "Collecting missingno\n",
      "  Using cached missingno-0.5.2-py3-none-any.whl.metadata (639 bytes)\n",
      "Requirement already satisfied: numpy in c:\\users\\dell\\anaconda3\\envs\\multi\\lib\\site-packages (from missingno) (1.26.4)\n",
      "Requirement already satisfied: matplotlib in c:\\users\\dell\\anaconda3\\envs\\multi\\lib\\site-packages (from missingno) (3.8.0)\n",
      "Requirement already satisfied: scipy in c:\\users\\dell\\anaconda3\\envs\\multi\\lib\\site-packages (from missingno) (1.13.1)\n",
      "Requirement already satisfied: seaborn in c:\\users\\dell\\anaconda3\\envs\\multi\\lib\\site-packages (from missingno) (0.13.2)\n",
      "Requirement already satisfied: contourpy>=1.0.1 in c:\\users\\dell\\anaconda3\\envs\\multi\\lib\\site-packages (from matplotlib->missingno) (1.3.0)\n",
      "Requirement already satisfied: cycler>=0.10 in c:\\users\\dell\\anaconda3\\envs\\multi\\lib\\site-packages (from matplotlib->missingno) (0.12.1)\n",
      "Requirement already satisfied: fonttools>=4.22.0 in c:\\users\\dell\\anaconda3\\envs\\multi\\lib\\site-packages (from matplotlib->missingno) (4.55.3)\n",
      "Requirement already satisfied: kiwisolver>=1.0.1 in c:\\users\\dell\\anaconda3\\envs\\multi\\lib\\site-packages (from matplotlib->missingno) (1.4.7)\n",
      "Requirement already satisfied: packaging>=20.0 in c:\\users\\dell\\anaconda3\\envs\\multi\\lib\\site-packages (from matplotlib->missingno) (24.2)\n",
      "Requirement already satisfied: pillow>=6.2.0 in c:\\users\\dell\\anaconda3\\envs\\multi\\lib\\site-packages (from matplotlib->missingno) (11.0.0)\n",
      "Requirement already satisfied: pyparsing>=2.3.1 in c:\\users\\dell\\anaconda3\\envs\\multi\\lib\\site-packages (from matplotlib->missingno) (3.2.1)\n",
      "Requirement already satisfied: python-dateutil>=2.7 in c:\\users\\dell\\anaconda3\\envs\\multi\\lib\\site-packages (from matplotlib->missingno) (2.9.0.post0)\n",
      "Requirement already satisfied: importlib-resources>=3.2.0 in c:\\users\\dell\\anaconda3\\envs\\multi\\lib\\site-packages (from matplotlib->missingno) (6.4.5)\n",
      "Requirement already satisfied: pandas>=1.2 in c:\\users\\dell\\anaconda3\\envs\\multi\\lib\\site-packages (from seaborn->missingno) (2.0.3)\n",
      "Requirement already satisfied: zipp>=3.1.0 in c:\\users\\dell\\anaconda3\\envs\\multi\\lib\\site-packages (from importlib-resources>=3.2.0->matplotlib->missingno) (3.21.0)\n",
      "Requirement already satisfied: pytz>=2020.1 in c:\\users\\dell\\anaconda3\\envs\\multi\\lib\\site-packages (from pandas>=1.2->seaborn->missingno) (2024.1)\n",
      "Requirement already satisfied: tzdata>=2022.1 in c:\\users\\dell\\anaconda3\\envs\\multi\\lib\\site-packages (from pandas>=1.2->seaborn->missingno) (2024.2)\n",
      "Requirement already satisfied: six>=1.5 in c:\\users\\dell\\anaconda3\\envs\\multi\\lib\\site-packages (from python-dateutil>=2.7->matplotlib->missingno) (1.16.0)\n",
      "Using cached missingno-0.5.2-py3-none-any.whl (8.7 kB)\n",
      "Installing collected packages: missingno\n",
      "Successfully installed missingno-0.5.2\n",
      "Note: you may need to restart the kernel to use updated packages.\n"
     ]
    }
   ],
   "source": [
    "pip install missingno"
   ]
  },
  {
   "cell_type": "code",
   "execution_count": 4,
   "metadata": {
    "_cell_guid": "b1076dfc-b9ad-4769-8c92-a6c4dae69d19",
    "_uuid": "8f2839f25d086af736a60e9eeb907d3b93b6e0e5"
   },
   "outputs": [
    {
     "name": "stdout",
     "output_type": "stream",
     "text": [
      "Requirement already satisfied: country_converter in c:\\users\\dell\\anaconda3\\envs\\multi\\lib\\site-packages (1.3)\n",
      "Requirement already satisfied: pandas>=1.0 in c:\\users\\dell\\anaconda3\\envs\\multi\\lib\\site-packages (from country_converter) (2.0.3)\n",
      "Requirement already satisfied: python-dateutil>=2.8.2 in c:\\users\\dell\\anaconda3\\envs\\multi\\lib\\site-packages (from pandas>=1.0->country_converter) (2.9.0.post0)\n",
      "Requirement already satisfied: pytz>=2020.1 in c:\\users\\dell\\anaconda3\\envs\\multi\\lib\\site-packages (from pandas>=1.0->country_converter) (2024.1)\n",
      "Requirement already satisfied: tzdata>=2022.1 in c:\\users\\dell\\anaconda3\\envs\\multi\\lib\\site-packages (from pandas>=1.0->country_converter) (2024.2)\n",
      "Requirement already satisfied: numpy>=1.20.3 in c:\\users\\dell\\anaconda3\\envs\\multi\\lib\\site-packages (from pandas>=1.0->country_converter) (1.26.4)\n",
      "Requirement already satisfied: six>=1.5 in c:\\users\\dell\\anaconda3\\envs\\multi\\lib\\site-packages (from python-dateutil>=2.8.2->pandas>=1.0->country_converter) (1.16.0)\n"
     ]
    }
   ],
   "source": [
    "!pip install country_converter\n",
    "\n",
    "import numpy as np\n",
    "import pandas as pd\n",
    "from matplotlib import pyplot as plt\n",
    "import country_converter as coco\n",
    "\n",
    "import seaborn as sns\n",
    "import missingno as msno\n",
    "import plotly.express as px\n",
    "import plotly.graph_objects as go\n",
    "from plotly.subplots import make_subplots\n",
    "from plotly.offline import iplot\n",
    "from PIL import Image\n",
    "import requests\n",
    "\n",
    "from sklearn.metrics.pairwise import cosine_similarity\n",
    "from sklearn.feature_extraction.text import CountVectorizer\n",
    "\n",
    "import warnings\n",
    "warnings.filterwarnings('ignore')"
   ]
  },
  {
   "cell_type": "markdown",
   "metadata": {},
   "source": [
    "## Loading Dataset"
   ]
  },
  {
   "cell_type": "code",
   "execution_count": 8,
   "metadata": {},
   "outputs": [],
   "source": [
    "books = pd.read_csv(\"../data/Books.csv\")\n",
    "ratings = pd.read_csv(\"../data/Ratings.csv\")\n",
    "users = pd.read_csv(\"../data/Users.csv\")"
   ]
  },
  {
   "cell_type": "code",
   "execution_count": 9,
   "metadata": {},
   "outputs": [
    {
     "data": {
      "text/html": [
       "<div>\n",
       "<style scoped>\n",
       "    .dataframe tbody tr th:only-of-type {\n",
       "        vertical-align: middle;\n",
       "    }\n",
       "\n",
       "    .dataframe tbody tr th {\n",
       "        vertical-align: top;\n",
       "    }\n",
       "\n",
       "    .dataframe thead th {\n",
       "        text-align: right;\n",
       "    }\n",
       "</style>\n",
       "<table border=\"1\" class=\"dataframe\">\n",
       "  <thead>\n",
       "    <tr style=\"text-align: right;\">\n",
       "      <th></th>\n",
       "      <th>ISBN</th>\n",
       "      <th>Book-Title</th>\n",
       "      <th>Book-Author</th>\n",
       "      <th>Year-Of-Publication</th>\n",
       "      <th>Publisher</th>\n",
       "      <th>Image-URL-S</th>\n",
       "      <th>Image-URL-M</th>\n",
       "      <th>Image-URL-L</th>\n",
       "    </tr>\n",
       "  </thead>\n",
       "  <tbody>\n",
       "    <tr>\n",
       "      <th>0</th>\n",
       "      <td>0195153448</td>\n",
       "      <td>Classical Mythology</td>\n",
       "      <td>Mark P. O. Morford</td>\n",
       "      <td>2002</td>\n",
       "      <td>Oxford University Press</td>\n",
       "      <td>http://images.amazon.com/images/P/0195153448.0...</td>\n",
       "      <td>http://images.amazon.com/images/P/0195153448.0...</td>\n",
       "      <td>http://images.amazon.com/images/P/0195153448.0...</td>\n",
       "    </tr>\n",
       "    <tr>\n",
       "      <th>1</th>\n",
       "      <td>0002005018</td>\n",
       "      <td>Clara Callan</td>\n",
       "      <td>Richard Bruce Wright</td>\n",
       "      <td>2001</td>\n",
       "      <td>HarperFlamingo Canada</td>\n",
       "      <td>http://images.amazon.com/images/P/0002005018.0...</td>\n",
       "      <td>http://images.amazon.com/images/P/0002005018.0...</td>\n",
       "      <td>http://images.amazon.com/images/P/0002005018.0...</td>\n",
       "    </tr>\n",
       "    <tr>\n",
       "      <th>2</th>\n",
       "      <td>0060973129</td>\n",
       "      <td>Decision in Normandy</td>\n",
       "      <td>Carlo D'Este</td>\n",
       "      <td>1991</td>\n",
       "      <td>HarperPerennial</td>\n",
       "      <td>http://images.amazon.com/images/P/0060973129.0...</td>\n",
       "      <td>http://images.amazon.com/images/P/0060973129.0...</td>\n",
       "      <td>http://images.amazon.com/images/P/0060973129.0...</td>\n",
       "    </tr>\n",
       "    <tr>\n",
       "      <th>3</th>\n",
       "      <td>0374157065</td>\n",
       "      <td>Flu: The Story of the Great Influenza Pandemic...</td>\n",
       "      <td>Gina Bari Kolata</td>\n",
       "      <td>1999</td>\n",
       "      <td>Farrar Straus Giroux</td>\n",
       "      <td>http://images.amazon.com/images/P/0374157065.0...</td>\n",
       "      <td>http://images.amazon.com/images/P/0374157065.0...</td>\n",
       "      <td>http://images.amazon.com/images/P/0374157065.0...</td>\n",
       "    </tr>\n",
       "    <tr>\n",
       "      <th>4</th>\n",
       "      <td>0393045218</td>\n",
       "      <td>The Mummies of Urumchi</td>\n",
       "      <td>E. J. W. Barber</td>\n",
       "      <td>1999</td>\n",
       "      <td>W. W. Norton &amp;amp; Company</td>\n",
       "      <td>http://images.amazon.com/images/P/0393045218.0...</td>\n",
       "      <td>http://images.amazon.com/images/P/0393045218.0...</td>\n",
       "      <td>http://images.amazon.com/images/P/0393045218.0...</td>\n",
       "    </tr>\n",
       "  </tbody>\n",
       "</table>\n",
       "</div>"
      ],
      "text/plain": [
       "         ISBN                                         Book-Title  \\\n",
       "0  0195153448                                Classical Mythology   \n",
       "1  0002005018                                       Clara Callan   \n",
       "2  0060973129                               Decision in Normandy   \n",
       "3  0374157065  Flu: The Story of the Great Influenza Pandemic...   \n",
       "4  0393045218                             The Mummies of Urumchi   \n",
       "\n",
       "            Book-Author Year-Of-Publication                   Publisher  \\\n",
       "0    Mark P. O. Morford                2002     Oxford University Press   \n",
       "1  Richard Bruce Wright                2001       HarperFlamingo Canada   \n",
       "2          Carlo D'Este                1991             HarperPerennial   \n",
       "3      Gina Bari Kolata                1999        Farrar Straus Giroux   \n",
       "4       E. J. W. Barber                1999  W. W. Norton &amp; Company   \n",
       "\n",
       "                                         Image-URL-S  \\\n",
       "0  http://images.amazon.com/images/P/0195153448.0...   \n",
       "1  http://images.amazon.com/images/P/0002005018.0...   \n",
       "2  http://images.amazon.com/images/P/0060973129.0...   \n",
       "3  http://images.amazon.com/images/P/0374157065.0...   \n",
       "4  http://images.amazon.com/images/P/0393045218.0...   \n",
       "\n",
       "                                         Image-URL-M  \\\n",
       "0  http://images.amazon.com/images/P/0195153448.0...   \n",
       "1  http://images.amazon.com/images/P/0002005018.0...   \n",
       "2  http://images.amazon.com/images/P/0060973129.0...   \n",
       "3  http://images.amazon.com/images/P/0374157065.0...   \n",
       "4  http://images.amazon.com/images/P/0393045218.0...   \n",
       "\n",
       "                                         Image-URL-L  \n",
       "0  http://images.amazon.com/images/P/0195153448.0...  \n",
       "1  http://images.amazon.com/images/P/0002005018.0...  \n",
       "2  http://images.amazon.com/images/P/0060973129.0...  \n",
       "3  http://images.amazon.com/images/P/0374157065.0...  \n",
       "4  http://images.amazon.com/images/P/0393045218.0...  "
      ]
     },
     "execution_count": 9,
     "metadata": {},
     "output_type": "execute_result"
    }
   ],
   "source": [
    "books.head()"
   ]
  },
  {
   "cell_type": "code",
   "execution_count": 10,
   "metadata": {},
   "outputs": [
    {
     "data": {
      "text/html": [
       "<div>\n",
       "<style scoped>\n",
       "    .dataframe tbody tr th:only-of-type {\n",
       "        vertical-align: middle;\n",
       "    }\n",
       "\n",
       "    .dataframe tbody tr th {\n",
       "        vertical-align: top;\n",
       "    }\n",
       "\n",
       "    .dataframe thead th {\n",
       "        text-align: right;\n",
       "    }\n",
       "</style>\n",
       "<table border=\"1\" class=\"dataframe\">\n",
       "  <thead>\n",
       "    <tr style=\"text-align: right;\">\n",
       "      <th></th>\n",
       "      <th>User-ID</th>\n",
       "      <th>ISBN</th>\n",
       "      <th>Book-Rating</th>\n",
       "    </tr>\n",
       "  </thead>\n",
       "  <tbody>\n",
       "    <tr>\n",
       "      <th>0</th>\n",
       "      <td>276725</td>\n",
       "      <td>034545104X</td>\n",
       "      <td>0</td>\n",
       "    </tr>\n",
       "    <tr>\n",
       "      <th>1</th>\n",
       "      <td>276726</td>\n",
       "      <td>0155061224</td>\n",
       "      <td>5</td>\n",
       "    </tr>\n",
       "    <tr>\n",
       "      <th>2</th>\n",
       "      <td>276727</td>\n",
       "      <td>0446520802</td>\n",
       "      <td>0</td>\n",
       "    </tr>\n",
       "    <tr>\n",
       "      <th>3</th>\n",
       "      <td>276729</td>\n",
       "      <td>052165615X</td>\n",
       "      <td>3</td>\n",
       "    </tr>\n",
       "    <tr>\n",
       "      <th>4</th>\n",
       "      <td>276729</td>\n",
       "      <td>0521795028</td>\n",
       "      <td>6</td>\n",
       "    </tr>\n",
       "  </tbody>\n",
       "</table>\n",
       "</div>"
      ],
      "text/plain": [
       "   User-ID        ISBN  Book-Rating\n",
       "0   276725  034545104X            0\n",
       "1   276726  0155061224            5\n",
       "2   276727  0446520802            0\n",
       "3   276729  052165615X            3\n",
       "4   276729  0521795028            6"
      ]
     },
     "execution_count": 10,
     "metadata": {},
     "output_type": "execute_result"
    }
   ],
   "source": [
    "ratings.head()"
   ]
  },
  {
   "cell_type": "code",
   "execution_count": 11,
   "metadata": {},
   "outputs": [
    {
     "data": {
      "text/html": [
       "<div>\n",
       "<style scoped>\n",
       "    .dataframe tbody tr th:only-of-type {\n",
       "        vertical-align: middle;\n",
       "    }\n",
       "\n",
       "    .dataframe tbody tr th {\n",
       "        vertical-align: top;\n",
       "    }\n",
       "\n",
       "    .dataframe thead th {\n",
       "        text-align: right;\n",
       "    }\n",
       "</style>\n",
       "<table border=\"1\" class=\"dataframe\">\n",
       "  <thead>\n",
       "    <tr style=\"text-align: right;\">\n",
       "      <th></th>\n",
       "      <th>User-ID</th>\n",
       "      <th>Location</th>\n",
       "      <th>Age</th>\n",
       "    </tr>\n",
       "  </thead>\n",
       "  <tbody>\n",
       "    <tr>\n",
       "      <th>0</th>\n",
       "      <td>1</td>\n",
       "      <td>nyc, new york, usa</td>\n",
       "      <td>NaN</td>\n",
       "    </tr>\n",
       "    <tr>\n",
       "      <th>1</th>\n",
       "      <td>2</td>\n",
       "      <td>stockton, california, usa</td>\n",
       "      <td>18.0</td>\n",
       "    </tr>\n",
       "    <tr>\n",
       "      <th>2</th>\n",
       "      <td>3</td>\n",
       "      <td>moscow, yukon territory, russia</td>\n",
       "      <td>NaN</td>\n",
       "    </tr>\n",
       "    <tr>\n",
       "      <th>3</th>\n",
       "      <td>4</td>\n",
       "      <td>porto, v.n.gaia, portugal</td>\n",
       "      <td>17.0</td>\n",
       "    </tr>\n",
       "    <tr>\n",
       "      <th>4</th>\n",
       "      <td>5</td>\n",
       "      <td>farnborough, hants, united kingdom</td>\n",
       "      <td>NaN</td>\n",
       "    </tr>\n",
       "  </tbody>\n",
       "</table>\n",
       "</div>"
      ],
      "text/plain": [
       "   User-ID                            Location   Age\n",
       "0        1                  nyc, new york, usa   NaN\n",
       "1        2           stockton, california, usa  18.0\n",
       "2        3     moscow, yukon territory, russia   NaN\n",
       "3        4           porto, v.n.gaia, portugal  17.0\n",
       "4        5  farnborough, hants, united kingdom   NaN"
      ]
     },
     "execution_count": 11,
     "metadata": {},
     "output_type": "execute_result"
    }
   ],
   "source": [
    "users.head()"
   ]
  },
  {
   "cell_type": "markdown",
   "metadata": {},
   "source": [
    "## Display the shape of the dataframes"
   ]
  },
  {
   "cell_type": "code",
   "execution_count": 12,
   "metadata": {},
   "outputs": [],
   "source": [
    "def shape_of_dataset(df, dataset_name=\"df\"):\n",
    "    \n",
    "    print(f\"{dataset_name} dataset has {df.shape[0]} nrows and {df.shape[1]} ncolumns\")\n",
    "    return df.shape[0], df.shape[1]"
   ]
  },
  {
   "cell_type": "code",
   "execution_count": 7,
   "metadata": {
    "execution": {
     "iopub.execute_input": "2023-04-26T00:00:57.900985Z",
     "iopub.status.busy": "2023-04-26T00:00:57.899749Z",
     "iopub.status.idle": "2023-04-26T00:00:57.914870Z",
     "shell.execute_reply": "2023-04-26T00:00:57.913176Z",
     "shell.execute_reply.started": "2023-04-26T00:00:57.900934Z"
    }
   },
   "outputs": [
    {
     "name": "stdout",
     "output_type": "stream",
     "text": [
      "Books dataset has 271360 nrows and 8 ncolumns\n",
      "Ratings dataset has 1149780 nrows and 3 ncolumns\n",
      "Users dataset has 278858 nrows and 3 ncolumns\n"
     ]
    }
   ],
   "source": [
    "books_r, books_c = shape_of_dataset(books, \"Books\")\n",
    "ratings_r, ratings_c = shape_of_dataset(ratings, \"Ratings\")\n",
    "users_r, users_c = shape_of_dataset(users, \"Users\")"
   ]
  },
  {
   "cell_type": "markdown",
   "metadata": {},
   "source": [
    "## Display the total number of null values in dataframes"
   ]
  },
  {
   "cell_type": "code",
   "execution_count": 8,
   "metadata": {
    "execution": {
     "iopub.execute_input": "2023-04-26T00:00:57.919010Z",
     "iopub.status.busy": "2023-04-26T00:00:57.918442Z",
     "iopub.status.idle": "2023-04-26T00:00:57.929134Z",
     "shell.execute_reply": "2023-04-26T00:00:57.927960Z",
     "shell.execute_reply.started": "2023-04-26T00:00:57.918955Z"
    }
   },
   "outputs": [],
   "source": [
    "def count_null_values(df, dataset_name):\n",
    "    \n",
    "    num_of_total_null_values = sum(df.isnull().sum().values)\n",
    "    print(f\"{dataset_name} dataset has {num_of_total_null_values} null values\")\n",
    "    return num_of_total_null_values"
   ]
  },
  {
   "cell_type": "code",
   "execution_count": 9,
   "metadata": {
    "execution": {
     "iopub.execute_input": "2023-04-26T00:00:57.931745Z",
     "iopub.status.busy": "2023-04-26T00:00:57.931013Z",
     "iopub.status.idle": "2023-04-26T00:00:58.166926Z",
     "shell.execute_reply": "2023-04-26T00:00:58.165601Z",
     "shell.execute_reply.started": "2023-04-26T00:00:57.931704Z"
    }
   },
   "outputs": [
    {
     "name": "stdout",
     "output_type": "stream",
     "text": [
      "Books dataset has 6 null values\n",
      "Ratings dataset has 0 null values\n",
      "Users dataset has 110762 null values\n"
     ]
    }
   ],
   "source": [
    "books_null = count_null_values(books, \"Books\")\n",
    "ratings_null = count_null_values(ratings, \"Ratings\")\n",
    "users_null = count_null_values(users, \"Users\")"
   ]
  },
  {
   "cell_type": "markdown",
   "metadata": {},
   "source": [
    "## Detect the null cols in the dataframes"
   ]
  },
  {
   "cell_type": "code",
   "execution_count": 10,
   "metadata": {
    "execution": {
     "iopub.execute_input": "2023-04-26T00:00:58.172854Z",
     "iopub.status.busy": "2023-04-26T00:00:58.172430Z",
     "iopub.status.idle": "2023-04-26T00:00:58.180970Z",
     "shell.execute_reply": "2023-04-26T00:00:58.179722Z",
     "shell.execute_reply.started": "2023-04-26T00:00:58.172807Z"
    }
   },
   "outputs": [],
   "source": [
    "def detect_null_columns(df, dataset_name):\n",
    "    \n",
    "    col = []\n",
    "    s = df.isnull().sum()\n",
    "    for x in range(len(s)):\n",
    "        if s[x] > 0:\n",
    "            col.append(s.index[x])\n",
    "    tot_cols = len(col)\n",
    "    if tot_cols == 0:\n",
    "        print(f\"{dataset_name} dataset has no null columns\")\n",
    "        print(\"=\"*50)\n",
    "    else:\n",
    "        print(f\"{dataset_name} dataset has {tot_cols} null columns and they are:\")\n",
    "        for x in col:\n",
    "            print(x, end=',')\n",
    "        print()\n",
    "        print(\"=\"*50)\n",
    "    return col, len(col)"
   ]
  },
  {
   "cell_type": "code",
   "execution_count": 11,
   "metadata": {
    "execution": {
     "iopub.execute_input": "2023-04-26T00:00:58.183833Z",
     "iopub.status.busy": "2023-04-26T00:00:58.182762Z",
     "iopub.status.idle": "2023-04-26T00:00:58.422186Z",
     "shell.execute_reply": "2023-04-26T00:00:58.420841Z",
     "shell.execute_reply.started": "2023-04-26T00:00:58.183773Z"
    }
   },
   "outputs": [
    {
     "name": "stdout",
     "output_type": "stream",
     "text": [
      "Books dataset has 3 null columns and they are:\n",
      "Book-Author,Publisher,Image-URL-L,\n",
      "==================================================\n",
      "Ratings dataset has no null columns\n",
      "==================================================\n",
      "Users dataset has 1 null columns and they are:\n",
      "Age,\n",
      "==================================================\n"
     ]
    }
   ],
   "source": [
    "total_books_null_cols, books_null_cols = detect_null_columns(books, \"Books\")\n",
    "total_ratings_null_cols, ratings_null_cols = detect_null_columns(ratings, \"Ratings\")\n",
    "total_users_null_cols, users_null_cols = detect_null_columns(users, \"Users\")"
   ]
  },
  {
   "cell_type": "markdown",
   "metadata": {},
   "source": [
    "## create the comparison dataframe"
   ]
  },
  {
   "cell_type": "code",
   "execution_count": 12,
   "metadata": {
    "execution": {
     "iopub.execute_input": "2023-04-26T00:00:58.424358Z",
     "iopub.status.busy": "2023-04-26T00:00:58.423923Z",
     "iopub.status.idle": "2023-04-26T00:00:58.432812Z",
     "shell.execute_reply": "2023-04-26T00:00:58.430857Z",
     "shell.execute_reply.started": "2023-04-26T00:00:58.424316Z"
    }
   },
   "outputs": [],
   "source": [
    "detailed_db = pd.DataFrame({\n",
    "    'dataset' : [],\n",
    "    'nrows' : [],\n",
    "    'ncols' :[],\n",
    "    'null_amount' : [],\n",
    "    'names_of_null_cols' : [],\n",
    "    'num_null_cols' : []\n",
    "})"
   ]
  },
  {
   "cell_type": "code",
   "execution_count": 13,
   "metadata": {
    "execution": {
     "iopub.execute_input": "2023-04-26T00:00:58.434971Z",
     "iopub.status.busy": "2023-04-26T00:00:58.434478Z",
     "iopub.status.idle": "2023-04-26T00:00:58.445388Z",
     "shell.execute_reply": "2023-04-26T00:00:58.443876Z",
     "shell.execute_reply.started": "2023-04-26T00:00:58.434884Z"
    }
   },
   "outputs": [],
   "source": [
    "def fill_db_dataset(dataset_name, nrows, ncols, null_amount, name_null_cols, num_null_cols):\n",
    "    detailed_db.loc[len(detailed_db.index)] = [dataset_name, nrows, ncols, null_amount, ', '.join(name_null_cols), int(num_null_cols)]"
   ]
  },
  {
   "cell_type": "code",
   "execution_count": 14,
   "metadata": {
    "execution": {
     "iopub.execute_input": "2023-04-26T00:00:58.447836Z",
     "iopub.status.busy": "2023-04-26T00:00:58.447312Z",
     "iopub.status.idle": "2023-04-26T00:00:58.480988Z",
     "shell.execute_reply": "2023-04-26T00:00:58.479513Z",
     "shell.execute_reply.started": "2023-04-26T00:00:58.447783Z"
    }
   },
   "outputs": [],
   "source": [
    "fill_db_dataset('Books', books_r, books_c, books_null, total_books_null_cols, books_null_cols)\n",
    "fill_db_dataset('Ratings', ratings_r, ratings_c, ratings_null, total_ratings_null_cols, ratings_null_cols)\n",
    "fill_db_dataset('Users', users_r, users_c, users_null, total_users_null_cols, users_null_cols)"
   ]
  },
  {
   "cell_type": "code",
   "execution_count": 15,
   "metadata": {
    "execution": {
     "iopub.execute_input": "2023-04-26T00:00:58.482524Z",
     "iopub.status.busy": "2023-04-26T00:00:58.482178Z",
     "iopub.status.idle": "2023-04-26T00:00:58.499343Z",
     "shell.execute_reply": "2023-04-26T00:00:58.497606Z",
     "shell.execute_reply.started": "2023-04-26T00:00:58.482492Z"
    }
   },
   "outputs": [
    {
     "data": {
      "text/html": [
       "<div>\n",
       "<style scoped>\n",
       "    .dataframe tbody tr th:only-of-type {\n",
       "        vertical-align: middle;\n",
       "    }\n",
       "\n",
       "    .dataframe tbody tr th {\n",
       "        vertical-align: top;\n",
       "    }\n",
       "\n",
       "    .dataframe thead th {\n",
       "        text-align: right;\n",
       "    }\n",
       "</style>\n",
       "<table border=\"1\" class=\"dataframe\">\n",
       "  <thead>\n",
       "    <tr style=\"text-align: right;\">\n",
       "      <th></th>\n",
       "      <th>dataset</th>\n",
       "      <th>nrows</th>\n",
       "      <th>ncols</th>\n",
       "      <th>null_amount</th>\n",
       "      <th>names_of_null_cols</th>\n",
       "      <th>num_null_cols</th>\n",
       "    </tr>\n",
       "  </thead>\n",
       "  <tbody>\n",
       "    <tr>\n",
       "      <th>0</th>\n",
       "      <td>Books</td>\n",
       "      <td>271360.0</td>\n",
       "      <td>8.0</td>\n",
       "      <td>6.0</td>\n",
       "      <td>Book-Author, Publisher, Image-URL-L</td>\n",
       "      <td>3.0</td>\n",
       "    </tr>\n",
       "    <tr>\n",
       "      <th>1</th>\n",
       "      <td>Ratings</td>\n",
       "      <td>1149780.0</td>\n",
       "      <td>3.0</td>\n",
       "      <td>0.0</td>\n",
       "      <td></td>\n",
       "      <td>0.0</td>\n",
       "    </tr>\n",
       "    <tr>\n",
       "      <th>2</th>\n",
       "      <td>Users</td>\n",
       "      <td>278858.0</td>\n",
       "      <td>3.0</td>\n",
       "      <td>110762.0</td>\n",
       "      <td>Age</td>\n",
       "      <td>1.0</td>\n",
       "    </tr>\n",
       "  </tbody>\n",
       "</table>\n",
       "</div>"
      ],
      "text/plain": [
       "   dataset      nrows  ncols  null_amount  \\\n",
       "0    Books   271360.0    8.0          6.0   \n",
       "1  Ratings  1149780.0    3.0          0.0   \n",
       "2    Users   278858.0    3.0     110762.0   \n",
       "\n",
       "                    names_of_null_cols  num_null_cols  \n",
       "0  Book-Author, Publisher, Image-URL-L            3.0  \n",
       "1                                                 0.0  \n",
       "2                                  Age            1.0  "
      ]
     },
     "execution_count": 15,
     "metadata": {},
     "output_type": "execute_result"
    }
   ],
   "source": [
    "detailed_db"
   ]
  },
  {
   "cell_type": "markdown",
   "metadata": {},
   "source": [
    "## Display infos about dataframes"
   ]
  },
  {
   "cell_type": "code",
   "execution_count": 16,
   "metadata": {
    "execution": {
     "iopub.execute_input": "2023-04-26T00:00:58.501088Z",
     "iopub.status.busy": "2023-04-26T00:00:58.500711Z",
     "iopub.status.idle": "2023-04-26T00:00:58.511215Z",
     "shell.execute_reply": "2023-04-26T00:00:58.509918Z",
     "shell.execute_reply.started": "2023-04-26T00:00:58.501045Z"
    }
   },
   "outputs": [],
   "source": [
    "def print_info_about_ds(df, name_of_the_ds = \"df\"):\n",
    "    print(f\"Info about the {name_of_the_ds} dataset: \")\n",
    "    dash_sep()\n",
    "    print(df.info())\n",
    "    \n",
    "def dash_sep(num=50):\n",
    "    print(\"_\"*num)\n",
    "\n",
    "def double_fs_sep(num=40):\n",
    "    print(\"//\"*num)"
   ]
  },
  {
   "cell_type": "code",
   "execution_count": 17,
   "metadata": {
    "execution": {
     "iopub.execute_input": "2023-04-26T00:00:58.513496Z",
     "iopub.status.busy": "2023-04-26T00:00:58.513007Z",
     "iopub.status.idle": "2023-04-26T00:00:58.766966Z",
     "shell.execute_reply": "2023-04-26T00:00:58.765958Z",
     "shell.execute_reply.started": "2023-04-26T00:00:58.513444Z"
    }
   },
   "outputs": [
    {
     "name": "stdout",
     "output_type": "stream",
     "text": [
      "Info about the Books dataset: \n",
      "__________________________________________________\n",
      "<class 'pandas.core.frame.DataFrame'>\n",
      "RangeIndex: 271360 entries, 0 to 271359\n",
      "Data columns (total 8 columns):\n",
      " #   Column               Non-Null Count   Dtype \n",
      "---  ------               --------------   ----- \n",
      " 0   ISBN                 271360 non-null  object\n",
      " 1   Book-Title           271360 non-null  object\n",
      " 2   Book-Author          271359 non-null  object\n",
      " 3   Year-Of-Publication  271360 non-null  object\n",
      " 4   Publisher            271358 non-null  object\n",
      " 5   Image-URL-S          271360 non-null  object\n",
      " 6   Image-URL-M          271360 non-null  object\n",
      " 7   Image-URL-L          271357 non-null  object\n",
      "dtypes: object(8)\n",
      "memory usage: 16.6+ MB\n",
      "None\n",
      "////////////////////////////////////////////////////////////////////////////////\n",
      "Info about the Ratings dataset: \n",
      "__________________________________________________\n",
      "<class 'pandas.core.frame.DataFrame'>\n",
      "RangeIndex: 1149780 entries, 0 to 1149779\n",
      "Data columns (total 3 columns):\n",
      " #   Column       Non-Null Count    Dtype \n",
      "---  ------       --------------    ----- \n",
      " 0   User-ID      1149780 non-null  int64 \n",
      " 1   ISBN         1149780 non-null  object\n",
      " 2   Book-Rating  1149780 non-null  int64 \n",
      "dtypes: int64(2), object(1)\n",
      "memory usage: 26.3+ MB\n",
      "None\n",
      "////////////////////////////////////////////////////////////////////////////////\n",
      "Info about the Users dataset: \n",
      "__________________________________________________\n",
      "<class 'pandas.core.frame.DataFrame'>\n",
      "RangeIndex: 278858 entries, 0 to 278857\n",
      "Data columns (total 3 columns):\n",
      " #   Column    Non-Null Count   Dtype  \n",
      "---  ------    --------------   -----  \n",
      " 0   User-ID   278858 non-null  int64  \n",
      " 1   Location  278858 non-null  object \n",
      " 2   Age       168096 non-null  float64\n",
      "dtypes: float64(1), int64(1), object(1)\n",
      "memory usage: 6.4+ MB\n",
      "None\n"
     ]
    }
   ],
   "source": [
    "print_info_about_ds(books, \"Books\")\n",
    "double_fs_sep()\n",
    "\n",
    "print_info_about_ds(ratings, \"Ratings\")\n",
    "double_fs_sep()\n",
    "\n",
    "print_info_about_ds(users, \"Users\")"
   ]
  },
  {
   "cell_type": "markdown",
   "metadata": {},
   "source": [
    "## Display number of unique values in each column in the dataframes"
   ]
  },
  {
   "cell_type": "code",
   "execution_count": 18,
   "metadata": {
    "execution": {
     "iopub.execute_input": "2023-04-26T00:00:58.768694Z",
     "iopub.status.busy": "2023-04-26T00:00:58.768351Z",
     "iopub.status.idle": "2023-04-26T00:00:58.774379Z",
     "shell.execute_reply": "2023-04-26T00:00:58.773043Z",
     "shell.execute_reply.started": "2023-04-26T00:00:58.768652Z"
    }
   },
   "outputs": [],
   "source": [
    "def print_nunique_vals(df, ds_name = 'df'):\n",
    "    print(f\"number of unique values in each column in the {ds_name} dataset:\")\n",
    "    dash_sep(75)\n",
    "    print(df.nunique())"
   ]
  },
  {
   "cell_type": "code",
   "execution_count": 19,
   "metadata": {
    "execution": {
     "iopub.execute_input": "2023-04-26T00:00:58.777051Z",
     "iopub.status.busy": "2023-04-26T00:00:58.776508Z",
     "iopub.status.idle": "2023-04-26T00:00:59.795938Z",
     "shell.execute_reply": "2023-04-26T00:00:59.794457Z",
     "shell.execute_reply.started": "2023-04-26T00:00:58.777008Z"
    }
   },
   "outputs": [
    {
     "name": "stdout",
     "output_type": "stream",
     "text": [
      "number of unique values in each column in the Books dataset:\n",
      "___________________________________________________________________________\n",
      "ISBN                   271360\n",
      "Book-Title             242135\n",
      "Book-Author            102023\n",
      "Year-Of-Publication       202\n",
      "Publisher               16807\n",
      "Image-URL-S            271044\n",
      "Image-URL-M            271044\n",
      "Image-URL-L            271041\n",
      "dtype: int64\n",
      "////////////////////////////////////////////////////////////////////////////////\n",
      "number of unique values in each column in the Ratings dataset:\n",
      "___________________________________________________________________________\n",
      "User-ID        105283\n",
      "ISBN           340556\n",
      "Book-Rating        11\n",
      "dtype: int64\n",
      "////////////////////////////////////////////////////////////////////////////////\n",
      "number of unique values in each column in the Users dataset:\n",
      "___________________________________________________________________________\n",
      "User-ID     278858\n",
      "Location     57339\n",
      "Age            165\n",
      "dtype: int64\n"
     ]
    }
   ],
   "source": [
    "print_nunique_vals(books, 'Books')\n",
    "double_fs_sep()\n",
    "\n",
    "print_nunique_vals(ratings, 'Ratings')\n",
    "double_fs_sep()\n",
    "\n",
    "print_nunique_vals(users, 'Users')"
   ]
  },
  {
   "cell_type": "markdown",
   "metadata": {},
   "source": [
    "## Plot the distrbution of Missing values in the dataframes"
   ]
  },
  {
   "cell_type": "code",
   "execution_count": 20,
   "metadata": {
    "execution": {
     "iopub.execute_input": "2023-04-26T00:00:59.798242Z",
     "iopub.status.busy": "2023-04-26T00:00:59.797710Z",
     "iopub.status.idle": "2023-04-26T00:00:59.806364Z",
     "shell.execute_reply": "2023-04-26T00:00:59.804723Z",
     "shell.execute_reply.started": "2023-04-26T00:00:59.798189Z"
    }
   },
   "outputs": [],
   "source": [
    "def plot_miss_vals(df, ds_name):\n",
    "    msno.matrix(df)\n",
    "    plt.title(f'Distribution of Missing Values in {ds_name} dataset', fontsize=30, fontstyle='oblique')\n",
    "    plt.show()"
   ]
  },
  {
   "cell_type": "code",
   "execution_count": 21,
   "metadata": {
    "execution": {
     "iopub.execute_input": "2023-04-26T00:00:59.809348Z",
     "iopub.status.busy": "2023-04-26T00:00:59.808050Z",
     "iopub.status.idle": "2023-04-26T00:01:04.192259Z",
     "shell.execute_reply": "2023-04-26T00:01:04.190935Z",
     "shell.execute_reply.started": "2023-04-26T00:00:59.809158Z"
    }
   },
   "outputs": [
    {
     "data": {
      "image/png": "[encoded data removed]",
      "text/plain": [
       "<Figure size 2500x1000 with 2 Axes>"
      ]
     },
     "metadata": {},
     "output_type": "display_data"
    },
    {
     "data": {
      "image/png": "[encoded data removed]",
      "text/plain": [
       "<Figure size 2500x1000 with 2 Axes>"
      ]
     },
     "metadata": {},
     "output_type": "display_data"
    },
    {
     "data": {
      "image/png": "[encoded data removed]",
      "text/plain": [
       "<Figure size 2500x1000 with 2 Axes>"
      ]
     },
     "metadata": {},
     "output_type": "display_data"
    }
   ],
   "source": [
    "plot_miss_vals(books, \"Books\")\n",
    "plot_miss_vals(ratings, \"Ratings\")\n",
    "plot_miss_vals(users, \"Users\")"
   ]
  },
  {
   "cell_type": "markdown",
   "metadata": {},
   "source": [
    "## Display the data types of the dataframes"
   ]
  },
  {
   "cell_type": "code",
   "execution_count": 22,
   "metadata": {
    "execution": {
     "iopub.execute_input": "2023-04-26T00:01:04.194345Z",
     "iopub.status.busy": "2023-04-26T00:01:04.193824Z",
     "iopub.status.idle": "2023-04-26T00:01:04.201204Z",
     "shell.execute_reply": "2023-04-26T00:01:04.199828Z",
     "shell.execute_reply.started": "2023-04-26T00:01:04.194280Z"
    }
   },
   "outputs": [],
   "source": [
    "def print_dtype_of_df(df, ds_name = 'df'):\n",
    "    print(f\"data type of each column in the {ds_name} dataset:\")\n",
    "    dash_sep(75)\n",
    "    print(df.dtypes)"
   ]
  },
  {
   "cell_type": "code",
   "execution_count": 23,
   "metadata": {
    "execution": {
     "iopub.execute_input": "2023-04-26T00:01:04.203889Z",
     "iopub.status.busy": "2023-04-26T00:01:04.202954Z",
     "iopub.status.idle": "2023-04-26T00:01:04.222884Z",
     "shell.execute_reply": "2023-04-26T00:01:04.221334Z",
     "shell.execute_reply.started": "2023-04-26T00:01:04.203828Z"
    }
   },
   "outputs": [
    {
     "name": "stdout",
     "output_type": "stream",
     "text": [
      "data type of each column in the Books dataset:\n",
      "___________________________________________________________________________\n",
      "ISBN                   object\n",
      "Book-Title             object\n",
      "Book-Author            object\n",
      "Year-Of-Publication    object\n",
      "Publisher              object\n",
      "Image-URL-S            object\n",
      "Image-URL-M            object\n",
      "Image-URL-L            object\n",
      "dtype: object\n",
      "////////////////////////////////////////////////////////////////////////////////\n",
      "data type of each column in the Ratings dataset:\n",
      "___________________________________________________________________________\n",
      "User-ID         int64\n",
      "ISBN           object\n",
      "Book-Rating     int64\n",
      "dtype: object\n",
      "////////////////////////////////////////////////////////////////////////////////\n",
      "data type of each column in the Users dataset:\n",
      "___________________________________________________________________________\n",
      "User-ID       int64\n",
      "Location     object\n",
      "Age         float64\n",
      "dtype: object\n"
     ]
    }
   ],
   "source": [
    "print_dtype_of_df(books, 'Books')\n",
    "double_fs_sep()\n",
    "\n",
    "print_dtype_of_df(ratings, 'Ratings')\n",
    "double_fs_sep()\n",
    "\n",
    "print_dtype_of_df(users, 'Users')"
   ]
  },
  {
   "cell_type": "markdown",
   "metadata": {},
   "source": [
    "## EDA + Vis + Preprocessing"
   ]
  },
  {
   "cell_type": "code",
   "execution_count": 24,
   "metadata": {
    "execution": {
     "iopub.execute_input": "2023-04-26T00:01:04.225056Z",
     "iopub.status.busy": "2023-04-26T00:01:04.224601Z",
     "iopub.status.idle": "2023-04-26T00:01:04.235012Z",
     "shell.execute_reply": "2023-04-26T00:01:04.233564Z",
     "shell.execute_reply.started": "2023-04-26T00:01:04.225011Z"
    }
   },
   "outputs": [],
   "source": [
    "def plot_top20(df, column, title, x_label, y_label, top=20, template = 'plotly_dark'):\n",
    "    \n",
    "    pl = df[column].value_counts().head(top)\n",
    "    fig = px.bar(y=pl.values, \n",
    "                 x=pl.index, \n",
    "                 color_discrete_sequence=px.colors.sequential.PuBuGn,\n",
    "                 text=pl.values,\n",
    "                 title= title,\n",
    "                 template= template)\n",
    "    fig.update_layout(\n",
    "        xaxis_title=x_label,\n",
    "        yaxis_title=y_label,\n",
    "        font = dict(size=15,family=\"Franklin Gothic\"))\n",
    "    fig.show()"
   ]
  },
  {
   "cell_type": "markdown",
   "metadata": {},
   "source": [
    "**we will see top years in which books were published**"
   ]
  },
  {
   "cell_type": "markdown",
   "metadata": {},
   "source": [
    "**There is an erorr in the Year Of Publication column when converting its data type to int take a look**"
   ]
  },
  {
   "cell_type": "code",
   "execution_count": 25,
   "metadata": {
    "execution": {
     "iopub.execute_input": "2023-04-26T00:01:24.967826Z",
     "iopub.status.busy": "2023-04-26T00:01:24.967409Z",
     "iopub.status.idle": "2023-04-26T00:01:25.166817Z",
     "shell.execute_reply": "2023-04-26T00:01:25.164669Z",
     "shell.execute_reply.started": "2023-04-26T00:01:24.967787Z"
    }
   },
   "outputs": [
    {
     "ename": "ValueError",
     "evalue": "invalid literal for int() with base 10: 'DK Publishing Inc'",
     "output_type": "error",
     "traceback": [
      "\u001b[0;31m---------------------------------------------------------------------------\u001b[0m",
      "\u001b[0;31mValueError\u001b[0m                                Traceback (most recent call last)",
      "\u001b[0;32m/tmp/ipykernel_27/3074670491.py\u001b[0m in \u001b[0;36m<module>\u001b[0;34m\u001b[0m\n\u001b[0;32m----> 1\u001b[0;31m \u001b[0mbooks\u001b[0m\u001b[0;34m[\u001b[0m\u001b[0;34m'Year-Of-Publication'\u001b[0m\u001b[0;34m]\u001b[0m\u001b[0;34m.\u001b[0m\u001b[0mastype\u001b[0m\u001b[0;34m(\u001b[0m\u001b[0;34m'int32'\u001b[0m\u001b[0;34m)\u001b[0m\u001b[0;34m\u001b[0m\u001b[0;34m\u001b[0m\u001b[0m\n\u001b[0m",
      "\u001b[0;32m/opt/conda/lib/python3.7/site-packages/pandas/core/generic.py\u001b[0m in \u001b[0;36mastype\u001b[0;34m(self, dtype, copy, errors)\u001b[0m\n\u001b[1;32m   5813\u001b[0m         \u001b[0;32melse\u001b[0m\u001b[0;34m:\u001b[0m\u001b[0;34m\u001b[0m\u001b[0;34m\u001b[0m\u001b[0m\n\u001b[1;32m   5814\u001b[0m             \u001b[0;31m# else, only a single dtype is given\u001b[0m\u001b[0;34m\u001b[0m\u001b[0;34m\u001b[0m\u001b[0;34m\u001b[0m\u001b[0m\n\u001b[0;32m-> 5815\u001b[0;31m             \u001b[0mnew_data\u001b[0m \u001b[0;34m=\u001b[0m \u001b[0mself\u001b[0m\u001b[0;34m.\u001b[0m\u001b[0m_mgr\u001b[0m\u001b[0;34m.\u001b[0m\u001b[0mastype\u001b[0m\u001b[0;34m(\u001b[0m\u001b[0mdtype\u001b[0m\u001b[0;34m=\u001b[0m\u001b[0mdtype\u001b[0m\u001b[0;34m,\u001b[0m \u001b[0mcopy\u001b[0m\u001b[0;34m=\u001b[0m\u001b[0mcopy\u001b[0m\u001b[0;34m,\u001b[0m \u001b[0merrors\u001b[0m\u001b[0;34m=\u001b[0m\u001b[0merrors\u001b[0m\u001b[0;34m)\u001b[0m\u001b[0;34m\u001b[0m\u001b[0;34m\u001b[0m\u001b[0m\n\u001b[0m\u001b[1;32m   5816\u001b[0m             \u001b[0;32mreturn\u001b[0m \u001b[0mself\u001b[0m\u001b[0;34m.\u001b[0m\u001b[0m_constructor\u001b[0m\u001b[0;34m(\u001b[0m\u001b[0mnew_data\u001b[0m\u001b[0;34m)\u001b[0m\u001b[0;34m.\u001b[0m\u001b[0m__finalize__\u001b[0m\u001b[0;34m(\u001b[0m\u001b[0mself\u001b[0m\u001b[0;34m,\u001b[0m \u001b[0mmethod\u001b[0m\u001b[0;34m=\u001b[0m\u001b[0;34m\"astype\"\u001b[0m\u001b[0;34m)\u001b[0m\u001b[0;34m\u001b[0m\u001b[0;34m\u001b[0m\u001b[0m\n\u001b[1;32m   5817\u001b[0m \u001b[0;34m\u001b[0m\u001b[0m\n",
      "\u001b[0;32m/opt/conda/lib/python3.7/site-packages/pandas/core/internals/managers.py\u001b[0m in \u001b[0;36mastype\u001b[0;34m(self, dtype, copy, errors)\u001b[0m\n\u001b[1;32m    416\u001b[0m \u001b[0;34m\u001b[0m\u001b[0m\n\u001b[1;32m    417\u001b[0m     \u001b[0;32mdef\u001b[0m \u001b[0mastype\u001b[0m\u001b[0;34m(\u001b[0m\u001b[0mself\u001b[0m\u001b[0;34m:\u001b[0m \u001b[0mT\u001b[0m\u001b[0;34m,\u001b[0m \u001b[0mdtype\u001b[0m\u001b[0;34m,\u001b[0m \u001b[0mcopy\u001b[0m\u001b[0;34m:\u001b[0m \u001b[0mbool\u001b[0m \u001b[0;34m=\u001b[0m \u001b[0;32mFalse\u001b[0m\u001b[0;34m,\u001b[0m \u001b[0merrors\u001b[0m\u001b[0;34m:\u001b[0m \u001b[0mstr\u001b[0m \u001b[0;34m=\u001b[0m \u001b[0;34m\"raise\"\u001b[0m\u001b[0;34m)\u001b[0m \u001b[0;34m->\u001b[0m \u001b[0mT\u001b[0m\u001b[0;34m:\u001b[0m\u001b[0;34m\u001b[0m\u001b[0;34m\u001b[0m\u001b[0m\n\u001b[0;32m--> 418\u001b[0;31m         \u001b[0;32mreturn\u001b[0m \u001b[0mself\u001b[0m\u001b[0;34m.\u001b[0m\u001b[0mapply\u001b[0m\u001b[0;34m(\u001b[0m\u001b[0;34m\"astype\"\u001b[0m\u001b[0;34m,\u001b[0m \u001b[0mdtype\u001b[0m\u001b[0;34m=\u001b[0m\u001b[0mdtype\u001b[0m\u001b[0;34m,\u001b[0m \u001b[0mcopy\u001b[0m\u001b[0;34m=\u001b[0m\u001b[0mcopy\u001b[0m\u001b[0;34m,\u001b[0m \u001b[0merrors\u001b[0m\u001b[0;34m=\u001b[0m\u001b[0merrors\u001b[0m\u001b[0;34m)\u001b[0m\u001b[0;34m\u001b[0m\u001b[0;34m\u001b[0m\u001b[0m\n\u001b[0m\u001b[1;32m    419\u001b[0m \u001b[0;34m\u001b[0m\u001b[0m\n\u001b[1;32m    420\u001b[0m     def convert(\n",
      "\u001b[0;32m/opt/conda/lib/python3.7/site-packages/pandas/core/internals/managers.py\u001b[0m in \u001b[0;36mapply\u001b[0;34m(self, f, align_keys, ignore_failures, **kwargs)\u001b[0m\n\u001b[1;32m    325\u001b[0m                     \u001b[0mapplied\u001b[0m \u001b[0;34m=\u001b[0m \u001b[0mb\u001b[0m\u001b[0;34m.\u001b[0m\u001b[0mapply\u001b[0m\u001b[0;34m(\u001b[0m\u001b[0mf\u001b[0m\u001b[0;34m,\u001b[0m \u001b[0;34m**\u001b[0m\u001b[0mkwargs\u001b[0m\u001b[0;34m)\u001b[0m\u001b[0;34m\u001b[0m\u001b[0;34m\u001b[0m\u001b[0m\n\u001b[1;32m    326\u001b[0m                 \u001b[0;32melse\u001b[0m\u001b[0;34m:\u001b[0m\u001b[0;34m\u001b[0m\u001b[0;34m\u001b[0m\u001b[0m\n\u001b[0;32m--> 327\u001b[0;31m                     \u001b[0mapplied\u001b[0m \u001b[0;34m=\u001b[0m \u001b[0mgetattr\u001b[0m\u001b[0;34m(\u001b[0m\u001b[0mb\u001b[0m\u001b[0;34m,\u001b[0m \u001b[0mf\u001b[0m\u001b[0;34m)\u001b[0m\u001b[0;34m(\u001b[0m\u001b[0;34m**\u001b[0m\u001b[0mkwargs\u001b[0m\u001b[0;34m)\u001b[0m\u001b[0;34m\u001b[0m\u001b[0;34m\u001b[0m\u001b[0m\n\u001b[0m\u001b[1;32m    328\u001b[0m             \u001b[0;32mexcept\u001b[0m \u001b[0;34m(\u001b[0m\u001b[0mTypeError\u001b[0m\u001b[0;34m,\u001b[0m \u001b[0mNotImplementedError\u001b[0m\u001b[0;34m)\u001b[0m\u001b[0;34m:\u001b[0m\u001b[0;34m\u001b[0m\u001b[0;34m\u001b[0m\u001b[0m\n\u001b[1;32m    329\u001b[0m                 \u001b[0;32mif\u001b[0m \u001b[0;32mnot\u001b[0m \u001b[0mignore_failures\u001b[0m\u001b[0;34m:\u001b[0m\u001b[0;34m\u001b[0m\u001b[0;34m\u001b[0m\u001b[0m\n",
      "\u001b[0;32m/opt/conda/lib/python3.7/site-packages/pandas/core/internals/blocks.py\u001b[0m in \u001b[0;36mastype\u001b[0;34m(self, dtype, copy, errors)\u001b[0m\n\u001b[1;32m    589\u001b[0m         \u001b[0mvalues\u001b[0m \u001b[0;34m=\u001b[0m \u001b[0mself\u001b[0m\u001b[0;34m.\u001b[0m\u001b[0mvalues\u001b[0m\u001b[0;34m\u001b[0m\u001b[0;34m\u001b[0m\u001b[0m\n\u001b[1;32m    590\u001b[0m \u001b[0;34m\u001b[0m\u001b[0m\n\u001b[0;32m--> 591\u001b[0;31m         \u001b[0mnew_values\u001b[0m \u001b[0;34m=\u001b[0m \u001b[0mastype_array_safe\u001b[0m\u001b[0;34m(\u001b[0m\u001b[0mvalues\u001b[0m\u001b[0;34m,\u001b[0m \u001b[0mdtype\u001b[0m\u001b[0;34m,\u001b[0m \u001b[0mcopy\u001b[0m\u001b[0;34m=\u001b[0m\u001b[0mcopy\u001b[0m\u001b[0;34m,\u001b[0m \u001b[0merrors\u001b[0m\u001b[0;34m=\u001b[0m\u001b[0merrors\u001b[0m\u001b[0;34m)\u001b[0m\u001b[0;34m\u001b[0m\u001b[0;34m\u001b[0m\u001b[0m\n\u001b[0m\u001b[1;32m    592\u001b[0m \u001b[0;34m\u001b[0m\u001b[0m\n\u001b[1;32m    593\u001b[0m         \u001b[0mnew_values\u001b[0m \u001b[0;34m=\u001b[0m \u001b[0mmaybe_coerce_values\u001b[0m\u001b[0;34m(\u001b[0m\u001b[0mnew_values\u001b[0m\u001b[0;34m)\u001b[0m\u001b[0;34m\u001b[0m\u001b[0;34m\u001b[0m\u001b[0m\n",
      "\u001b[0;32m/opt/conda/lib/python3.7/site-packages/pandas/core/dtypes/cast.py\u001b[0m in \u001b[0;36mastype_array_safe\u001b[0;34m(values, dtype, copy, errors)\u001b[0m\n\u001b[1;32m   1307\u001b[0m \u001b[0;34m\u001b[0m\u001b[0m\n\u001b[1;32m   1308\u001b[0m     \u001b[0;32mtry\u001b[0m\u001b[0;34m:\u001b[0m\u001b[0;34m\u001b[0m\u001b[0;34m\u001b[0m\u001b[0m\n\u001b[0;32m-> 1309\u001b[0;31m         \u001b[0mnew_values\u001b[0m \u001b[0;34m=\u001b[0m \u001b[0mastype_array\u001b[0m\u001b[0;34m(\u001b[0m\u001b[0mvalues\u001b[0m\u001b[0;34m,\u001b[0m \u001b[0mdtype\u001b[0m\u001b[0;34m,\u001b[0m \u001b[0mcopy\u001b[0m\u001b[0;34m=\u001b[0m\u001b[0mcopy\u001b[0m\u001b[0;34m)\u001b[0m\u001b[0;34m\u001b[0m\u001b[0;34m\u001b[0m\u001b[0m\n\u001b[0m\u001b[1;32m   1310\u001b[0m     \u001b[0;32mexcept\u001b[0m \u001b[0;34m(\u001b[0m\u001b[0mValueError\u001b[0m\u001b[0;34m,\u001b[0m \u001b[0mTypeError\u001b[0m\u001b[0;34m)\u001b[0m\u001b[0;34m:\u001b[0m\u001b[0;34m\u001b[0m\u001b[0;34m\u001b[0m\u001b[0m\n\u001b[1;32m   1311\u001b[0m         \u001b[0;31m# e.g. astype_nansafe can fail on object-dtype of strings\u001b[0m\u001b[0;34m\u001b[0m\u001b[0;34m\u001b[0m\u001b[0;34m\u001b[0m\u001b[0m\n",
      "\u001b[0;32m/opt/conda/lib/python3.7/site-packages/pandas/core/dtypes/cast.py\u001b[0m in \u001b[0;36mastype_array\u001b[0;34m(values, dtype, copy)\u001b[0m\n\u001b[1;32m   1255\u001b[0m \u001b[0;34m\u001b[0m\u001b[0m\n\u001b[1;32m   1256\u001b[0m     \u001b[0;32melse\u001b[0m\u001b[0;34m:\u001b[0m\u001b[0;34m\u001b[0m\u001b[0;34m\u001b[0m\u001b[0m\n\u001b[0;32m-> 1257\u001b[0;31m         \u001b[0mvalues\u001b[0m \u001b[0;34m=\u001b[0m \u001b[0mastype_nansafe\u001b[0m\u001b[0;34m(\u001b[0m\u001b[0mvalues\u001b[0m\u001b[0;34m,\u001b[0m \u001b[0mdtype\u001b[0m\u001b[0;34m,\u001b[0m \u001b[0mcopy\u001b[0m\u001b[0;34m=\u001b[0m\u001b[0mcopy\u001b[0m\u001b[0;34m)\u001b[0m\u001b[0;34m\u001b[0m\u001b[0;34m\u001b[0m\u001b[0m\n\u001b[0m\u001b[1;32m   1258\u001b[0m \u001b[0;34m\u001b[0m\u001b[0m\n\u001b[1;32m   1259\u001b[0m     \u001b[0;31m# in pandas we don't store numpy str dtypes, so convert to object\u001b[0m\u001b[0;34m\u001b[0m\u001b[0;34m\u001b[0m\u001b[0;34m\u001b[0m\u001b[0m\n",
      "\u001b[0;32m/opt/conda/lib/python3.7/site-packages/pandas/core/dtypes/cast.py\u001b[0m in \u001b[0;36mastype_nansafe\u001b[0;34m(arr, dtype, copy, skipna)\u001b[0m\n\u001b[1;32m   1172\u001b[0m         \u001b[0;31m# work around NumPy brokenness, #1987\u001b[0m\u001b[0;34m\u001b[0m\u001b[0;34m\u001b[0m\u001b[0;34m\u001b[0m\u001b[0m\n\u001b[1;32m   1173\u001b[0m         \u001b[0;32mif\u001b[0m \u001b[0mnp\u001b[0m\u001b[0;34m.\u001b[0m\u001b[0missubdtype\u001b[0m\u001b[0;34m(\u001b[0m\u001b[0mdtype\u001b[0m\u001b[0;34m.\u001b[0m\u001b[0mtype\u001b[0m\u001b[0;34m,\u001b[0m \u001b[0mnp\u001b[0m\u001b[0;34m.\u001b[0m\u001b[0minteger\u001b[0m\u001b[0;34m)\u001b[0m\u001b[0;34m:\u001b[0m\u001b[0;34m\u001b[0m\u001b[0;34m\u001b[0m\u001b[0m\n\u001b[0;32m-> 1174\u001b[0;31m             \u001b[0;32mreturn\u001b[0m \u001b[0mlib\u001b[0m\u001b[0;34m.\u001b[0m\u001b[0mastype_intsafe\u001b[0m\u001b[0;34m(\u001b[0m\u001b[0marr\u001b[0m\u001b[0;34m,\u001b[0m \u001b[0mdtype\u001b[0m\u001b[0;34m)\u001b[0m\u001b[0;34m\u001b[0m\u001b[0;34m\u001b[0m\u001b[0m\n\u001b[0m\u001b[1;32m   1175\u001b[0m \u001b[0;34m\u001b[0m\u001b[0m\n\u001b[1;32m   1176\u001b[0m         \u001b[0;31m# if we have a datetime/timedelta array of objects\u001b[0m\u001b[0;34m\u001b[0m\u001b[0;34m\u001b[0m\u001b[0;34m\u001b[0m\u001b[0m\n",
      "\u001b[0;32m/opt/conda/lib/python3.7/site-packages/pandas/_libs/lib.pyx\u001b[0m in \u001b[0;36mpandas._libs.lib.astype_intsafe\u001b[0;34m()\u001b[0m\n",
      "\u001b[0;31mValueError\u001b[0m: invalid literal for int() with base 10: 'DK Publishing Inc'"
     ]
    }
   ],
   "source": [
    "books['Year-Of-Publication'].astype('int32')"
   ]
  },
  {
   "cell_type": "markdown",
   "metadata": {},
   "source": [
    "**in The year of publication column there is an error in which the column contain string value 'DK Publishing Inc' and thats a data entry error, a year column all its value should be integers but lets fix it**"
   ]
  },
  {
   "cell_type": "code",
   "execution_count": 26,
   "metadata": {
    "execution": {
     "iopub.execute_input": "2023-04-26T00:01:27.421445Z",
     "iopub.status.busy": "2023-04-26T00:01:27.420870Z",
     "iopub.status.idle": "2023-04-26T00:01:27.481265Z",
     "shell.execute_reply": "2023-04-26T00:01:27.479631Z",
     "shell.execute_reply.started": "2023-04-26T00:01:27.421396Z"
    }
   },
   "outputs": [
    {
     "data": {
      "text/html": [
       "<div>\n",
       "<style scoped>\n",
       "    .dataframe tbody tr th:only-of-type {\n",
       "        vertical-align: middle;\n",
       "    }\n",
       "\n",
       "    .dataframe tbody tr th {\n",
       "        vertical-align: top;\n",
       "    }\n",
       "\n",
       "    .dataframe thead th {\n",
       "        text-align: right;\n",
       "    }\n",
       "</style>\n",
       "<table border=\"1\" class=\"dataframe\">\n",
       "  <thead>\n",
       "    <tr style=\"text-align: right;\">\n",
       "      <th></th>\n",
       "      <th>ISBN</th>\n",
       "      <th>Book-Title</th>\n",
       "      <th>Book-Author</th>\n",
       "      <th>Year-Of-Publication</th>\n",
       "      <th>Publisher</th>\n",
       "      <th>Image-URL-S</th>\n",
       "      <th>Image-URL-M</th>\n",
       "      <th>Image-URL-L</th>\n",
       "    </tr>\n",
       "  </thead>\n",
       "  <tbody>\n",
       "    <tr>\n",
       "      <th>209538</th>\n",
       "      <td>078946697X</td>\n",
       "      <td>DK Readers: Creating the X-Men, How It All Beg...</td>\n",
       "      <td>2000</td>\n",
       "      <td>DK Publishing Inc</td>\n",
       "      <td>http://images.amazon.com/images/P/078946697X.0...</td>\n",
       "      <td>http://images.amazon.com/images/P/078946697X.0...</td>\n",
       "      <td>http://images.amazon.com/images/P/078946697X.0...</td>\n",
       "      <td>NaN</td>\n",
       "    </tr>\n",
       "    <tr>\n",
       "      <th>220731</th>\n",
       "      <td>2070426769</td>\n",
       "      <td>Peuple du ciel, suivi de 'Les Bergers\\\";Jean-M...</td>\n",
       "      <td>2003</td>\n",
       "      <td>Gallimard</td>\n",
       "      <td>http://images.amazon.com/images/P/2070426769.0...</td>\n",
       "      <td>http://images.amazon.com/images/P/2070426769.0...</td>\n",
       "      <td>http://images.amazon.com/images/P/2070426769.0...</td>\n",
       "      <td>NaN</td>\n",
       "    </tr>\n",
       "    <tr>\n",
       "      <th>221678</th>\n",
       "      <td>0789466953</td>\n",
       "      <td>DK Readers: Creating the X-Men, How Comic Book...</td>\n",
       "      <td>2000</td>\n",
       "      <td>DK Publishing Inc</td>\n",
       "      <td>http://images.amazon.com/images/P/0789466953.0...</td>\n",
       "      <td>http://images.amazon.com/images/P/0789466953.0...</td>\n",
       "      <td>http://images.amazon.com/images/P/0789466953.0...</td>\n",
       "      <td>NaN</td>\n",
       "    </tr>\n",
       "  </tbody>\n",
       "</table>\n",
       "</div>"
      ],
      "text/plain": [
       "              ISBN                                         Book-Title  \\\n",
       "209538  078946697X  DK Readers: Creating the X-Men, How It All Beg...   \n",
       "220731  2070426769  Peuple du ciel, suivi de 'Les Bergers\\\";Jean-M...   \n",
       "221678  0789466953  DK Readers: Creating the X-Men, How Comic Book...   \n",
       "\n",
       "       Book-Author Year-Of-Publication  \\\n",
       "209538        2000   DK Publishing Inc   \n",
       "220731        2003           Gallimard   \n",
       "221678        2000   DK Publishing Inc   \n",
       "\n",
       "                                                Publisher  \\\n",
       "209538  http://images.amazon.com/images/P/078946697X.0...   \n",
       "220731  http://images.amazon.com/images/P/2070426769.0...   \n",
       "221678  http://images.amazon.com/images/P/0789466953.0...   \n",
       "\n",
       "                                              Image-URL-S  \\\n",
       "209538  http://images.amazon.com/images/P/078946697X.0...   \n",
       "220731  http://images.amazon.com/images/P/2070426769.0...   \n",
       "221678  http://images.amazon.com/images/P/0789466953.0...   \n",
       "\n",
       "                                              Image-URL-M Image-URL-L  \n",
       "209538  http://images.amazon.com/images/P/078946697X.0...         NaN  \n",
       "220731  http://images.amazon.com/images/P/2070426769.0...         NaN  \n",
       "221678  http://images.amazon.com/images/P/0789466953.0...         NaN  "
      ]
     },
     "execution_count": 26,
     "metadata": {},
     "output_type": "execute_result"
    }
   ],
   "source": [
    "books[(books['Year-Of-Publication'] == 'DK Publishing Inc') | (books['Year-Of-Publication'] == 'Gallimard')]"
   ]
  },
  {
   "cell_type": "markdown",
   "metadata": {},
   "source": [
    "**here we can see in this 2 rows the value of the year is value in the Book author, and the value of Year of Publication should be in the publisher, so from this pattern we can conclude that the values needs to be shifted**"
   ]
  },
  {
   "cell_type": "code",
   "execution_count": 27,
   "metadata": {
    "execution": {
     "iopub.execute_input": "2023-04-26T00:01:28.657984Z",
     "iopub.status.busy": "2023-04-26T00:01:28.657515Z",
     "iopub.status.idle": "2023-04-26T00:01:28.703816Z",
     "shell.execute_reply": "2023-04-26T00:01:28.702487Z",
     "shell.execute_reply.started": "2023-04-26T00:01:28.657935Z"
    }
   },
   "outputs": [],
   "source": [
    "temp = books[(books['Year-Of-Publication'] == 'DK Publishing Inc') | (books['Year-Of-Publication'] == 'Gallimard')]"
   ]
  },
  {
   "cell_type": "code",
   "execution_count": 28,
   "metadata": {
    "execution": {
     "iopub.execute_input": "2023-04-26T00:01:28.946797Z",
     "iopub.status.busy": "2023-04-26T00:01:28.946379Z",
     "iopub.status.idle": "2023-04-26T00:01:28.957010Z",
     "shell.execute_reply": "2023-04-26T00:01:28.955303Z",
     "shell.execute_reply.started": "2023-04-26T00:01:28.946753Z"
    }
   },
   "outputs": [
    {
     "data": {
      "text/plain": [
       "'DK Readers: Creating the X-Men, How It All Began (Level 4: Proficient Readers)\\\\\";Michael Teitelbaum\"'"
      ]
     },
     "execution_count": 28,
     "metadata": {},
     "output_type": "execute_result"
    }
   ],
   "source": [
    "temp[temp['Book-Author'] == temp['Book-Author'][209538]]['Book-Title'].values[0]"
   ]
  },
  {
   "cell_type": "code",
   "execution_count": 29,
   "metadata": {
    "execution": {
     "iopub.execute_input": "2023-04-26T00:01:29.202829Z",
     "iopub.status.busy": "2023-04-26T00:01:29.202405Z",
     "iopub.status.idle": "2023-04-26T00:01:29.212603Z",
     "shell.execute_reply": "2023-04-26T00:01:29.211179Z",
     "shell.execute_reply.started": "2023-04-26T00:01:29.202790Z"
    }
   },
   "outputs": [
    {
     "data": {
      "text/plain": [
       "'DK Readers: Creating the X-Men, How Comic Books Come to Life (Level 4: Proficient Readers)\\\\\";James Buckley\"'"
      ]
     },
     "execution_count": 29,
     "metadata": {},
     "output_type": "execute_result"
    }
   ],
   "source": [
    "temp[temp['Book-Author'] == temp['Book-Author'][209538]]['Book-Title'].values[1]"
   ]
  },
  {
   "cell_type": "markdown",
   "metadata": {},
   "source": [
    "**As we can see here in the previous outputs that the name of the authors are concatenated with the Book title so we need to seperate them**"
   ]
  },
  {
   "cell_type": "code",
   "execution_count": 30,
   "metadata": {
    "execution": {
     "iopub.execute_input": "2023-04-26T00:01:30.728722Z",
     "iopub.status.busy": "2023-04-26T00:01:30.728227Z",
     "iopub.status.idle": "2023-04-26T00:01:30.736192Z",
     "shell.execute_reply": "2023-04-26T00:01:30.734701Z",
     "shell.execute_reply.started": "2023-04-26T00:01:30.728671Z"
    }
   },
   "outputs": [],
   "source": [
    "authors = []\n",
    "books_titles = []\n",
    "\n",
    "for title in temp['Book-Title']:\n",
    "    \n",
    "    author = title.split(';')[-1].split('\"')[0]\n",
    "    book = title.split(';')[0].split('\\\\')[0]\n",
    "\n",
    "    authors.append(author)\n",
    "    books_titles.append(book)"
   ]
  },
  {
   "cell_type": "code",
   "execution_count": 31,
   "metadata": {
    "execution": {
     "iopub.execute_input": "2023-04-26T00:01:31.001283Z",
     "iopub.status.busy": "2023-04-26T00:01:31.000221Z",
     "iopub.status.idle": "2023-04-26T00:01:31.007506Z",
     "shell.execute_reply": "2023-04-26T00:01:31.006626Z",
     "shell.execute_reply.started": "2023-04-26T00:01:31.001225Z"
    }
   },
   "outputs": [
    {
     "data": {
      "text/plain": [
       "['Michael Teitelbaum', 'Jean-Marie Gustave Le ClÃ?Â©zio', 'James Buckley']"
      ]
     },
     "execution_count": 31,
     "metadata": {},
     "output_type": "execute_result"
    }
   ],
   "source": [
    "authors"
   ]
  },
  {
   "cell_type": "code",
   "execution_count": 32,
   "metadata": {
    "execution": {
     "iopub.execute_input": "2023-04-26T00:01:31.351657Z",
     "iopub.status.busy": "2023-04-26T00:01:31.350414Z",
     "iopub.status.idle": "2023-04-26T00:01:31.360716Z",
     "shell.execute_reply": "2023-04-26T00:01:31.359002Z",
     "shell.execute_reply.started": "2023-04-26T00:01:31.351591Z"
    }
   },
   "outputs": [
    {
     "data": {
      "text/plain": [
       "['DK Readers: Creating the X-Men, How It All Began (Level 4: Proficient Readers)',\n",
       " \"Peuple du ciel, suivi de 'Les Bergers\",\n",
       " 'DK Readers: Creating the X-Men, How Comic Books Come to Life (Level 4: Proficient Readers)']"
      ]
     },
     "execution_count": 32,
     "metadata": {},
     "output_type": "execute_result"
    }
   ],
   "source": [
    "books_titles"
   ]
  },
  {
   "cell_type": "markdown",
   "metadata": {},
   "source": [
    "**now we have separated the book titles and the authors lets shift the values and assign the new ones**"
   ]
  },
  {
   "cell_type": "code",
   "execution_count": 33,
   "metadata": {
    "execution": {
     "iopub.execute_input": "2023-04-26T00:01:32.249058Z",
     "iopub.status.busy": "2023-04-26T00:01:32.248564Z",
     "iopub.status.idle": "2023-04-26T00:01:32.257973Z",
     "shell.execute_reply": "2023-04-26T00:01:32.256388Z",
     "shell.execute_reply.started": "2023-04-26T00:01:32.249012Z"
    }
   },
   "outputs": [
    {
     "data": {
      "text/plain": [
       "Index(['Book-Title', 'Book-Author', 'Year-Of-Publication', 'Publisher',\n",
       "       'Image-URL-S', 'Image-URL-M', 'Image-URL-L'],\n",
       "      dtype='object')"
      ]
     },
     "execution_count": 33,
     "metadata": {},
     "output_type": "execute_result"
    }
   ],
   "source": [
    "cols_to_shift = books.columns[1:]\n",
    "cols_to_shift"
   ]
  },
  {
   "cell_type": "code",
   "execution_count": 34,
   "metadata": {
    "execution": {
     "iopub.execute_input": "2023-04-26T00:01:32.562776Z",
     "iopub.status.busy": "2023-04-26T00:01:32.562037Z",
     "iopub.status.idle": "2023-04-26T00:01:32.585097Z",
     "shell.execute_reply": "2023-04-26T00:01:32.583218Z",
     "shell.execute_reply.started": "2023-04-26T00:01:32.562731Z"
    }
   },
   "outputs": [
    {
     "data": {
      "text/html": [
       "<div>\n",
       "<style scoped>\n",
       "    .dataframe tbody tr th:only-of-type {\n",
       "        vertical-align: middle;\n",
       "    }\n",
       "\n",
       "    .dataframe tbody tr th {\n",
       "        vertical-align: top;\n",
       "    }\n",
       "\n",
       "    .dataframe thead th {\n",
       "        text-align: right;\n",
       "    }\n",
       "</style>\n",
       "<table border=\"1\" class=\"dataframe\">\n",
       "  <thead>\n",
       "    <tr style=\"text-align: right;\">\n",
       "      <th></th>\n",
       "      <th>ISBN</th>\n",
       "      <th>Book-Title</th>\n",
       "      <th>Book-Author</th>\n",
       "      <th>Year-Of-Publication</th>\n",
       "      <th>Publisher</th>\n",
       "      <th>Image-URL-S</th>\n",
       "      <th>Image-URL-M</th>\n",
       "      <th>Image-URL-L</th>\n",
       "    </tr>\n",
       "  </thead>\n",
       "  <tbody>\n",
       "    <tr>\n",
       "      <th>209538</th>\n",
       "      <td>078946697X</td>\n",
       "      <td>NaN</td>\n",
       "      <td>DK Readers: Creating the X-Men, How It All Beg...</td>\n",
       "      <td>2000</td>\n",
       "      <td>DK Publishing Inc</td>\n",
       "      <td>http://images.amazon.com/images/P/078946697X.0...</td>\n",
       "      <td>http://images.amazon.com/images/P/078946697X.0...</td>\n",
       "      <td>http://images.amazon.com/images/P/078946697X.0...</td>\n",
       "    </tr>\n",
       "    <tr>\n",
       "      <th>220731</th>\n",
       "      <td>2070426769</td>\n",
       "      <td>NaN</td>\n",
       "      <td>Peuple du ciel, suivi de 'Les Bergers\\\";Jean-M...</td>\n",
       "      <td>2003</td>\n",
       "      <td>Gallimard</td>\n",
       "      <td>http://images.amazon.com/images/P/2070426769.0...</td>\n",
       "      <td>http://images.amazon.com/images/P/2070426769.0...</td>\n",
       "      <td>http://images.amazon.com/images/P/2070426769.0...</td>\n",
       "    </tr>\n",
       "    <tr>\n",
       "      <th>221678</th>\n",
       "      <td>0789466953</td>\n",
       "      <td>NaN</td>\n",
       "      <td>DK Readers: Creating the X-Men, How Comic Book...</td>\n",
       "      <td>2000</td>\n",
       "      <td>DK Publishing Inc</td>\n",
       "      <td>http://images.amazon.com/images/P/0789466953.0...</td>\n",
       "      <td>http://images.amazon.com/images/P/0789466953.0...</td>\n",
       "      <td>http://images.amazon.com/images/P/0789466953.0...</td>\n",
       "    </tr>\n",
       "  </tbody>\n",
       "</table>\n",
       "</div>"
      ],
      "text/plain": [
       "              ISBN Book-Title  \\\n",
       "209538  078946697X        NaN   \n",
       "220731  2070426769        NaN   \n",
       "221678  0789466953        NaN   \n",
       "\n",
       "                                              Book-Author Year-Of-Publication  \\\n",
       "209538  DK Readers: Creating the X-Men, How It All Beg...                2000   \n",
       "220731  Peuple du ciel, suivi de 'Les Bergers\\\";Jean-M...                2003   \n",
       "221678  DK Readers: Creating the X-Men, How Comic Book...                2000   \n",
       "\n",
       "                Publisher                                        Image-URL-S  \\\n",
       "209538  DK Publishing Inc  http://images.amazon.com/images/P/078946697X.0...   \n",
       "220731          Gallimard  http://images.amazon.com/images/P/2070426769.0...   \n",
       "221678  DK Publishing Inc  http://images.amazon.com/images/P/0789466953.0...   \n",
       "\n",
       "                                              Image-URL-M  \\\n",
       "209538  http://images.amazon.com/images/P/078946697X.0...   \n",
       "220731  http://images.amazon.com/images/P/2070426769.0...   \n",
       "221678  http://images.amazon.com/images/P/0789466953.0...   \n",
       "\n",
       "                                              Image-URL-L  \n",
       "209538  http://images.amazon.com/images/P/078946697X.0...  \n",
       "220731  http://images.amazon.com/images/P/2070426769.0...  \n",
       "221678  http://images.amazon.com/images/P/0789466953.0...  "
      ]
     },
     "execution_count": 34,
     "metadata": {},
     "output_type": "execute_result"
    }
   ],
   "source": [
    "temp = pd.concat([temp['ISBN'].to_frame(), temp[cols_to_shift].shift(periods = 1, axis = 1)], axis=1)\n",
    "temp"
   ]
  },
  {
   "cell_type": "markdown",
   "metadata": {},
   "source": [
    "**Now we have shifted the value lets assign the new ones**"
   ]
  },
  {
   "cell_type": "code",
   "execution_count": 35,
   "metadata": {
    "execution": {
     "iopub.execute_input": "2023-04-26T00:01:34.109236Z",
     "iopub.status.busy": "2023-04-26T00:01:34.108517Z",
     "iopub.status.idle": "2023-04-26T00:01:34.115183Z",
     "shell.execute_reply": "2023-04-26T00:01:34.113382Z",
     "shell.execute_reply.started": "2023-04-26T00:01:34.109184Z"
    }
   },
   "outputs": [],
   "source": [
    "temp['Book-Title'] = books_titles\n",
    "temp['Book-Author'] = authors"
   ]
  },
  {
   "cell_type": "code",
   "execution_count": 36,
   "metadata": {
    "execution": {
     "iopub.execute_input": "2023-04-26T00:01:34.229707Z",
     "iopub.status.busy": "2023-04-26T00:01:34.229270Z",
     "iopub.status.idle": "2023-04-26T00:01:34.247135Z",
     "shell.execute_reply": "2023-04-26T00:01:34.245699Z",
     "shell.execute_reply.started": "2023-04-26T00:01:34.229664Z"
    }
   },
   "outputs": [
    {
     "data": {
      "text/html": [
       "<div>\n",
       "<style scoped>\n",
       "    .dataframe tbody tr th:only-of-type {\n",
       "        vertical-align: middle;\n",
       "    }\n",
       "\n",
       "    .dataframe tbody tr th {\n",
       "        vertical-align: top;\n",
       "    }\n",
       "\n",
       "    .dataframe thead th {\n",
       "        text-align: right;\n",
       "    }\n",
       "</style>\n",
       "<table border=\"1\" class=\"dataframe\">\n",
       "  <thead>\n",
       "    <tr style=\"text-align: right;\">\n",
       "      <th></th>\n",
       "      <th>ISBN</th>\n",
       "      <th>Book-Title</th>\n",
       "      <th>Book-Author</th>\n",
       "      <th>Year-Of-Publication</th>\n",
       "      <th>Publisher</th>\n",
       "      <th>Image-URL-S</th>\n",
       "      <th>Image-URL-M</th>\n",
       "      <th>Image-URL-L</th>\n",
       "    </tr>\n",
       "  </thead>\n",
       "  <tbody>\n",
       "    <tr>\n",
       "      <th>209538</th>\n",
       "      <td>078946697X</td>\n",
       "      <td>DK Readers: Creating the X-Men, How It All Beg...</td>\n",
       "      <td>Michael Teitelbaum</td>\n",
       "      <td>2000</td>\n",
       "      <td>DK Publishing Inc</td>\n",
       "      <td>http://images.amazon.com/images/P/078946697X.0...</td>\n",
       "      <td>http://images.amazon.com/images/P/078946697X.0...</td>\n",
       "      <td>http://images.amazon.com/images/P/078946697X.0...</td>\n",
       "    </tr>\n",
       "    <tr>\n",
       "      <th>220731</th>\n",
       "      <td>2070426769</td>\n",
       "      <td>Peuple du ciel, suivi de 'Les Bergers</td>\n",
       "      <td>Jean-Marie Gustave Le ClÃ?Â©zio</td>\n",
       "      <td>2003</td>\n",
       "      <td>Gallimard</td>\n",
       "      <td>http://images.amazon.com/images/P/2070426769.0...</td>\n",
       "      <td>http://images.amazon.com/images/P/2070426769.0...</td>\n",
       "      <td>http://images.amazon.com/images/P/2070426769.0...</td>\n",
       "    </tr>\n",
       "    <tr>\n",
       "      <th>221678</th>\n",
       "      <td>0789466953</td>\n",
       "      <td>DK Readers: Creating the X-Men, How Comic Book...</td>\n",
       "      <td>James Buckley</td>\n",
       "      <td>2000</td>\n",
       "      <td>DK Publishing Inc</td>\n",
       "      <td>http://images.amazon.com/images/P/0789466953.0...</td>\n",
       "      <td>http://images.amazon.com/images/P/0789466953.0...</td>\n",
       "      <td>http://images.amazon.com/images/P/0789466953.0...</td>\n",
       "    </tr>\n",
       "  </tbody>\n",
       "</table>\n",
       "</div>"
      ],
      "text/plain": [
       "              ISBN                                         Book-Title  \\\n",
       "209538  078946697X  DK Readers: Creating the X-Men, How It All Beg...   \n",
       "220731  2070426769              Peuple du ciel, suivi de 'Les Bergers   \n",
       "221678  0789466953  DK Readers: Creating the X-Men, How Comic Book...   \n",
       "\n",
       "                            Book-Author Year-Of-Publication  \\\n",
       "209538               Michael Teitelbaum                2000   \n",
       "220731  Jean-Marie Gustave Le ClÃ?Â©zio                2003   \n",
       "221678                    James Buckley                2000   \n",
       "\n",
       "                Publisher                                        Image-URL-S  \\\n",
       "209538  DK Publishing Inc  http://images.amazon.com/images/P/078946697X.0...   \n",
       "220731          Gallimard  http://images.amazon.com/images/P/2070426769.0...   \n",
       "221678  DK Publishing Inc  http://images.amazon.com/images/P/0789466953.0...   \n",
       "\n",
       "                                              Image-URL-M  \\\n",
       "209538  http://images.amazon.com/images/P/078946697X.0...   \n",
       "220731  http://images.amazon.com/images/P/2070426769.0...   \n",
       "221678  http://images.amazon.com/images/P/0789466953.0...   \n",
       "\n",
       "                                              Image-URL-L  \n",
       "209538  http://images.amazon.com/images/P/078946697X.0...  \n",
       "220731  http://images.amazon.com/images/P/2070426769.0...  \n",
       "221678  http://images.amazon.com/images/P/0789466953.0...  "
      ]
     },
     "execution_count": 36,
     "metadata": {},
     "output_type": "execute_result"
    }
   ],
   "source": [
    "temp"
   ]
  },
  {
   "cell_type": "markdown",
   "metadata": {},
   "source": [
    "**Perfet! now lets assign the new rows to the original books data**"
   ]
  },
  {
   "cell_type": "code",
   "execution_count": 37,
   "metadata": {
    "execution": {
     "iopub.execute_input": "2023-04-26T00:01:35.040558Z",
     "iopub.status.busy": "2023-04-26T00:01:35.039305Z",
     "iopub.status.idle": "2023-04-26T00:01:35.049586Z",
     "shell.execute_reply": "2023-04-26T00:01:35.048260Z",
     "shell.execute_reply.started": "2023-04-26T00:01:35.040492Z"
    }
   },
   "outputs": [
    {
     "data": {
      "text/plain": [
       "[209538, 220731, 221678]"
      ]
     },
     "execution_count": 37,
     "metadata": {},
     "output_type": "execute_result"
    }
   ],
   "source": [
    "rows_to_rem = list(temp.index)\n",
    "rows_to_rem"
   ]
  },
  {
   "cell_type": "code",
   "execution_count": 38,
   "metadata": {
    "execution": {
     "iopub.execute_input": "2023-04-26T00:01:35.603820Z",
     "iopub.status.busy": "2023-04-26T00:01:35.603400Z",
     "iopub.status.idle": "2023-04-26T00:01:35.612059Z",
     "shell.execute_reply": "2023-04-26T00:01:35.610595Z",
     "shell.execute_reply.started": "2023-04-26T00:01:35.603774Z"
    }
   },
   "outputs": [
    {
     "data": {
      "text/plain": [
       "(271360, 8)"
      ]
     },
     "execution_count": 38,
     "metadata": {},
     "output_type": "execute_result"
    }
   ],
   "source": [
    "books.shape"
   ]
  },
  {
   "cell_type": "code",
   "execution_count": 39,
   "metadata": {
    "execution": {
     "iopub.execute_input": "2023-04-26T00:01:36.148770Z",
     "iopub.status.busy": "2023-04-26T00:01:36.147352Z",
     "iopub.status.idle": "2023-04-26T00:01:36.197060Z",
     "shell.execute_reply": "2023-04-26T00:01:36.195864Z",
     "shell.execute_reply.started": "2023-04-26T00:01:36.148713Z"
    }
   },
   "outputs": [],
   "source": [
    "books.drop(rows_to_rem, axis=0, inplace=True)"
   ]
  },
  {
   "cell_type": "code",
   "execution_count": 40,
   "metadata": {
    "execution": {
     "iopub.execute_input": "2023-04-26T00:01:36.692228Z",
     "iopub.status.busy": "2023-04-26T00:01:36.691536Z",
     "iopub.status.idle": "2023-04-26T00:01:36.699764Z",
     "shell.execute_reply": "2023-04-26T00:01:36.698413Z",
     "shell.execute_reply.started": "2023-04-26T00:01:36.692187Z"
    }
   },
   "outputs": [
    {
     "data": {
      "text/plain": [
       "(271357, 8)"
      ]
     },
     "execution_count": 40,
     "metadata": {},
     "output_type": "execute_result"
    }
   ],
   "source": [
    "books.shape"
   ]
  },
  {
   "cell_type": "markdown",
   "metadata": {},
   "source": [
    "**now we removed the dirty rows, let's add the new cleaned ones**"
   ]
  },
  {
   "cell_type": "code",
   "execution_count": 41,
   "metadata": {
    "execution": {
     "iopub.execute_input": "2023-04-26T00:01:37.948677Z",
     "iopub.status.busy": "2023-04-26T00:01:37.948231Z",
     "iopub.status.idle": "2023-04-26T00:01:38.150940Z",
     "shell.execute_reply": "2023-04-26T00:01:38.149467Z",
     "shell.execute_reply.started": "2023-04-26T00:01:37.948638Z"
    }
   },
   "outputs": [],
   "source": [
    "for ind in rows_to_rem:\n",
    "    \n",
    "    books.loc[ind] = list(temp.loc[ind].values)"
   ]
  },
  {
   "cell_type": "code",
   "execution_count": 42,
   "metadata": {
    "execution": {
     "iopub.execute_input": "2023-04-26T00:01:38.153729Z",
     "iopub.status.busy": "2023-04-26T00:01:38.153347Z",
     "iopub.status.idle": "2023-04-26T00:01:38.160841Z",
     "shell.execute_reply": "2023-04-26T00:01:38.159622Z",
     "shell.execute_reply.started": "2023-04-26T00:01:38.153689Z"
    }
   },
   "outputs": [
    {
     "data": {
      "text/plain": [
       "(271360, 8)"
      ]
     },
     "execution_count": 42,
     "metadata": {},
     "output_type": "execute_result"
    }
   ],
   "source": [
    "books.shape"
   ]
  },
  {
   "cell_type": "code",
   "execution_count": 43,
   "metadata": {
    "execution": {
     "iopub.execute_input": "2023-04-26T00:01:38.313926Z",
     "iopub.status.busy": "2023-04-26T00:01:38.313434Z",
     "iopub.status.idle": "2023-04-26T00:01:38.377367Z",
     "shell.execute_reply": "2023-04-26T00:01:38.375960Z",
     "shell.execute_reply.started": "2023-04-26T00:01:38.313862Z"
    }
   },
   "outputs": [],
   "source": [
    "books['Year-Of-Publication'] = books['Year-Of-Publication'].astype('int32')"
   ]
  },
  {
   "cell_type": "code",
   "execution_count": 44,
   "metadata": {
    "execution": {
     "iopub.execute_input": "2023-04-26T00:01:38.671894Z",
     "iopub.status.busy": "2023-04-26T00:01:38.671443Z",
     "iopub.status.idle": "2023-04-26T00:01:38.682223Z",
     "shell.execute_reply": "2023-04-26T00:01:38.680789Z",
     "shell.execute_reply.started": "2023-04-26T00:01:38.671854Z"
    }
   },
   "outputs": [
    {
     "data": {
      "text/plain": [
       "ISBN                   object\n",
       "Book-Title             object\n",
       "Book-Author            object\n",
       "Year-Of-Publication     int32\n",
       "Publisher              object\n",
       "Image-URL-S            object\n",
       "Image-URL-M            object\n",
       "Image-URL-L            object\n",
       "dtype: object"
      ]
     },
     "execution_count": 44,
     "metadata": {},
     "output_type": "execute_result"
    }
   ],
   "source": [
    "books.dtypes"
   ]
  },
  {
   "cell_type": "markdown",
   "metadata": {},
   "source": [
    "**Perfect! now the year column had been fixed :)**"
   ]
  },
  {
   "cell_type": "code",
   "execution_count": 45,
   "metadata": {
    "execution": {
     "iopub.execute_input": "2023-04-26T00:01:39.471134Z",
     "iopub.status.busy": "2023-04-26T00:01:39.470373Z",
     "iopub.status.idle": "2023-04-26T00:01:41.312508Z",
     "shell.execute_reply": "2023-04-26T00:01:41.311152Z",
     "shell.execute_reply.started": "2023-04-26T00:01:39.471087Z"
    }
   },
   "outputs": [
    {
     "data": {
      "text/html": [
       "        <script type=\"text/javascript\">\n",
       "        window.PlotlyConfig = {MathJaxConfig: 'local'};\n",
       "        if (window.MathJax && window.MathJax.Hub && window.MathJax.Hub.Config) {window.MathJax.Hub.Config({SVG: {font: \"STIX-Web\"}});}\n",
       "        if (typeof require !== 'undefined') {\n",
       "        require.undef(\"plotly\");\n",
       "        requirejs.config({\n",
       "            paths: {\n",
       "                'plotly': ['https://cdn.plot.ly/plotly-2.18.0.min']\n",
       "            }\n",
       "        });\n",
       "        require(['plotly'], function(Plotly) {\n",
       "            window._Plotly = Plotly;\n",
       "        });\n",
       "        }\n",
       "        </script>\n",
       "        "
      ]
     },
     "metadata": {},
     "output_type": "display_data"
    },
    {
     "data": {
      "text/html": [
       "<div>                            <div id=\"3fcdfc50-ceb3-422b-8d26-7acc1f28848d\" class=\"plotly-graph-div\" style=\"height:525px; width:100%;\"></div>            <script type=\"text/javascript\">                require([\"plotly\"], function(Plotly) {                    window.PLOTLYENV=window.PLOTLYENV || {};                                    if (document.getElementById(\"3fcdfc50-ceb3-422b-8d26-7acc1f28848d\")) {                    Plotly.newPlot(                        \"3fcdfc50-ceb3-422b-8d26-7acc1f28848d\",                        [{\"alignmentgroup\":\"True\",\"hovertemplate\":\"x=%{x}<br>y=%{y}<br>text=%{text}<extra></extra>\",\"legendgroup\":\"\",\"marker\":{\"color\":\"rgb(255,247,251)\",\"pattern\":{\"shape\":\"\"}},\"name\":\"\",\"offsetgroup\":\"\",\"orientation\":\"v\",\"showlegend\":false,\"text\":[17627.0,17431.0,17359.0,17234.0,15766.0,14890.0,14359.0,14030.0,13546.0,11796.0,10602.0,9906.0,9389.0,8660.0,7936.0,7492.0,6529.0,5841.0,5839.0,5343.0],\"textposition\":\"auto\",\"x\":[2002,1999,2001,2000,1998,1997,2003,1996,1995,1994,1993,1992,1991,1990,1989,1988,1987,1986,2004,1985],\"xaxis\":\"x\",\"y\":[17627,17431,17359,17234,15766,14890,14359,14030,13546,11796,10602,9906,9389,8660,7936,7492,6529,5841,5839,5343],\"yaxis\":\"y\",\"type\":\"bar\"}],                        {\"template\":{\"data\":{\"barpolar\":[{\"marker\":{\"line\":{\"color\":\"rgb(17,17,17)\",\"width\":0.5},\"pattern\":{\"fillmode\":\"overlay\",\"size\":10,\"solidity\":0.2}},\"type\":\"barpolar\"}],\"bar\":[{\"error_x\":{\"color\":\"#f2f5fa\"},\"error_y\":{\"color\":\"#f2f5fa\"},\"marker\":{\"line\":{\"color\":\"rgb(17,17,17)\",\"width\":0.5},\"pattern\":{\"fillmode\":\"overlay\",\"size\":10,\"solidity\":0.2}},\"type\":\"bar\"}],\"carpet\":[{\"aaxis\":{\"endlinecolor\":\"#A2B1C6\",\"gridcolor\":\"#506784\",\"linecolor\":\"#506784\",\"minorgridcolor\":\"#506784\",\"startlinecolor\":\"#A2B1C6\"},\"baxis\":{\"endlinecolor\":\"#A2B1C6\",\"gridcolor\":\"#506784\",\"linecolor\":\"#506784\",\"minorgridcolor\":\"#506784\",\"startlinecolor\":\"#A2B1C6\"},\"type\":\"carpet\"}],\"choropleth\":[{\"colorbar\":{\"outlinewidth\":0,\"ticks\":\"\"},\"type\":\"choropleth\"}],\"contourcarpet\":[{\"colorbar\":{\"outlinewidth\":0,\"ticks\":\"\"},\"type\":\"contourcarpet\"}],\"contour\":[{\"colorbar\":{\"outlinewidth\":0,\"ticks\":\"\"},\"colorscale\":[[0.0,\"#0d0887\"],[0.1111111111111111,\"#46039f\"],[0.2222222222222222,\"#7201a8\"],[0.3333333333333333,\"#9c179e\"],[0.4444444444444444,\"#bd3786\"],[0.5555555555555556,\"#d8576b\"],[0.6666666666666666,\"#ed7953\"],[0.7777777777777778,\"#fb9f3a\"],[0.8888888888888888,\"#fdca26\"],[1.0,\"#f0f921\"]],\"type\":\"contour\"}],\"heatmapgl\":[{\"colorbar\":{\"outlinewidth\":0,\"ticks\":\"\"},\"colorscale\":[[0.0,\"#0d0887\"],[0.1111111111111111,\"#46039f\"],[0.2222222222222222,\"#7201a8\"],[0.3333333333333333,\"#9c179e\"],[0.4444444444444444,\"#bd3786\"],[0.5555555555555556,\"#d8576b\"],[0.6666666666666666,\"#ed7953\"],[0.7777777777777778,\"#fb9f3a\"],[0.8888888888888888,\"#fdca26\"],[1.0,\"#f0f921\"]],\"type\":\"heatmapgl\"}],\"heatmap\":[{\"colorbar\":{\"outlinewidth\":0,\"ticks\":\"\"},\"colorscale\":[[0.0,\"#0d0887\"],[0.1111111111111111,\"#46039f\"],[0.2222222222222222,\"#7201a8\"],[0.3333333333333333,\"#9c179e\"],[0.4444444444444444,\"#bd3786\"],[0.5555555555555556,\"#d8576b\"],[0.6666666666666666,\"#ed7953\"],[0.7777777777777778,\"#fb9f3a\"],[0.8888888888888888,\"#fdca26\"],[1.0,\"#f0f921\"]],\"type\":\"heatmap\"}],\"histogram2dcontour\":[{\"colorbar\":{\"outlinewidth\":0,\"ticks\":\"\"},\"colorscale\":[[0.0,\"#0d0887\"],[0.1111111111111111,\"#46039f\"],[0.2222222222222222,\"#7201a8\"],[0.3333333333333333,\"#9c179e\"],[0.4444444444444444,\"#bd3786\"],[0.5555555555555556,\"#d8576b\"],[0.6666666666666666,\"#ed7953\"],[0.7777777777777778,\"#fb9f3a\"],[0.8888888888888888,\"#fdca26\"],[1.0,\"#f0f921\"]],\"type\":\"histogram2dcontour\"}],\"histogram2d\":[{\"colorbar\":{\"outlinewidth\":0,\"ticks\":\"\"},\"colorscale\":[[0.0,\"#0d0887\"],[0.1111111111111111,\"#46039f\"],[0.2222222222222222,\"#7201a8\"],[0.3333333333333333,\"#9c179e\"],[0.4444444444444444,\"#bd3786\"],[0.5555555555555556,\"#d8576b\"],[0.6666666666666666,\"#ed7953\"],[0.7777777777777778,\"#fb9f3a\"],[0.8888888888888888,\"#fdca26\"],[1.0,\"#f0f921\"]],\"type\":\"histogram2d\"}],\"histogram\":[{\"marker\":{\"pattern\":{\"fillmode\":\"overlay\",\"size\":10,\"solidity\":0.2}},\"type\":\"histogram\"}],\"mesh3d\":[{\"colorbar\":{\"outlinewidth\":0,\"ticks\":\"\"},\"type\":\"mesh3d\"}],\"parcoords\":[{\"line\":{\"colorbar\":{\"outlinewidth\":0,\"ticks\":\"\"}},\"type\":\"parcoords\"}],\"pie\":[{\"automargin\":true,\"type\":\"pie\"}],\"scatter3d\":[{\"line\":{\"colorbar\":{\"outlinewidth\":0,\"ticks\":\"\"}},\"marker\":{\"colorbar\":{\"outlinewidth\":0,\"ticks\":\"\"}},\"type\":\"scatter3d\"}],\"scattercarpet\":[{\"marker\":{\"colorbar\":{\"outlinewidth\":0,\"ticks\":\"\"}},\"type\":\"scattercarpet\"}],\"scattergeo\":[{\"marker\":{\"colorbar\":{\"outlinewidth\":0,\"ticks\":\"\"}},\"type\":\"scattergeo\"}],\"scattergl\":[{\"marker\":{\"line\":{\"color\":\"#283442\"}},\"type\":\"scattergl\"}],\"scattermapbox\":[{\"marker\":{\"colorbar\":{\"outlinewidth\":0,\"ticks\":\"\"}},\"type\":\"scattermapbox\"}],\"scatterpolargl\":[{\"marker\":{\"colorbar\":{\"outlinewidth\":0,\"ticks\":\"\"}},\"type\":\"scatterpolargl\"}],\"scatterpolar\":[{\"marker\":{\"colorbar\":{\"outlinewidth\":0,\"ticks\":\"\"}},\"type\":\"scatterpolar\"}],\"scatter\":[{\"marker\":{\"line\":{\"color\":\"#283442\"}},\"type\":\"scatter\"}],\"scatterternary\":[{\"marker\":{\"colorbar\":{\"outlinewidth\":0,\"ticks\":\"\"}},\"type\":\"scatterternary\"}],\"surface\":[{\"colorbar\":{\"outlinewidth\":0,\"ticks\":\"\"},\"colorscale\":[[0.0,\"#0d0887\"],[0.1111111111111111,\"#46039f\"],[0.2222222222222222,\"#7201a8\"],[0.3333333333333333,\"#9c179e\"],[0.4444444444444444,\"#bd3786\"],[0.5555555555555556,\"#d8576b\"],[0.6666666666666666,\"#ed7953\"],[0.7777777777777778,\"#fb9f3a\"],[0.8888888888888888,\"#fdca26\"],[1.0,\"#f0f921\"]],\"type\":\"surface\"}],\"table\":[{\"cells\":{\"fill\":{\"color\":\"#506784\"},\"line\":{\"color\":\"rgb(17,17,17)\"}},\"header\":{\"fill\":{\"color\":\"#2a3f5f\"},\"line\":{\"color\":\"rgb(17,17,17)\"}},\"type\":\"table\"}]},\"layout\":{\"annotationdefaults\":{\"arrowcolor\":\"#f2f5fa\",\"arrowhead\":0,\"arrowwidth\":1},\"autotypenumbers\":\"strict\",\"coloraxis\":{\"colorbar\":{\"outlinewidth\":0,\"ticks\":\"\"}},\"colorscale\":{\"diverging\":[[0,\"#8e0152\"],[0.1,\"#c51b7d\"],[0.2,\"#de77ae\"],[0.3,\"#f1b6da\"],[0.4,\"#fde0ef\"],[0.5,\"#f7f7f7\"],[0.6,\"#e6f5d0\"],[0.7,\"#b8e186\"],[0.8,\"#7fbc41\"],[0.9,\"#4d9221\"],[1,\"#276419\"]],\"sequential\":[[0.0,\"#0d0887\"],[0.1111111111111111,\"#46039f\"],[0.2222222222222222,\"#7201a8\"],[0.3333333333333333,\"#9c179e\"],[0.4444444444444444,\"#bd3786\"],[0.5555555555555556,\"#d8576b\"],[0.6666666666666666,\"#ed7953\"],[0.7777777777777778,\"#fb9f3a\"],[0.8888888888888888,\"#fdca26\"],[1.0,\"#f0f921\"]],\"sequentialminus\":[[0.0,\"#0d0887\"],[0.1111111111111111,\"#46039f\"],[0.2222222222222222,\"#7201a8\"],[0.3333333333333333,\"#9c179e\"],[0.4444444444444444,\"#bd3786\"],[0.5555555555555556,\"#d8576b\"],[0.6666666666666666,\"#ed7953\"],[0.7777777777777778,\"#fb9f3a\"],[0.8888888888888888,\"#fdca26\"],[1.0,\"#f0f921\"]]},\"colorway\":[\"#636efa\",\"#EF553B\",\"#00cc96\",\"#ab63fa\",\"#FFA15A\",\"#19d3f3\",\"#FF6692\",\"#B6E880\",\"#FF97FF\",\"#FECB52\"],\"font\":{\"color\":\"#f2f5fa\"},\"geo\":{\"bgcolor\":\"rgb(17,17,17)\",\"lakecolor\":\"rgb(17,17,17)\",\"landcolor\":\"rgb(17,17,17)\",\"showlakes\":true,\"showland\":true,\"subunitcolor\":\"#506784\"},\"hoverlabel\":{\"align\":\"left\"},\"hovermode\":\"closest\",\"mapbox\":{\"style\":\"dark\"},\"paper_bgcolor\":\"rgb(17,17,17)\",\"plot_bgcolor\":\"rgb(17,17,17)\",\"polar\":{\"angularaxis\":{\"gridcolor\":\"#506784\",\"linecolor\":\"#506784\",\"ticks\":\"\"},\"bgcolor\":\"rgb(17,17,17)\",\"radialaxis\":{\"gridcolor\":\"#506784\",\"linecolor\":\"#506784\",\"ticks\":\"\"}},\"scene\":{\"xaxis\":{\"backgroundcolor\":\"rgb(17,17,17)\",\"gridcolor\":\"#506784\",\"gridwidth\":2,\"linecolor\":\"#506784\",\"showbackground\":true,\"ticks\":\"\",\"zerolinecolor\":\"#C8D4E3\"},\"yaxis\":{\"backgroundcolor\":\"rgb(17,17,17)\",\"gridcolor\":\"#506784\",\"gridwidth\":2,\"linecolor\":\"#506784\",\"showbackground\":true,\"ticks\":\"\",\"zerolinecolor\":\"#C8D4E3\"},\"zaxis\":{\"backgroundcolor\":\"rgb(17,17,17)\",\"gridcolor\":\"#506784\",\"gridwidth\":2,\"linecolor\":\"#506784\",\"showbackground\":true,\"ticks\":\"\",\"zerolinecolor\":\"#C8D4E3\"}},\"shapedefaults\":{\"line\":{\"color\":\"#f2f5fa\"}},\"sliderdefaults\":{\"bgcolor\":\"#C8D4E3\",\"bordercolor\":\"rgb(17,17,17)\",\"borderwidth\":1,\"tickwidth\":0},\"ternary\":{\"aaxis\":{\"gridcolor\":\"#506784\",\"linecolor\":\"#506784\",\"ticks\":\"\"},\"baxis\":{\"gridcolor\":\"#506784\",\"linecolor\":\"#506784\",\"ticks\":\"\"},\"bgcolor\":\"rgb(17,17,17)\",\"caxis\":{\"gridcolor\":\"#506784\",\"linecolor\":\"#506784\",\"ticks\":\"\"}},\"title\":{\"x\":0.05},\"updatemenudefaults\":{\"bgcolor\":\"#506784\",\"borderwidth\":0},\"xaxis\":{\"automargin\":true,\"gridcolor\":\"#283442\",\"linecolor\":\"#506784\",\"ticks\":\"\",\"title\":{\"standoff\":15},\"zerolinecolor\":\"#283442\",\"zerolinewidth\":2},\"yaxis\":{\"automargin\":true,\"gridcolor\":\"#283442\",\"linecolor\":\"#506784\",\"ticks\":\"\",\"title\":{\"standoff\":15},\"zerolinecolor\":\"#283442\",\"zerolinewidth\":2}}},\"xaxis\":{\"anchor\":\"y\",\"domain\":[0.0,1.0],\"title\":{\"text\":\"Year\"}},\"yaxis\":{\"anchor\":\"x\",\"domain\":[0.0,1.0],\"title\":{\"text\":\"Count\"}},\"legend\":{\"tracegroupgap\":0},\"title\":{\"text\":\"Top 20 years in which books were published in terms of count\"},\"barmode\":\"relative\",\"font\":{\"size\":15,\"family\":\"Franklin Gothic\"}},                        {\"responsive\": true}                    ).then(function(){\n",
       "                            \n",
       "var gd = document.getElementById('3fcdfc50-ceb3-422b-8d26-7acc1f28848d');\n",
       "var x = new MutationObserver(function (mutations, observer) {{\n",
       "        var display = window.getComputedStyle(gd).display;\n",
       "        if (!display || display === 'none') {{\n",
       "            console.log([gd, 'removed!']);\n",
       "            Plotly.purge(gd);\n",
       "            observer.disconnect();\n",
       "        }}\n",
       "}});\n",
       "\n",
       "// Listen for the removal of the full notebook cells\n",
       "var notebookContainer = gd.closest('#notebook-container');\n",
       "if (notebookContainer) {{\n",
       "    x.observe(notebookContainer, {childList: true});\n",
       "}}\n",
       "\n",
       "// Listen for the clearing of the current output cell\n",
       "var outputEl = gd.closest('.output');\n",
       "if (outputEl) {{\n",
       "    x.observe(outputEl, {childList: true});\n",
       "}}\n",
       "\n",
       "                        })                };                });            </script>        </div>"
      ]
     },
     "metadata": {},
     "output_type": "display_data"
    }
   ],
   "source": [
    "plot_top20(books, 'Year-Of-Publication', 'Top 20 years in which books were published in terms of count', \"Year\", \"Count\")"
   ]
  },
  {
   "cell_type": "code",
   "execution_count": 46,
   "metadata": {
    "execution": {
     "iopub.execute_input": "2023-04-26T00:01:41.315967Z",
     "iopub.status.busy": "2023-04-26T00:01:41.315152Z",
     "iopub.status.idle": "2023-04-26T00:01:41.682377Z",
     "shell.execute_reply": "2023-04-26T00:01:41.679683Z",
     "shell.execute_reply.started": "2023-04-26T00:01:41.315889Z"
    }
   },
   "outputs": [
    {
     "data": {
      "image/png": "[encoded data removed]",
      "text/plain": [
       "<Figure size 1000x900 with 1 Axes>"
      ]
     },
     "metadata": {},
     "output_type": "display_data"
    }
   ],
   "source": [
    "year_count=books['Year-Of-Publication'].value_counts()\n",
    "year_count=pd.DataFrame(year_count)\n",
    "\n",
    "plt.figure(figsize=(10, 9))\n",
    "sns.lineplot(data=year_count)\n",
    "plt.title('Year of Publication count (1950 - 2010)')\n",
    "plt.xlim(1950, 2011)\n",
    "plt.xlabel('Year')\n",
    "plt.ylabel('Total Books Published')\n",
    "plt.show()"
   ]
  },
  {
   "cell_type": "markdown",
   "metadata": {},
   "source": [
    "**The years 99 to 02 are the years in which most books were published**"
   ]
  },
  {
   "cell_type": "markdown",
   "metadata": {},
   "source": [
    "**We will now see the top 20 authors with books in this data**"
   ]
  },
  {
   "cell_type": "code",
   "execution_count": 47,
   "metadata": {
    "execution": {
     "iopub.execute_input": "2023-04-26T00:01:41.684389Z",
     "iopub.status.busy": "2023-04-26T00:01:41.683810Z",
     "iopub.status.idle": "2023-04-26T00:01:41.871981Z",
     "shell.execute_reply": "2023-04-26T00:01:41.870448Z",
     "shell.execute_reply.started": "2023-04-26T00:01:41.684333Z"
    }
   },
   "outputs": [
    {
     "data": {
      "text/html": [
       "<div>                            <div id=\"24a270b3-ed8e-4802-9969-e2bea0230c35\" class=\"plotly-graph-div\" style=\"height:525px; width:100%;\"></div>            <script type=\"text/javascript\">                require([\"plotly\"], function(Plotly) {                    window.PLOTLYENV=window.PLOTLYENV || {};                                    if (document.getElementById(\"24a270b3-ed8e-4802-9969-e2bea0230c35\")) {                    Plotly.newPlot(                        \"24a270b3-ed8e-4802-9969-e2bea0230c35\",                        [{\"alignmentgroup\":\"True\",\"hovertemplate\":\"x=%{x}<br>y=%{y}<br>text=%{text}<extra></extra>\",\"legendgroup\":\"\",\"marker\":{\"color\":\"rgb(255,247,251)\",\"pattern\":{\"shape\":\"\"}},\"name\":\"\",\"offsetgroup\":\"\",\"orientation\":\"v\",\"showlegend\":false,\"text\":[632.0,567.0,524.0,423.0,373.0,372.0,330.0,315.0,307.0,302.0,286.0,282.0,231.0,223.0,220.0,218.0,217.0,216.0,214.0,204.0],\"textposition\":\"auto\",\"x\":[\"Agatha Christie\",\"William Shakespeare\",\"Stephen King\",\"Ann M. Martin\",\"Carolyn Keene\",\"Francine Pascal\",\"Isaac Asimov\",\"Nora Roberts\",\"Barbara Cartland\",\"Charles Dickens\",\"Not Applicable (Na )\",\"R. L. Stine\",\"Mark Twain\",\"Jane Austen\",\"Terry Pratchett\",\"Mary Higgins Clark\",\"Piers Anthony\",\"Marion Zimmer Bradley\",\"Janet Dailey\",\"Franklin W. Dixon\"],\"xaxis\":\"x\",\"y\":[632,567,524,423,373,372,330,315,307,302,286,282,231,223,220,218,217,216,214,204],\"yaxis\":\"y\",\"type\":\"bar\"}],                        {\"template\":{\"data\":{\"barpolar\":[{\"marker\":{\"line\":{\"color\":\"rgb(17,17,17)\",\"width\":0.5},\"pattern\":{\"fillmode\":\"overlay\",\"size\":10,\"solidity\":0.2}},\"type\":\"barpolar\"}],\"bar\":[{\"error_x\":{\"color\":\"#f2f5fa\"},\"error_y\":{\"color\":\"#f2f5fa\"},\"marker\":{\"line\":{\"color\":\"rgb(17,17,17)\",\"width\":0.5},\"pattern\":{\"fillmode\":\"overlay\",\"size\":10,\"solidity\":0.2}},\"type\":\"bar\"}],\"carpet\":[{\"aaxis\":{\"endlinecolor\":\"#A2B1C6\",\"gridcolor\":\"#506784\",\"linecolor\":\"#506784\",\"minorgridcolor\":\"#506784\",\"startlinecolor\":\"#A2B1C6\"},\"baxis\":{\"endlinecolor\":\"#A2B1C6\",\"gridcolor\":\"#506784\",\"linecolor\":\"#506784\",\"minorgridcolor\":\"#506784\",\"startlinecolor\":\"#A2B1C6\"},\"type\":\"carpet\"}],\"choropleth\":[{\"colorbar\":{\"outlinewidth\":0,\"ticks\":\"\"},\"type\":\"choropleth\"}],\"contourcarpet\":[{\"colorbar\":{\"outlinewidth\":0,\"ticks\":\"\"},\"type\":\"contourcarpet\"}],\"contour\":[{\"colorbar\":{\"outlinewidth\":0,\"ticks\":\"\"},\"colorscale\":[[0.0,\"#0d0887\"],[0.1111111111111111,\"#46039f\"],[0.2222222222222222,\"#7201a8\"],[0.3333333333333333,\"#9c179e\"],[0.4444444444444444,\"#bd3786\"],[0.5555555555555556,\"#d8576b\"],[0.6666666666666666,\"#ed7953\"],[0.7777777777777778,\"#fb9f3a\"],[0.8888888888888888,\"#fdca26\"],[1.0,\"#f0f921\"]],\"type\":\"contour\"}],\"heatmapgl\":[{\"colorbar\":{\"outlinewidth\":0,\"ticks\":\"\"},\"colorscale\":[[0.0,\"#0d0887\"],[0.1111111111111111,\"#46039f\"],[0.2222222222222222,\"#7201a8\"],[0.3333333333333333,\"#9c179e\"],[0.4444444444444444,\"#bd3786\"],[0.5555555555555556,\"#d8576b\"],[0.6666666666666666,\"#ed7953\"],[0.7777777777777778,\"#fb9f3a\"],[0.8888888888888888,\"#fdca26\"],[1.0,\"#f0f921\"]],\"type\":\"heatmapgl\"}],\"heatmap\":[{\"colorbar\":{\"outlinewidth\":0,\"ticks\":\"\"},\"colorscale\":[[0.0,\"#0d0887\"],[0.1111111111111111,\"#46039f\"],[0.2222222222222222,\"#7201a8\"],[0.3333333333333333,\"#9c179e\"],[0.4444444444444444,\"#bd3786\"],[0.5555555555555556,\"#d8576b\"],[0.6666666666666666,\"#ed7953\"],[0.7777777777777778,\"#fb9f3a\"],[0.8888888888888888,\"#fdca26\"],[1.0,\"#f0f921\"]],\"type\":\"heatmap\"}],\"histogram2dcontour\":[{\"colorbar\":{\"outlinewidth\":0,\"ticks\":\"\"},\"colorscale\":[[0.0,\"#0d0887\"],[0.1111111111111111,\"#46039f\"],[0.2222222222222222,\"#7201a8\"],[0.3333333333333333,\"#9c179e\"],[0.4444444444444444,\"#bd3786\"],[0.5555555555555556,\"#d8576b\"],[0.6666666666666666,\"#ed7953\"],[0.7777777777777778,\"#fb9f3a\"],[0.8888888888888888,\"#fdca26\"],[1.0,\"#f0f921\"]],\"type\":\"histogram2dcontour\"}],\"histogram2d\":[{\"colorbar\":{\"outlinewidth\":0,\"ticks\":\"\"},\"colorscale\":[[0.0,\"#0d0887\"],[0.1111111111111111,\"#46039f\"],[0.2222222222222222,\"#7201a8\"],[0.3333333333333333,\"#9c179e\"],[0.4444444444444444,\"#bd3786\"],[0.5555555555555556,\"#d8576b\"],[0.6666666666666666,\"#ed7953\"],[0.7777777777777778,\"#fb9f3a\"],[0.8888888888888888,\"#fdca26\"],[1.0,\"#f0f921\"]],\"type\":\"histogram2d\"}],\"histogram\":[{\"marker\":{\"pattern\":{\"fillmode\":\"overlay\",\"size\":10,\"solidity\":0.2}},\"type\":\"histogram\"}],\"mesh3d\":[{\"colorbar\":{\"outlinewidth\":0,\"ticks\":\"\"},\"type\":\"mesh3d\"}],\"parcoords\":[{\"line\":{\"colorbar\":{\"outlinewidth\":0,\"ticks\":\"\"}},\"type\":\"parcoords\"}],\"pie\":[{\"automargin\":true,\"type\":\"pie\"}],\"scatter3d\":[{\"line\":{\"colorbar\":{\"outlinewidth\":0,\"ticks\":\"\"}},\"marker\":{\"colorbar\":{\"outlinewidth\":0,\"ticks\":\"\"}},\"type\":\"scatter3d\"}],\"scattercarpet\":[{\"marker\":{\"colorbar\":{\"outlinewidth\":0,\"ticks\":\"\"}},\"type\":\"scattercarpet\"}],\"scattergeo\":[{\"marker\":{\"colorbar\":{\"outlinewidth\":0,\"ticks\":\"\"}},\"type\":\"scattergeo\"}],\"scattergl\":[{\"marker\":{\"line\":{\"color\":\"#283442\"}},\"type\":\"scattergl\"}],\"scattermapbox\":[{\"marker\":{\"colorbar\":{\"outlinewidth\":0,\"ticks\":\"\"}},\"type\":\"scattermapbox\"}],\"scatterpolargl\":[{\"marker\":{\"colorbar\":{\"outlinewidth\":0,\"ticks\":\"\"}},\"type\":\"scatterpolargl\"}],\"scatterpolar\":[{\"marker\":{\"colorbar\":{\"outlinewidth\":0,\"ticks\":\"\"}},\"type\":\"scatterpolar\"}],\"scatter\":[{\"marker\":{\"line\":{\"color\":\"#283442\"}},\"type\":\"scatter\"}],\"scatterternary\":[{\"marker\":{\"colorbar\":{\"outlinewidth\":0,\"ticks\":\"\"}},\"type\":\"scatterternary\"}],\"surface\":[{\"colorbar\":{\"outlinewidth\":0,\"ticks\":\"\"},\"colorscale\":[[0.0,\"#0d0887\"],[0.1111111111111111,\"#46039f\"],[0.2222222222222222,\"#7201a8\"],[0.3333333333333333,\"#9c179e\"],[0.4444444444444444,\"#bd3786\"],[0.5555555555555556,\"#d8576b\"],[0.6666666666666666,\"#ed7953\"],[0.7777777777777778,\"#fb9f3a\"],[0.8888888888888888,\"#fdca26\"],[1.0,\"#f0f921\"]],\"type\":\"surface\"}],\"table\":[{\"cells\":{\"fill\":{\"color\":\"#506784\"},\"line\":{\"color\":\"rgb(17,17,17)\"}},\"header\":{\"fill\":{\"color\":\"#2a3f5f\"},\"line\":{\"color\":\"rgb(17,17,17)\"}},\"type\":\"table\"}]},\"layout\":{\"annotationdefaults\":{\"arrowcolor\":\"#f2f5fa\",\"arrowhead\":0,\"arrowwidth\":1},\"autotypenumbers\":\"strict\",\"coloraxis\":{\"colorbar\":{\"outlinewidth\":0,\"ticks\":\"\"}},\"colorscale\":{\"diverging\":[[0,\"#8e0152\"],[0.1,\"#c51b7d\"],[0.2,\"#de77ae\"],[0.3,\"#f1b6da\"],[0.4,\"#fde0ef\"],[0.5,\"#f7f7f7\"],[0.6,\"#e6f5d0\"],[0.7,\"#b8e186\"],[0.8,\"#7fbc41\"],[0.9,\"#4d9221\"],[1,\"#276419\"]],\"sequential\":[[0.0,\"#0d0887\"],[0.1111111111111111,\"#46039f\"],[0.2222222222222222,\"#7201a8\"],[0.3333333333333333,\"#9c179e\"],[0.4444444444444444,\"#bd3786\"],[0.5555555555555556,\"#d8576b\"],[0.6666666666666666,\"#ed7953\"],[0.7777777777777778,\"#fb9f3a\"],[0.8888888888888888,\"#fdca26\"],[1.0,\"#f0f921\"]],\"sequentialminus\":[[0.0,\"#0d0887\"],[0.1111111111111111,\"#46039f\"],[0.2222222222222222,\"#7201a8\"],[0.3333333333333333,\"#9c179e\"],[0.4444444444444444,\"#bd3786\"],[0.5555555555555556,\"#d8576b\"],[0.6666666666666666,\"#ed7953\"],[0.7777777777777778,\"#fb9f3a\"],[0.8888888888888888,\"#fdca26\"],[1.0,\"#f0f921\"]]},\"colorway\":[\"#636efa\",\"#EF553B\",\"#00cc96\",\"#ab63fa\",\"#FFA15A\",\"#19d3f3\",\"#FF6692\",\"#B6E880\",\"#FF97FF\",\"#FECB52\"],\"font\":{\"color\":\"#f2f5fa\"},\"geo\":{\"bgcolor\":\"rgb(17,17,17)\",\"lakecolor\":\"rgb(17,17,17)\",\"landcolor\":\"rgb(17,17,17)\",\"showlakes\":true,\"showland\":true,\"subunitcolor\":\"#506784\"},\"hoverlabel\":{\"align\":\"left\"},\"hovermode\":\"closest\",\"mapbox\":{\"style\":\"dark\"},\"paper_bgcolor\":\"rgb(17,17,17)\",\"plot_bgcolor\":\"rgb(17,17,17)\",\"polar\":{\"angularaxis\":{\"gridcolor\":\"#506784\",\"linecolor\":\"#506784\",\"ticks\":\"\"},\"bgcolor\":\"rgb(17,17,17)\",\"radialaxis\":{\"gridcolor\":\"#506784\",\"linecolor\":\"#506784\",\"ticks\":\"\"}},\"scene\":{\"xaxis\":{\"backgroundcolor\":\"rgb(17,17,17)\",\"gridcolor\":\"#506784\",\"gridwidth\":2,\"linecolor\":\"#506784\",\"showbackground\":true,\"ticks\":\"\",\"zerolinecolor\":\"#C8D4E3\"},\"yaxis\":{\"backgroundcolor\":\"rgb(17,17,17)\",\"gridcolor\":\"#506784\",\"gridwidth\":2,\"linecolor\":\"#506784\",\"showbackground\":true,\"ticks\":\"\",\"zerolinecolor\":\"#C8D4E3\"},\"zaxis\":{\"backgroundcolor\":\"rgb(17,17,17)\",\"gridcolor\":\"#506784\",\"gridwidth\":2,\"linecolor\":\"#506784\",\"showbackground\":true,\"ticks\":\"\",\"zerolinecolor\":\"#C8D4E3\"}},\"shapedefaults\":{\"line\":{\"color\":\"#f2f5fa\"}},\"sliderdefaults\":{\"bgcolor\":\"#C8D4E3\",\"bordercolor\":\"rgb(17,17,17)\",\"borderwidth\":1,\"tickwidth\":0},\"ternary\":{\"aaxis\":{\"gridcolor\":\"#506784\",\"linecolor\":\"#506784\",\"ticks\":\"\"},\"baxis\":{\"gridcolor\":\"#506784\",\"linecolor\":\"#506784\",\"ticks\":\"\"},\"bgcolor\":\"rgb(17,17,17)\",\"caxis\":{\"gridcolor\":\"#506784\",\"linecolor\":\"#506784\",\"ticks\":\"\"}},\"title\":{\"x\":0.05},\"updatemenudefaults\":{\"bgcolor\":\"#506784\",\"borderwidth\":0},\"xaxis\":{\"automargin\":true,\"gridcolor\":\"#283442\",\"linecolor\":\"#506784\",\"ticks\":\"\",\"title\":{\"standoff\":15},\"zerolinecolor\":\"#283442\",\"zerolinewidth\":2},\"yaxis\":{\"automargin\":true,\"gridcolor\":\"#283442\",\"linecolor\":\"#506784\",\"ticks\":\"\",\"title\":{\"standoff\":15},\"zerolinecolor\":\"#283442\",\"zerolinewidth\":2}}},\"xaxis\":{\"anchor\":\"y\",\"domain\":[0.0,1.0],\"title\":{\"text\":\"Author name\"}},\"yaxis\":{\"anchor\":\"x\",\"domain\":[0.0,1.0],\"title\":{\"text\":\"Count\"}},\"legend\":{\"tracegroupgap\":0},\"title\":{\"text\":\"Top 20 Authors authored books by count\"},\"barmode\":\"relative\",\"font\":{\"size\":15,\"family\":\"Franklin Gothic\"}},                        {\"responsive\": true}                    ).then(function(){\n",
       "                            \n",
       "var gd = document.getElementById('24a270b3-ed8e-4802-9969-e2bea0230c35');\n",
       "var x = new MutationObserver(function (mutations, observer) {{\n",
       "        var display = window.getComputedStyle(gd).display;\n",
       "        if (!display || display === 'none') {{\n",
       "            console.log([gd, 'removed!']);\n",
       "            Plotly.purge(gd);\n",
       "            observer.disconnect();\n",
       "        }}\n",
       "}});\n",
       "\n",
       "// Listen for the removal of the full notebook cells\n",
       "var notebookContainer = gd.closest('#notebook-container');\n",
       "if (notebookContainer) {{\n",
       "    x.observe(notebookContainer, {childList: true});\n",
       "}}\n",
       "\n",
       "// Listen for the clearing of the current output cell\n",
       "var outputEl = gd.closest('.output');\n",
       "if (outputEl) {{\n",
       "    x.observe(outputEl, {childList: true});\n",
       "}}\n",
       "\n",
       "                        })                };                });            </script>        </div>"
      ]
     },
     "metadata": {},
     "output_type": "display_data"
    }
   ],
   "source": [
    "plot_top20(books, 'Book-Author', \"Top 20 Authors authored books by count\", \"Author name\", \"Count\")"
   ]
  },
  {
   "cell_type": "markdown",
   "metadata": {},
   "source": [
    "**Agatha Christie is the top author with 632 books in the dataset**"
   ]
  },
  {
   "cell_type": "markdown",
   "metadata": {},
   "source": [
    "**We will see the top 20 Publishers who have publisbed books in this data**"
   ]
  },
  {
   "cell_type": "code",
   "execution_count": 48,
   "metadata": {
    "execution": {
     "iopub.execute_input": "2023-04-26T00:01:42.355674Z",
     "iopub.status.busy": "2023-04-26T00:01:42.355246Z",
     "iopub.status.idle": "2023-04-26T00:01:42.446512Z",
     "shell.execute_reply": "2023-04-26T00:01:42.445232Z",
     "shell.execute_reply.started": "2023-04-26T00:01:42.355623Z"
    }
   },
   "outputs": [
    {
     "data": {
      "text/html": [
       "<div>                            <div id=\"c4e63d85-983d-4044-b4ed-30fc20c05a38\" class=\"plotly-graph-div\" style=\"height:525px; width:100%;\"></div>            <script type=\"text/javascript\">                require([\"plotly\"], function(Plotly) {                    window.PLOTLYENV=window.PLOTLYENV || {};                                    if (document.getElementById(\"c4e63d85-983d-4044-b4ed-30fc20c05a38\")) {                    Plotly.newPlot(                        \"c4e63d85-983d-4044-b4ed-30fc20c05a38\",                        [{\"alignmentgroup\":\"True\",\"hovertemplate\":\"x=%{x}<br>y=%{y}<br>text=%{text}<extra></extra>\",\"legendgroup\":\"\",\"marker\":{\"color\":\"rgb(255,247,251)\",\"pattern\":{\"shape\":\"\"}},\"name\":\"\",\"offsetgroup\":\"\",\"orientation\":\"v\",\"showlegend\":false,\"text\":[7535.0,4220.0,3905.0,3783.0,3646.0,3160.0,2971.0,2844.0,2771.0,2727.0,2717.0,2525.0,2258.0,2070.0,2045.0,1953.0,1783.0,1704.0,1700.0,1694.0],\"textposition\":\"auto\",\"x\":[\"Harlequin\",\"Silhouette\",\"Pocket\",\"Ballantine Books\",\"Bantam Books\",\"Scholastic\",\"Simon &amp; Schuster\",\"Penguin Books\",\"Berkley Publishing Group\",\"Warner Books\",\"Penguin USA\",\"Harpercollins\",\"Fawcett Books\",\"Signet Book\",\"Random House Inc\",\"St Martins Pr\",\"St. Martin's Press\",\"Tor Books\",\"HarperCollins Publishers\",\"Zebra Books\"],\"xaxis\":\"x\",\"y\":[7535,4220,3905,3783,3646,3160,2971,2844,2771,2727,2717,2525,2258,2070,2045,1953,1783,1704,1700,1694],\"yaxis\":\"y\",\"type\":\"bar\"}],                        {\"template\":{\"data\":{\"barpolar\":[{\"marker\":{\"line\":{\"color\":\"rgb(17,17,17)\",\"width\":0.5},\"pattern\":{\"fillmode\":\"overlay\",\"size\":10,\"solidity\":0.2}},\"type\":\"barpolar\"}],\"bar\":[{\"error_x\":{\"color\":\"#f2f5fa\"},\"error_y\":{\"color\":\"#f2f5fa\"},\"marker\":{\"line\":{\"color\":\"rgb(17,17,17)\",\"width\":0.5},\"pattern\":{\"fillmode\":\"overlay\",\"size\":10,\"solidity\":0.2}},\"type\":\"bar\"}],\"carpet\":[{\"aaxis\":{\"endlinecolor\":\"#A2B1C6\",\"gridcolor\":\"#506784\",\"linecolor\":\"#506784\",\"minorgridcolor\":\"#506784\",\"startlinecolor\":\"#A2B1C6\"},\"baxis\":{\"endlinecolor\":\"#A2B1C6\",\"gridcolor\":\"#506784\",\"linecolor\":\"#506784\",\"minorgridcolor\":\"#506784\",\"startlinecolor\":\"#A2B1C6\"},\"type\":\"carpet\"}],\"choropleth\":[{\"colorbar\":{\"outlinewidth\":0,\"ticks\":\"\"},\"type\":\"choropleth\"}],\"contourcarpet\":[{\"colorbar\":{\"outlinewidth\":0,\"ticks\":\"\"},\"type\":\"contourcarpet\"}],\"contour\":[{\"colorbar\":{\"outlinewidth\":0,\"ticks\":\"\"},\"colorscale\":[[0.0,\"#0d0887\"],[0.1111111111111111,\"#46039f\"],[0.2222222222222222,\"#7201a8\"],[0.3333333333333333,\"#9c179e\"],[0.4444444444444444,\"#bd3786\"],[0.5555555555555556,\"#d8576b\"],[0.6666666666666666,\"#ed7953\"],[0.7777777777777778,\"#fb9f3a\"],[0.8888888888888888,\"#fdca26\"],[1.0,\"#f0f921\"]],\"type\":\"contour\"}],\"heatmapgl\":[{\"colorbar\":{\"outlinewidth\":0,\"ticks\":\"\"},\"colorscale\":[[0.0,\"#0d0887\"],[0.1111111111111111,\"#46039f\"],[0.2222222222222222,\"#7201a8\"],[0.3333333333333333,\"#9c179e\"],[0.4444444444444444,\"#bd3786\"],[0.5555555555555556,\"#d8576b\"],[0.6666666666666666,\"#ed7953\"],[0.7777777777777778,\"#fb9f3a\"],[0.8888888888888888,\"#fdca26\"],[1.0,\"#f0f921\"]],\"type\":\"heatmapgl\"}],\"heatmap\":[{\"colorbar\":{\"outlinewidth\":0,\"ticks\":\"\"},\"colorscale\":[[0.0,\"#0d0887\"],[0.1111111111111111,\"#46039f\"],[0.2222222222222222,\"#7201a8\"],[0.3333333333333333,\"#9c179e\"],[0.4444444444444444,\"#bd3786\"],[0.5555555555555556,\"#d8576b\"],[0.6666666666666666,\"#ed7953\"],[0.7777777777777778,\"#fb9f3a\"],[0.8888888888888888,\"#fdca26\"],[1.0,\"#f0f921\"]],\"type\":\"heatmap\"}],\"histogram2dcontour\":[{\"colorbar\":{\"outlinewidth\":0,\"ticks\":\"\"},\"colorscale\":[[0.0,\"#0d0887\"],[0.1111111111111111,\"#46039f\"],[0.2222222222222222,\"#7201a8\"],[0.3333333333333333,\"#9c179e\"],[0.4444444444444444,\"#bd3786\"],[0.5555555555555556,\"#d8576b\"],[0.6666666666666666,\"#ed7953\"],[0.7777777777777778,\"#fb9f3a\"],[0.8888888888888888,\"#fdca26\"],[1.0,\"#f0f921\"]],\"type\":\"histogram2dcontour\"}],\"histogram2d\":[{\"colorbar\":{\"outlinewidth\":0,\"ticks\":\"\"},\"colorscale\":[[0.0,\"#0d0887\"],[0.1111111111111111,\"#46039f\"],[0.2222222222222222,\"#7201a8\"],[0.3333333333333333,\"#9c179e\"],[0.4444444444444444,\"#bd3786\"],[0.5555555555555556,\"#d8576b\"],[0.6666666666666666,\"#ed7953\"],[0.7777777777777778,\"#fb9f3a\"],[0.8888888888888888,\"#fdca26\"],[1.0,\"#f0f921\"]],\"type\":\"histogram2d\"}],\"histogram\":[{\"marker\":{\"pattern\":{\"fillmode\":\"overlay\",\"size\":10,\"solidity\":0.2}},\"type\":\"histogram\"}],\"mesh3d\":[{\"colorbar\":{\"outlinewidth\":0,\"ticks\":\"\"},\"type\":\"mesh3d\"}],\"parcoords\":[{\"line\":{\"colorbar\":{\"outlinewidth\":0,\"ticks\":\"\"}},\"type\":\"parcoords\"}],\"pie\":[{\"automargin\":true,\"type\":\"pie\"}],\"scatter3d\":[{\"line\":{\"colorbar\":{\"outlinewidth\":0,\"ticks\":\"\"}},\"marker\":{\"colorbar\":{\"outlinewidth\":0,\"ticks\":\"\"}},\"type\":\"scatter3d\"}],\"scattercarpet\":[{\"marker\":{\"colorbar\":{\"outlinewidth\":0,\"ticks\":\"\"}},\"type\":\"scattercarpet\"}],\"scattergeo\":[{\"marker\":{\"colorbar\":{\"outlinewidth\":0,\"ticks\":\"\"}},\"type\":\"scattergeo\"}],\"scattergl\":[{\"marker\":{\"line\":{\"color\":\"#283442\"}},\"type\":\"scattergl\"}],\"scattermapbox\":[{\"marker\":{\"colorbar\":{\"outlinewidth\":0,\"ticks\":\"\"}},\"type\":\"scattermapbox\"}],\"scatterpolargl\":[{\"marker\":{\"colorbar\":{\"outlinewidth\":0,\"ticks\":\"\"}},\"type\":\"scatterpolargl\"}],\"scatterpolar\":[{\"marker\":{\"colorbar\":{\"outlinewidth\":0,\"ticks\":\"\"}},\"type\":\"scatterpolar\"}],\"scatter\":[{\"marker\":{\"line\":{\"color\":\"#283442\"}},\"type\":\"scatter\"}],\"scatterternary\":[{\"marker\":{\"colorbar\":{\"outlinewidth\":0,\"ticks\":\"\"}},\"type\":\"scatterternary\"}],\"surface\":[{\"colorbar\":{\"outlinewidth\":0,\"ticks\":\"\"},\"colorscale\":[[0.0,\"#0d0887\"],[0.1111111111111111,\"#46039f\"],[0.2222222222222222,\"#7201a8\"],[0.3333333333333333,\"#9c179e\"],[0.4444444444444444,\"#bd3786\"],[0.5555555555555556,\"#d8576b\"],[0.6666666666666666,\"#ed7953\"],[0.7777777777777778,\"#fb9f3a\"],[0.8888888888888888,\"#fdca26\"],[1.0,\"#f0f921\"]],\"type\":\"surface\"}],\"table\":[{\"cells\":{\"fill\":{\"color\":\"#506784\"},\"line\":{\"color\":\"rgb(17,17,17)\"}},\"header\":{\"fill\":{\"color\":\"#2a3f5f\"},\"line\":{\"color\":\"rgb(17,17,17)\"}},\"type\":\"table\"}]},\"layout\":{\"annotationdefaults\":{\"arrowcolor\":\"#f2f5fa\",\"arrowhead\":0,\"arrowwidth\":1},\"autotypenumbers\":\"strict\",\"coloraxis\":{\"colorbar\":{\"outlinewidth\":0,\"ticks\":\"\"}},\"colorscale\":{\"diverging\":[[0,\"#8e0152\"],[0.1,\"#c51b7d\"],[0.2,\"#de77ae\"],[0.3,\"#f1b6da\"],[0.4,\"#fde0ef\"],[0.5,\"#f7f7f7\"],[0.6,\"#e6f5d0\"],[0.7,\"#b8e186\"],[0.8,\"#7fbc41\"],[0.9,\"#4d9221\"],[1,\"#276419\"]],\"sequential\":[[0.0,\"#0d0887\"],[0.1111111111111111,\"#46039f\"],[0.2222222222222222,\"#7201a8\"],[0.3333333333333333,\"#9c179e\"],[0.4444444444444444,\"#bd3786\"],[0.5555555555555556,\"#d8576b\"],[0.6666666666666666,\"#ed7953\"],[0.7777777777777778,\"#fb9f3a\"],[0.8888888888888888,\"#fdca26\"],[1.0,\"#f0f921\"]],\"sequentialminus\":[[0.0,\"#0d0887\"],[0.1111111111111111,\"#46039f\"],[0.2222222222222222,\"#7201a8\"],[0.3333333333333333,\"#9c179e\"],[0.4444444444444444,\"#bd3786\"],[0.5555555555555556,\"#d8576b\"],[0.6666666666666666,\"#ed7953\"],[0.7777777777777778,\"#fb9f3a\"],[0.8888888888888888,\"#fdca26\"],[1.0,\"#f0f921\"]]},\"colorway\":[\"#636efa\",\"#EF553B\",\"#00cc96\",\"#ab63fa\",\"#FFA15A\",\"#19d3f3\",\"#FF6692\",\"#B6E880\",\"#FF97FF\",\"#FECB52\"],\"font\":{\"color\":\"#f2f5fa\"},\"geo\":{\"bgcolor\":\"rgb(17,17,17)\",\"lakecolor\":\"rgb(17,17,17)\",\"landcolor\":\"rgb(17,17,17)\",\"showlakes\":true,\"showland\":true,\"subunitcolor\":\"#506784\"},\"hoverlabel\":{\"align\":\"left\"},\"hovermode\":\"closest\",\"mapbox\":{\"style\":\"dark\"},\"paper_bgcolor\":\"rgb(17,17,17)\",\"plot_bgcolor\":\"rgb(17,17,17)\",\"polar\":{\"angularaxis\":{\"gridcolor\":\"#506784\",\"linecolor\":\"#506784\",\"ticks\":\"\"},\"bgcolor\":\"rgb(17,17,17)\",\"radialaxis\":{\"gridcolor\":\"#506784\",\"linecolor\":\"#506784\",\"ticks\":\"\"}},\"scene\":{\"xaxis\":{\"backgroundcolor\":\"rgb(17,17,17)\",\"gridcolor\":\"#506784\",\"gridwidth\":2,\"linecolor\":\"#506784\",\"showbackground\":true,\"ticks\":\"\",\"zerolinecolor\":\"#C8D4E3\"},\"yaxis\":{\"backgroundcolor\":\"rgb(17,17,17)\",\"gridcolor\":\"#506784\",\"gridwidth\":2,\"linecolor\":\"#506784\",\"showbackground\":true,\"ticks\":\"\",\"zerolinecolor\":\"#C8D4E3\"},\"zaxis\":{\"backgroundcolor\":\"rgb(17,17,17)\",\"gridcolor\":\"#506784\",\"gridwidth\":2,\"linecolor\":\"#506784\",\"showbackground\":true,\"ticks\":\"\",\"zerolinecolor\":\"#C8D4E3\"}},\"shapedefaults\":{\"line\":{\"color\":\"#f2f5fa\"}},\"sliderdefaults\":{\"bgcolor\":\"#C8D4E3\",\"bordercolor\":\"rgb(17,17,17)\",\"borderwidth\":1,\"tickwidth\":0},\"ternary\":{\"aaxis\":{\"gridcolor\":\"#506784\",\"linecolor\":\"#506784\",\"ticks\":\"\"},\"baxis\":{\"gridcolor\":\"#506784\",\"linecolor\":\"#506784\",\"ticks\":\"\"},\"bgcolor\":\"rgb(17,17,17)\",\"caxis\":{\"gridcolor\":\"#506784\",\"linecolor\":\"#506784\",\"ticks\":\"\"}},\"title\":{\"x\":0.05},\"updatemenudefaults\":{\"bgcolor\":\"#506784\",\"borderwidth\":0},\"xaxis\":{\"automargin\":true,\"gridcolor\":\"#283442\",\"linecolor\":\"#506784\",\"ticks\":\"\",\"title\":{\"standoff\":15},\"zerolinecolor\":\"#283442\",\"zerolinewidth\":2},\"yaxis\":{\"automargin\":true,\"gridcolor\":\"#283442\",\"linecolor\":\"#506784\",\"ticks\":\"\",\"title\":{\"standoff\":15},\"zerolinecolor\":\"#283442\",\"zerolinewidth\":2}}},\"xaxis\":{\"anchor\":\"y\",\"domain\":[0.0,1.0],\"title\":{\"text\":\"Publisher name\"}},\"yaxis\":{\"anchor\":\"x\",\"domain\":[0.0,1.0],\"title\":{\"text\":\"Count\"}},\"legend\":{\"tracegroupgap\":0},\"title\":{\"text\":\"Top 20 Publishers who have published books\"},\"barmode\":\"relative\",\"font\":{\"size\":15,\"family\":\"Franklin Gothic\"}},                        {\"responsive\": true}                    ).then(function(){\n",
       "                            \n",
       "var gd = document.getElementById('c4e63d85-983d-4044-b4ed-30fc20c05a38');\n",
       "var x = new MutationObserver(function (mutations, observer) {{\n",
       "        var display = window.getComputedStyle(gd).display;\n",
       "        if (!display || display === 'none') {{\n",
       "            console.log([gd, 'removed!']);\n",
       "            Plotly.purge(gd);\n",
       "            observer.disconnect();\n",
       "        }}\n",
       "}});\n",
       "\n",
       "// Listen for the removal of the full notebook cells\n",
       "var notebookContainer = gd.closest('#notebook-container');\n",
       "if (notebookContainer) {{\n",
       "    x.observe(notebookContainer, {childList: true});\n",
       "}}\n",
       "\n",
       "// Listen for the clearing of the current output cell\n",
       "var outputEl = gd.closest('.output');\n",
       "if (outputEl) {{\n",
       "    x.observe(outputEl, {childList: true});\n",
       "}}\n",
       "\n",
       "                        })                };                });            </script>        </div>"
      ]
     },
     "metadata": {},
     "output_type": "display_data"
    }
   ],
   "source": [
    "plot_top20(books, 'Publisher', \"Top 20 Publishers who have published books\", \"Publisher name\", \"Count\")"
   ]
  },
  {
   "cell_type": "markdown",
   "metadata": {},
   "source": [
    "**Now lets see the distrbution of the users by the country**"
   ]
  },
  {
   "cell_type": "markdown",
   "metadata": {},
   "source": [
    "**Let's extract the country from location column in the users dataset**"
   ]
  },
  {
   "cell_type": "code",
   "execution_count": 49,
   "metadata": {
    "execution": {
     "iopub.execute_input": "2023-04-26T00:01:43.630454Z",
     "iopub.status.busy": "2023-04-26T00:01:43.630022Z",
     "iopub.status.idle": "2023-04-26T00:01:44.513096Z",
     "shell.execute_reply": "2023-04-26T00:01:44.511556Z",
     "shell.execute_reply.started": "2023-04-26T00:01:43.630415Z"
    }
   },
   "outputs": [],
   "source": [
    "countries = []\n",
    "cond = users['Location'].str.split(',')\n",
    "\n",
    "for cont in cond:\n",
    "    \n",
    "    countries.append(cont[-1])"
   ]
  },
  {
   "cell_type": "markdown",
   "metadata": {},
   "source": [
    "**Now we have extracted the countries, let's assign the countries to the dataset**"
   ]
  },
  {
   "cell_type": "code",
   "execution_count": 50,
   "metadata": {
    "execution": {
     "iopub.execute_input": "2023-04-26T00:01:44.515507Z",
     "iopub.status.busy": "2023-04-26T00:01:44.515143Z",
     "iopub.status.idle": "2023-04-26T00:01:44.564147Z",
     "shell.execute_reply": "2023-04-26T00:01:44.562638Z",
     "shell.execute_reply.started": "2023-04-26T00:01:44.515471Z"
    }
   },
   "outputs": [
    {
     "data": {
      "text/html": [
       "<div>\n",
       "<style scoped>\n",
       "    .dataframe tbody tr th:only-of-type {\n",
       "        vertical-align: middle;\n",
       "    }\n",
       "\n",
       "    .dataframe tbody tr th {\n",
       "        vertical-align: top;\n",
       "    }\n",
       "\n",
       "    .dataframe thead th {\n",
       "        text-align: right;\n",
       "    }\n",
       "</style>\n",
       "<table border=\"1\" class=\"dataframe\">\n",
       "  <thead>\n",
       "    <tr style=\"text-align: right;\">\n",
       "      <th></th>\n",
       "      <th>User-ID</th>\n",
       "      <th>Location</th>\n",
       "      <th>Age</th>\n",
       "      <th>Country</th>\n",
       "    </tr>\n",
       "  </thead>\n",
       "  <tbody>\n",
       "    <tr>\n",
       "      <th>0</th>\n",
       "      <td>1</td>\n",
       "      <td>nyc, new york, usa</td>\n",
       "      <td>NaN</td>\n",
       "      <td>usa</td>\n",
       "    </tr>\n",
       "    <tr>\n",
       "      <th>1</th>\n",
       "      <td>2</td>\n",
       "      <td>stockton, california, usa</td>\n",
       "      <td>18.0</td>\n",
       "      <td>usa</td>\n",
       "    </tr>\n",
       "    <tr>\n",
       "      <th>2</th>\n",
       "      <td>3</td>\n",
       "      <td>moscow, yukon territory, russia</td>\n",
       "      <td>NaN</td>\n",
       "      <td>russia</td>\n",
       "    </tr>\n",
       "    <tr>\n",
       "      <th>3</th>\n",
       "      <td>4</td>\n",
       "      <td>porto, v.n.gaia, portugal</td>\n",
       "      <td>17.0</td>\n",
       "      <td>portugal</td>\n",
       "    </tr>\n",
       "    <tr>\n",
       "      <th>4</th>\n",
       "      <td>5</td>\n",
       "      <td>farnborough, hants, united kingdom</td>\n",
       "      <td>NaN</td>\n",
       "      <td>united kingdom</td>\n",
       "    </tr>\n",
       "  </tbody>\n",
       "</table>\n",
       "</div>"
      ],
      "text/plain": [
       "   User-ID                            Location   Age          Country\n",
       "0        1                  nyc, new york, usa   NaN              usa\n",
       "1        2           stockton, california, usa  18.0              usa\n",
       "2        3     moscow, yukon territory, russia   NaN           russia\n",
       "3        4           porto, v.n.gaia, portugal  17.0         portugal\n",
       "4        5  farnborough, hants, united kingdom   NaN   united kingdom"
      ]
     },
     "execution_count": 50,
     "metadata": {},
     "output_type": "execute_result"
    }
   ],
   "source": [
    "users['Country'] = countries\n",
    "users.head()"
   ]
  },
  {
   "cell_type": "code",
   "execution_count": 51,
   "metadata": {
    "execution": {
     "iopub.execute_input": "2023-04-26T00:01:44.669474Z",
     "iopub.status.busy": "2023-04-26T00:01:44.668984Z",
     "iopub.status.idle": "2023-04-26T00:04:08.631156Z",
     "shell.execute_reply": "2023-04-26T00:04:08.629482Z",
     "shell.execute_reply.started": "2023-04-26T00:01:44.669428Z"
    }
   },
   "outputs": [],
   "source": [
    "converted_country=coco.convert(names=users[\"Country\"], to=\"ISO3\")\n",
    "users[\"Country\"]=converted_country"
   ]
  },
  {
   "cell_type": "code",
   "execution_count": 52,
   "metadata": {
    "execution": {
     "iopub.execute_input": "2023-04-26T00:04:08.634318Z",
     "iopub.status.busy": "2023-04-26T00:04:08.633815Z",
     "iopub.status.idle": "2023-04-26T00:04:08.794500Z",
     "shell.execute_reply": "2023-04-26T00:04:08.793384Z",
     "shell.execute_reply.started": "2023-04-26T00:04:08.634266Z"
    }
   },
   "outputs": [
    {
     "data": {
      "text/html": [
       "<div>                            <div id=\"125ad889-35fd-46ed-909a-1e8dd0cce739\" class=\"plotly-graph-div\" style=\"height:525px; width:100%;\"></div>            <script type=\"text/javascript\">                require([\"plotly\"], function(Plotly) {                    window.PLOTLYENV=window.PLOTLYENV || {};                                    if (document.getElementById(\"125ad889-35fd-46ed-909a-1e8dd0cce739\")) {                    Plotly.newPlot(                        \"125ad889-35fd-46ed-909a-1e8dd0cce739\",                        [{\"coloraxis\":\"coloraxis\",\"geo\":\"geo\",\"hovertemplate\":\"locations=%{location}<br>color=%{z}<extra></extra>\",\"locations\":[\"not found\",\"CAN\",\"GBR\",\"DEU\",\"ESP\",\"AUS\",\"ITA\",\"FRA\",\"PRT\",\"NZL\",\"NLD\",\"CHE\",\"BRA\",\"CHN\",\"SWE\",\"IND\",\"AUT\",\"MYS\",\"ARG\",\"FIN\",\"SGP\",\"DNK\",\"MEX\",\"BEL\",\"IRL\",\"PHL\",\"TUR\",\"POL\",\"PAK\",\"GRC\",\"IRN\",\"ROU\",\"CHL\",\"ISR\",\"ZAF\",\"IDN\",\"NOR\",\"JPN\",\"HRV\",\"NGA\",\"KOR\",\"SVK\",\"CZE\",\"RUS\",\"HKG\",\"CRI\",\"TWN\",\"SVN\",\"EGY\",\"PER\",\"VNM\",\"VEN\",\"COL\",\"BGR\",\"LUX\",\"HUN\",\"THA\",\"GHA\",\"SAU\",\"ARE\",\"LKA\",\"BIH\",\"ISL\",\"BGD\",\"GTM\",\"PRY\",\"AND\",\"UKR\",\"TTO\",\"LTU\",\"LVA\",\"BHS\",\"BOL\",\"JAM\",\"PAN\",\"ECU\",\"KWT\",\"LBN\",\"CUB\",\"MAR\",\"MLT\",\"MKD\",\"ALB\",\"AFG\",\"DOM\",\"DZA\",\"ATA\",\"HND\",\"CYP\",\"KEN\",\"OMN\",\"SLV\",\"BMU\",\"ZWE\",\"UZB\",\"BLZ\",\"EST\",\"JOR\",\"PRI\",\"NPL\",\"MUS\",\"URY\",\"BRN\",\"MMR\",\"QAT\",\"GRD\",\"BRB\",\"NIC\",\"JEY\",\"BHR\",\"IRQ\",\"USA\",\"GEO\",\"BLR\",\"BEN\",\"FJI\",\"MOZ\",\"KAZ\",\"SYR\",\"ETH\",\"GGY\",\"CIV\",\"SDN\",\"CYM\",\"GUY\",\"ATG\",\"ERI\",\"AZE\",\"UGA\",\"MDA\",\"ARM\",\"CPV\",\"BWA\",\"PNG\",\"CMR\",\"YEM\",\"GAB\",\"TUN\",\"MCO\",\"LAO\",\"BFA\",\"KHM\",\"VCT\",\"DMA\",\"TZA\",\"NER\",\"RWA\",\"TGO\",\"AGO\",\"SMR\",\"ZMB\",\"SEN\",\"LCA\",\"SUR\",\"VAT\",\"PRK\",\"KGZ\",\"ABW\",\"LSO\",\"MNG\",\"LBY\",\"NAM\",\"BTN\",\"XKX\",\"SRB\",\"MAC\",\"SWZ\",\"VUT\",\"TJK\",\"MDV\",\"LBR\",\"TKM\",\"ASM\",\"STP\",\"MDG\",\"DJI\",\"GUM\",\"TON\",\"MHL\",\"FSM\",\"TCD\",\"KNA\",\"SLB\",\"MWI\",\"HTI\",\"GNB\",\"SLE\",\"PLW\",\"VGB\",\"VIR\",\"MLI\",\"GIN\",\"MRT\",\"COM\",\"PSE\",\"FRO\",\"KIR\",\"COK\",\"IMN\",[\"SGP\",\"GBR\"],\"SHN\",\"MNP\",\"SOM\",\"GMB\"],\"name\":\"\",\"z\":[145227,21663,18558,17073,13259,11785,11312,3521,3390,3121,3053,1762,1681,1497,1456,1303,1149,1127,1096,943,928,857,850,823,760,753,498,459,444,432,407,363,362,348,331,308,297,272,251,234,230,218,202,179,173,168,166,147,142,141,141,140,135,133,106,100,87,80,66,63,60,60,55,50,46,46,44,43,42,42,40,40,39,38,38,37,37,36,36,36,33,32,31,31,31,29,27,27,27,27,26,26,26,24,24,23,22,22,21,21,21,20,20,19,19,19,18,17,16,16,16,15,14,14,13,12,12,12,12,12,11,11,11,11,10,10,10,10,9,9,9,9,8,8,8,8,8,8,8,7,7,7,7,7,7,6,6,6,5,5,5,5,5,4,4,4,4,4,4,4,4,3,3,3,3,3,3,3,3,3,2,2,2,2,2,2,2,2,2,2,2,2,2,2,2,2,2,2,2,2,2,2,1,1,1,1,1,1,1,1,1,1,1,1],\"type\":\"choropleth\"}],                        {\"template\":{\"data\":{\"barpolar\":[{\"marker\":{\"line\":{\"color\":\"rgb(17,17,17)\",\"width\":0.5},\"pattern\":{\"fillmode\":\"overlay\",\"size\":10,\"solidity\":0.2}},\"type\":\"barpolar\"}],\"bar\":[{\"error_x\":{\"color\":\"#f2f5fa\"},\"error_y\":{\"color\":\"#f2f5fa\"},\"marker\":{\"line\":{\"color\":\"rgb(17,17,17)\",\"width\":0.5},\"pattern\":{\"fillmode\":\"overlay\",\"size\":10,\"solidity\":0.2}},\"type\":\"bar\"}],\"carpet\":[{\"aaxis\":{\"endlinecolor\":\"#A2B1C6\",\"gridcolor\":\"#506784\",\"linecolor\":\"#506784\",\"minorgridcolor\":\"#506784\",\"startlinecolor\":\"#A2B1C6\"},\"baxis\":{\"endlinecolor\":\"#A2B1C6\",\"gridcolor\":\"#506784\",\"linecolor\":\"#506784\",\"minorgridcolor\":\"#506784\",\"startlinecolor\":\"#A2B1C6\"},\"type\":\"carpet\"}],\"choropleth\":[{\"colorbar\":{\"outlinewidth\":0,\"ticks\":\"\"},\"type\":\"choropleth\"}],\"contourcarpet\":[{\"colorbar\":{\"outlinewidth\":0,\"ticks\":\"\"},\"type\":\"contourcarpet\"}],\"contour\":[{\"colorbar\":{\"outlinewidth\":0,\"ticks\":\"\"},\"colorscale\":[[0.0,\"#0d0887\"],[0.1111111111111111,\"#46039f\"],[0.2222222222222222,\"#7201a8\"],[0.3333333333333333,\"#9c179e\"],[0.4444444444444444,\"#bd3786\"],[0.5555555555555556,\"#d8576b\"],[0.6666666666666666,\"#ed7953\"],[0.7777777777777778,\"#fb9f3a\"],[0.8888888888888888,\"#fdca26\"],[1.0,\"#f0f921\"]],\"type\":\"contour\"}],\"heatmapgl\":[{\"colorbar\":{\"outlinewidth\":0,\"ticks\":\"\"},\"colorscale\":[[0.0,\"#0d0887\"],[0.1111111111111111,\"#46039f\"],[0.2222222222222222,\"#7201a8\"],[0.3333333333333333,\"#9c179e\"],[0.4444444444444444,\"#bd3786\"],[0.5555555555555556,\"#d8576b\"],[0.6666666666666666,\"#ed7953\"],[0.7777777777777778,\"#fb9f3a\"],[0.8888888888888888,\"#fdca26\"],[1.0,\"#f0f921\"]],\"type\":\"heatmapgl\"}],\"heatmap\":[{\"colorbar\":{\"outlinewidth\":0,\"ticks\":\"\"},\"colorscale\":[[0.0,\"#0d0887\"],[0.1111111111111111,\"#46039f\"],[0.2222222222222222,\"#7201a8\"],[0.3333333333333333,\"#9c179e\"],[0.4444444444444444,\"#bd3786\"],[0.5555555555555556,\"#d8576b\"],[0.6666666666666666,\"#ed7953\"],[0.7777777777777778,\"#fb9f3a\"],[0.8888888888888888,\"#fdca26\"],[1.0,\"#f0f921\"]],\"type\":\"heatmap\"}],\"histogram2dcontour\":[{\"colorbar\":{\"outlinewidth\":0,\"ticks\":\"\"},\"colorscale\":[[0.0,\"#0d0887\"],[0.1111111111111111,\"#46039f\"],[0.2222222222222222,\"#7201a8\"],[0.3333333333333333,\"#9c179e\"],[0.4444444444444444,\"#bd3786\"],[0.5555555555555556,\"#d8576b\"],[0.6666666666666666,\"#ed7953\"],[0.7777777777777778,\"#fb9f3a\"],[0.8888888888888888,\"#fdca26\"],[1.0,\"#f0f921\"]],\"type\":\"histogram2dcontour\"}],\"histogram2d\":[{\"colorbar\":{\"outlinewidth\":0,\"ticks\":\"\"},\"colorscale\":[[0.0,\"#0d0887\"],[0.1111111111111111,\"#46039f\"],[0.2222222222222222,\"#7201a8\"],[0.3333333333333333,\"#9c179e\"],[0.4444444444444444,\"#bd3786\"],[0.5555555555555556,\"#d8576b\"],[0.6666666666666666,\"#ed7953\"],[0.7777777777777778,\"#fb9f3a\"],[0.8888888888888888,\"#fdca26\"],[1.0,\"#f0f921\"]],\"type\":\"histogram2d\"}],\"histogram\":[{\"marker\":{\"pattern\":{\"fillmode\":\"overlay\",\"size\":10,\"solidity\":0.2}},\"type\":\"histogram\"}],\"mesh3d\":[{\"colorbar\":{\"outlinewidth\":0,\"ticks\":\"\"},\"type\":\"mesh3d\"}],\"parcoords\":[{\"line\":{\"colorbar\":{\"outlinewidth\":0,\"ticks\":\"\"}},\"type\":\"parcoords\"}],\"pie\":[{\"automargin\":true,\"type\":\"pie\"}],\"scatter3d\":[{\"line\":{\"colorbar\":{\"outlinewidth\":0,\"ticks\":\"\"}},\"marker\":{\"colorbar\":{\"outlinewidth\":0,\"ticks\":\"\"}},\"type\":\"scatter3d\"}],\"scattercarpet\":[{\"marker\":{\"colorbar\":{\"outlinewidth\":0,\"ticks\":\"\"}},\"type\":\"scattercarpet\"}],\"scattergeo\":[{\"marker\":{\"colorbar\":{\"outlinewidth\":0,\"ticks\":\"\"}},\"type\":\"scattergeo\"}],\"scattergl\":[{\"marker\":{\"line\":{\"color\":\"#283442\"}},\"type\":\"scattergl\"}],\"scattermapbox\":[{\"marker\":{\"colorbar\":{\"outlinewidth\":0,\"ticks\":\"\"}},\"type\":\"scattermapbox\"}],\"scatterpolargl\":[{\"marker\":{\"colorbar\":{\"outlinewidth\":0,\"ticks\":\"\"}},\"type\":\"scatterpolargl\"}],\"scatterpolar\":[{\"marker\":{\"colorbar\":{\"outlinewidth\":0,\"ticks\":\"\"}},\"type\":\"scatterpolar\"}],\"scatter\":[{\"marker\":{\"line\":{\"color\":\"#283442\"}},\"type\":\"scatter\"}],\"scatterternary\":[{\"marker\":{\"colorbar\":{\"outlinewidth\":0,\"ticks\":\"\"}},\"type\":\"scatterternary\"}],\"surface\":[{\"colorbar\":{\"outlinewidth\":0,\"ticks\":\"\"},\"colorscale\":[[0.0,\"#0d0887\"],[0.1111111111111111,\"#46039f\"],[0.2222222222222222,\"#7201a8\"],[0.3333333333333333,\"#9c179e\"],[0.4444444444444444,\"#bd3786\"],[0.5555555555555556,\"#d8576b\"],[0.6666666666666666,\"#ed7953\"],[0.7777777777777778,\"#fb9f3a\"],[0.8888888888888888,\"#fdca26\"],[1.0,\"#f0f921\"]],\"type\":\"surface\"}],\"table\":[{\"cells\":{\"fill\":{\"color\":\"#506784\"},\"line\":{\"color\":\"rgb(17,17,17)\"}},\"header\":{\"fill\":{\"color\":\"#2a3f5f\"},\"line\":{\"color\":\"rgb(17,17,17)\"}},\"type\":\"table\"}]},\"layout\":{\"annotationdefaults\":{\"arrowcolor\":\"#f2f5fa\",\"arrowhead\":0,\"arrowwidth\":1},\"autotypenumbers\":\"strict\",\"coloraxis\":{\"colorbar\":{\"outlinewidth\":0,\"ticks\":\"\"}},\"colorscale\":{\"diverging\":[[0,\"#8e0152\"],[0.1,\"#c51b7d\"],[0.2,\"#de77ae\"],[0.3,\"#f1b6da\"],[0.4,\"#fde0ef\"],[0.5,\"#f7f7f7\"],[0.6,\"#e6f5d0\"],[0.7,\"#b8e186\"],[0.8,\"#7fbc41\"],[0.9,\"#4d9221\"],[1,\"#276419\"]],\"sequential\":[[0.0,\"#0d0887\"],[0.1111111111111111,\"#46039f\"],[0.2222222222222222,\"#7201a8\"],[0.3333333333333333,\"#9c179e\"],[0.4444444444444444,\"#bd3786\"],[0.5555555555555556,\"#d8576b\"],[0.6666666666666666,\"#ed7953\"],[0.7777777777777778,\"#fb9f3a\"],[0.8888888888888888,\"#fdca26\"],[1.0,\"#f0f921\"]],\"sequentialminus\":[[0.0,\"#0d0887\"],[0.1111111111111111,\"#46039f\"],[0.2222222222222222,\"#7201a8\"],[0.3333333333333333,\"#9c179e\"],[0.4444444444444444,\"#bd3786\"],[0.5555555555555556,\"#d8576b\"],[0.6666666666666666,\"#ed7953\"],[0.7777777777777778,\"#fb9f3a\"],[0.8888888888888888,\"#fdca26\"],[1.0,\"#f0f921\"]]},\"colorway\":[\"#636efa\",\"#EF553B\",\"#00cc96\",\"#ab63fa\",\"#FFA15A\",\"#19d3f3\",\"#FF6692\",\"#B6E880\",\"#FF97FF\",\"#FECB52\"],\"font\":{\"color\":\"#f2f5fa\"},\"geo\":{\"bgcolor\":\"rgb(17,17,17)\",\"lakecolor\":\"rgb(17,17,17)\",\"landcolor\":\"rgb(17,17,17)\",\"showlakes\":true,\"showland\":true,\"subunitcolor\":\"#506784\"},\"hoverlabel\":{\"align\":\"left\"},\"hovermode\":\"closest\",\"mapbox\":{\"style\":\"dark\"},\"paper_bgcolor\":\"rgb(17,17,17)\",\"plot_bgcolor\":\"rgb(17,17,17)\",\"polar\":{\"angularaxis\":{\"gridcolor\":\"#506784\",\"linecolor\":\"#506784\",\"ticks\":\"\"},\"bgcolor\":\"rgb(17,17,17)\",\"radialaxis\":{\"gridcolor\":\"#506784\",\"linecolor\":\"#506784\",\"ticks\":\"\"}},\"scene\":{\"xaxis\":{\"backgroundcolor\":\"rgb(17,17,17)\",\"gridcolor\":\"#506784\",\"gridwidth\":2,\"linecolor\":\"#506784\",\"showbackground\":true,\"ticks\":\"\",\"zerolinecolor\":\"#C8D4E3\"},\"yaxis\":{\"backgroundcolor\":\"rgb(17,17,17)\",\"gridcolor\":\"#506784\",\"gridwidth\":2,\"linecolor\":\"#506784\",\"showbackground\":true,\"ticks\":\"\",\"zerolinecolor\":\"#C8D4E3\"},\"zaxis\":{\"backgroundcolor\":\"rgb(17,17,17)\",\"gridcolor\":\"#506784\",\"gridwidth\":2,\"linecolor\":\"#506784\",\"showbackground\":true,\"ticks\":\"\",\"zerolinecolor\":\"#C8D4E3\"}},\"shapedefaults\":{\"line\":{\"color\":\"#f2f5fa\"}},\"sliderdefaults\":{\"bgcolor\":\"#C8D4E3\",\"bordercolor\":\"rgb(17,17,17)\",\"borderwidth\":1,\"tickwidth\":0},\"ternary\":{\"aaxis\":{\"gridcolor\":\"#506784\",\"linecolor\":\"#506784\",\"ticks\":\"\"},\"baxis\":{\"gridcolor\":\"#506784\",\"linecolor\":\"#506784\",\"ticks\":\"\"},\"bgcolor\":\"rgb(17,17,17)\",\"caxis\":{\"gridcolor\":\"#506784\",\"linecolor\":\"#506784\",\"ticks\":\"\"}},\"title\":{\"x\":0.05},\"updatemenudefaults\":{\"bgcolor\":\"#506784\",\"borderwidth\":0},\"xaxis\":{\"automargin\":true,\"gridcolor\":\"#283442\",\"linecolor\":\"#506784\",\"ticks\":\"\",\"title\":{\"standoff\":15},\"zerolinecolor\":\"#283442\",\"zerolinewidth\":2},\"yaxis\":{\"automargin\":true,\"gridcolor\":\"#283442\",\"linecolor\":\"#506784\",\"ticks\":\"\",\"title\":{\"standoff\":15},\"zerolinecolor\":\"#283442\",\"zerolinewidth\":2}}},\"geo\":{\"domain\":{\"x\":[0.0,1.0],\"y\":[0.0,1.0]},\"center\":{}},\"coloraxis\":{\"colorbar\":{\"title\":{\"text\":\"color\"}},\"colorscale\":[[0.0,\"rgb(230, 240, 240)\"],[0.09090909090909091,\"rgb(191, 221, 229)\"],[0.18181818181818182,\"rgb(156, 201, 226)\"],[0.2727272727272727,\"rgb(129, 180, 227)\"],[0.36363636363636365,\"rgb(115, 154, 228)\"],[0.45454545454545453,\"rgb(117, 127, 221)\"],[0.5454545454545454,\"rgb(120, 100, 202)\"],[0.6363636363636364,\"rgb(119, 74, 175)\"],[0.7272727272727273,\"rgb(113, 50, 141)\"],[0.8181818181818182,\"rgb(100, 31, 104)\"],[0.9090909090909091,\"rgb(80, 20, 66)\"],[1.0,\"rgb(54, 14, 36)\"]]},\"legend\":{\"tracegroupgap\":0},\"title\":{\"text\":\"Distribution of users by countries\"},\"font\":{\"size\":17,\"family\":\"Franklin Gothic\"}},                        {\"responsive\": true}                    ).then(function(){\n",
       "                            \n",
       "var gd = document.getElementById('125ad889-35fd-46ed-909a-1e8dd0cce739');\n",
       "var x = new MutationObserver(function (mutations, observer) {{\n",
       "        var display = window.getComputedStyle(gd).display;\n",
       "        if (!display || display === 'none') {{\n",
       "            console.log([gd, 'removed!']);\n",
       "            Plotly.purge(gd);\n",
       "            observer.disconnect();\n",
       "        }}\n",
       "}});\n",
       "\n",
       "// Listen for the removal of the full notebook cells\n",
       "var notebookContainer = gd.closest('#notebook-container');\n",
       "if (notebookContainer) {{\n",
       "    x.observe(notebookContainer, {childList: true});\n",
       "}}\n",
       "\n",
       "// Listen for the clearing of the current output cell\n",
       "var outputEl = gd.closest('.output');\n",
       "if (outputEl) {{\n",
       "    x.observe(outputEl, {childList: true});\n",
       "}}\n",
       "\n",
       "                        })                };                });            </script>        </div>"
      ]
     },
     "metadata": {},
     "output_type": "display_data"
    }
   ],
   "source": [
    "country=users[\"Country\"].value_counts()\n",
    "fig=px.choropleth(locations=country.index,\n",
    "                  color=country.values,\n",
    "                  color_continuous_scale=px.colors.sequential.dense,\n",
    "                  template='plotly_dark',\n",
    "                  title='Distribution of users by countries')\n",
    "\n",
    "fig.update_layout(font=dict(size=17, family=\"Franklin Gothic\"))\n",
    "fig.show()"
   ]
  },
  {
   "cell_type": "markdown",
   "metadata": {},
   "source": [
    "**Merge books df with ratings**"
   ]
  },
  {
   "cell_type": "code",
   "execution_count": 53,
   "metadata": {
    "execution": {
     "iopub.execute_input": "2023-04-26T00:04:08.797202Z",
     "iopub.status.busy": "2023-04-26T00:04:08.796046Z",
     "iopub.status.idle": "2023-04-26T00:04:09.759417Z",
     "shell.execute_reply": "2023-04-26T00:04:09.758045Z",
     "shell.execute_reply.started": "2023-04-26T00:04:08.797157Z"
    }
   },
   "outputs": [],
   "source": [
    "books_with_ratings = pd.merge(books, ratings, on='ISBN')"
   ]
  },
  {
   "cell_type": "code",
   "execution_count": 54,
   "metadata": {
    "execution": {
     "iopub.execute_input": "2023-04-26T00:04:09.762542Z",
     "iopub.status.busy": "2023-04-26T00:04:09.762144Z",
     "iopub.status.idle": "2023-04-26T00:04:09.780409Z",
     "shell.execute_reply": "2023-04-26T00:04:09.779127Z",
     "shell.execute_reply.started": "2023-04-26T00:04:09.762498Z"
    }
   },
   "outputs": [
    {
     "data": {
      "text/html": [
       "<div>\n",
       "<style scoped>\n",
       "    .dataframe tbody tr th:only-of-type {\n",
       "        vertical-align: middle;\n",
       "    }\n",
       "\n",
       "    .dataframe tbody tr th {\n",
       "        vertical-align: top;\n",
       "    }\n",
       "\n",
       "    .dataframe thead th {\n",
       "        text-align: right;\n",
       "    }\n",
       "</style>\n",
       "<table border=\"1\" class=\"dataframe\">\n",
       "  <thead>\n",
       "    <tr style=\"text-align: right;\">\n",
       "      <th></th>\n",
       "      <th>ISBN</th>\n",
       "      <th>Book-Title</th>\n",
       "      <th>Book-Author</th>\n",
       "      <th>Year-Of-Publication</th>\n",
       "      <th>Publisher</th>\n",
       "      <th>Image-URL-S</th>\n",
       "      <th>Image-URL-M</th>\n",
       "      <th>Image-URL-L</th>\n",
       "      <th>User-ID</th>\n",
       "      <th>Book-Rating</th>\n",
       "    </tr>\n",
       "  </thead>\n",
       "  <tbody>\n",
       "    <tr>\n",
       "      <th>0</th>\n",
       "      <td>0195153448</td>\n",
       "      <td>Classical Mythology</td>\n",
       "      <td>Mark P. O. Morford</td>\n",
       "      <td>2002</td>\n",
       "      <td>Oxford University Press</td>\n",
       "      <td>http://images.amazon.com/images/P/0195153448.0...</td>\n",
       "      <td>http://images.amazon.com/images/P/0195153448.0...</td>\n",
       "      <td>http://images.amazon.com/images/P/0195153448.0...</td>\n",
       "      <td>2</td>\n",
       "      <td>0</td>\n",
       "    </tr>\n",
       "    <tr>\n",
       "      <th>1</th>\n",
       "      <td>0002005018</td>\n",
       "      <td>Clara Callan</td>\n",
       "      <td>Richard Bruce Wright</td>\n",
       "      <td>2001</td>\n",
       "      <td>HarperFlamingo Canada</td>\n",
       "      <td>http://images.amazon.com/images/P/0002005018.0...</td>\n",
       "      <td>http://images.amazon.com/images/P/0002005018.0...</td>\n",
       "      <td>http://images.amazon.com/images/P/0002005018.0...</td>\n",
       "      <td>8</td>\n",
       "      <td>5</td>\n",
       "    </tr>\n",
       "    <tr>\n",
       "      <th>2</th>\n",
       "      <td>0002005018</td>\n",
       "      <td>Clara Callan</td>\n",
       "      <td>Richard Bruce Wright</td>\n",
       "      <td>2001</td>\n",
       "      <td>HarperFlamingo Canada</td>\n",
       "      <td>http://images.amazon.com/images/P/0002005018.0...</td>\n",
       "      <td>http://images.amazon.com/images/P/0002005018.0...</td>\n",
       "      <td>http://images.amazon.com/images/P/0002005018.0...</td>\n",
       "      <td>11400</td>\n",
       "      <td>0</td>\n",
       "    </tr>\n",
       "    <tr>\n",
       "      <th>3</th>\n",
       "      <td>0002005018</td>\n",
       "      <td>Clara Callan</td>\n",
       "      <td>Richard Bruce Wright</td>\n",
       "      <td>2001</td>\n",
       "      <td>HarperFlamingo Canada</td>\n",
       "      <td>http://images.amazon.com/images/P/0002005018.0...</td>\n",
       "      <td>http://images.amazon.com/images/P/0002005018.0...</td>\n",
       "      <td>http://images.amazon.com/images/P/0002005018.0...</td>\n",
       "      <td>11676</td>\n",
       "      <td>8</td>\n",
       "    </tr>\n",
       "    <tr>\n",
       "      <th>4</th>\n",
       "      <td>0002005018</td>\n",
       "      <td>Clara Callan</td>\n",
       "      <td>Richard Bruce Wright</td>\n",
       "      <td>2001</td>\n",
       "      <td>HarperFlamingo Canada</td>\n",
       "      <td>http://images.amazon.com/images/P/0002005018.0...</td>\n",
       "      <td>http://images.amazon.com/images/P/0002005018.0...</td>\n",
       "      <td>http://images.amazon.com/images/P/0002005018.0...</td>\n",
       "      <td>41385</td>\n",
       "      <td>0</td>\n",
       "    </tr>\n",
       "  </tbody>\n",
       "</table>\n",
       "</div>"
      ],
      "text/plain": [
       "         ISBN           Book-Title           Book-Author  Year-Of-Publication  \\\n",
       "0  0195153448  Classical Mythology    Mark P. O. Morford                 2002   \n",
       "1  0002005018         Clara Callan  Richard Bruce Wright                 2001   \n",
       "2  0002005018         Clara Callan  Richard Bruce Wright                 2001   \n",
       "3  0002005018         Clara Callan  Richard Bruce Wright                 2001   \n",
       "4  0002005018         Clara Callan  Richard Bruce Wright                 2001   \n",
       "\n",
       "                 Publisher                                        Image-URL-S  \\\n",
       "0  Oxford University Press  http://images.amazon.com/images/P/0195153448.0...   \n",
       "1    HarperFlamingo Canada  http://images.amazon.com/images/P/0002005018.0...   \n",
       "2    HarperFlamingo Canada  http://images.amazon.com/images/P/0002005018.0...   \n",
       "3    HarperFlamingo Canada  http://images.amazon.com/images/P/0002005018.0...   \n",
       "4    HarperFlamingo Canada  http://images.amazon.com/images/P/0002005018.0...   \n",
       "\n",
       "                                         Image-URL-M  \\\n",
       "0  http://images.amazon.com/images/P/0195153448.0...   \n",
       "1  http://images.amazon.com/images/P/0002005018.0...   \n",
       "2  http://images.amazon.com/images/P/0002005018.0...   \n",
       "3  http://images.amazon.com/images/P/0002005018.0...   \n",
       "4  http://images.amazon.com/images/P/0002005018.0...   \n",
       "\n",
       "                                         Image-URL-L  User-ID  Book-Rating  \n",
       "0  http://images.amazon.com/images/P/0195153448.0...        2            0  \n",
       "1  http://images.amazon.com/images/P/0002005018.0...        8            5  \n",
       "2  http://images.amazon.com/images/P/0002005018.0...    11400            0  \n",
       "3  http://images.amazon.com/images/P/0002005018.0...    11676            8  \n",
       "4  http://images.amazon.com/images/P/0002005018.0...    41385            0  "
      ]
     },
     "execution_count": 54,
     "metadata": {},
     "output_type": "execute_result"
    }
   ],
   "source": [
    "books_with_ratings.head()"
   ]
  },
  {
   "cell_type": "code",
   "execution_count": 55,
   "metadata": {
    "execution": {
     "iopub.execute_input": "2023-04-26T00:04:09.783089Z",
     "iopub.status.busy": "2023-04-26T00:04:09.782585Z",
     "iopub.status.idle": "2023-04-26T00:04:09.798850Z",
     "shell.execute_reply": "2023-04-26T00:04:09.797190Z",
     "shell.execute_reply.started": "2023-04-26T00:04:09.783036Z"
    }
   },
   "outputs": [],
   "source": [
    "def cat_summary_with_graph(dataframe, col_name):\n",
    "    fig = make_subplots(rows=1, cols=2,\n",
    "                        subplot_titles=('Countplot', 'Percentages'),\n",
    "                        specs=[[{\"type\": \"xy\"}, {'type': 'domain'}]])\n",
    "\n",
    "    fig.add_trace(go.Bar(y=dataframe[col_name].value_counts().values.tolist(),\n",
    "                         x=[str(i) for i in dataframe[col_name].value_counts().index],\n",
    "                         text=dataframe[col_name].value_counts().values.tolist(),\n",
    "                         textfont=dict(size=15),\n",
    "                         name=col_name,\n",
    "                         textposition='auto',\n",
    "                         showlegend=False,\n",
    "                         marker=dict(color=colors,\n",
    "                                     line=dict(color='#DBE6EC',\n",
    "                                               width=1))),\n",
    "                  row=1, col=1)\n",
    "\n",
    "    fig.add_trace(go.Pie(labels=dataframe[col_name].value_counts().keys(),\n",
    "                         values=dataframe[col_name].value_counts().values,\n",
    "                         textfont=dict(size=10),\n",
    "                         textposition='auto',\n",
    "                         showlegend=False,\n",
    "                         name=col_name,\n",
    "                         marker=dict(colors=colors)),\n",
    "                  row=1, col=2)\n",
    "\n",
    "    fig.update_layout(title={'text': col_name,\n",
    "                             'y': 0.9,\n",
    "                             'x': 0.5,\n",
    "                             'xanchor': 'center',\n",
    "                             'yanchor': 'top'},\n",
    "                      template='plotly_white')\n",
    "\n",
    "    iplot(fig)"
   ]
  },
  {
   "cell_type": "code",
   "execution_count": 56,
   "metadata": {
    "execution": {
     "iopub.execute_input": "2023-04-26T00:04:09.801422Z",
     "iopub.status.busy": "2023-04-26T00:04:09.800913Z",
     "iopub.status.idle": "2023-04-26T00:04:09.809442Z",
     "shell.execute_reply": "2023-04-26T00:04:09.808231Z",
     "shell.execute_reply.started": "2023-04-26T00:04:09.801379Z"
    }
   },
   "outputs": [],
   "source": [
    "colors = ['#494BD3', '#E28AE2', '#F1F481', '#79DB80', '#DF5F5F',\n",
    "              '#69DADE', '#C2E37D', '#E26580', '#D39F49', '#B96FE3']"
   ]
  },
  {
   "cell_type": "code",
   "execution_count": 57,
   "metadata": {
    "execution": {
     "iopub.execute_input": "2023-04-26T00:04:09.811280Z",
     "iopub.status.busy": "2023-04-26T00:04:09.810849Z",
     "iopub.status.idle": "2023-04-26T00:04:10.038375Z",
     "shell.execute_reply": "2023-04-26T00:04:10.036988Z",
     "shell.execute_reply.started": "2023-04-26T00:04:09.811243Z"
    }
   },
   "outputs": [
    {
     "data": {
      "text/html": [
       "<div>                            <div id=\"70a0f752-69ca-4051-bdd8-860d943dd51b\" class=\"plotly-graph-div\" style=\"height:525px; width:100%;\"></div>            <script type=\"text/javascript\">                require([\"plotly\"], function(Plotly) {                    window.PLOTLYENV=window.PLOTLYENV || {};                                    if (document.getElementById(\"70a0f752-69ca-4051-bdd8-860d943dd51b\")) {                    Plotly.newPlot(                        \"70a0f752-69ca-4051-bdd8-860d943dd51b\",                        [{\"marker\":{\"color\":[\"#494BD3\",\"#E28AE2\",\"#F1F481\",\"#79DB80\",\"#DF5F5F\",\"#69DADE\",\"#C2E37D\",\"#E26580\",\"#D39F49\",\"#B96FE3\"],\"line\":{\"color\":\"#DBE6EC\",\"width\":1}},\"name\":\"Book-Rating\",\"showlegend\":false,\"text\":[\"647294\",\"91804\",\"71225\",\"66402\",\"60778\",\"45355\",\"31687\",\"7617\",\"5118\",\"2375\",\"1481\"],\"textfont\":{\"size\":15},\"textposition\":\"auto\",\"x\":[\"0\",\"8\",\"10\",\"7\",\"9\",\"5\",\"6\",\"4\",\"3\",\"2\",\"1\"],\"xaxis\":\"x\",\"y\":[647294,91804,71225,66402,60778,45355,31687,7617,5118,2375,1481],\"yaxis\":\"y\",\"type\":\"bar\"},{\"domain\":{\"x\":[0.55,1.0],\"y\":[0.0,1.0]},\"labels\":[0,8,10,7,9,5,6,4,3,2,1],\"marker\":{\"colors\":[\"#494BD3\",\"#E28AE2\",\"#F1F481\",\"#79DB80\",\"#DF5F5F\",\"#69DADE\",\"#C2E37D\",\"#E26580\",\"#D39F49\",\"#B96FE3\"]},\"name\":\"Book-Rating\",\"showlegend\":false,\"textfont\":{\"size\":10},\"textposition\":\"auto\",\"values\":[647294,91804,71225,66402,60778,45355,31687,7617,5118,2375,1481],\"type\":\"pie\"}],                        {\"annotations\":[{\"font\":{\"size\":16},\"showarrow\":false,\"text\":\"Countplot\",\"x\":0.225,\"xanchor\":\"center\",\"xref\":\"paper\",\"y\":1.0,\"yanchor\":\"bottom\",\"yref\":\"paper\"},{\"font\":{\"size\":16},\"showarrow\":false,\"text\":\"Percentages\",\"x\":0.775,\"xanchor\":\"center\",\"xref\":\"paper\",\"y\":1.0,\"yanchor\":\"bottom\",\"yref\":\"paper\"}],\"template\":{\"data\":{\"barpolar\":[{\"marker\":{\"line\":{\"color\":\"white\",\"width\":0.5},\"pattern\":{\"fillmode\":\"overlay\",\"size\":10,\"solidity\":0.2}},\"type\":\"barpolar\"}],\"bar\":[{\"error_x\":{\"color\":\"#2a3f5f\"},\"error_y\":{\"color\":\"#2a3f5f\"},\"marker\":{\"line\":{\"color\":\"white\",\"width\":0.5},\"pattern\":{\"fillmode\":\"overlay\",\"size\":10,\"solidity\":0.2}},\"type\":\"bar\"}],\"carpet\":[{\"aaxis\":{\"endlinecolor\":\"#2a3f5f\",\"gridcolor\":\"#C8D4E3\",\"linecolor\":\"#C8D4E3\",\"minorgridcolor\":\"#C8D4E3\",\"startlinecolor\":\"#2a3f5f\"},\"baxis\":{\"endlinecolor\":\"#2a3f5f\",\"gridcolor\":\"#C8D4E3\",\"linecolor\":\"#C8D4E3\",\"minorgridcolor\":\"#C8D4E3\",\"startlinecolor\":\"#2a3f5f\"},\"type\":\"carpet\"}],\"choropleth\":[{\"colorbar\":{\"outlinewidth\":0,\"ticks\":\"\"},\"type\":\"choropleth\"}],\"contourcarpet\":[{\"colorbar\":{\"outlinewidth\":0,\"ticks\":\"\"},\"type\":\"contourcarpet\"}],\"contour\":[{\"colorbar\":{\"outlinewidth\":0,\"ticks\":\"\"},\"colorscale\":[[0.0,\"#0d0887\"],[0.1111111111111111,\"#46039f\"],[0.2222222222222222,\"#7201a8\"],[0.3333333333333333,\"#9c179e\"],[0.4444444444444444,\"#bd3786\"],[0.5555555555555556,\"#d8576b\"],[0.6666666666666666,\"#ed7953\"],[0.7777777777777778,\"#fb9f3a\"],[0.8888888888888888,\"#fdca26\"],[1.0,\"#f0f921\"]],\"type\":\"contour\"}],\"heatmapgl\":[{\"colorbar\":{\"outlinewidth\":0,\"ticks\":\"\"},\"colorscale\":[[0.0,\"#0d0887\"],[0.1111111111111111,\"#46039f\"],[0.2222222222222222,\"#7201a8\"],[0.3333333333333333,\"#9c179e\"],[0.4444444444444444,\"#bd3786\"],[0.5555555555555556,\"#d8576b\"],[0.6666666666666666,\"#ed7953\"],[0.7777777777777778,\"#fb9f3a\"],[0.8888888888888888,\"#fdca26\"],[1.0,\"#f0f921\"]],\"type\":\"heatmapgl\"}],\"heatmap\":[{\"colorbar\":{\"outlinewidth\":0,\"ticks\":\"\"},\"colorscale\":[[0.0,\"#0d0887\"],[0.1111111111111111,\"#46039f\"],[0.2222222222222222,\"#7201a8\"],[0.3333333333333333,\"#9c179e\"],[0.4444444444444444,\"#bd3786\"],[0.5555555555555556,\"#d8576b\"],[0.6666666666666666,\"#ed7953\"],[0.7777777777777778,\"#fb9f3a\"],[0.8888888888888888,\"#fdca26\"],[1.0,\"#f0f921\"]],\"type\":\"heatmap\"}],\"histogram2dcontour\":[{\"colorbar\":{\"outlinewidth\":0,\"ticks\":\"\"},\"colorscale\":[[0.0,\"#0d0887\"],[0.1111111111111111,\"#46039f\"],[0.2222222222222222,\"#7201a8\"],[0.3333333333333333,\"#9c179e\"],[0.4444444444444444,\"#bd3786\"],[0.5555555555555556,\"#d8576b\"],[0.6666666666666666,\"#ed7953\"],[0.7777777777777778,\"#fb9f3a\"],[0.8888888888888888,\"#fdca26\"],[1.0,\"#f0f921\"]],\"type\":\"histogram2dcontour\"}],\"histogram2d\":[{\"colorbar\":{\"outlinewidth\":0,\"ticks\":\"\"},\"colorscale\":[[0.0,\"#0d0887\"],[0.1111111111111111,\"#46039f\"],[0.2222222222222222,\"#7201a8\"],[0.3333333333333333,\"#9c179e\"],[0.4444444444444444,\"#bd3786\"],[0.5555555555555556,\"#d8576b\"],[0.6666666666666666,\"#ed7953\"],[0.7777777777777778,\"#fb9f3a\"],[0.8888888888888888,\"#fdca26\"],[1.0,\"#f0f921\"]],\"type\":\"histogram2d\"}],\"histogram\":[{\"marker\":{\"pattern\":{\"fillmode\":\"overlay\",\"size\":10,\"solidity\":0.2}},\"type\":\"histogram\"}],\"mesh3d\":[{\"colorbar\":{\"outlinewidth\":0,\"ticks\":\"\"},\"type\":\"mesh3d\"}],\"parcoords\":[{\"line\":{\"colorbar\":{\"outlinewidth\":0,\"ticks\":\"\"}},\"type\":\"parcoords\"}],\"pie\":[{\"automargin\":true,\"type\":\"pie\"}],\"scatter3d\":[{\"line\":{\"colorbar\":{\"outlinewidth\":0,\"ticks\":\"\"}},\"marker\":{\"colorbar\":{\"outlinewidth\":0,\"ticks\":\"\"}},\"type\":\"scatter3d\"}],\"scattercarpet\":[{\"marker\":{\"colorbar\":{\"outlinewidth\":0,\"ticks\":\"\"}},\"type\":\"scattercarpet\"}],\"scattergeo\":[{\"marker\":{\"colorbar\":{\"outlinewidth\":0,\"ticks\":\"\"}},\"type\":\"scattergeo\"}],\"scattergl\":[{\"marker\":{\"colorbar\":{\"outlinewidth\":0,\"ticks\":\"\"}},\"type\":\"scattergl\"}],\"scattermapbox\":[{\"marker\":{\"colorbar\":{\"outlinewidth\":0,\"ticks\":\"\"}},\"type\":\"scattermapbox\"}],\"scatterpolargl\":[{\"marker\":{\"colorbar\":{\"outlinewidth\":0,\"ticks\":\"\"}},\"type\":\"scatterpolargl\"}],\"scatterpolar\":[{\"marker\":{\"colorbar\":{\"outlinewidth\":0,\"ticks\":\"\"}},\"type\":\"scatterpolar\"}],\"scatter\":[{\"fillpattern\":{\"fillmode\":\"overlay\",\"size\":10,\"solidity\":0.2},\"type\":\"scatter\"}],\"scatterternary\":[{\"marker\":{\"colorbar\":{\"outlinewidth\":0,\"ticks\":\"\"}},\"type\":\"scatterternary\"}],\"surface\":[{\"colorbar\":{\"outlinewidth\":0,\"ticks\":\"\"},\"colorscale\":[[0.0,\"#0d0887\"],[0.1111111111111111,\"#46039f\"],[0.2222222222222222,\"#7201a8\"],[0.3333333333333333,\"#9c179e\"],[0.4444444444444444,\"#bd3786\"],[0.5555555555555556,\"#d8576b\"],[0.6666666666666666,\"#ed7953\"],[0.7777777777777778,\"#fb9f3a\"],[0.8888888888888888,\"#fdca26\"],[1.0,\"#f0f921\"]],\"type\":\"surface\"}],\"table\":[{\"cells\":{\"fill\":{\"color\":\"#EBF0F8\"},\"line\":{\"color\":\"white\"}},\"header\":{\"fill\":{\"color\":\"#C8D4E3\"},\"line\":{\"color\":\"white\"}},\"type\":\"table\"}]},\"layout\":{\"annotationdefaults\":{\"arrowcolor\":\"#2a3f5f\",\"arrowhead\":0,\"arrowwidth\":1},\"autotypenumbers\":\"strict\",\"coloraxis\":{\"colorbar\":{\"outlinewidth\":0,\"ticks\":\"\"}},\"colorscale\":{\"diverging\":[[0,\"#8e0152\"],[0.1,\"#c51b7d\"],[0.2,\"#de77ae\"],[0.3,\"#f1b6da\"],[0.4,\"#fde0ef\"],[0.5,\"#f7f7f7\"],[0.6,\"#e6f5d0\"],[0.7,\"#b8e186\"],[0.8,\"#7fbc41\"],[0.9,\"#4d9221\"],[1,\"#276419\"]],\"sequential\":[[0.0,\"#0d0887\"],[0.1111111111111111,\"#46039f\"],[0.2222222222222222,\"#7201a8\"],[0.3333333333333333,\"#9c179e\"],[0.4444444444444444,\"#bd3786\"],[0.5555555555555556,\"#d8576b\"],[0.6666666666666666,\"#ed7953\"],[0.7777777777777778,\"#fb9f3a\"],[0.8888888888888888,\"#fdca26\"],[1.0,\"#f0f921\"]],\"sequentialminus\":[[0.0,\"#0d0887\"],[0.1111111111111111,\"#46039f\"],[0.2222222222222222,\"#7201a8\"],[0.3333333333333333,\"#9c179e\"],[0.4444444444444444,\"#bd3786\"],[0.5555555555555556,\"#d8576b\"],[0.6666666666666666,\"#ed7953\"],[0.7777777777777778,\"#fb9f3a\"],[0.8888888888888888,\"#fdca26\"],[1.0,\"#f0f921\"]]},\"colorway\":[\"#636efa\",\"#EF553B\",\"#00cc96\",\"#ab63fa\",\"#FFA15A\",\"#19d3f3\",\"#FF6692\",\"#B6E880\",\"#FF97FF\",\"#FECB52\"],\"font\":{\"color\":\"#2a3f5f\"},\"geo\":{\"bgcolor\":\"white\",\"lakecolor\":\"white\",\"landcolor\":\"white\",\"showlakes\":true,\"showland\":true,\"subunitcolor\":\"#C8D4E3\"},\"hoverlabel\":{\"align\":\"left\"},\"hovermode\":\"closest\",\"mapbox\":{\"style\":\"light\"},\"paper_bgcolor\":\"white\",\"plot_bgcolor\":\"white\",\"polar\":{\"angularaxis\":{\"gridcolor\":\"#EBF0F8\",\"linecolor\":\"#EBF0F8\",\"ticks\":\"\"},\"bgcolor\":\"white\",\"radialaxis\":{\"gridcolor\":\"#EBF0F8\",\"linecolor\":\"#EBF0F8\",\"ticks\":\"\"}},\"scene\":{\"xaxis\":{\"backgroundcolor\":\"white\",\"gridcolor\":\"#DFE8F3\",\"gridwidth\":2,\"linecolor\":\"#EBF0F8\",\"showbackground\":true,\"ticks\":\"\",\"zerolinecolor\":\"#EBF0F8\"},\"yaxis\":{\"backgroundcolor\":\"white\",\"gridcolor\":\"#DFE8F3\",\"gridwidth\":2,\"linecolor\":\"#EBF0F8\",\"showbackground\":true,\"ticks\":\"\",\"zerolinecolor\":\"#EBF0F8\"},\"zaxis\":{\"backgroundcolor\":\"white\",\"gridcolor\":\"#DFE8F3\",\"gridwidth\":2,\"linecolor\":\"#EBF0F8\",\"showbackground\":true,\"ticks\":\"\",\"zerolinecolor\":\"#EBF0F8\"}},\"shapedefaults\":{\"line\":{\"color\":\"#2a3f5f\"}},\"ternary\":{\"aaxis\":{\"gridcolor\":\"#DFE8F3\",\"linecolor\":\"#A2B1C6\",\"ticks\":\"\"},\"baxis\":{\"gridcolor\":\"#DFE8F3\",\"linecolor\":\"#A2B1C6\",\"ticks\":\"\"},\"bgcolor\":\"white\",\"caxis\":{\"gridcolor\":\"#DFE8F3\",\"linecolor\":\"#A2B1C6\",\"ticks\":\"\"}},\"title\":{\"x\":0.05},\"xaxis\":{\"automargin\":true,\"gridcolor\":\"#EBF0F8\",\"linecolor\":\"#EBF0F8\",\"ticks\":\"\",\"title\":{\"standoff\":15},\"zerolinecolor\":\"#EBF0F8\",\"zerolinewidth\":2},\"yaxis\":{\"automargin\":true,\"gridcolor\":\"#EBF0F8\",\"linecolor\":\"#EBF0F8\",\"ticks\":\"\",\"title\":{\"standoff\":15},\"zerolinecolor\":\"#EBF0F8\",\"zerolinewidth\":2}}},\"title\":{\"text\":\"Book-Rating\",\"x\":0.5,\"xanchor\":\"center\",\"y\":0.9,\"yanchor\":\"top\"},\"xaxis\":{\"anchor\":\"y\",\"domain\":[0.0,0.45]},\"yaxis\":{\"anchor\":\"x\",\"domain\":[0.0,1.0]}},                        {\"responsive\": true}                    ).then(function(){\n",
       "                            \n",
       "var gd = document.getElementById('70a0f752-69ca-4051-bdd8-860d943dd51b');\n",
       "var x = new MutationObserver(function (mutations, observer) {{\n",
       "        var display = window.getComputedStyle(gd).display;\n",
       "        if (!display || display === 'none') {{\n",
       "            console.log([gd, 'removed!']);\n",
       "            Plotly.purge(gd);\n",
       "            observer.disconnect();\n",
       "        }}\n",
       "}});\n",
       "\n",
       "// Listen for the removal of the full notebook cells\n",
       "var notebookContainer = gd.closest('#notebook-container');\n",
       "if (notebookContainer) {{\n",
       "    x.observe(notebookContainer, {childList: true});\n",
       "}}\n",
       "\n",
       "// Listen for the clearing of the current output cell\n",
       "var outputEl = gd.closest('.output');\n",
       "if (outputEl) {{\n",
       "    x.observe(outputEl, {childList: true});\n",
       "}}\n",
       "\n",
       "                        })                };                });            </script>        </div>"
      ]
     },
     "metadata": {},
     "output_type": "display_data"
    }
   ],
   "source": [
    "cat_summary_with_graph(books_with_ratings, 'Book-Rating')"
   ]
  },
  {
   "cell_type": "markdown",
   "metadata": {},
   "source": [
    "**Now let's see the average rating of the books of the top 20 authors**"
   ]
  },
  {
   "cell_type": "markdown",
   "metadata": {},
   "source": [
    "**First we are returning the top 20 authors in the data**"
   ]
  },
  {
   "cell_type": "code",
   "execution_count": 58,
   "metadata": {
    "execution": {
     "iopub.execute_input": "2023-04-26T00:04:10.040675Z",
     "iopub.status.busy": "2023-04-26T00:04:10.040204Z",
     "iopub.status.idle": "2023-04-26T00:04:10.155228Z",
     "shell.execute_reply": "2023-04-26T00:04:10.153702Z",
     "shell.execute_reply.started": "2023-04-26T00:04:10.040613Z"
    }
   },
   "outputs": [],
   "source": [
    "authors_top20 = books['Book-Author'].value_counts().head(20)\n",
    "authors_top20 = list(authors_top20.index)"
   ]
  },
  {
   "cell_type": "markdown",
   "metadata": {},
   "source": [
    "**then we are droping the null values (there are only 3 null values in the data so it is safely to drop them and this step is a must for pandas filtering in next cell)**"
   ]
  },
  {
   "cell_type": "code",
   "execution_count": 59,
   "metadata": {
    "execution": {
     "iopub.execute_input": "2023-04-26T00:04:10.157374Z",
     "iopub.status.busy": "2023-04-26T00:04:10.157009Z",
     "iopub.status.idle": "2023-04-26T00:04:10.973373Z",
     "shell.execute_reply": "2023-04-26T00:04:10.972176Z",
     "shell.execute_reply.started": "2023-04-26T00:04:10.157336Z"
    }
   },
   "outputs": [],
   "source": [
    "books_with_ratings.dropna(inplace=True)"
   ]
  },
  {
   "cell_type": "code",
   "execution_count": 60,
   "metadata": {
    "execution": {
     "iopub.execute_input": "2023-04-26T00:04:10.977808Z",
     "iopub.status.busy": "2023-04-26T00:04:10.977406Z",
     "iopub.status.idle": "2023-04-26T00:04:12.563835Z",
     "shell.execute_reply": "2023-04-26T00:04:12.562453Z",
     "shell.execute_reply.started": "2023-04-26T00:04:10.977765Z"
    }
   },
   "outputs": [],
   "source": [
    "top20_authors = pd.DataFrame(columns = books_with_ratings.columns)\n",
    "\n",
    "for author in authors_top20:\n",
    "    \n",
    "    cond_df = books_with_ratings[books_with_ratings['Book-Author'] == author]\n",
    "    \n",
    "    top20_authors =  pd.concat([top20_authors, cond_df], axis=0)\n",
    "    \n",
    "    "
   ]
  },
  {
   "cell_type": "markdown",
   "metadata": {},
   "source": [
    "**we have returned the top 20 authors succssefully!!**<br>\n",
    "**so the top20_authors df contains only 20 authors**"
   ]
  },
  {
   "cell_type": "code",
   "execution_count": 61,
   "metadata": {
    "execution": {
     "iopub.execute_input": "2023-04-26T00:04:12.565582Z",
     "iopub.status.busy": "2023-04-26T00:04:12.565243Z",
     "iopub.status.idle": "2023-04-26T00:04:12.574237Z",
     "shell.execute_reply": "2023-04-26T00:04:12.572996Z",
     "shell.execute_reply.started": "2023-04-26T00:04:12.565546Z"
    }
   },
   "outputs": [
    {
     "data": {
      "text/plain": [
       "(45234, 10)"
      ]
     },
     "execution_count": 61,
     "metadata": {},
     "output_type": "execute_result"
    }
   ],
   "source": [
    "top20_authors.shape"
   ]
  },
  {
   "cell_type": "markdown",
   "metadata": {},
   "source": [
    "**There is no 0 rating, ratings is from 1-10 scale, then 0 means the book is not rated that it is not rated**<br>\n",
    "**so we are excluding the zero rating from our data**"
   ]
  },
  {
   "cell_type": "code",
   "execution_count": 62,
   "metadata": {
    "execution": {
     "iopub.execute_input": "2023-04-26T00:04:12.576489Z",
     "iopub.status.busy": "2023-04-26T00:04:12.576006Z",
     "iopub.status.idle": "2023-04-26T00:04:12.607735Z",
     "shell.execute_reply": "2023-04-26T00:04:12.606707Z",
     "shell.execute_reply.started": "2023-04-26T00:04:12.576433Z"
    }
   },
   "outputs": [],
   "source": [
    "top20_author = top20_authors[top20_authors['Book-Rating'] != 0]"
   ]
  },
  {
   "cell_type": "code",
   "execution_count": 63,
   "metadata": {
    "execution": {
     "iopub.execute_input": "2023-04-26T00:04:12.609996Z",
     "iopub.status.busy": "2023-04-26T00:04:12.609630Z",
     "iopub.status.idle": "2023-04-26T00:04:12.618542Z",
     "shell.execute_reply": "2023-04-26T00:04:12.617175Z",
     "shell.execute_reply.started": "2023-04-26T00:04:12.609961Z"
    }
   },
   "outputs": [
    {
     "data": {
      "text/plain": [
       "(16871, 10)"
      ]
     },
     "execution_count": 63,
     "metadata": {},
     "output_type": "execute_result"
    }
   ],
   "source": [
    "top20_author.shape"
   ]
  },
  {
   "cell_type": "markdown",
   "metadata": {},
   "source": [
    "**all set! lets now return the mean rating of all the 20 authors**"
   ]
  },
  {
   "cell_type": "code",
   "execution_count": 64,
   "metadata": {
    "execution": {
     "iopub.execute_input": "2023-04-26T00:04:12.625194Z",
     "iopub.status.busy": "2023-04-26T00:04:12.620806Z",
     "iopub.status.idle": "2023-04-26T00:04:12.653771Z",
     "shell.execute_reply": "2023-04-26T00:04:12.652842Z",
     "shell.execute_reply.started": "2023-04-26T00:04:12.625138Z"
    }
   },
   "outputs": [
    {
     "data": {
      "text/html": [
       "<div>\n",
       "<style scoped>\n",
       "    .dataframe tbody tr th:only-of-type {\n",
       "        vertical-align: middle;\n",
       "    }\n",
       "\n",
       "    .dataframe tbody tr th {\n",
       "        vertical-align: top;\n",
       "    }\n",
       "\n",
       "    .dataframe thead th {\n",
       "        text-align: right;\n",
       "    }\n",
       "</style>\n",
       "<table border=\"1\" class=\"dataframe\">\n",
       "  <thead>\n",
       "    <tr style=\"text-align: right;\">\n",
       "      <th></th>\n",
       "      <th>Book-Author</th>\n",
       "      <th>Book-Rating</th>\n",
       "    </tr>\n",
       "  </thead>\n",
       "  <tbody>\n",
       "    <tr>\n",
       "      <th>19</th>\n",
       "      <td>William Shakespeare</td>\n",
       "      <td>8.303357</td>\n",
       "    </tr>\n",
       "    <tr>\n",
       "      <th>11</th>\n",
       "      <td>Mark Twain</td>\n",
       "      <td>8.284507</td>\n",
       "    </tr>\n",
       "    <tr>\n",
       "      <th>8</th>\n",
       "      <td>Jane Austen</td>\n",
       "      <td>8.187595</td>\n",
       "    </tr>\n",
       "    <tr>\n",
       "      <th>18</th>\n",
       "      <td>Terry Pratchett</td>\n",
       "      <td>8.151177</td>\n",
       "    </tr>\n",
       "    <tr>\n",
       "      <th>14</th>\n",
       "      <td>Not Applicable (Na )</td>\n",
       "      <td>8.094340</td>\n",
       "    </tr>\n",
       "    <tr>\n",
       "      <th>7</th>\n",
       "      <td>Isaac Asimov</td>\n",
       "      <td>7.915167</td>\n",
       "    </tr>\n",
       "    <tr>\n",
       "      <th>3</th>\n",
       "      <td>Carolyn Keene</td>\n",
       "      <td>7.823529</td>\n",
       "    </tr>\n",
       "    <tr>\n",
       "      <th>17</th>\n",
       "      <td>Stephen King</td>\n",
       "      <td>7.815046</td>\n",
       "    </tr>\n",
       "    <tr>\n",
       "      <th>0</th>\n",
       "      <td>Agatha Christie</td>\n",
       "      <td>7.792102</td>\n",
       "    </tr>\n",
       "    <tr>\n",
       "      <th>4</th>\n",
       "      <td>Charles Dickens</td>\n",
       "      <td>7.762836</td>\n",
       "    </tr>\n",
       "    <tr>\n",
       "      <th>15</th>\n",
       "      <td>Piers Anthony</td>\n",
       "      <td>7.642570</td>\n",
       "    </tr>\n",
       "    <tr>\n",
       "      <th>10</th>\n",
       "      <td>Marion Zimmer Bradley</td>\n",
       "      <td>7.635371</td>\n",
       "    </tr>\n",
       "    <tr>\n",
       "      <th>13</th>\n",
       "      <td>Nora Roberts</td>\n",
       "      <td>7.629680</td>\n",
       "    </tr>\n",
       "    <tr>\n",
       "      <th>12</th>\n",
       "      <td>Mary Higgins Clark</td>\n",
       "      <td>7.503280</td>\n",
       "    </tr>\n",
       "    <tr>\n",
       "      <th>9</th>\n",
       "      <td>Janet Dailey</td>\n",
       "      <td>7.371429</td>\n",
       "    </tr>\n",
       "    <tr>\n",
       "      <th>6</th>\n",
       "      <td>Franklin W. Dixon</td>\n",
       "      <td>7.038462</td>\n",
       "    </tr>\n",
       "    <tr>\n",
       "      <th>16</th>\n",
       "      <td>R. L. Stine</td>\n",
       "      <td>6.859259</td>\n",
       "    </tr>\n",
       "    <tr>\n",
       "      <th>1</th>\n",
       "      <td>Ann M. Martin</td>\n",
       "      <td>6.708333</td>\n",
       "    </tr>\n",
       "    <tr>\n",
       "      <th>5</th>\n",
       "      <td>Francine Pascal</td>\n",
       "      <td>6.659091</td>\n",
       "    </tr>\n",
       "    <tr>\n",
       "      <th>2</th>\n",
       "      <td>Barbara Cartland</td>\n",
       "      <td>5.041812</td>\n",
       "    </tr>\n",
       "  </tbody>\n",
       "</table>\n",
       "</div>"
      ],
      "text/plain": [
       "              Book-Author  Book-Rating\n",
       "19    William Shakespeare     8.303357\n",
       "11             Mark Twain     8.284507\n",
       "8             Jane Austen     8.187595\n",
       "18        Terry Pratchett     8.151177\n",
       "14   Not Applicable (Na )     8.094340\n",
       "7            Isaac Asimov     7.915167\n",
       "3           Carolyn Keene     7.823529\n",
       "17           Stephen King     7.815046\n",
       "0         Agatha Christie     7.792102\n",
       "4         Charles Dickens     7.762836\n",
       "15          Piers Anthony     7.642570\n",
       "10  Marion Zimmer Bradley     7.635371\n",
       "13           Nora Roberts     7.629680\n",
       "12     Mary Higgins Clark     7.503280\n",
       "9            Janet Dailey     7.371429\n",
       "6       Franklin W. Dixon     7.038462\n",
       "16            R. L. Stine     6.859259\n",
       "1           Ann M. Martin     6.708333\n",
       "5         Francine Pascal     6.659091\n",
       "2        Barbara Cartland     5.041812"
      ]
     },
     "execution_count": 64,
     "metadata": {},
     "output_type": "execute_result"
    }
   ],
   "source": [
    "top20_author = top20_author.groupby('Book-Author')['Book-Rating'].agg('mean').reset_index().sort_values(by='Book-Rating', ascending=False)\n",
    "top20_author"
   ]
  },
  {
   "cell_type": "markdown",
   "metadata": {},
   "source": [
    "**now lets visualize it!**"
   ]
  },
  {
   "cell_type": "code",
   "execution_count": 65,
   "metadata": {
    "execution": {
     "iopub.execute_input": "2023-04-26T00:04:12.655961Z",
     "iopub.status.busy": "2023-04-26T00:04:12.655478Z",
     "iopub.status.idle": "2023-04-26T00:04:12.725793Z",
     "shell.execute_reply": "2023-04-26T00:04:12.724365Z",
     "shell.execute_reply.started": "2023-04-26T00:04:12.655892Z"
    }
   },
   "outputs": [
    {
     "data": {
      "text/html": [
       "<div>                            <div id=\"46d066c6-2805-46dd-9fc7-cb28a201b417\" class=\"plotly-graph-div\" style=\"height:525px; width:100%;\"></div>            <script type=\"text/javascript\">                require([\"plotly\"], function(Plotly) {                    window.PLOTLYENV=window.PLOTLYENV || {};                                    if (document.getElementById(\"46d066c6-2805-46dd-9fc7-cb28a201b417\")) {                    Plotly.newPlot(                        \"46d066c6-2805-46dd-9fc7-cb28a201b417\",                        [{\"alignmentgroup\":\"True\",\"hovertemplate\":\"x=%{x}<br>y=%{y}<br>text=%{text}<extra></extra>\",\"legendgroup\":\"\",\"marker\":{\"color\":\"rgb(255,247,251)\",\"pattern\":{\"shape\":\"\"}},\"name\":\"\",\"offsetgroup\":\"\",\"orientation\":\"v\",\"showlegend\":false,\"text\":[8.3,8.28,8.19,8.15,8.09,7.92,7.82,7.82,7.79,7.76,7.64,7.64,7.63,7.5,7.37,7.04,6.86,6.71,6.66,5.04],\"textposition\":\"auto\",\"x\":[\"William Shakespeare\",\"Mark Twain\",\"Jane Austen\",\"Terry Pratchett\",\"Not Applicable (Na )\",\"Isaac Asimov\",\"Carolyn Keene\",\"Stephen King\",\"Agatha Christie\",\"Charles Dickens\",\"Piers Anthony\",\"Marion Zimmer Bradley\",\"Nora Roberts\",\"Mary Higgins Clark\",\"Janet Dailey\",\"Franklin W. Dixon\",\"R. L. Stine\",\"Ann M. Martin\",\"Francine Pascal\",\"Barbara Cartland\"],\"xaxis\":\"x\",\"y\":[8.30335731414868,8.284507042253521,8.187594553706505,8.151177199504337,8.09433962264151,7.915167095115681,7.823529411764706,7.815046346195301,7.792102206736353,7.762836185819071,7.642570281124498,7.635371179039302,7.629680054458816,7.503279666070363,7.371428571428571,7.038461538461538,6.859259259259259,6.708333333333333,6.659090909090909,5.041811846689895],\"yaxis\":\"y\",\"type\":\"bar\"}],                        {\"template\":{\"data\":{\"barpolar\":[{\"marker\":{\"line\":{\"color\":\"rgb(17,17,17)\",\"width\":0.5},\"pattern\":{\"fillmode\":\"overlay\",\"size\":10,\"solidity\":0.2}},\"type\":\"barpolar\"}],\"bar\":[{\"error_x\":{\"color\":\"#f2f5fa\"},\"error_y\":{\"color\":\"#f2f5fa\"},\"marker\":{\"line\":{\"color\":\"rgb(17,17,17)\",\"width\":0.5},\"pattern\":{\"fillmode\":\"overlay\",\"size\":10,\"solidity\":0.2}},\"type\":\"bar\"}],\"carpet\":[{\"aaxis\":{\"endlinecolor\":\"#A2B1C6\",\"gridcolor\":\"#506784\",\"linecolor\":\"#506784\",\"minorgridcolor\":\"#506784\",\"startlinecolor\":\"#A2B1C6\"},\"baxis\":{\"endlinecolor\":\"#A2B1C6\",\"gridcolor\":\"#506784\",\"linecolor\":\"#506784\",\"minorgridcolor\":\"#506784\",\"startlinecolor\":\"#A2B1C6\"},\"type\":\"carpet\"}],\"choropleth\":[{\"colorbar\":{\"outlinewidth\":0,\"ticks\":\"\"},\"type\":\"choropleth\"}],\"contourcarpet\":[{\"colorbar\":{\"outlinewidth\":0,\"ticks\":\"\"},\"type\":\"contourcarpet\"}],\"contour\":[{\"colorbar\":{\"outlinewidth\":0,\"ticks\":\"\"},\"colorscale\":[[0.0,\"#0d0887\"],[0.1111111111111111,\"#46039f\"],[0.2222222222222222,\"#7201a8\"],[0.3333333333333333,\"#9c179e\"],[0.4444444444444444,\"#bd3786\"],[0.5555555555555556,\"#d8576b\"],[0.6666666666666666,\"#ed7953\"],[0.7777777777777778,\"#fb9f3a\"],[0.8888888888888888,\"#fdca26\"],[1.0,\"#f0f921\"]],\"type\":\"contour\"}],\"heatmapgl\":[{\"colorbar\":{\"outlinewidth\":0,\"ticks\":\"\"},\"colorscale\":[[0.0,\"#0d0887\"],[0.1111111111111111,\"#46039f\"],[0.2222222222222222,\"#7201a8\"],[0.3333333333333333,\"#9c179e\"],[0.4444444444444444,\"#bd3786\"],[0.5555555555555556,\"#d8576b\"],[0.6666666666666666,\"#ed7953\"],[0.7777777777777778,\"#fb9f3a\"],[0.8888888888888888,\"#fdca26\"],[1.0,\"#f0f921\"]],\"type\":\"heatmapgl\"}],\"heatmap\":[{\"colorbar\":{\"outlinewidth\":0,\"ticks\":\"\"},\"colorscale\":[[0.0,\"#0d0887\"],[0.1111111111111111,\"#46039f\"],[0.2222222222222222,\"#7201a8\"],[0.3333333333333333,\"#9c179e\"],[0.4444444444444444,\"#bd3786\"],[0.5555555555555556,\"#d8576b\"],[0.6666666666666666,\"#ed7953\"],[0.7777777777777778,\"#fb9f3a\"],[0.8888888888888888,\"#fdca26\"],[1.0,\"#f0f921\"]],\"type\":\"heatmap\"}],\"histogram2dcontour\":[{\"colorbar\":{\"outlinewidth\":0,\"ticks\":\"\"},\"colorscale\":[[0.0,\"#0d0887\"],[0.1111111111111111,\"#46039f\"],[0.2222222222222222,\"#7201a8\"],[0.3333333333333333,\"#9c179e\"],[0.4444444444444444,\"#bd3786\"],[0.5555555555555556,\"#d8576b\"],[0.6666666666666666,\"#ed7953\"],[0.7777777777777778,\"#fb9f3a\"],[0.8888888888888888,\"#fdca26\"],[1.0,\"#f0f921\"]],\"type\":\"histogram2dcontour\"}],\"histogram2d\":[{\"colorbar\":{\"outlinewidth\":0,\"ticks\":\"\"},\"colorscale\":[[0.0,\"#0d0887\"],[0.1111111111111111,\"#46039f\"],[0.2222222222222222,\"#7201a8\"],[0.3333333333333333,\"#9c179e\"],[0.4444444444444444,\"#bd3786\"],[0.5555555555555556,\"#d8576b\"],[0.6666666666666666,\"#ed7953\"],[0.7777777777777778,\"#fb9f3a\"],[0.8888888888888888,\"#fdca26\"],[1.0,\"#f0f921\"]],\"type\":\"histogram2d\"}],\"histogram\":[{\"marker\":{\"pattern\":{\"fillmode\":\"overlay\",\"size\":10,\"solidity\":0.2}},\"type\":\"histogram\"}],\"mesh3d\":[{\"colorbar\":{\"outlinewidth\":0,\"ticks\":\"\"},\"type\":\"mesh3d\"}],\"parcoords\":[{\"line\":{\"colorbar\":{\"outlinewidth\":0,\"ticks\":\"\"}},\"type\":\"parcoords\"}],\"pie\":[{\"automargin\":true,\"type\":\"pie\"}],\"scatter3d\":[{\"line\":{\"colorbar\":{\"outlinewidth\":0,\"ticks\":\"\"}},\"marker\":{\"colorbar\":{\"outlinewidth\":0,\"ticks\":\"\"}},\"type\":\"scatter3d\"}],\"scattercarpet\":[{\"marker\":{\"colorbar\":{\"outlinewidth\":0,\"ticks\":\"\"}},\"type\":\"scattercarpet\"}],\"scattergeo\":[{\"marker\":{\"colorbar\":{\"outlinewidth\":0,\"ticks\":\"\"}},\"type\":\"scattergeo\"}],\"scattergl\":[{\"marker\":{\"line\":{\"color\":\"#283442\"}},\"type\":\"scattergl\"}],\"scattermapbox\":[{\"marker\":{\"colorbar\":{\"outlinewidth\":0,\"ticks\":\"\"}},\"type\":\"scattermapbox\"}],\"scatterpolargl\":[{\"marker\":{\"colorbar\":{\"outlinewidth\":0,\"ticks\":\"\"}},\"type\":\"scatterpolargl\"}],\"scatterpolar\":[{\"marker\":{\"colorbar\":{\"outlinewidth\":0,\"ticks\":\"\"}},\"type\":\"scatterpolar\"}],\"scatter\":[{\"marker\":{\"line\":{\"color\":\"#283442\"}},\"type\":\"scatter\"}],\"scatterternary\":[{\"marker\":{\"colorbar\":{\"outlinewidth\":0,\"ticks\":\"\"}},\"type\":\"scatterternary\"}],\"surface\":[{\"colorbar\":{\"outlinewidth\":0,\"ticks\":\"\"},\"colorscale\":[[0.0,\"#0d0887\"],[0.1111111111111111,\"#46039f\"],[0.2222222222222222,\"#7201a8\"],[0.3333333333333333,\"#9c179e\"],[0.4444444444444444,\"#bd3786\"],[0.5555555555555556,\"#d8576b\"],[0.6666666666666666,\"#ed7953\"],[0.7777777777777778,\"#fb9f3a\"],[0.8888888888888888,\"#fdca26\"],[1.0,\"#f0f921\"]],\"type\":\"surface\"}],\"table\":[{\"cells\":{\"fill\":{\"color\":\"#506784\"},\"line\":{\"color\":\"rgb(17,17,17)\"}},\"header\":{\"fill\":{\"color\":\"#2a3f5f\"},\"line\":{\"color\":\"rgb(17,17,17)\"}},\"type\":\"table\"}]},\"layout\":{\"annotationdefaults\":{\"arrowcolor\":\"#f2f5fa\",\"arrowhead\":0,\"arrowwidth\":1},\"autotypenumbers\":\"strict\",\"coloraxis\":{\"colorbar\":{\"outlinewidth\":0,\"ticks\":\"\"}},\"colorscale\":{\"diverging\":[[0,\"#8e0152\"],[0.1,\"#c51b7d\"],[0.2,\"#de77ae\"],[0.3,\"#f1b6da\"],[0.4,\"#fde0ef\"],[0.5,\"#f7f7f7\"],[0.6,\"#e6f5d0\"],[0.7,\"#b8e186\"],[0.8,\"#7fbc41\"],[0.9,\"#4d9221\"],[1,\"#276419\"]],\"sequential\":[[0.0,\"#0d0887\"],[0.1111111111111111,\"#46039f\"],[0.2222222222222222,\"#7201a8\"],[0.3333333333333333,\"#9c179e\"],[0.4444444444444444,\"#bd3786\"],[0.5555555555555556,\"#d8576b\"],[0.6666666666666666,\"#ed7953\"],[0.7777777777777778,\"#fb9f3a\"],[0.8888888888888888,\"#fdca26\"],[1.0,\"#f0f921\"]],\"sequentialminus\":[[0.0,\"#0d0887\"],[0.1111111111111111,\"#46039f\"],[0.2222222222222222,\"#7201a8\"],[0.3333333333333333,\"#9c179e\"],[0.4444444444444444,\"#bd3786\"],[0.5555555555555556,\"#d8576b\"],[0.6666666666666666,\"#ed7953\"],[0.7777777777777778,\"#fb9f3a\"],[0.8888888888888888,\"#fdca26\"],[1.0,\"#f0f921\"]]},\"colorway\":[\"#636efa\",\"#EF553B\",\"#00cc96\",\"#ab63fa\",\"#FFA15A\",\"#19d3f3\",\"#FF6692\",\"#B6E880\",\"#FF97FF\",\"#FECB52\"],\"font\":{\"color\":\"#f2f5fa\"},\"geo\":{\"bgcolor\":\"rgb(17,17,17)\",\"lakecolor\":\"rgb(17,17,17)\",\"landcolor\":\"rgb(17,17,17)\",\"showlakes\":true,\"showland\":true,\"subunitcolor\":\"#506784\"},\"hoverlabel\":{\"align\":\"left\"},\"hovermode\":\"closest\",\"mapbox\":{\"style\":\"dark\"},\"paper_bgcolor\":\"rgb(17,17,17)\",\"plot_bgcolor\":\"rgb(17,17,17)\",\"polar\":{\"angularaxis\":{\"gridcolor\":\"#506784\",\"linecolor\":\"#506784\",\"ticks\":\"\"},\"bgcolor\":\"rgb(17,17,17)\",\"radialaxis\":{\"gridcolor\":\"#506784\",\"linecolor\":\"#506784\",\"ticks\":\"\"}},\"scene\":{\"xaxis\":{\"backgroundcolor\":\"rgb(17,17,17)\",\"gridcolor\":\"#506784\",\"gridwidth\":2,\"linecolor\":\"#506784\",\"showbackground\":true,\"ticks\":\"\",\"zerolinecolor\":\"#C8D4E3\"},\"yaxis\":{\"backgroundcolor\":\"rgb(17,17,17)\",\"gridcolor\":\"#506784\",\"gridwidth\":2,\"linecolor\":\"#506784\",\"showbackground\":true,\"ticks\":\"\",\"zerolinecolor\":\"#C8D4E3\"},\"zaxis\":{\"backgroundcolor\":\"rgb(17,17,17)\",\"gridcolor\":\"#506784\",\"gridwidth\":2,\"linecolor\":\"#506784\",\"showbackground\":true,\"ticks\":\"\",\"zerolinecolor\":\"#C8D4E3\"}},\"shapedefaults\":{\"line\":{\"color\":\"#f2f5fa\"}},\"sliderdefaults\":{\"bgcolor\":\"#C8D4E3\",\"bordercolor\":\"rgb(17,17,17)\",\"borderwidth\":1,\"tickwidth\":0},\"ternary\":{\"aaxis\":{\"gridcolor\":\"#506784\",\"linecolor\":\"#506784\",\"ticks\":\"\"},\"baxis\":{\"gridcolor\":\"#506784\",\"linecolor\":\"#506784\",\"ticks\":\"\"},\"bgcolor\":\"rgb(17,17,17)\",\"caxis\":{\"gridcolor\":\"#506784\",\"linecolor\":\"#506784\",\"ticks\":\"\"}},\"title\":{\"x\":0.05},\"updatemenudefaults\":{\"bgcolor\":\"#506784\",\"borderwidth\":0},\"xaxis\":{\"automargin\":true,\"gridcolor\":\"#283442\",\"linecolor\":\"#506784\",\"ticks\":\"\",\"title\":{\"standoff\":15},\"zerolinecolor\":\"#283442\",\"zerolinewidth\":2},\"yaxis\":{\"automargin\":true,\"gridcolor\":\"#283442\",\"linecolor\":\"#506784\",\"ticks\":\"\",\"title\":{\"standoff\":15},\"zerolinecolor\":\"#283442\",\"zerolinewidth\":2}}},\"xaxis\":{\"anchor\":\"y\",\"domain\":[0.0,1.0],\"title\":{\"text\":\"author name\"}},\"yaxis\":{\"anchor\":\"x\",\"domain\":[0.0,1.0],\"title\":{\"text\":\"average rating\"}},\"legend\":{\"tracegroupgap\":0},\"title\":{\"text\":\"Average ratings of the books of the Top 20 authors\"},\"barmode\":\"relative\",\"font\":{\"size\":15,\"family\":\"Franklin Gothic\"}},                        {\"responsive\": true}                    ).then(function(){\n",
       "                            \n",
       "var gd = document.getElementById('46d066c6-2805-46dd-9fc7-cb28a201b417');\n",
       "var x = new MutationObserver(function (mutations, observer) {{\n",
       "        var display = window.getComputedStyle(gd).display;\n",
       "        if (!display || display === 'none') {{\n",
       "            console.log([gd, 'removed!']);\n",
       "            Plotly.purge(gd);\n",
       "            observer.disconnect();\n",
       "        }}\n",
       "}});\n",
       "\n",
       "// Listen for the removal of the full notebook cells\n",
       "var notebookContainer = gd.closest('#notebook-container');\n",
       "if (notebookContainer) {{\n",
       "    x.observe(notebookContainer, {childList: true});\n",
       "}}\n",
       "\n",
       "// Listen for the clearing of the current output cell\n",
       "var outputEl = gd.closest('.output');\n",
       "if (outputEl) {{\n",
       "    x.observe(outputEl, {childList: true});\n",
       "}}\n",
       "\n",
       "                        })                };                });            </script>        </div>"
      ]
     },
     "metadata": {},
     "output_type": "display_data"
    }
   ],
   "source": [
    "fig = px.bar(y=top20_author['Book-Rating'], \n",
    "             x=top20_author['Book-Author'], \n",
    "             color_discrete_sequence=px.colors.sequential.PuBuGn,\n",
    "             text=round(top20_author['Book-Rating'],2),\n",
    "             title= \"Average ratings of the books of the Top 20 authors\",\n",
    "             template= 'plotly_dark')\n",
    "fig.update_layout(\n",
    "    xaxis_title=\"author name\",\n",
    "    yaxis_title=\"average rating\",\n",
    "    font = dict(size=15,family=\"Franklin Gothic\"))\n",
    "fig.show()"
   ]
  },
  {
   "cell_type": "markdown",
   "metadata": {},
   "source": [
    "**William Shakespeare is the top rated author!!**"
   ]
  },
  {
   "cell_type": "markdown",
   "metadata": {},
   "source": [
    "**Now let's see the average rating of the books of the top 20 publishersو so we are going to repeat the same steps**"
   ]
  },
  {
   "cell_type": "code",
   "execution_count": 66,
   "metadata": {
    "execution": {
     "iopub.execute_input": "2023-04-26T00:04:12.727965Z",
     "iopub.status.busy": "2023-04-26T00:04:12.727597Z",
     "iopub.status.idle": "2023-04-26T00:04:15.101763Z",
     "shell.execute_reply": "2023-04-26T00:04:15.100441Z",
     "shell.execute_reply.started": "2023-04-26T00:04:12.727929Z"
    }
   },
   "outputs": [
    {
     "data": {
      "text/html": [
       "<div>\n",
       "<style scoped>\n",
       "    .dataframe tbody tr th:only-of-type {\n",
       "        vertical-align: middle;\n",
       "    }\n",
       "\n",
       "    .dataframe tbody tr th {\n",
       "        vertical-align: top;\n",
       "    }\n",
       "\n",
       "    .dataframe thead th {\n",
       "        text-align: right;\n",
       "    }\n",
       "</style>\n",
       "<table border=\"1\" class=\"dataframe\">\n",
       "  <thead>\n",
       "    <tr style=\"text-align: right;\">\n",
       "      <th></th>\n",
       "      <th>Publisher</th>\n",
       "      <th>Book-Rating</th>\n",
       "    </tr>\n",
       "  </thead>\n",
       "  <tbody>\n",
       "    <tr>\n",
       "      <th>11</th>\n",
       "      <td>Scholastic</td>\n",
       "      <td>7.818161</td>\n",
       "    </tr>\n",
       "    <tr>\n",
       "      <th>7</th>\n",
       "      <td>Penguin Books</td>\n",
       "      <td>7.773789</td>\n",
       "    </tr>\n",
       "    <tr>\n",
       "      <th>17</th>\n",
       "      <td>Tor Books</td>\n",
       "      <td>7.686075</td>\n",
       "    </tr>\n",
       "    <tr>\n",
       "      <th>0</th>\n",
       "      <td>Ballantine Books</td>\n",
       "      <td>7.610437</td>\n",
       "    </tr>\n",
       "    <tr>\n",
       "      <th>16</th>\n",
       "      <td>St. Martin's Press</td>\n",
       "      <td>7.596059</td>\n",
       "    </tr>\n",
       "    <tr>\n",
       "      <th>12</th>\n",
       "      <td>Signet Book</td>\n",
       "      <td>7.591292</td>\n",
       "    </tr>\n",
       "    <tr>\n",
       "      <th>5</th>\n",
       "      <td>HarperCollins Publishers</td>\n",
       "      <td>7.584115</td>\n",
       "    </tr>\n",
       "    <tr>\n",
       "      <th>9</th>\n",
       "      <td>Pocket</td>\n",
       "      <td>7.564115</td>\n",
       "    </tr>\n",
       "    <tr>\n",
       "      <th>18</th>\n",
       "      <td>Warner Books</td>\n",
       "      <td>7.543623</td>\n",
       "    </tr>\n",
       "    <tr>\n",
       "      <th>14</th>\n",
       "      <td>Simon &amp;amp; Schuster</td>\n",
       "      <td>7.522894</td>\n",
       "    </tr>\n",
       "    <tr>\n",
       "      <th>1</th>\n",
       "      <td>Bantam Books</td>\n",
       "      <td>7.520811</td>\n",
       "    </tr>\n",
       "    <tr>\n",
       "      <th>8</th>\n",
       "      <td>Penguin USA</td>\n",
       "      <td>7.481596</td>\n",
       "    </tr>\n",
       "    <tr>\n",
       "      <th>3</th>\n",
       "      <td>Fawcett Books</td>\n",
       "      <td>7.477845</td>\n",
       "    </tr>\n",
       "    <tr>\n",
       "      <th>6</th>\n",
       "      <td>Harpercollins</td>\n",
       "      <td>7.449576</td>\n",
       "    </tr>\n",
       "    <tr>\n",
       "      <th>2</th>\n",
       "      <td>Berkley Publishing Group</td>\n",
       "      <td>7.443836</td>\n",
       "    </tr>\n",
       "    <tr>\n",
       "      <th>10</th>\n",
       "      <td>Random House Inc</td>\n",
       "      <td>7.364574</td>\n",
       "    </tr>\n",
       "    <tr>\n",
       "      <th>15</th>\n",
       "      <td>St Martins Pr</td>\n",
       "      <td>7.264090</td>\n",
       "    </tr>\n",
       "    <tr>\n",
       "      <th>13</th>\n",
       "      <td>Silhouette</td>\n",
       "      <td>7.239616</td>\n",
       "    </tr>\n",
       "    <tr>\n",
       "      <th>4</th>\n",
       "      <td>Harlequin</td>\n",
       "      <td>7.170115</td>\n",
       "    </tr>\n",
       "    <tr>\n",
       "      <th>19</th>\n",
       "      <td>Zebra Books</td>\n",
       "      <td>7.089198</td>\n",
       "    </tr>\n",
       "  </tbody>\n",
       "</table>\n",
       "</div>"
      ],
      "text/plain": [
       "                   Publisher  Book-Rating\n",
       "11                Scholastic     7.818161\n",
       "7              Penguin Books     7.773789\n",
       "17                 Tor Books     7.686075\n",
       "0           Ballantine Books     7.610437\n",
       "16        St. Martin's Press     7.596059\n",
       "12               Signet Book     7.591292\n",
       "5   HarperCollins Publishers     7.584115\n",
       "9                     Pocket     7.564115\n",
       "18              Warner Books     7.543623\n",
       "14      Simon &amp; Schuster     7.522894\n",
       "1               Bantam Books     7.520811\n",
       "8                Penguin USA     7.481596\n",
       "3              Fawcett Books     7.477845\n",
       "6              Harpercollins     7.449576\n",
       "2   Berkley Publishing Group     7.443836\n",
       "10          Random House Inc     7.364574\n",
       "15             St Martins Pr     7.264090\n",
       "13                Silhouette     7.239616\n",
       "4                  Harlequin     7.170115\n",
       "19               Zebra Books     7.089198"
      ]
     },
     "execution_count": 66,
     "metadata": {},
     "output_type": "execute_result"
    }
   ],
   "source": [
    "publishers_top20 = books['Publisher'].value_counts().head(20)\n",
    "publishers_top20 = list(publishers_top20.index)\n",
    "\n",
    "top20_publishers = pd.DataFrame(columns = books_with_ratings.columns)\n",
    "\n",
    "for pub in publishers_top20:\n",
    "    \n",
    "    cond_df = books_with_ratings[books_with_ratings['Publisher'] == pub]\n",
    "    \n",
    "    top20_publishers =  pd.concat([top20_publishers, cond_df], axis=0)\n",
    "    \n",
    "    \n",
    "top20_publishers = top20_publishers[top20_publishers['Book-Rating'] != 0]\n",
    "top20_publishers = top20_publishers.groupby('Publisher')['Book-Rating'].agg('mean').reset_index().sort_values(by='Book-Rating', ascending=False)\n",
    "\n",
    "top20_publishers"
   ]
  },
  {
   "cell_type": "code",
   "execution_count": 67,
   "metadata": {
    "execution": {
     "iopub.execute_input": "2023-04-26T00:04:15.103634Z",
     "iopub.status.busy": "2023-04-26T00:04:15.103293Z",
     "iopub.status.idle": "2023-04-26T00:04:15.171757Z",
     "shell.execute_reply": "2023-04-26T00:04:15.170136Z",
     "shell.execute_reply.started": "2023-04-26T00:04:15.103588Z"
    }
   },
   "outputs": [
    {
     "data": {
      "text/html": [
       "<div>                            <div id=\"467e59dd-f4fd-407b-98a3-3152a59b3b18\" class=\"plotly-graph-div\" style=\"height:525px; width:100%;\"></div>            <script type=\"text/javascript\">                require([\"plotly\"], function(Plotly) {                    window.PLOTLYENV=window.PLOTLYENV || {};                                    if (document.getElementById(\"467e59dd-f4fd-407b-98a3-3152a59b3b18\")) {                    Plotly.newPlot(                        \"467e59dd-f4fd-407b-98a3-3152a59b3b18\",                        [{\"alignmentgroup\":\"True\",\"hovertemplate\":\"x=%{x}<br>y=%{y}<br>text=%{text}<extra></extra>\",\"legendgroup\":\"\",\"marker\":{\"color\":\"rgb(255,247,251)\",\"pattern\":{\"shape\":\"\"}},\"name\":\"\",\"offsetgroup\":\"\",\"orientation\":\"v\",\"showlegend\":false,\"text\":[7.82,7.77,7.69,7.61,7.6,7.59,7.58,7.56,7.54,7.52,7.52,7.48,7.48,7.45,7.44,7.36,7.26,7.24,7.17,7.09],\"textposition\":\"auto\",\"x\":[\"Scholastic\",\"Penguin Books\",\"Tor Books\",\"Ballantine Books\",\"St. Martin's Press\",\"Signet Book\",\"HarperCollins Publishers\",\"Pocket\",\"Warner Books\",\"Simon &amp; Schuster\",\"Bantam Books\",\"Penguin USA\",\"Fawcett Books\",\"Harpercollins\",\"Berkley Publishing Group\",\"Random House Inc\",\"St Martins Pr\",\"Silhouette\",\"Harlequin\",\"Zebra Books\"],\"xaxis\":\"x\",\"y\":[7.818160597572362,7.773789173789174,7.686075061381971,7.6104373679680775,7.596059113300493,7.591291512915129,7.58411472697187,7.564114696697265,7.5436226749335695,7.522894004553503,7.520810514786419,7.4815964523281595,7.477844638949672,7.449576271186441,7.443836498229803,7.36457437661221,7.264090177133656,7.239615623062616,7.170115399920414,7.089198036006547],\"yaxis\":\"y\",\"type\":\"bar\"}],                        {\"template\":{\"data\":{\"barpolar\":[{\"marker\":{\"line\":{\"color\":\"rgb(17,17,17)\",\"width\":0.5},\"pattern\":{\"fillmode\":\"overlay\",\"size\":10,\"solidity\":0.2}},\"type\":\"barpolar\"}],\"bar\":[{\"error_x\":{\"color\":\"#f2f5fa\"},\"error_y\":{\"color\":\"#f2f5fa\"},\"marker\":{\"line\":{\"color\":\"rgb(17,17,17)\",\"width\":0.5},\"pattern\":{\"fillmode\":\"overlay\",\"size\":10,\"solidity\":0.2}},\"type\":\"bar\"}],\"carpet\":[{\"aaxis\":{\"endlinecolor\":\"#A2B1C6\",\"gridcolor\":\"#506784\",\"linecolor\":\"#506784\",\"minorgridcolor\":\"#506784\",\"startlinecolor\":\"#A2B1C6\"},\"baxis\":{\"endlinecolor\":\"#A2B1C6\",\"gridcolor\":\"#506784\",\"linecolor\":\"#506784\",\"minorgridcolor\":\"#506784\",\"startlinecolor\":\"#A2B1C6\"},\"type\":\"carpet\"}],\"choropleth\":[{\"colorbar\":{\"outlinewidth\":0,\"ticks\":\"\"},\"type\":\"choropleth\"}],\"contourcarpet\":[{\"colorbar\":{\"outlinewidth\":0,\"ticks\":\"\"},\"type\":\"contourcarpet\"}],\"contour\":[{\"colorbar\":{\"outlinewidth\":0,\"ticks\":\"\"},\"colorscale\":[[0.0,\"#0d0887\"],[0.1111111111111111,\"#46039f\"],[0.2222222222222222,\"#7201a8\"],[0.3333333333333333,\"#9c179e\"],[0.4444444444444444,\"#bd3786\"],[0.5555555555555556,\"#d8576b\"],[0.6666666666666666,\"#ed7953\"],[0.7777777777777778,\"#fb9f3a\"],[0.8888888888888888,\"#fdca26\"],[1.0,\"#f0f921\"]],\"type\":\"contour\"}],\"heatmapgl\":[{\"colorbar\":{\"outlinewidth\":0,\"ticks\":\"\"},\"colorscale\":[[0.0,\"#0d0887\"],[0.1111111111111111,\"#46039f\"],[0.2222222222222222,\"#7201a8\"],[0.3333333333333333,\"#9c179e\"],[0.4444444444444444,\"#bd3786\"],[0.5555555555555556,\"#d8576b\"],[0.6666666666666666,\"#ed7953\"],[0.7777777777777778,\"#fb9f3a\"],[0.8888888888888888,\"#fdca26\"],[1.0,\"#f0f921\"]],\"type\":\"heatmapgl\"}],\"heatmap\":[{\"colorbar\":{\"outlinewidth\":0,\"ticks\":\"\"},\"colorscale\":[[0.0,\"#0d0887\"],[0.1111111111111111,\"#46039f\"],[0.2222222222222222,\"#7201a8\"],[0.3333333333333333,\"#9c179e\"],[0.4444444444444444,\"#bd3786\"],[0.5555555555555556,\"#d8576b\"],[0.6666666666666666,\"#ed7953\"],[0.7777777777777778,\"#fb9f3a\"],[0.8888888888888888,\"#fdca26\"],[1.0,\"#f0f921\"]],\"type\":\"heatmap\"}],\"histogram2dcontour\":[{\"colorbar\":{\"outlinewidth\":0,\"ticks\":\"\"},\"colorscale\":[[0.0,\"#0d0887\"],[0.1111111111111111,\"#46039f\"],[0.2222222222222222,\"#7201a8\"],[0.3333333333333333,\"#9c179e\"],[0.4444444444444444,\"#bd3786\"],[0.5555555555555556,\"#d8576b\"],[0.6666666666666666,\"#ed7953\"],[0.7777777777777778,\"#fb9f3a\"],[0.8888888888888888,\"#fdca26\"],[1.0,\"#f0f921\"]],\"type\":\"histogram2dcontour\"}],\"histogram2d\":[{\"colorbar\":{\"outlinewidth\":0,\"ticks\":\"\"},\"colorscale\":[[0.0,\"#0d0887\"],[0.1111111111111111,\"#46039f\"],[0.2222222222222222,\"#7201a8\"],[0.3333333333333333,\"#9c179e\"],[0.4444444444444444,\"#bd3786\"],[0.5555555555555556,\"#d8576b\"],[0.6666666666666666,\"#ed7953\"],[0.7777777777777778,\"#fb9f3a\"],[0.8888888888888888,\"#fdca26\"],[1.0,\"#f0f921\"]],\"type\":\"histogram2d\"}],\"histogram\":[{\"marker\":{\"pattern\":{\"fillmode\":\"overlay\",\"size\":10,\"solidity\":0.2}},\"type\":\"histogram\"}],\"mesh3d\":[{\"colorbar\":{\"outlinewidth\":0,\"ticks\":\"\"},\"type\":\"mesh3d\"}],\"parcoords\":[{\"line\":{\"colorbar\":{\"outlinewidth\":0,\"ticks\":\"\"}},\"type\":\"parcoords\"}],\"pie\":[{\"automargin\":true,\"type\":\"pie\"}],\"scatter3d\":[{\"line\":{\"colorbar\":{\"outlinewidth\":0,\"ticks\":\"\"}},\"marker\":{\"colorbar\":{\"outlinewidth\":0,\"ticks\":\"\"}},\"type\":\"scatter3d\"}],\"scattercarpet\":[{\"marker\":{\"colorbar\":{\"outlinewidth\":0,\"ticks\":\"\"}},\"type\":\"scattercarpet\"}],\"scattergeo\":[{\"marker\":{\"colorbar\":{\"outlinewidth\":0,\"ticks\":\"\"}},\"type\":\"scattergeo\"}],\"scattergl\":[{\"marker\":{\"line\":{\"color\":\"#283442\"}},\"type\":\"scattergl\"}],\"scattermapbox\":[{\"marker\":{\"colorbar\":{\"outlinewidth\":0,\"ticks\":\"\"}},\"type\":\"scattermapbox\"}],\"scatterpolargl\":[{\"marker\":{\"colorbar\":{\"outlinewidth\":0,\"ticks\":\"\"}},\"type\":\"scatterpolargl\"}],\"scatterpolar\":[{\"marker\":{\"colorbar\":{\"outlinewidth\":0,\"ticks\":\"\"}},\"type\":\"scatterpolar\"}],\"scatter\":[{\"marker\":{\"line\":{\"color\":\"#283442\"}},\"type\":\"scatter\"}],\"scatterternary\":[{\"marker\":{\"colorbar\":{\"outlinewidth\":0,\"ticks\":\"\"}},\"type\":\"scatterternary\"}],\"surface\":[{\"colorbar\":{\"outlinewidth\":0,\"ticks\":\"\"},\"colorscale\":[[0.0,\"#0d0887\"],[0.1111111111111111,\"#46039f\"],[0.2222222222222222,\"#7201a8\"],[0.3333333333333333,\"#9c179e\"],[0.4444444444444444,\"#bd3786\"],[0.5555555555555556,\"#d8576b\"],[0.6666666666666666,\"#ed7953\"],[0.7777777777777778,\"#fb9f3a\"],[0.8888888888888888,\"#fdca26\"],[1.0,\"#f0f921\"]],\"type\":\"surface\"}],\"table\":[{\"cells\":{\"fill\":{\"color\":\"#506784\"},\"line\":{\"color\":\"rgb(17,17,17)\"}},\"header\":{\"fill\":{\"color\":\"#2a3f5f\"},\"line\":{\"color\":\"rgb(17,17,17)\"}},\"type\":\"table\"}]},\"layout\":{\"annotationdefaults\":{\"arrowcolor\":\"#f2f5fa\",\"arrowhead\":0,\"arrowwidth\":1},\"autotypenumbers\":\"strict\",\"coloraxis\":{\"colorbar\":{\"outlinewidth\":0,\"ticks\":\"\"}},\"colorscale\":{\"diverging\":[[0,\"#8e0152\"],[0.1,\"#c51b7d\"],[0.2,\"#de77ae\"],[0.3,\"#f1b6da\"],[0.4,\"#fde0ef\"],[0.5,\"#f7f7f7\"],[0.6,\"#e6f5d0\"],[0.7,\"#b8e186\"],[0.8,\"#7fbc41\"],[0.9,\"#4d9221\"],[1,\"#276419\"]],\"sequential\":[[0.0,\"#0d0887\"],[0.1111111111111111,\"#46039f\"],[0.2222222222222222,\"#7201a8\"],[0.3333333333333333,\"#9c179e\"],[0.4444444444444444,\"#bd3786\"],[0.5555555555555556,\"#d8576b\"],[0.6666666666666666,\"#ed7953\"],[0.7777777777777778,\"#fb9f3a\"],[0.8888888888888888,\"#fdca26\"],[1.0,\"#f0f921\"]],\"sequentialminus\":[[0.0,\"#0d0887\"],[0.1111111111111111,\"#46039f\"],[0.2222222222222222,\"#7201a8\"],[0.3333333333333333,\"#9c179e\"],[0.4444444444444444,\"#bd3786\"],[0.5555555555555556,\"#d8576b\"],[0.6666666666666666,\"#ed7953\"],[0.7777777777777778,\"#fb9f3a\"],[0.8888888888888888,\"#fdca26\"],[1.0,\"#f0f921\"]]},\"colorway\":[\"#636efa\",\"#EF553B\",\"#00cc96\",\"#ab63fa\",\"#FFA15A\",\"#19d3f3\",\"#FF6692\",\"#B6E880\",\"#FF97FF\",\"#FECB52\"],\"font\":{\"color\":\"#f2f5fa\"},\"geo\":{\"bgcolor\":\"rgb(17,17,17)\",\"lakecolor\":\"rgb(17,17,17)\",\"landcolor\":\"rgb(17,17,17)\",\"showlakes\":true,\"showland\":true,\"subunitcolor\":\"#506784\"},\"hoverlabel\":{\"align\":\"left\"},\"hovermode\":\"closest\",\"mapbox\":{\"style\":\"dark\"},\"paper_bgcolor\":\"rgb(17,17,17)\",\"plot_bgcolor\":\"rgb(17,17,17)\",\"polar\":{\"angularaxis\":{\"gridcolor\":\"#506784\",\"linecolor\":\"#506784\",\"ticks\":\"\"},\"bgcolor\":\"rgb(17,17,17)\",\"radialaxis\":{\"gridcolor\":\"#506784\",\"linecolor\":\"#506784\",\"ticks\":\"\"}},\"scene\":{\"xaxis\":{\"backgroundcolor\":\"rgb(17,17,17)\",\"gridcolor\":\"#506784\",\"gridwidth\":2,\"linecolor\":\"#506784\",\"showbackground\":true,\"ticks\":\"\",\"zerolinecolor\":\"#C8D4E3\"},\"yaxis\":{\"backgroundcolor\":\"rgb(17,17,17)\",\"gridcolor\":\"#506784\",\"gridwidth\":2,\"linecolor\":\"#506784\",\"showbackground\":true,\"ticks\":\"\",\"zerolinecolor\":\"#C8D4E3\"},\"zaxis\":{\"backgroundcolor\":\"rgb(17,17,17)\",\"gridcolor\":\"#506784\",\"gridwidth\":2,\"linecolor\":\"#506784\",\"showbackground\":true,\"ticks\":\"\",\"zerolinecolor\":\"#C8D4E3\"}},\"shapedefaults\":{\"line\":{\"color\":\"#f2f5fa\"}},\"sliderdefaults\":{\"bgcolor\":\"#C8D4E3\",\"bordercolor\":\"rgb(17,17,17)\",\"borderwidth\":1,\"tickwidth\":0},\"ternary\":{\"aaxis\":{\"gridcolor\":\"#506784\",\"linecolor\":\"#506784\",\"ticks\":\"\"},\"baxis\":{\"gridcolor\":\"#506784\",\"linecolor\":\"#506784\",\"ticks\":\"\"},\"bgcolor\":\"rgb(17,17,17)\",\"caxis\":{\"gridcolor\":\"#506784\",\"linecolor\":\"#506784\",\"ticks\":\"\"}},\"title\":{\"x\":0.05},\"updatemenudefaults\":{\"bgcolor\":\"#506784\",\"borderwidth\":0},\"xaxis\":{\"automargin\":true,\"gridcolor\":\"#283442\",\"linecolor\":\"#506784\",\"ticks\":\"\",\"title\":{\"standoff\":15},\"zerolinecolor\":\"#283442\",\"zerolinewidth\":2},\"yaxis\":{\"automargin\":true,\"gridcolor\":\"#283442\",\"linecolor\":\"#506784\",\"ticks\":\"\",\"title\":{\"standoff\":15},\"zerolinecolor\":\"#283442\",\"zerolinewidth\":2}}},\"xaxis\":{\"anchor\":\"y\",\"domain\":[0.0,1.0],\"title\":{\"text\":\"Publisher name\"}},\"yaxis\":{\"anchor\":\"x\",\"domain\":[0.0,1.0],\"title\":{\"text\":\"average rating\"}},\"legend\":{\"tracegroupgap\":0},\"title\":{\"text\":\"Average ratings of the books of the Top 20 Publishers\"},\"barmode\":\"relative\",\"font\":{\"size\":15,\"family\":\"Franklin Gothic\"}},                        {\"responsive\": true}                    ).then(function(){\n",
       "                            \n",
       "var gd = document.getElementById('467e59dd-f4fd-407b-98a3-3152a59b3b18');\n",
       "var x = new MutationObserver(function (mutations, observer) {{\n",
       "        var display = window.getComputedStyle(gd).display;\n",
       "        if (!display || display === 'none') {{\n",
       "            console.log([gd, 'removed!']);\n",
       "            Plotly.purge(gd);\n",
       "            observer.disconnect();\n",
       "        }}\n",
       "}});\n",
       "\n",
       "// Listen for the removal of the full notebook cells\n",
       "var notebookContainer = gd.closest('#notebook-container');\n",
       "if (notebookContainer) {{\n",
       "    x.observe(notebookContainer, {childList: true});\n",
       "}}\n",
       "\n",
       "// Listen for the clearing of the current output cell\n",
       "var outputEl = gd.closest('.output');\n",
       "if (outputEl) {{\n",
       "    x.observe(outputEl, {childList: true});\n",
       "}}\n",
       "\n",
       "                        })                };                });            </script>        </div>"
      ]
     },
     "metadata": {},
     "output_type": "display_data"
    }
   ],
   "source": [
    "fig = px.bar(y=top20_publishers['Book-Rating'], \n",
    "             x=top20_publishers['Publisher'], \n",
    "             color_discrete_sequence=px.colors.sequential.PuBuGn,\n",
    "             text=round(top20_publishers['Book-Rating'],2),\n",
    "             title= \"Average ratings of the books of the Top 20 Publishers\",\n",
    "             template= 'plotly_dark')\n",
    "fig.update_layout(\n",
    "    xaxis_title=\"Publisher name\",\n",
    "    yaxis_title=\"average rating\",\n",
    "    font = dict(size=15,family=\"Franklin Gothic\"))\n",
    "fig.show()"
   ]
  },
  {
   "cell_type": "markdown",
   "metadata": {},
   "source": [
    "**The average rating of the books of the publishers are close to each other!**"
   ]
  },
  {
   "cell_type": "markdown",
   "metadata": {},
   "source": [
    "**Now we are going to see the Most rated books by users**"
   ]
  },
  {
   "cell_type": "code",
   "execution_count": 68,
   "metadata": {
    "execution": {
     "iopub.execute_input": "2023-04-26T00:04:15.174075Z",
     "iopub.status.busy": "2023-04-26T00:04:15.173683Z",
     "iopub.status.idle": "2023-04-26T00:04:17.334768Z",
     "shell.execute_reply": "2023-04-26T00:04:17.330926Z",
     "shell.execute_reply.started": "2023-04-26T00:04:15.174029Z"
    }
   },
   "outputs": [
    {
     "data": {
      "text/html": [
       "<div>                            <div id=\"f6053e5f-0d6d-47b3-8a1d-fee023943408\" class=\"plotly-graph-div\" style=\"height:525px; width:100%;\"></div>            <script type=\"text/javascript\">                require([\"plotly\"], function(Plotly) {                    window.PLOTLYENV=window.PLOTLYENV || {};                                    if (document.getElementById(\"f6053e5f-0d6d-47b3-8a1d-fee023943408\")) {                    Plotly.newPlot(                        \"f6053e5f-0d6d-47b3-8a1d-fee023943408\",                        [{\"alignmentgroup\":\"True\",\"hovertemplate\":\"x=%{x}<br>y=%{y}<br>text=%{text}<extra></extra>\",\"legendgroup\":\"\",\"marker\":{\"color\":\"rgb(255,247,251)\",\"pattern\":{\"shape\":\"\"}},\"name\":\"\",\"offsetgroup\":\"\",\"orientation\":\"v\",\"showlegend\":false,\"text\":[707.0,581.0,494.0,406.0,393.0,383.0,377.0,366.0,336.0,326.0,323.0,315.0,310.0,309.0,295.0,293.0,278.0,277.0,275.0,272.0],\"textposition\":\"auto\",\"x\":[\"The Lovely Bones: A Novel\",\"Wild Animus\",\"The Da Vinci Code\",\"The Secret Life of Bees\",\"The Nanny Diaries: A Novel\",\"The Red Tent (Bestselling Backlist)\",\"Bridget Jones's Diary\",\"A Painted House\",\"Life of Pi\",\"Harry Potter and the Chamber of Secrets (Book 2)\",\"Divine Secrets of the Ya-Ya Sisterhood: A Novel\",\"Harry Potter and the Sorcerer's Stone (Harry Potter (Paperback))\",\"Angels &amp; Demons\",\"The Summons\",\"Where the Heart Is (Oprah's Book Club (Paperback))\",\"The Notebook\",\"Girl with a Pearl Earring\",\"Harry Potter and the Prisoner of Azkaban (Book 3)\",\"Snow Falling on Cedars\",\"The Pilot's Wife : A Novel\"],\"xaxis\":\"x\",\"y\":[707,581,494,406,393,383,377,366,336,326,323,315,310,309,295,293,278,277,275,272],\"yaxis\":\"y\",\"type\":\"bar\"}],                        {\"template\":{\"data\":{\"barpolar\":[{\"marker\":{\"line\":{\"color\":\"rgb(17,17,17)\",\"width\":0.5},\"pattern\":{\"fillmode\":\"overlay\",\"size\":10,\"solidity\":0.2}},\"type\":\"barpolar\"}],\"bar\":[{\"error_x\":{\"color\":\"#f2f5fa\"},\"error_y\":{\"color\":\"#f2f5fa\"},\"marker\":{\"line\":{\"color\":\"rgb(17,17,17)\",\"width\":0.5},\"pattern\":{\"fillmode\":\"overlay\",\"size\":10,\"solidity\":0.2}},\"type\":\"bar\"}],\"carpet\":[{\"aaxis\":{\"endlinecolor\":\"#A2B1C6\",\"gridcolor\":\"#506784\",\"linecolor\":\"#506784\",\"minorgridcolor\":\"#506784\",\"startlinecolor\":\"#A2B1C6\"},\"baxis\":{\"endlinecolor\":\"#A2B1C6\",\"gridcolor\":\"#506784\",\"linecolor\":\"#506784\",\"minorgridcolor\":\"#506784\",\"startlinecolor\":\"#A2B1C6\"},\"type\":\"carpet\"}],\"choropleth\":[{\"colorbar\":{\"outlinewidth\":0,\"ticks\":\"\"},\"type\":\"choropleth\"}],\"contourcarpet\":[{\"colorbar\":{\"outlinewidth\":0,\"ticks\":\"\"},\"type\":\"contourcarpet\"}],\"contour\":[{\"colorbar\":{\"outlinewidth\":0,\"ticks\":\"\"},\"colorscale\":[[0.0,\"#0d0887\"],[0.1111111111111111,\"#46039f\"],[0.2222222222222222,\"#7201a8\"],[0.3333333333333333,\"#9c179e\"],[0.4444444444444444,\"#bd3786\"],[0.5555555555555556,\"#d8576b\"],[0.6666666666666666,\"#ed7953\"],[0.7777777777777778,\"#fb9f3a\"],[0.8888888888888888,\"#fdca26\"],[1.0,\"#f0f921\"]],\"type\":\"contour\"}],\"heatmapgl\":[{\"colorbar\":{\"outlinewidth\":0,\"ticks\":\"\"},\"colorscale\":[[0.0,\"#0d0887\"],[0.1111111111111111,\"#46039f\"],[0.2222222222222222,\"#7201a8\"],[0.3333333333333333,\"#9c179e\"],[0.4444444444444444,\"#bd3786\"],[0.5555555555555556,\"#d8576b\"],[0.6666666666666666,\"#ed7953\"],[0.7777777777777778,\"#fb9f3a\"],[0.8888888888888888,\"#fdca26\"],[1.0,\"#f0f921\"]],\"type\":\"heatmapgl\"}],\"heatmap\":[{\"colorbar\":{\"outlinewidth\":0,\"ticks\":\"\"},\"colorscale\":[[0.0,\"#0d0887\"],[0.1111111111111111,\"#46039f\"],[0.2222222222222222,\"#7201a8\"],[0.3333333333333333,\"#9c179e\"],[0.4444444444444444,\"#bd3786\"],[0.5555555555555556,\"#d8576b\"],[0.6666666666666666,\"#ed7953\"],[0.7777777777777778,\"#fb9f3a\"],[0.8888888888888888,\"#fdca26\"],[1.0,\"#f0f921\"]],\"type\":\"heatmap\"}],\"histogram2dcontour\":[{\"colorbar\":{\"outlinewidth\":0,\"ticks\":\"\"},\"colorscale\":[[0.0,\"#0d0887\"],[0.1111111111111111,\"#46039f\"],[0.2222222222222222,\"#7201a8\"],[0.3333333333333333,\"#9c179e\"],[0.4444444444444444,\"#bd3786\"],[0.5555555555555556,\"#d8576b\"],[0.6666666666666666,\"#ed7953\"],[0.7777777777777778,\"#fb9f3a\"],[0.8888888888888888,\"#fdca26\"],[1.0,\"#f0f921\"]],\"type\":\"histogram2dcontour\"}],\"histogram2d\":[{\"colorbar\":{\"outlinewidth\":0,\"ticks\":\"\"},\"colorscale\":[[0.0,\"#0d0887\"],[0.1111111111111111,\"#46039f\"],[0.2222222222222222,\"#7201a8\"],[0.3333333333333333,\"#9c179e\"],[0.4444444444444444,\"#bd3786\"],[0.5555555555555556,\"#d8576b\"],[0.6666666666666666,\"#ed7953\"],[0.7777777777777778,\"#fb9f3a\"],[0.8888888888888888,\"#fdca26\"],[1.0,\"#f0f921\"]],\"type\":\"histogram2d\"}],\"histogram\":[{\"marker\":{\"pattern\":{\"fillmode\":\"overlay\",\"size\":10,\"solidity\":0.2}},\"type\":\"histogram\"}],\"mesh3d\":[{\"colorbar\":{\"outlinewidth\":0,\"ticks\":\"\"},\"type\":\"mesh3d\"}],\"parcoords\":[{\"line\":{\"colorbar\":{\"outlinewidth\":0,\"ticks\":\"\"}},\"type\":\"parcoords\"}],\"pie\":[{\"automargin\":true,\"type\":\"pie\"}],\"scatter3d\":[{\"line\":{\"colorbar\":{\"outlinewidth\":0,\"ticks\":\"\"}},\"marker\":{\"colorbar\":{\"outlinewidth\":0,\"ticks\":\"\"}},\"type\":\"scatter3d\"}],\"scattercarpet\":[{\"marker\":{\"colorbar\":{\"outlinewidth\":0,\"ticks\":\"\"}},\"type\":\"scattercarpet\"}],\"scattergeo\":[{\"marker\":{\"colorbar\":{\"outlinewidth\":0,\"ticks\":\"\"}},\"type\":\"scattergeo\"}],\"scattergl\":[{\"marker\":{\"line\":{\"color\":\"#283442\"}},\"type\":\"scattergl\"}],\"scattermapbox\":[{\"marker\":{\"colorbar\":{\"outlinewidth\":0,\"ticks\":\"\"}},\"type\":\"scattermapbox\"}],\"scatterpolargl\":[{\"marker\":{\"colorbar\":{\"outlinewidth\":0,\"ticks\":\"\"}},\"type\":\"scatterpolargl\"}],\"scatterpolar\":[{\"marker\":{\"colorbar\":{\"outlinewidth\":0,\"ticks\":\"\"}},\"type\":\"scatterpolar\"}],\"scatter\":[{\"marker\":{\"line\":{\"color\":\"#283442\"}},\"type\":\"scatter\"}],\"scatterternary\":[{\"marker\":{\"colorbar\":{\"outlinewidth\":0,\"ticks\":\"\"}},\"type\":\"scatterternary\"}],\"surface\":[{\"colorbar\":{\"outlinewidth\":0,\"ticks\":\"\"},\"colorscale\":[[0.0,\"#0d0887\"],[0.1111111111111111,\"#46039f\"],[0.2222222222222222,\"#7201a8\"],[0.3333333333333333,\"#9c179e\"],[0.4444444444444444,\"#bd3786\"],[0.5555555555555556,\"#d8576b\"],[0.6666666666666666,\"#ed7953\"],[0.7777777777777778,\"#fb9f3a\"],[0.8888888888888888,\"#fdca26\"],[1.0,\"#f0f921\"]],\"type\":\"surface\"}],\"table\":[{\"cells\":{\"fill\":{\"color\":\"#506784\"},\"line\":{\"color\":\"rgb(17,17,17)\"}},\"header\":{\"fill\":{\"color\":\"#2a3f5f\"},\"line\":{\"color\":\"rgb(17,17,17)\"}},\"type\":\"table\"}]},\"layout\":{\"annotationdefaults\":{\"arrowcolor\":\"#f2f5fa\",\"arrowhead\":0,\"arrowwidth\":1},\"autotypenumbers\":\"strict\",\"coloraxis\":{\"colorbar\":{\"outlinewidth\":0,\"ticks\":\"\"}},\"colorscale\":{\"diverging\":[[0,\"#8e0152\"],[0.1,\"#c51b7d\"],[0.2,\"#de77ae\"],[0.3,\"#f1b6da\"],[0.4,\"#fde0ef\"],[0.5,\"#f7f7f7\"],[0.6,\"#e6f5d0\"],[0.7,\"#b8e186\"],[0.8,\"#7fbc41\"],[0.9,\"#4d9221\"],[1,\"#276419\"]],\"sequential\":[[0.0,\"#0d0887\"],[0.1111111111111111,\"#46039f\"],[0.2222222222222222,\"#7201a8\"],[0.3333333333333333,\"#9c179e\"],[0.4444444444444444,\"#bd3786\"],[0.5555555555555556,\"#d8576b\"],[0.6666666666666666,\"#ed7953\"],[0.7777777777777778,\"#fb9f3a\"],[0.8888888888888888,\"#fdca26\"],[1.0,\"#f0f921\"]],\"sequentialminus\":[[0.0,\"#0d0887\"],[0.1111111111111111,\"#46039f\"],[0.2222222222222222,\"#7201a8\"],[0.3333333333333333,\"#9c179e\"],[0.4444444444444444,\"#bd3786\"],[0.5555555555555556,\"#d8576b\"],[0.6666666666666666,\"#ed7953\"],[0.7777777777777778,\"#fb9f3a\"],[0.8888888888888888,\"#fdca26\"],[1.0,\"#f0f921\"]]},\"colorway\":[\"#636efa\",\"#EF553B\",\"#00cc96\",\"#ab63fa\",\"#FFA15A\",\"#19d3f3\",\"#FF6692\",\"#B6E880\",\"#FF97FF\",\"#FECB52\"],\"font\":{\"color\":\"#f2f5fa\"},\"geo\":{\"bgcolor\":\"rgb(17,17,17)\",\"lakecolor\":\"rgb(17,17,17)\",\"landcolor\":\"rgb(17,17,17)\",\"showlakes\":true,\"showland\":true,\"subunitcolor\":\"#506784\"},\"hoverlabel\":{\"align\":\"left\"},\"hovermode\":\"closest\",\"mapbox\":{\"style\":\"dark\"},\"paper_bgcolor\":\"rgb(17,17,17)\",\"plot_bgcolor\":\"rgb(17,17,17)\",\"polar\":{\"angularaxis\":{\"gridcolor\":\"#506784\",\"linecolor\":\"#506784\",\"ticks\":\"\"},\"bgcolor\":\"rgb(17,17,17)\",\"radialaxis\":{\"gridcolor\":\"#506784\",\"linecolor\":\"#506784\",\"ticks\":\"\"}},\"scene\":{\"xaxis\":{\"backgroundcolor\":\"rgb(17,17,17)\",\"gridcolor\":\"#506784\",\"gridwidth\":2,\"linecolor\":\"#506784\",\"showbackground\":true,\"ticks\":\"\",\"zerolinecolor\":\"#C8D4E3\"},\"yaxis\":{\"backgroundcolor\":\"rgb(17,17,17)\",\"gridcolor\":\"#506784\",\"gridwidth\":2,\"linecolor\":\"#506784\",\"showbackground\":true,\"ticks\":\"\",\"zerolinecolor\":\"#C8D4E3\"},\"zaxis\":{\"backgroundcolor\":\"rgb(17,17,17)\",\"gridcolor\":\"#506784\",\"gridwidth\":2,\"linecolor\":\"#506784\",\"showbackground\":true,\"ticks\":\"\",\"zerolinecolor\":\"#C8D4E3\"}},\"shapedefaults\":{\"line\":{\"color\":\"#f2f5fa\"}},\"sliderdefaults\":{\"bgcolor\":\"#C8D4E3\",\"bordercolor\":\"rgb(17,17,17)\",\"borderwidth\":1,\"tickwidth\":0},\"ternary\":{\"aaxis\":{\"gridcolor\":\"#506784\",\"linecolor\":\"#506784\",\"ticks\":\"\"},\"baxis\":{\"gridcolor\":\"#506784\",\"linecolor\":\"#506784\",\"ticks\":\"\"},\"bgcolor\":\"rgb(17,17,17)\",\"caxis\":{\"gridcolor\":\"#506784\",\"linecolor\":\"#506784\",\"ticks\":\"\"}},\"title\":{\"x\":0.05},\"updatemenudefaults\":{\"bgcolor\":\"#506784\",\"borderwidth\":0},\"xaxis\":{\"automargin\":true,\"gridcolor\":\"#283442\",\"linecolor\":\"#506784\",\"ticks\":\"\",\"title\":{\"standoff\":15},\"zerolinecolor\":\"#283442\",\"zerolinewidth\":2},\"yaxis\":{\"automargin\":true,\"gridcolor\":\"#283442\",\"linecolor\":\"#506784\",\"ticks\":\"\",\"title\":{\"standoff\":15},\"zerolinecolor\":\"#283442\",\"zerolinewidth\":2}}},\"xaxis\":{\"anchor\":\"y\",\"domain\":[0.0,1.0],\"title\":{\"text\":\"Book Title\"}},\"yaxis\":{\"anchor\":\"x\",\"domain\":[0.0,1.0],\"title\":{\"text\":\"Number of ratings\"}},\"legend\":{\"tracegroupgap\":0},\"title\":{\"text\":\"Most Rated Books by Users\"},\"barmode\":\"relative\",\"font\":{\"size\":15,\"family\":\"Franklin Gothic\"}},                        {\"responsive\": true}                    ).then(function(){\n",
       "                            \n",
       "var gd = document.getElementById('f6053e5f-0d6d-47b3-8a1d-fee023943408');\n",
       "var x = new MutationObserver(function (mutations, observer) {{\n",
       "        var display = window.getComputedStyle(gd).display;\n",
       "        if (!display || display === 'none') {{\n",
       "            console.log([gd, 'removed!']);\n",
       "            Plotly.purge(gd);\n",
       "            observer.disconnect();\n",
       "        }}\n",
       "}});\n",
       "\n",
       "// Listen for the removal of the full notebook cells\n",
       "var notebookContainer = gd.closest('#notebook-container');\n",
       "if (notebookContainer) {{\n",
       "    x.observe(notebookContainer, {childList: true});\n",
       "}}\n",
       "\n",
       "// Listen for the clearing of the current output cell\n",
       "var outputEl = gd.closest('.output');\n",
       "if (outputEl) {{\n",
       "    x.observe(outputEl, {childList: true});\n",
       "}}\n",
       "\n",
       "                        })                };                });            </script>        </div>"
      ]
     },
     "metadata": {},
     "output_type": "display_data"
    }
   ],
   "source": [
    "df = pd.merge(books_with_ratings, users, on='User-ID')\n",
    "df = books_with_ratings[books_with_ratings['Book-Rating'] != 0]\n",
    "plot_top20(df, 'Book-Title', \"Most Rated Books by Users\", \"Book Title\", \"Number of ratings\")"
   ]
  },
  {
   "cell_type": "markdown",
   "metadata": {},
   "source": [
    "**Now let's see the top rated books**"
   ]
  },
  {
   "cell_type": "code",
   "execution_count": 69,
   "metadata": {
    "execution": {
     "iopub.execute_input": "2023-04-26T00:04:17.336869Z",
     "iopub.status.busy": "2023-04-26T00:04:17.336265Z",
     "iopub.status.idle": "2023-04-26T00:04:18.926195Z",
     "shell.execute_reply": "2023-04-26T00:04:18.924977Z",
     "shell.execute_reply.started": "2023-04-26T00:04:17.336828Z"
    }
   },
   "outputs": [
    {
     "data": {
      "text/html": [
       "<div>\n",
       "<style scoped>\n",
       "    .dataframe tbody tr th:only-of-type {\n",
       "        vertical-align: middle;\n",
       "    }\n",
       "\n",
       "    .dataframe tbody tr th {\n",
       "        vertical-align: top;\n",
       "    }\n",
       "\n",
       "    .dataframe thead th {\n",
       "        text-align: right;\n",
       "    }\n",
       "</style>\n",
       "<table border=\"1\" class=\"dataframe\">\n",
       "  <thead>\n",
       "    <tr style=\"text-align: right;\">\n",
       "      <th></th>\n",
       "      <th>Book-Title</th>\n",
       "      <th>Book-Rating</th>\n",
       "    </tr>\n",
       "  </thead>\n",
       "  <tbody>\n",
       "    <tr>\n",
       "      <th>6</th>\n",
       "      <td>Harry Potter and the Prisoner of Azkaban (Book 3)</td>\n",
       "      <td>9.043321</td>\n",
       "    </tr>\n",
       "    <tr>\n",
       "      <th>7</th>\n",
       "      <td>Harry Potter and the Sorcerer's Stone (Harry P...</td>\n",
       "      <td>8.936508</td>\n",
       "    </tr>\n",
       "    <tr>\n",
       "      <th>5</th>\n",
       "      <td>Harry Potter and the Chamber of Secrets (Book 2)</td>\n",
       "      <td>8.840491</td>\n",
       "    </tr>\n",
       "    <tr>\n",
       "      <th>16</th>\n",
       "      <td>The Secret Life of Bees</td>\n",
       "      <td>8.477833</td>\n",
       "    </tr>\n",
       "    <tr>\n",
       "      <th>10</th>\n",
       "      <td>The Da Vinci Code</td>\n",
       "      <td>8.439271</td>\n",
       "    </tr>\n",
       "    <tr>\n",
       "      <th>11</th>\n",
       "      <td>The Lovely Bones: A Novel</td>\n",
       "      <td>8.185290</td>\n",
       "    </tr>\n",
       "    <tr>\n",
       "      <th>15</th>\n",
       "      <td>The Red Tent (Bestselling Backlist)</td>\n",
       "      <td>8.182768</td>\n",
       "    </tr>\n",
       "    <tr>\n",
       "      <th>18</th>\n",
       "      <td>Where the Heart Is (Oprah's Book Club (Paperba...</td>\n",
       "      <td>8.142373</td>\n",
       "    </tr>\n",
       "    <tr>\n",
       "      <th>8</th>\n",
       "      <td>Life of Pi</td>\n",
       "      <td>8.080357</td>\n",
       "    </tr>\n",
       "    <tr>\n",
       "      <th>1</th>\n",
       "      <td>Angels &amp;amp; Demons</td>\n",
       "      <td>8.016129</td>\n",
       "    </tr>\n",
       "  </tbody>\n",
       "</table>\n",
       "</div>"
      ],
      "text/plain": [
       "                                           Book-Title  Book-Rating\n",
       "6   Harry Potter and the Prisoner of Azkaban (Book 3)     9.043321\n",
       "7   Harry Potter and the Sorcerer's Stone (Harry P...     8.936508\n",
       "5    Harry Potter and the Chamber of Secrets (Book 2)     8.840491\n",
       "16                            The Secret Life of Bees     8.477833\n",
       "10                                  The Da Vinci Code     8.439271\n",
       "11                          The Lovely Bones: A Novel     8.185290\n",
       "15                The Red Tent (Bestselling Backlist)     8.182768\n",
       "18  Where the Heart Is (Oprah's Book Club (Paperba...     8.142373\n",
       "8                                          Life of Pi     8.080357\n",
       "1                                 Angels &amp; Demons     8.016129"
      ]
     },
     "execution_count": 69,
     "metadata": {},
     "output_type": "execute_result"
    }
   ],
   "source": [
    "books_top20 = df['Book-Title'].value_counts().head(20)\n",
    "books_top20 = list(books_top20.index)\n",
    "\n",
    "top20_books = pd.DataFrame(columns = books_with_ratings.columns)\n",
    "\n",
    "for book in books_top20:\n",
    "    \n",
    "    cond_df = books_with_ratings[books_with_ratings['Book-Title'] == book]\n",
    "    \n",
    "    top20_books =  pd.concat([top20_books, cond_df], axis=0)\n",
    "    \n",
    "    \n",
    "top20_books = top20_books[top20_books['Book-Rating'] != 0]\n",
    "top20_books = top20_books.groupby('Book-Title')['Book-Rating'].agg('mean').reset_index().sort_values(by='Book-Rating', ascending=False)\n",
    "\n",
    "top10_books = top20_books.head(10)\n",
    "top10_books"
   ]
  },
  {
   "cell_type": "code",
   "execution_count": 70,
   "metadata": {
    "execution": {
     "iopub.execute_input": "2023-04-26T00:04:18.928333Z",
     "iopub.status.busy": "2023-04-26T00:04:18.927616Z",
     "iopub.status.idle": "2023-04-26T00:04:18.990932Z",
     "shell.execute_reply": "2023-04-26T00:04:18.989737Z",
     "shell.execute_reply.started": "2023-04-26T00:04:18.928292Z"
    }
   },
   "outputs": [
    {
     "data": {
      "text/html": [
       "<div>                            <div id=\"31a974a1-5db6-49dd-bcea-ce907c881321\" class=\"plotly-graph-div\" style=\"height:525px; width:100%;\"></div>            <script type=\"text/javascript\">                require([\"plotly\"], function(Plotly) {                    window.PLOTLYENV=window.PLOTLYENV || {};                                    if (document.getElementById(\"31a974a1-5db6-49dd-bcea-ce907c881321\")) {                    Plotly.newPlot(                        \"31a974a1-5db6-49dd-bcea-ce907c881321\",                        [{\"alignmentgroup\":\"True\",\"hovertemplate\":\"x=%{x}<br>y=%{y}<br>text=%{text}<extra></extra>\",\"legendgroup\":\"\",\"marker\":{\"color\":\"rgb(255,247,251)\",\"pattern\":{\"shape\":\"\"}},\"name\":\"\",\"offsetgroup\":\"\",\"orientation\":\"v\",\"showlegend\":false,\"text\":[9.04,8.94,8.84,8.48,8.44,8.19,8.18,8.14,8.08,8.02],\"textposition\":\"auto\",\"x\":[\"Harry Potter and the Prisoner of Azkaban (Book 3)\",\"Harry Potter and the Sorcerer's Stone (Harry Potter (Paperback))\",\"Harry Potter and the Chamber of Secrets (Book 2)\",\"The Secret Life of Bees\",\"The Da Vinci Code\",\"The Lovely Bones: A Novel\",\"The Red Tent (Bestselling Backlist)\",\"Where the Heart Is (Oprah's Book Club (Paperback))\",\"Life of Pi\",\"Angels &amp; Demons\"],\"xaxis\":\"x\",\"y\":[9.04332129963899,8.936507936507937,8.840490797546012,8.47783251231527,8.43927125506073,8.185289957567186,8.182767624020888,8.142372881355932,8.080357142857142,8.016129032258064],\"yaxis\":\"y\",\"type\":\"bar\"}],                        {\"template\":{\"data\":{\"barpolar\":[{\"marker\":{\"line\":{\"color\":\"rgb(17,17,17)\",\"width\":0.5},\"pattern\":{\"fillmode\":\"overlay\",\"size\":10,\"solidity\":0.2}},\"type\":\"barpolar\"}],\"bar\":[{\"error_x\":{\"color\":\"#f2f5fa\"},\"error_y\":{\"color\":\"#f2f5fa\"},\"marker\":{\"line\":{\"color\":\"rgb(17,17,17)\",\"width\":0.5},\"pattern\":{\"fillmode\":\"overlay\",\"size\":10,\"solidity\":0.2}},\"type\":\"bar\"}],\"carpet\":[{\"aaxis\":{\"endlinecolor\":\"#A2B1C6\",\"gridcolor\":\"#506784\",\"linecolor\":\"#506784\",\"minorgridcolor\":\"#506784\",\"startlinecolor\":\"#A2B1C6\"},\"baxis\":{\"endlinecolor\":\"#A2B1C6\",\"gridcolor\":\"#506784\",\"linecolor\":\"#506784\",\"minorgridcolor\":\"#506784\",\"startlinecolor\":\"#A2B1C6\"},\"type\":\"carpet\"}],\"choropleth\":[{\"colorbar\":{\"outlinewidth\":0,\"ticks\":\"\"},\"type\":\"choropleth\"}],\"contourcarpet\":[{\"colorbar\":{\"outlinewidth\":0,\"ticks\":\"\"},\"type\":\"contourcarpet\"}],\"contour\":[{\"colorbar\":{\"outlinewidth\":0,\"ticks\":\"\"},\"colorscale\":[[0.0,\"#0d0887\"],[0.1111111111111111,\"#46039f\"],[0.2222222222222222,\"#7201a8\"],[0.3333333333333333,\"#9c179e\"],[0.4444444444444444,\"#bd3786\"],[0.5555555555555556,\"#d8576b\"],[0.6666666666666666,\"#ed7953\"],[0.7777777777777778,\"#fb9f3a\"],[0.8888888888888888,\"#fdca26\"],[1.0,\"#f0f921\"]],\"type\":\"contour\"}],\"heatmapgl\":[{\"colorbar\":{\"outlinewidth\":0,\"ticks\":\"\"},\"colorscale\":[[0.0,\"#0d0887\"],[0.1111111111111111,\"#46039f\"],[0.2222222222222222,\"#7201a8\"],[0.3333333333333333,\"#9c179e\"],[0.4444444444444444,\"#bd3786\"],[0.5555555555555556,\"#d8576b\"],[0.6666666666666666,\"#ed7953\"],[0.7777777777777778,\"#fb9f3a\"],[0.8888888888888888,\"#fdca26\"],[1.0,\"#f0f921\"]],\"type\":\"heatmapgl\"}],\"heatmap\":[{\"colorbar\":{\"outlinewidth\":0,\"ticks\":\"\"},\"colorscale\":[[0.0,\"#0d0887\"],[0.1111111111111111,\"#46039f\"],[0.2222222222222222,\"#7201a8\"],[0.3333333333333333,\"#9c179e\"],[0.4444444444444444,\"#bd3786\"],[0.5555555555555556,\"#d8576b\"],[0.6666666666666666,\"#ed7953\"],[0.7777777777777778,\"#fb9f3a\"],[0.8888888888888888,\"#fdca26\"],[1.0,\"#f0f921\"]],\"type\":\"heatmap\"}],\"histogram2dcontour\":[{\"colorbar\":{\"outlinewidth\":0,\"ticks\":\"\"},\"colorscale\":[[0.0,\"#0d0887\"],[0.1111111111111111,\"#46039f\"],[0.2222222222222222,\"#7201a8\"],[0.3333333333333333,\"#9c179e\"],[0.4444444444444444,\"#bd3786\"],[0.5555555555555556,\"#d8576b\"],[0.6666666666666666,\"#ed7953\"],[0.7777777777777778,\"#fb9f3a\"],[0.8888888888888888,\"#fdca26\"],[1.0,\"#f0f921\"]],\"type\":\"histogram2dcontour\"}],\"histogram2d\":[{\"colorbar\":{\"outlinewidth\":0,\"ticks\":\"\"},\"colorscale\":[[0.0,\"#0d0887\"],[0.1111111111111111,\"#46039f\"],[0.2222222222222222,\"#7201a8\"],[0.3333333333333333,\"#9c179e\"],[0.4444444444444444,\"#bd3786\"],[0.5555555555555556,\"#d8576b\"],[0.6666666666666666,\"#ed7953\"],[0.7777777777777778,\"#fb9f3a\"],[0.8888888888888888,\"#fdca26\"],[1.0,\"#f0f921\"]],\"type\":\"histogram2d\"}],\"histogram\":[{\"marker\":{\"pattern\":{\"fillmode\":\"overlay\",\"size\":10,\"solidity\":0.2}},\"type\":\"histogram\"}],\"mesh3d\":[{\"colorbar\":{\"outlinewidth\":0,\"ticks\":\"\"},\"type\":\"mesh3d\"}],\"parcoords\":[{\"line\":{\"colorbar\":{\"outlinewidth\":0,\"ticks\":\"\"}},\"type\":\"parcoords\"}],\"pie\":[{\"automargin\":true,\"type\":\"pie\"}],\"scatter3d\":[{\"line\":{\"colorbar\":{\"outlinewidth\":0,\"ticks\":\"\"}},\"marker\":{\"colorbar\":{\"outlinewidth\":0,\"ticks\":\"\"}},\"type\":\"scatter3d\"}],\"scattercarpet\":[{\"marker\":{\"colorbar\":{\"outlinewidth\":0,\"ticks\":\"\"}},\"type\":\"scattercarpet\"}],\"scattergeo\":[{\"marker\":{\"colorbar\":{\"outlinewidth\":0,\"ticks\":\"\"}},\"type\":\"scattergeo\"}],\"scattergl\":[{\"marker\":{\"line\":{\"color\":\"#283442\"}},\"type\":\"scattergl\"}],\"scattermapbox\":[{\"marker\":{\"colorbar\":{\"outlinewidth\":0,\"ticks\":\"\"}},\"type\":\"scattermapbox\"}],\"scatterpolargl\":[{\"marker\":{\"colorbar\":{\"outlinewidth\":0,\"ticks\":\"\"}},\"type\":\"scatterpolargl\"}],\"scatterpolar\":[{\"marker\":{\"colorbar\":{\"outlinewidth\":0,\"ticks\":\"\"}},\"type\":\"scatterpolar\"}],\"scatter\":[{\"marker\":{\"line\":{\"color\":\"#283442\"}},\"type\":\"scatter\"}],\"scatterternary\":[{\"marker\":{\"colorbar\":{\"outlinewidth\":0,\"ticks\":\"\"}},\"type\":\"scatterternary\"}],\"surface\":[{\"colorbar\":{\"outlinewidth\":0,\"ticks\":\"\"},\"colorscale\":[[0.0,\"#0d0887\"],[0.1111111111111111,\"#46039f\"],[0.2222222222222222,\"#7201a8\"],[0.3333333333333333,\"#9c179e\"],[0.4444444444444444,\"#bd3786\"],[0.5555555555555556,\"#d8576b\"],[0.6666666666666666,\"#ed7953\"],[0.7777777777777778,\"#fb9f3a\"],[0.8888888888888888,\"#fdca26\"],[1.0,\"#f0f921\"]],\"type\":\"surface\"}],\"table\":[{\"cells\":{\"fill\":{\"color\":\"#506784\"},\"line\":{\"color\":\"rgb(17,17,17)\"}},\"header\":{\"fill\":{\"color\":\"#2a3f5f\"},\"line\":{\"color\":\"rgb(17,17,17)\"}},\"type\":\"table\"}]},\"layout\":{\"annotationdefaults\":{\"arrowcolor\":\"#f2f5fa\",\"arrowhead\":0,\"arrowwidth\":1},\"autotypenumbers\":\"strict\",\"coloraxis\":{\"colorbar\":{\"outlinewidth\":0,\"ticks\":\"\"}},\"colorscale\":{\"diverging\":[[0,\"#8e0152\"],[0.1,\"#c51b7d\"],[0.2,\"#de77ae\"],[0.3,\"#f1b6da\"],[0.4,\"#fde0ef\"],[0.5,\"#f7f7f7\"],[0.6,\"#e6f5d0\"],[0.7,\"#b8e186\"],[0.8,\"#7fbc41\"],[0.9,\"#4d9221\"],[1,\"#276419\"]],\"sequential\":[[0.0,\"#0d0887\"],[0.1111111111111111,\"#46039f\"],[0.2222222222222222,\"#7201a8\"],[0.3333333333333333,\"#9c179e\"],[0.4444444444444444,\"#bd3786\"],[0.5555555555555556,\"#d8576b\"],[0.6666666666666666,\"#ed7953\"],[0.7777777777777778,\"#fb9f3a\"],[0.8888888888888888,\"#fdca26\"],[1.0,\"#f0f921\"]],\"sequentialminus\":[[0.0,\"#0d0887\"],[0.1111111111111111,\"#46039f\"],[0.2222222222222222,\"#7201a8\"],[0.3333333333333333,\"#9c179e\"],[0.4444444444444444,\"#bd3786\"],[0.5555555555555556,\"#d8576b\"],[0.6666666666666666,\"#ed7953\"],[0.7777777777777778,\"#fb9f3a\"],[0.8888888888888888,\"#fdca26\"],[1.0,\"#f0f921\"]]},\"colorway\":[\"#636efa\",\"#EF553B\",\"#00cc96\",\"#ab63fa\",\"#FFA15A\",\"#19d3f3\",\"#FF6692\",\"#B6E880\",\"#FF97FF\",\"#FECB52\"],\"font\":{\"color\":\"#f2f5fa\"},\"geo\":{\"bgcolor\":\"rgb(17,17,17)\",\"lakecolor\":\"rgb(17,17,17)\",\"landcolor\":\"rgb(17,17,17)\",\"showlakes\":true,\"showland\":true,\"subunitcolor\":\"#506784\"},\"hoverlabel\":{\"align\":\"left\"},\"hovermode\":\"closest\",\"mapbox\":{\"style\":\"dark\"},\"paper_bgcolor\":\"rgb(17,17,17)\",\"plot_bgcolor\":\"rgb(17,17,17)\",\"polar\":{\"angularaxis\":{\"gridcolor\":\"#506784\",\"linecolor\":\"#506784\",\"ticks\":\"\"},\"bgcolor\":\"rgb(17,17,17)\",\"radialaxis\":{\"gridcolor\":\"#506784\",\"linecolor\":\"#506784\",\"ticks\":\"\"}},\"scene\":{\"xaxis\":{\"backgroundcolor\":\"rgb(17,17,17)\",\"gridcolor\":\"#506784\",\"gridwidth\":2,\"linecolor\":\"#506784\",\"showbackground\":true,\"ticks\":\"\",\"zerolinecolor\":\"#C8D4E3\"},\"yaxis\":{\"backgroundcolor\":\"rgb(17,17,17)\",\"gridcolor\":\"#506784\",\"gridwidth\":2,\"linecolor\":\"#506784\",\"showbackground\":true,\"ticks\":\"\",\"zerolinecolor\":\"#C8D4E3\"},\"zaxis\":{\"backgroundcolor\":\"rgb(17,17,17)\",\"gridcolor\":\"#506784\",\"gridwidth\":2,\"linecolor\":\"#506784\",\"showbackground\":true,\"ticks\":\"\",\"zerolinecolor\":\"#C8D4E3\"}},\"shapedefaults\":{\"line\":{\"color\":\"#f2f5fa\"}},\"sliderdefaults\":{\"bgcolor\":\"#C8D4E3\",\"bordercolor\":\"rgb(17,17,17)\",\"borderwidth\":1,\"tickwidth\":0},\"ternary\":{\"aaxis\":{\"gridcolor\":\"#506784\",\"linecolor\":\"#506784\",\"ticks\":\"\"},\"baxis\":{\"gridcolor\":\"#506784\",\"linecolor\":\"#506784\",\"ticks\":\"\"},\"bgcolor\":\"rgb(17,17,17)\",\"caxis\":{\"gridcolor\":\"#506784\",\"linecolor\":\"#506784\",\"ticks\":\"\"}},\"title\":{\"x\":0.05},\"updatemenudefaults\":{\"bgcolor\":\"#506784\",\"borderwidth\":0},\"xaxis\":{\"automargin\":true,\"gridcolor\":\"#283442\",\"linecolor\":\"#506784\",\"ticks\":\"\",\"title\":{\"standoff\":15},\"zerolinecolor\":\"#283442\",\"zerolinewidth\":2},\"yaxis\":{\"automargin\":true,\"gridcolor\":\"#283442\",\"linecolor\":\"#506784\",\"ticks\":\"\",\"title\":{\"standoff\":15},\"zerolinecolor\":\"#283442\",\"zerolinewidth\":2}}},\"xaxis\":{\"anchor\":\"y\",\"domain\":[0.0,1.0],\"title\":{\"text\":\"Book title\"}},\"yaxis\":{\"anchor\":\"x\",\"domain\":[0.0,1.0],\"title\":{\"text\":\"average rating\"}},\"legend\":{\"tracegroupgap\":0},\"title\":{\"text\":\"Top 10 rated books by the users\"},\"barmode\":\"relative\",\"font\":{\"size\":15,\"family\":\"Franklin Gothic\"}},                        {\"responsive\": true}                    ).then(function(){\n",
       "                            \n",
       "var gd = document.getElementById('31a974a1-5db6-49dd-bcea-ce907c881321');\n",
       "var x = new MutationObserver(function (mutations, observer) {{\n",
       "        var display = window.getComputedStyle(gd).display;\n",
       "        if (!display || display === 'none') {{\n",
       "            console.log([gd, 'removed!']);\n",
       "            Plotly.purge(gd);\n",
       "            observer.disconnect();\n",
       "        }}\n",
       "}});\n",
       "\n",
       "// Listen for the removal of the full notebook cells\n",
       "var notebookContainer = gd.closest('#notebook-container');\n",
       "if (notebookContainer) {{\n",
       "    x.observe(notebookContainer, {childList: true});\n",
       "}}\n",
       "\n",
       "// Listen for the clearing of the current output cell\n",
       "var outputEl = gd.closest('.output');\n",
       "if (outputEl) {{\n",
       "    x.observe(outputEl, {childList: true});\n",
       "}}\n",
       "\n",
       "                        })                };                });            </script>        </div>"
      ]
     },
     "metadata": {},
     "output_type": "display_data"
    }
   ],
   "source": [
    "fig = px.bar(y=top10_books['Book-Rating'], \n",
    "             x=top10_books['Book-Title'], \n",
    "             color_discrete_sequence=px.colors.sequential.PuBuGn,\n",
    "             text=round(top10_books['Book-Rating'],2),\n",
    "             title= \"Top 10 rated books by the users\",\n",
    "             template= 'plotly_dark')\n",
    "fig.update_layout(\n",
    "    xaxis_title=\"Book title\",\n",
    "    yaxis_title=\"average rating\",\n",
    "    font = dict(size=15,family=\"Franklin Gothic\"))\n",
    "fig.show()"
   ]
  },
  {
   "cell_type": "markdown",
   "metadata": {},
   "source": [
    "**Harry Potter are the most rated books!**"
   ]
  },
  {
   "cell_type": "markdown",
   "metadata": {},
   "source": [
    "**Now we can recommend the most popular books!!**"
   ]
  },
  {
   "cell_type": "markdown",
   "metadata": {},
   "source": [
    "## Most Popular Books recommendation"
   ]
  },
  {
   "cell_type": "code",
   "execution_count": 71,
   "metadata": {
    "execution": {
     "iopub.execute_input": "2023-04-26T00:04:18.993866Z",
     "iopub.status.busy": "2023-04-26T00:04:18.992761Z",
     "iopub.status.idle": "2023-04-26T00:04:19.003501Z",
     "shell.execute_reply": "2023-04-26T00:04:19.002114Z",
     "shell.execute_reply.started": "2023-04-26T00:04:18.993816Z"
    }
   },
   "outputs": [
    {
     "name": "stdout",
     "output_type": "stream",
     "text": [
      "\u001b[92m Harry Potter and the Prisoner of Azkaban (Book 3)\u001b[00m\n",
      "Rating->\u001b[91m 9.0\u001b[00m\n",
      "--------------------------------------------------\n",
      "\u001b[92m Harry Potter and the Sorcerer's Stone (Harry Potter (Paperback))\u001b[00m\n",
      "Rating->\u001b[91m 8.9\u001b[00m\n",
      "--------------------------------------------------\n",
      "\u001b[92m Harry Potter and the Chamber of Secrets (Book 2)\u001b[00m\n",
      "Rating->\u001b[91m 8.8\u001b[00m\n",
      "--------------------------------------------------\n",
      "\u001b[92m The Secret Life of Bees\u001b[00m\n",
      "Rating->\u001b[91m 8.5\u001b[00m\n",
      "--------------------------------------------------\n",
      "\u001b[92m The Da Vinci Code\u001b[00m\n",
      "Rating->\u001b[91m 8.4\u001b[00m\n",
      "--------------------------------------------------\n",
      "\u001b[92m The Lovely Bones: A Novel\u001b[00m\n",
      "Rating->\u001b[91m 8.2\u001b[00m\n",
      "--------------------------------------------------\n",
      "\u001b[92m The Red Tent (Bestselling Backlist)\u001b[00m\n",
      "Rating->\u001b[91m 8.2\u001b[00m\n",
      "--------------------------------------------------\n",
      "\u001b[92m Where the Heart Is (Oprah's Book Club (Paperback))\u001b[00m\n",
      "Rating->\u001b[91m 8.1\u001b[00m\n",
      "--------------------------------------------------\n",
      "\u001b[92m Life of Pi\u001b[00m\n",
      "Rating->\u001b[91m 8.1\u001b[00m\n",
      "--------------------------------------------------\n",
      "\u001b[92m Angels &amp; Demons\u001b[00m\n",
      "Rating->\u001b[91m 8.0\u001b[00m\n",
      "--------------------------------------------------\n"
     ]
    }
   ],
   "source": [
    "def prGreen(skk): print(\"\\033[92m {}\\033[00m\" .format(skk))\n",
    "def prRed(skk): print(\"\\033[91m {}\\033[00m\" .format(skk))\n",
    "def prYellow(skk): print(\"\\033[93m {}\\033[00m\" .format(skk))\n",
    "\n",
    "    \n",
    "def popular_books():\n",
    "    \n",
    "    for (book, ratings) in zip(top10_books['Book-Title'], top10_books['Book-Rating']):\n",
    "        prGreen(book)\n",
    "        print(\"Rating\",end='->')\n",
    "        prRed(round(ratings,1))\n",
    "        print(\"-\"*50)\n",
    "        \n",
    "popular_books()"
   ]
  },
  {
   "cell_type": "markdown",
   "metadata": {},
   "source": [
    "## Item Based Collaborative Filtering"
   ]
  },
  {
   "cell_type": "markdown",
   "metadata": {},
   "source": [
    "**We are going to count the rating books to classify the common and rare ones**"
   ]
  },
  {
   "cell_type": "code",
   "execution_count": 72,
   "metadata": {
    "execution": {
     "iopub.execute_input": "2023-04-26T00:04:19.005959Z",
     "iopub.status.busy": "2023-04-26T00:04:19.005459Z",
     "iopub.status.idle": "2023-04-26T00:04:19.142153Z",
     "shell.execute_reply": "2023-04-26T00:04:19.140778Z",
     "shell.execute_reply.started": "2023-04-26T00:04:19.005885Z"
    }
   },
   "outputs": [
    {
     "data": {
      "text/html": [
       "<div>\n",
       "<style scoped>\n",
       "    .dataframe tbody tr th:only-of-type {\n",
       "        vertical-align: middle;\n",
       "    }\n",
       "\n",
       "    .dataframe tbody tr th {\n",
       "        vertical-align: top;\n",
       "    }\n",
       "\n",
       "    .dataframe thead th {\n",
       "        text-align: right;\n",
       "    }\n",
       "</style>\n",
       "<table border=\"1\" class=\"dataframe\">\n",
       "  <thead>\n",
       "    <tr style=\"text-align: right;\">\n",
       "      <th></th>\n",
       "      <th>Book-Title</th>\n",
       "    </tr>\n",
       "  </thead>\n",
       "  <tbody>\n",
       "    <tr>\n",
       "      <th>The Lovely Bones: A Novel</th>\n",
       "      <td>707</td>\n",
       "    </tr>\n",
       "    <tr>\n",
       "      <th>Wild Animus</th>\n",
       "      <td>581</td>\n",
       "    </tr>\n",
       "    <tr>\n",
       "      <th>The Da Vinci Code</th>\n",
       "      <td>494</td>\n",
       "    </tr>\n",
       "    <tr>\n",
       "      <th>The Secret Life of Bees</th>\n",
       "      <td>406</td>\n",
       "    </tr>\n",
       "    <tr>\n",
       "      <th>The Nanny Diaries: A Novel</th>\n",
       "      <td>393</td>\n",
       "    </tr>\n",
       "  </tbody>\n",
       "</table>\n",
       "</div>"
      ],
      "text/plain": [
       "                            Book-Title\n",
       "The Lovely Bones: A Novel          707\n",
       "Wild Animus                        581\n",
       "The Da Vinci Code                  494\n",
       "The Secret Life of Bees            406\n",
       "The Nanny Diaries: A Novel         393"
      ]
     },
     "execution_count": 72,
     "metadata": {},
     "output_type": "execute_result"
    }
   ],
   "source": [
    "count_rate = pd.DataFrame(df['Book-Title'].value_counts())\n",
    "count_rate.head()"
   ]
  },
  {
   "cell_type": "markdown",
   "metadata": {},
   "source": [
    "**So we are going to classify the rare books as the books who got rated 100 or less times**"
   ]
  },
  {
   "cell_type": "code",
   "execution_count": 73,
   "metadata": {
    "execution": {
     "iopub.execute_input": "2023-04-26T00:04:19.144677Z",
     "iopub.status.busy": "2023-04-26T00:04:19.144300Z",
     "iopub.status.idle": "2023-04-26T00:04:19.166732Z",
     "shell.execute_reply": "2023-04-26T00:04:19.165426Z",
     "shell.execute_reply.started": "2023-04-26T00:04:19.144641Z"
    }
   },
   "outputs": [
    {
     "data": {
      "text/plain": [
       "Index(['Don't Sweat the Small Stuff and It's All Small Stuff : Simple Ways to Keep the Little Things from Taking Over Your Life (Don't Sweat the Small Stuff Series)',\n",
       "       'Daddy's Little Girl', 'Disclosure',\n",
       "       'The Queen of the Damned (Vampire Chronicles (Paperback))',\n",
       "       'Cause of Death'],\n",
       "      dtype='object')"
      ]
     },
     "execution_count": 73,
     "metadata": {},
     "output_type": "execute_result"
    }
   ],
   "source": [
    "rare_books=count_rate[count_rate[\"Book-Title\"]<=100].index\n",
    "rare_books[:5]"
   ]
  },
  {
   "cell_type": "code",
   "execution_count": 74,
   "metadata": {
    "execution": {
     "iopub.execute_input": "2023-04-26T00:04:19.168743Z",
     "iopub.status.busy": "2023-04-26T00:04:19.168371Z",
     "iopub.status.idle": "2023-04-26T00:04:19.175754Z",
     "shell.execute_reply": "2023-04-26T00:04:19.174929Z",
     "shell.execute_reply.started": "2023-04-26T00:04:19.168710Z"
    }
   },
   "outputs": [
    {
     "data": {
      "text/plain": [
       "135373"
      ]
     },
     "execution_count": 74,
     "metadata": {},
     "output_type": "execute_result"
    }
   ],
   "source": [
    "len(rare_books)"
   ]
  },
  {
   "cell_type": "markdown",
   "metadata": {},
   "source": [
    "**so if the book is not included in the rare books we are going to classify it as common one**"
   ]
  },
  {
   "cell_type": "code",
   "execution_count": 75,
   "metadata": {
    "execution": {
     "iopub.execute_input": "2023-04-26T00:04:19.177161Z",
     "iopub.status.busy": "2023-04-26T00:04:19.176768Z",
     "iopub.status.idle": "2023-04-26T00:04:19.253050Z",
     "shell.execute_reply": "2023-04-26T00:04:19.251691Z",
     "shell.execute_reply.started": "2023-04-26T00:04:19.177123Z"
    }
   },
   "outputs": [
    {
     "data": {
      "text/html": [
       "<div>\n",
       "<style scoped>\n",
       "    .dataframe tbody tr th:only-of-type {\n",
       "        vertical-align: middle;\n",
       "    }\n",
       "\n",
       "    .dataframe tbody tr th {\n",
       "        vertical-align: top;\n",
       "    }\n",
       "\n",
       "    .dataframe thead th {\n",
       "        text-align: right;\n",
       "    }\n",
       "</style>\n",
       "<table border=\"1\" class=\"dataframe\">\n",
       "  <thead>\n",
       "    <tr style=\"text-align: right;\">\n",
       "      <th></th>\n",
       "      <th>ISBN</th>\n",
       "      <th>Book-Title</th>\n",
       "      <th>Book-Author</th>\n",
       "      <th>Year-Of-Publication</th>\n",
       "      <th>Publisher</th>\n",
       "      <th>Image-URL-S</th>\n",
       "      <th>Image-URL-M</th>\n",
       "      <th>Image-URL-L</th>\n",
       "      <th>User-ID</th>\n",
       "      <th>Book-Rating</th>\n",
       "    </tr>\n",
       "  </thead>\n",
       "  <tbody>\n",
       "    <tr>\n",
       "      <th>31</th>\n",
       "      <td>0399135782</td>\n",
       "      <td>The Kitchen God's Wife</td>\n",
       "      <td>Amy Tan</td>\n",
       "      <td>1991</td>\n",
       "      <td>Putnam Pub Group</td>\n",
       "      <td>http://images.amazon.com/images/P/0399135782.0...</td>\n",
       "      <td>http://images.amazon.com/images/P/0399135782.0...</td>\n",
       "      <td>http://images.amazon.com/images/P/0399135782.0...</td>\n",
       "      <td>11676</td>\n",
       "      <td>9</td>\n",
       "    </tr>\n",
       "    <tr>\n",
       "      <th>32</th>\n",
       "      <td>0399135782</td>\n",
       "      <td>The Kitchen God's Wife</td>\n",
       "      <td>Amy Tan</td>\n",
       "      <td>1991</td>\n",
       "      <td>Putnam Pub Group</td>\n",
       "      <td>http://images.amazon.com/images/P/0399135782.0...</td>\n",
       "      <td>http://images.amazon.com/images/P/0399135782.0...</td>\n",
       "      <td>http://images.amazon.com/images/P/0399135782.0...</td>\n",
       "      <td>29526</td>\n",
       "      <td>9</td>\n",
       "    </tr>\n",
       "    <tr>\n",
       "      <th>34</th>\n",
       "      <td>0399135782</td>\n",
       "      <td>The Kitchen God's Wife</td>\n",
       "      <td>Amy Tan</td>\n",
       "      <td>1991</td>\n",
       "      <td>Putnam Pub Group</td>\n",
       "      <td>http://images.amazon.com/images/P/0399135782.0...</td>\n",
       "      <td>http://images.amazon.com/images/P/0399135782.0...</td>\n",
       "      <td>http://images.amazon.com/images/P/0399135782.0...</td>\n",
       "      <td>46398</td>\n",
       "      <td>9</td>\n",
       "    </tr>\n",
       "    <tr>\n",
       "      <th>36</th>\n",
       "      <td>0399135782</td>\n",
       "      <td>The Kitchen God's Wife</td>\n",
       "      <td>Amy Tan</td>\n",
       "      <td>1991</td>\n",
       "      <td>Putnam Pub Group</td>\n",
       "      <td>http://images.amazon.com/images/P/0399135782.0...</td>\n",
       "      <td>http://images.amazon.com/images/P/0399135782.0...</td>\n",
       "      <td>http://images.amazon.com/images/P/0399135782.0...</td>\n",
       "      <td>49635</td>\n",
       "      <td>9</td>\n",
       "    </tr>\n",
       "    <tr>\n",
       "      <th>37</th>\n",
       "      <td>0399135782</td>\n",
       "      <td>The Kitchen God's Wife</td>\n",
       "      <td>Amy Tan</td>\n",
       "      <td>1991</td>\n",
       "      <td>Putnam Pub Group</td>\n",
       "      <td>http://images.amazon.com/images/P/0399135782.0...</td>\n",
       "      <td>http://images.amazon.com/images/P/0399135782.0...</td>\n",
       "      <td>http://images.amazon.com/images/P/0399135782.0...</td>\n",
       "      <td>67958</td>\n",
       "      <td>10</td>\n",
       "    </tr>\n",
       "  </tbody>\n",
       "</table>\n",
       "</div>"
      ],
      "text/plain": [
       "          ISBN              Book-Title Book-Author  Year-Of-Publication  \\\n",
       "31  0399135782  The Kitchen God's Wife     Amy Tan                 1991   \n",
       "32  0399135782  The Kitchen God's Wife     Amy Tan                 1991   \n",
       "34  0399135782  The Kitchen God's Wife     Amy Tan                 1991   \n",
       "36  0399135782  The Kitchen God's Wife     Amy Tan                 1991   \n",
       "37  0399135782  The Kitchen God's Wife     Amy Tan                 1991   \n",
       "\n",
       "           Publisher                                        Image-URL-S  \\\n",
       "31  Putnam Pub Group  http://images.amazon.com/images/P/0399135782.0...   \n",
       "32  Putnam Pub Group  http://images.amazon.com/images/P/0399135782.0...   \n",
       "34  Putnam Pub Group  http://images.amazon.com/images/P/0399135782.0...   \n",
       "36  Putnam Pub Group  http://images.amazon.com/images/P/0399135782.0...   \n",
       "37  Putnam Pub Group  http://images.amazon.com/images/P/0399135782.0...   \n",
       "\n",
       "                                          Image-URL-M  \\\n",
       "31  http://images.amazon.com/images/P/0399135782.0...   \n",
       "32  http://images.amazon.com/images/P/0399135782.0...   \n",
       "34  http://images.amazon.com/images/P/0399135782.0...   \n",
       "36  http://images.amazon.com/images/P/0399135782.0...   \n",
       "37  http://images.amazon.com/images/P/0399135782.0...   \n",
       "\n",
       "                                          Image-URL-L  User-ID  Book-Rating  \n",
       "31  http://images.amazon.com/images/P/0399135782.0...    11676            9  \n",
       "32  http://images.amazon.com/images/P/0399135782.0...    29526            9  \n",
       "34  http://images.amazon.com/images/P/0399135782.0...    46398            9  \n",
       "36  http://images.amazon.com/images/P/0399135782.0...    49635            9  \n",
       "37  http://images.amazon.com/images/P/0399135782.0...    67958           10  "
      ]
     },
     "execution_count": 75,
     "metadata": {},
     "output_type": "execute_result"
    }
   ],
   "source": [
    "common_books=df[~df[\"Book-Title\"].isin(rare_books)]\n",
    "common_books.head()"
   ]
  },
  {
   "cell_type": "code",
   "execution_count": 76,
   "metadata": {
    "execution": {
     "iopub.execute_input": "2023-04-26T00:04:19.255077Z",
     "iopub.status.busy": "2023-04-26T00:04:19.254693Z",
     "iopub.status.idle": "2023-04-26T00:04:19.263950Z",
     "shell.execute_reply": "2023-04-26T00:04:19.262174Z",
     "shell.execute_reply.started": "2023-04-26T00:04:19.255039Z"
    }
   },
   "outputs": [
    {
     "data": {
      "text/plain": [
       "(33641, 10)"
      ]
     },
     "execution_count": 76,
     "metadata": {},
     "output_type": "execute_result"
    }
   ],
   "source": [
    "common_books.shape"
   ]
  },
  {
   "cell_type": "markdown",
   "metadata": {},
   "source": [
    "**Now lets make recommendation if the book is common**"
   ]
  },
  {
   "cell_type": "markdown",
   "metadata": {},
   "source": [
    "**First lets create dataframe which its index is the Users IDs and the columns are the books titles and the values are the rating of the user to that book**"
   ]
  },
  {
   "cell_type": "code",
   "execution_count": 77,
   "metadata": {
    "execution": {
     "iopub.execute_input": "2023-04-26T00:04:19.266091Z",
     "iopub.status.busy": "2023-04-26T00:04:19.265550Z",
     "iopub.status.idle": "2023-04-26T00:04:19.378010Z",
     "shell.execute_reply": "2023-04-26T00:04:19.376424Z",
     "shell.execute_reply.started": "2023-04-26T00:04:19.266036Z"
    }
   },
   "outputs": [],
   "source": [
    "item_based_cb = common_books.pivot_table(index=[\"User-ID\"],columns=[\"Book-Title\"],values=\"Book-Rating\")"
   ]
  },
  {
   "cell_type": "markdown",
   "metadata": {},
   "source": [
    "**Lets now assume a book title and see what recommendation we can make**"
   ]
  },
  {
   "cell_type": "markdown",
   "metadata": {},
   "source": [
    "The corrwith function in Pandas computes pair-wise correlations between rows and columns of a dataframe with rows and columns of a series or dataframe. Rows and columns of the dataframe and the other object are first matched before computing the correlations."
   ]
  },
  {
   "cell_type": "markdown",
   "metadata": {},
   "source": [
    "**Now we are creating recommendation df with the corrwith function**"
   ]
  },
  {
   "cell_type": "code",
   "execution_count": 78,
   "metadata": {
    "execution": {
     "iopub.execute_input": "2023-04-26T00:04:19.388132Z",
     "iopub.status.busy": "2023-04-26T00:04:19.387339Z",
     "iopub.status.idle": "2023-04-26T00:04:19.476598Z",
     "shell.execute_reply": "2023-04-26T00:04:19.475325Z",
     "shell.execute_reply.started": "2023-04-26T00:04:19.388078Z"
    }
   },
   "outputs": [
    {
     "data": {
      "text/html": [
       "<div>\n",
       "<style scoped>\n",
       "    .dataframe tbody tr th:only-of-type {\n",
       "        vertical-align: middle;\n",
       "    }\n",
       "\n",
       "    .dataframe tbody tr th {\n",
       "        vertical-align: top;\n",
       "    }\n",
       "\n",
       "    .dataframe thead th {\n",
       "        text-align: right;\n",
       "    }\n",
       "</style>\n",
       "<table border=\"1\" class=\"dataframe\">\n",
       "  <thead>\n",
       "    <tr style=\"text-align: right;\">\n",
       "      <th></th>\n",
       "      <th>Book-Title</th>\n",
       "      <th>0</th>\n",
       "    </tr>\n",
       "  </thead>\n",
       "  <tbody>\n",
       "    <tr>\n",
       "      <th>0</th>\n",
       "      <td>Me Talk Pretty One Day</td>\n",
       "      <td>1.0</td>\n",
       "    </tr>\n",
       "    <tr>\n",
       "      <th>1</th>\n",
       "      <td>Left Behind: A Novel of the Earth's Last Days ...</td>\n",
       "      <td>1.0</td>\n",
       "    </tr>\n",
       "    <tr>\n",
       "      <th>2</th>\n",
       "      <td>A Child Called \\It\\\": One Child's Courage to S...</td>\n",
       "      <td>1.0</td>\n",
       "    </tr>\n",
       "    <tr>\n",
       "      <th>3</th>\n",
       "      <td>Lord of the Flies</td>\n",
       "      <td>1.0</td>\n",
       "    </tr>\n",
       "    <tr>\n",
       "      <th>4</th>\n",
       "      <td>The Chamber</td>\n",
       "      <td>1.0</td>\n",
       "    </tr>\n",
       "    <tr>\n",
       "      <th>...</th>\n",
       "      <td>...</td>\n",
       "      <td>...</td>\n",
       "    </tr>\n",
       "    <tr>\n",
       "      <th>187</th>\n",
       "      <td>The Rescue</td>\n",
       "      <td>NaN</td>\n",
       "    </tr>\n",
       "    <tr>\n",
       "      <th>188</th>\n",
       "      <td>The Return of the King (The Lord of the Rings,...</td>\n",
       "      <td>NaN</td>\n",
       "    </tr>\n",
       "    <tr>\n",
       "      <th>189</th>\n",
       "      <td>The Smoke Jumper</td>\n",
       "      <td>NaN</td>\n",
       "    </tr>\n",
       "    <tr>\n",
       "      <th>190</th>\n",
       "      <td>When the Wind Blows</td>\n",
       "      <td>NaN</td>\n",
       "    </tr>\n",
       "    <tr>\n",
       "      <th>191</th>\n",
       "      <td>\\O\\\" Is for Outlaw\"</td>\n",
       "      <td>NaN</td>\n",
       "    </tr>\n",
       "  </tbody>\n",
       "</table>\n",
       "<p>192 rows × 2 columns</p>\n",
       "</div>"
      ],
      "text/plain": [
       "                                            Book-Title    0\n",
       "0                               Me Talk Pretty One Day  1.0\n",
       "1    Left Behind: A Novel of the Earth's Last Days ...  1.0\n",
       "2    A Child Called \\It\\\": One Child's Courage to S...  1.0\n",
       "3                                    Lord of the Flies  1.0\n",
       "4                                          The Chamber  1.0\n",
       "..                                                 ...  ...\n",
       "187                                         The Rescue  NaN\n",
       "188  The Return of the King (The Lord of the Rings,...  NaN\n",
       "189                                   The Smoke Jumper  NaN\n",
       "190                                When the Wind Blows  NaN\n",
       "191                                \\O\\\" Is for Outlaw\"  NaN\n",
       "\n",
       "[192 rows x 2 columns]"
      ]
     },
     "execution_count": 78,
     "metadata": {},
     "output_type": "execute_result"
    }
   ],
   "source": [
    "book_title = 'Me Talk Pretty One Day'\n",
    "sim = item_based_cb[book_title]\n",
    "recommendation_df=pd.DataFrame(item_based_cb.corrwith(sim).sort_values(ascending=False)).reset_index(drop=False)\n",
    "recommendation_df"
   ]
  },
  {
   "cell_type": "markdown",
   "metadata": {},
   "source": [
    "**Lets check if the book the user choosen is included in the recommendation df or not, bec if it is included we don't want to recommend it so we will make sure to drop it**"
   ]
  },
  {
   "cell_type": "code",
   "execution_count": 79,
   "metadata": {
    "execution": {
     "iopub.execute_input": "2023-04-26T00:04:19.478811Z",
     "iopub.status.busy": "2023-04-26T00:04:19.478347Z",
     "iopub.status.idle": "2023-04-26T00:04:19.487182Z",
     "shell.execute_reply": "2023-04-26T00:04:19.485813Z",
     "shell.execute_reply.started": "2023-04-26T00:04:19.478750Z"
    }
   },
   "outputs": [],
   "source": [
    "if not recommendation_df['Book-Title'][recommendation_df['Book-Title'] == book_title].empty:\n",
    "    recommendation_df=recommendation_df.drop(recommendation_df[recommendation_df[\"Book-Title\"]==book_title].index[0])"
   ]
  },
  {
   "cell_type": "markdown",
   "metadata": {},
   "source": [
    "**Lets now collect the books with less ratings (which its average rating is less than 5)**"
   ]
  },
  {
   "cell_type": "code",
   "execution_count": 80,
   "metadata": {
    "execution": {
     "iopub.execute_input": "2023-04-26T00:04:19.489285Z",
     "iopub.status.busy": "2023-04-26T00:04:19.488788Z",
     "iopub.status.idle": "2023-04-26T00:04:24.775399Z",
     "shell.execute_reply": "2023-04-26T00:04:24.774185Z",
     "shell.execute_reply.started": "2023-04-26T00:04:19.489237Z"
    }
   },
   "outputs": [
    {
     "data": {
      "text/plain": [
       "['Wild Animus']"
      ]
     },
     "execution_count": 80,
     "metadata": {},
     "output_type": "execute_result"
    }
   ],
   "source": [
    "less_rating=[]\n",
    "for i in recommendation_df[\"Book-Title\"]:\n",
    "    if df[df[\"Book-Title\"]==i][\"Book-Rating\"].mean() < 5:\n",
    "        less_rating.append(i)\n",
    "        \n",
    "less_rating"
   ]
  },
  {
   "cell_type": "markdown",
   "metadata": {},
   "source": [
    "**Lets make sure to rank the highly rated books**"
   ]
  },
  {
   "cell_type": "code",
   "execution_count": 81,
   "metadata": {
    "execution": {
     "iopub.execute_input": "2023-04-26T00:04:24.777943Z",
     "iopub.status.busy": "2023-04-26T00:04:24.777445Z",
     "iopub.status.idle": "2023-04-26T00:04:25.782390Z",
     "shell.execute_reply": "2023-04-26T00:04:25.780712Z",
     "shell.execute_reply.started": "2023-04-26T00:04:24.777872Z"
    }
   },
   "outputs": [
    {
     "name": "stdout",
     "output_type": "stream",
     "text": [
      "\u001b[92m Left Behind: A Novel of the Earth's Last Days (Left Behind No. 1)\u001b[00m\n",
      "Rating ->\u001b[91m 7.7\u001b[00m\n",
      "--------------------------------------------------\n",
      "\u001b[92m A Child Called \\It\\\": One Child's Courage to Survive\"\u001b[00m\n",
      "Rating ->\u001b[91m 8.0\u001b[00m\n",
      "--------------------------------------------------\n",
      "\u001b[92m Lord of the Flies\u001b[00m\n",
      "Rating ->\u001b[91m 8.0\u001b[00m\n",
      "--------------------------------------------------\n",
      "\u001b[92m The Chamber\u001b[00m\n",
      "Rating ->\u001b[91m 7.4\u001b[00m\n",
      "--------------------------------------------------\n",
      "\u001b[92m The Poisonwood Bible: A Novel\u001b[00m\n",
      "Rating ->\u001b[91m 8.2\u001b[00m\n",
      "--------------------------------------------------\n",
      "\u001b[92m The Lost World\u001b[00m\n",
      "Rating ->\u001b[91m 7.2\u001b[00m\n",
      "--------------------------------------------------\n",
      "\u001b[92m Four Blind Mice\u001b[00m\n",
      "Rating ->\u001b[91m 8.2\u001b[00m\n",
      "--------------------------------------------------\n",
      "\u001b[92m It\u001b[00m\n",
      "Rating ->\u001b[91m 8.1\u001b[00m\n",
      "--------------------------------------------------\n",
      "\u001b[92m She's Come Undone (Oprah's Book Club)\u001b[00m\n",
      "Rating ->\u001b[91m 7.7\u001b[00m\n",
      "--------------------------------------------------\n",
      "\u001b[92m While I Was Gone\u001b[00m\n",
      "Rating ->\u001b[91m 7.0\u001b[00m\n",
      "--------------------------------------------------\n",
      "\u001b[92m The Reader\u001b[00m\n",
      "Rating ->\u001b[91m 7.2\u001b[00m\n",
      "--------------------------------------------------\n",
      "\u001b[92m Seabiscuit: An American Legend\u001b[00m\n",
      "Rating ->\u001b[91m 8.5\u001b[00m\n",
      "--------------------------------------------------\n",
      "\u001b[92m Q Is for Quarry\u001b[00m\n",
      "Rating ->\u001b[91m 7.9\u001b[00m\n",
      "--------------------------------------------------\n",
      "\u001b[92m Timeline\u001b[00m\n",
      "Rating ->\u001b[91m 7.9\u001b[00m\n",
      "--------------------------------------------------\n",
      "\u001b[92m The Subtle Knife (His Dark Materials, Book 2)\u001b[00m\n",
      "Rating ->\u001b[91m 8.7\u001b[00m\n",
      "--------------------------------------------------\n",
      "\u001b[92m The Hitchhiker's Guide to the Galaxy\u001b[00m\n",
      "Rating ->\u001b[91m 8.5\u001b[00m\n",
      "--------------------------------------------------\n",
      "\u001b[92m Pigs in Heaven\u001b[00m\n",
      "Rating ->\u001b[91m 8.0\u001b[00m\n",
      "--------------------------------------------------\n",
      "\u001b[92m A Walk to Remember\u001b[00m\n",
      "Rating ->\u001b[91m 7.8\u001b[00m\n",
      "--------------------------------------------------\n",
      "\u001b[92m The Blind Assassin\u001b[00m\n",
      "Rating ->\u001b[91m 7.5\u001b[00m\n",
      "--------------------------------------------------\n",
      "\u001b[92m The Testament\u001b[00m\n",
      "Rating ->\u001b[91m 7.5\u001b[00m\n",
      "--------------------------------------------------\n",
      "\u001b[92m The Pilot's Wife : A Novel\u001b[00m\n",
      "Rating ->\u001b[91m 7.5\u001b[00m\n",
      "--------------------------------------------------\n",
      "\u001b[92m The Two Towers (The Lord of the Rings, Part 2)\u001b[00m\n",
      "Rating ->\u001b[91m 9.3\u001b[00m\n",
      "--------------------------------------------------\n",
      "\u001b[92m The Fellowship of the Ring (The Lord of the Rings, Part 1)\u001b[00m\n",
      "Rating ->\u001b[91m 8.9\u001b[00m\n",
      "--------------------------------------------------\n",
      "\u001b[92m The Hours: A Novel\u001b[00m\n",
      "Rating ->\u001b[91m 7.6\u001b[00m\n",
      "--------------------------------------------------\n",
      "\u001b[92m Animal Farm\u001b[00m\n",
      "Rating ->\u001b[91m 8.3\u001b[00m\n",
      "--------------------------------------------------\n",
      "\u001b[92m Two for the Dough\u001b[00m\n",
      "Rating ->\u001b[91m 8.3\u001b[00m\n",
      "--------------------------------------------------\n",
      "\u001b[92m A Bend in the Road\u001b[00m\n",
      "Rating ->\u001b[91m 7.5\u001b[00m\n",
      "--------------------------------------------------\n",
      "\u001b[92m The Catcher in the Rye\u001b[00m\n",
      "Rating ->\u001b[91m 7.7\u001b[00m\n",
      "--------------------------------------------------\n",
      "\u001b[92m Dolores Claiborne\u001b[00m\n",
      "Rating ->\u001b[91m 7.4\u001b[00m\n",
      "--------------------------------------------------\n",
      "\u001b[92m Silence of the Lambs\u001b[00m\n",
      "Rating ->\u001b[91m 8.4\u001b[00m\n",
      "--------------------------------------------------\n",
      "\u001b[92m Icy Sparks\u001b[00m\n",
      "Rating ->\u001b[91m 7.3\u001b[00m\n",
      "--------------------------------------------------\n",
      "\u001b[92m Neverwhere\u001b[00m\n",
      "Rating ->\u001b[91m 8.1\u001b[00m\n",
      "--------------------------------------------------\n",
      "\u001b[92m The Vampire Lestat (Vampire Chronicles, Book II)\u001b[00m\n",
      "Rating ->\u001b[91m 8.0\u001b[00m\n",
      "--------------------------------------------------\n",
      "\u001b[92m The Tao of Pooh\u001b[00m\n",
      "Rating ->\u001b[91m 8.0\u001b[00m\n",
      "--------------------------------------------------\n"
     ]
    }
   ],
   "source": [
    "if recommendation_df.shape[0] - len(less_rating) > 5:\n",
    "    \n",
    "    recommendation_df=recommendation_df[~recommendation_df[\"Book-Title\"].isin(less_rating)]            \n",
    "    recommendation_df.columns=[\"Book-Title\",\"Correlation\"]\n",
    "    \n",
    "    \n",
    "for (candidate_book, corr) in zip(recommendation_df['Book-Title'], recommendation_df['Correlation']):\n",
    "    corr_thershold = 0.7\n",
    "    if corr > corr_thershold:\n",
    "        ratings = df[df['Book-Title'] == candidate_book]['Book-Rating'].mean()\n",
    "        prGreen(candidate_book)\n",
    "        print(\"Rating \", end = '->')\n",
    "        prRed(round(ratings,1))\n",
    "        print(\"-\"*50)\n",
    "    else:\n",
    "        break"
   ]
  },
  {
   "cell_type": "markdown",
   "metadata": {},
   "source": [
    "**Hooray!! We created the recommendation system :)**<br>\n",
    "**Now our item based collaborative recommendation system is ready, lets put it all together to bulild our RS**"
   ]
  },
  {
   "cell_type": "code",
   "execution_count": 82,
   "metadata": {
    "execution": {
     "iopub.execute_input": "2023-04-26T00:04:25.784583Z",
     "iopub.status.busy": "2023-04-26T00:04:25.784155Z",
     "iopub.status.idle": "2023-04-26T00:04:25.800159Z",
     "shell.execute_reply": "2023-04-26T00:04:25.798578Z",
     "shell.execute_reply.started": "2023-04-26T00:04:25.784547Z"
    }
   },
   "outputs": [],
   "source": [
    "def item_based_coll_rs(book_title):\n",
    "    \n",
    "    book_title = str(book_title)\n",
    "    if book_title in books_with_ratings['Book-Title'].values:\n",
    "        \n",
    "        count_rate = pd.DataFrame(df['Book-Title'].value_counts())\n",
    "        rare_books=count_rate[count_rate[\"Book-Title\"]<=100].index\n",
    "        \n",
    "        common_books=df[~df[\"Book-Title\"].isin(rare_books)]\n",
    "\n",
    "        if book_title in rare_books:\n",
    "            prYellow(\"A rare book, so u may try our popular books: \\n \")\n",
    "            popular_books()\n",
    "            \n",
    "        else:\n",
    "            \n",
    "            item_based_cb = common_books.pivot_table(index=[\"User-ID\"],columns=[\"Book-Title\"],values=\"Book-Rating\")\n",
    "            sim = item_based_cb[book_title]\n",
    "            recommendation_df=pd.DataFrame(item_based_cb.corrwith(sim).sort_values(ascending=False)).reset_index(drop=False)\n",
    "\n",
    "            if not recommendation_df['Book-Title'][recommendation_df['Book-Title'] == book_title].empty:\n",
    "                recommendation_df=recommendation_df.drop(recommendation_df[recommendation_df[\"Book-Title\"]==book_title].index[0])\n",
    "\n",
    "            less_rating=[]\n",
    "            for i in recommendation_df[\"Book-Title\"]:\n",
    "                if df[df[\"Book-Title\"]==i][\"Book-Rating\"].mean() < 5:\n",
    "                    less_rating.append(i)\n",
    "\n",
    "            if recommendation_df.shape[0] - len(less_rating) > 5:\n",
    "\n",
    "                recommendation_df=recommendation_df[~recommendation_df[\"Book-Title\"].isin(less_rating)]            \n",
    "                recommendation_df.columns=[\"Book-Title\",\"Correlation\"]\n",
    "\n",
    "\n",
    "            for (candidate_book, corr) in zip(recommendation_df['Book-Title'], recommendation_df['Correlation']):\n",
    "                corr_thershold = 0.7\n",
    "                if corr > corr_thershold:\n",
    "                    ratings = df[df['Book-Title'] == candidate_book]['Book-Rating'].mean()\n",
    "                    prGreen(candidate_book)\n",
    "                    print(\"Rating \", end = '->')\n",
    "                    prRed(round(ratings,1))\n",
    "                    print(\"-\"*50)\n",
    "                else:\n",
    "                    break\n",
    "                \n",
    "    else:\n",
    "        prYellow(\"This book is not in our library, check out our most popular books:\")\n",
    "        print()\n",
    "        popular_books()"
   ]
  },
  {
   "cell_type": "code",
   "execution_count": 83,
   "metadata": {
    "execution": {
     "iopub.execute_input": "2023-04-26T00:04:25.802565Z",
     "iopub.status.busy": "2023-04-26T00:04:25.802033Z",
     "iopub.status.idle": "2023-04-26T00:04:32.444324Z",
     "shell.execute_reply": "2023-04-26T00:04:32.443012Z",
     "shell.execute_reply.started": "2023-04-26T00:04:25.802480Z"
    }
   },
   "outputs": [
    {
     "name": "stdout",
     "output_type": "stream",
     "text": [
      "\u001b[92m Left Behind: A Novel of the Earth's Last Days (Left Behind No. 1)\u001b[00m\n",
      "Rating ->\u001b[91m 7.7\u001b[00m\n",
      "--------------------------------------------------\n",
      "\u001b[92m A Child Called \\It\\\": One Child's Courage to Survive\"\u001b[00m\n",
      "Rating ->\u001b[91m 8.0\u001b[00m\n",
      "--------------------------------------------------\n",
      "\u001b[92m Lord of the Flies\u001b[00m\n",
      "Rating ->\u001b[91m 8.0\u001b[00m\n",
      "--------------------------------------------------\n",
      "\u001b[92m The Chamber\u001b[00m\n",
      "Rating ->\u001b[91m 7.4\u001b[00m\n",
      "--------------------------------------------------\n",
      "\u001b[92m The Poisonwood Bible: A Novel\u001b[00m\n",
      "Rating ->\u001b[91m 8.2\u001b[00m\n",
      "--------------------------------------------------\n",
      "\u001b[92m The Lost World\u001b[00m\n",
      "Rating ->\u001b[91m 7.2\u001b[00m\n",
      "--------------------------------------------------\n",
      "\u001b[92m Four Blind Mice\u001b[00m\n",
      "Rating ->\u001b[91m 8.2\u001b[00m\n",
      "--------------------------------------------------\n",
      "\u001b[92m It\u001b[00m\n",
      "Rating ->\u001b[91m 8.1\u001b[00m\n",
      "--------------------------------------------------\n",
      "\u001b[92m She's Come Undone (Oprah's Book Club)\u001b[00m\n",
      "Rating ->\u001b[91m 7.7\u001b[00m\n",
      "--------------------------------------------------\n",
      "\u001b[92m While I Was Gone\u001b[00m\n",
      "Rating ->\u001b[91m 7.0\u001b[00m\n",
      "--------------------------------------------------\n",
      "\u001b[92m The Reader\u001b[00m\n",
      "Rating ->\u001b[91m 7.2\u001b[00m\n",
      "--------------------------------------------------\n",
      "\u001b[92m Seabiscuit: An American Legend\u001b[00m\n",
      "Rating ->\u001b[91m 8.5\u001b[00m\n",
      "--------------------------------------------------\n",
      "\u001b[92m Q Is for Quarry\u001b[00m\n",
      "Rating ->\u001b[91m 7.9\u001b[00m\n",
      "--------------------------------------------------\n",
      "\u001b[92m Timeline\u001b[00m\n",
      "Rating ->\u001b[91m 7.9\u001b[00m\n",
      "--------------------------------------------------\n",
      "\u001b[92m The Subtle Knife (His Dark Materials, Book 2)\u001b[00m\n",
      "Rating ->\u001b[91m 8.7\u001b[00m\n",
      "--------------------------------------------------\n",
      "\u001b[92m The Hitchhiker's Guide to the Galaxy\u001b[00m\n",
      "Rating ->\u001b[91m 8.5\u001b[00m\n",
      "--------------------------------------------------\n",
      "\u001b[92m Pigs in Heaven\u001b[00m\n",
      "Rating ->\u001b[91m 8.0\u001b[00m\n",
      "--------------------------------------------------\n",
      "\u001b[92m A Walk to Remember\u001b[00m\n",
      "Rating ->\u001b[91m 7.8\u001b[00m\n",
      "--------------------------------------------------\n",
      "\u001b[92m The Blind Assassin\u001b[00m\n",
      "Rating ->\u001b[91m 7.5\u001b[00m\n",
      "--------------------------------------------------\n",
      "\u001b[92m The Testament\u001b[00m\n",
      "Rating ->\u001b[91m 7.5\u001b[00m\n",
      "--------------------------------------------------\n",
      "\u001b[92m The Pilot's Wife : A Novel\u001b[00m\n",
      "Rating ->\u001b[91m 7.5\u001b[00m\n",
      "--------------------------------------------------\n",
      "\u001b[92m The Two Towers (The Lord of the Rings, Part 2)\u001b[00m\n",
      "Rating ->\u001b[91m 9.3\u001b[00m\n",
      "--------------------------------------------------\n",
      "\u001b[92m The Fellowship of the Ring (The Lord of the Rings, Part 1)\u001b[00m\n",
      "Rating ->\u001b[91m 8.9\u001b[00m\n",
      "--------------------------------------------------\n",
      "\u001b[92m The Hours: A Novel\u001b[00m\n",
      "Rating ->\u001b[91m 7.6\u001b[00m\n",
      "--------------------------------------------------\n",
      "\u001b[92m Animal Farm\u001b[00m\n",
      "Rating ->\u001b[91m 8.3\u001b[00m\n",
      "--------------------------------------------------\n",
      "\u001b[92m Two for the Dough\u001b[00m\n",
      "Rating ->\u001b[91m 8.3\u001b[00m\n",
      "--------------------------------------------------\n",
      "\u001b[92m A Bend in the Road\u001b[00m\n",
      "Rating ->\u001b[91m 7.5\u001b[00m\n",
      "--------------------------------------------------\n",
      "\u001b[92m The Catcher in the Rye\u001b[00m\n",
      "Rating ->\u001b[91m 7.7\u001b[00m\n",
      "--------------------------------------------------\n",
      "\u001b[92m Dolores Claiborne\u001b[00m\n",
      "Rating ->\u001b[91m 7.4\u001b[00m\n",
      "--------------------------------------------------\n",
      "\u001b[92m Silence of the Lambs\u001b[00m\n",
      "Rating ->\u001b[91m 8.4\u001b[00m\n",
      "--------------------------------------------------\n",
      "\u001b[92m Icy Sparks\u001b[00m\n",
      "Rating ->\u001b[91m 7.3\u001b[00m\n",
      "--------------------------------------------------\n",
      "\u001b[92m Neverwhere\u001b[00m\n",
      "Rating ->\u001b[91m 8.1\u001b[00m\n",
      "--------------------------------------------------\n",
      "\u001b[92m The Vampire Lestat (Vampire Chronicles, Book II)\u001b[00m\n",
      "Rating ->\u001b[91m 8.0\u001b[00m\n",
      "--------------------------------------------------\n",
      "\u001b[92m The Tao of Pooh\u001b[00m\n",
      "Rating ->\u001b[91m 8.0\u001b[00m\n",
      "--------------------------------------------------\n"
     ]
    }
   ],
   "source": [
    "item_based_coll_rs('Me Talk Pretty One Day')"
   ]
  },
  {
   "cell_type": "code",
   "execution_count": 84,
   "metadata": {
    "execution": {
     "iopub.execute_input": "2023-04-26T00:04:32.446479Z",
     "iopub.status.busy": "2023-04-26T00:04:32.446130Z",
     "iopub.status.idle": "2023-04-26T00:04:32.688675Z",
     "shell.execute_reply": "2023-04-26T00:04:32.687351Z",
     "shell.execute_reply.started": "2023-04-26T00:04:32.446444Z"
    }
   },
   "outputs": [
    {
     "name": "stdout",
     "output_type": "stream",
     "text": [
      "\u001b[93m A rare book, so u may try our popular books: \n",
      " \u001b[00m\n",
      "\u001b[92m Harry Potter and the Prisoner of Azkaban (Book 3)\u001b[00m\n",
      "Rating->\u001b[91m 9.0\u001b[00m\n",
      "--------------------------------------------------\n",
      "\u001b[92m Harry Potter and the Sorcerer's Stone (Harry Potter (Paperback))\u001b[00m\n",
      "Rating->\u001b[91m 8.9\u001b[00m\n",
      "--------------------------------------------------\n",
      "\u001b[92m Harry Potter and the Chamber of Secrets (Book 2)\u001b[00m\n",
      "Rating->\u001b[91m 8.8\u001b[00m\n",
      "--------------------------------------------------\n",
      "\u001b[92m The Secret Life of Bees\u001b[00m\n",
      "Rating->\u001b[91m 8.5\u001b[00m\n",
      "--------------------------------------------------\n",
      "\u001b[92m The Da Vinci Code\u001b[00m\n",
      "Rating->\u001b[91m 8.4\u001b[00m\n",
      "--------------------------------------------------\n",
      "\u001b[92m The Lovely Bones: A Novel\u001b[00m\n",
      "Rating->\u001b[91m 8.2\u001b[00m\n",
      "--------------------------------------------------\n",
      "\u001b[92m The Red Tent (Bestselling Backlist)\u001b[00m\n",
      "Rating->\u001b[91m 8.2\u001b[00m\n",
      "--------------------------------------------------\n",
      "\u001b[92m Where the Heart Is (Oprah's Book Club (Paperback))\u001b[00m\n",
      "Rating->\u001b[91m 8.1\u001b[00m\n",
      "--------------------------------------------------\n",
      "\u001b[92m Life of Pi\u001b[00m\n",
      "Rating->\u001b[91m 8.1\u001b[00m\n",
      "--------------------------------------------------\n",
      "\u001b[92m Angels &amp; Demons\u001b[00m\n",
      "Rating->\u001b[91m 8.0\u001b[00m\n",
      "--------------------------------------------------\n"
     ]
    }
   ],
   "source": [
    "item_based_coll_rs(\"From One to One Hundred\")"
   ]
  },
  {
   "cell_type": "code",
   "execution_count": 85,
   "metadata": {
    "execution": {
     "iopub.execute_input": "2023-04-26T00:04:32.691916Z",
     "iopub.status.busy": "2023-04-26T00:04:32.691371Z",
     "iopub.status.idle": "2023-04-26T00:04:39.486740Z",
     "shell.execute_reply": "2023-04-26T00:04:39.485895Z",
     "shell.execute_reply.started": "2023-04-26T00:04:32.691844Z"
    }
   },
   "outputs": [
    {
     "name": "stdout",
     "output_type": "stream",
     "text": [
      "\u001b[92m The Beach House\u001b[00m\n",
      "Rating ->\u001b[91m 7.7\u001b[00m\n",
      "--------------------------------------------------\n",
      "\u001b[92m Unnatural Exposure\u001b[00m\n",
      "Rating ->\u001b[91m 7.8\u001b[00m\n",
      "--------------------------------------------------\n",
      "\u001b[92m The Blind Assassin\u001b[00m\n",
      "Rating ->\u001b[91m 7.5\u001b[00m\n",
      "--------------------------------------------------\n",
      "\u001b[92m Back Roads\u001b[00m\n",
      "Rating ->\u001b[91m 7.3\u001b[00m\n",
      "--------------------------------------------------\n",
      "\u001b[92m Mystic River\u001b[00m\n",
      "Rating ->\u001b[91m 7.9\u001b[00m\n",
      "--------------------------------------------------\n",
      "\u001b[92m The Color of Water: A Black Man's Tribute to His White Mother\u001b[00m\n",
      "Rating ->\u001b[91m 8.3\u001b[00m\n",
      "--------------------------------------------------\n",
      "\u001b[92m Angela's Ashes (MMP) : A Memoir\u001b[00m\n",
      "Rating ->\u001b[91m 8.0\u001b[00m\n",
      "--------------------------------------------------\n",
      "\u001b[92m The Smoke Jumper\u001b[00m\n",
      "Rating ->\u001b[91m 7.4\u001b[00m\n",
      "--------------------------------------------------\n",
      "\u001b[92m Isle of Dogs\u001b[00m\n",
      "Rating ->\u001b[91m 5.4\u001b[00m\n",
      "--------------------------------------------------\n",
      "\u001b[92m Pigs in Heaven\u001b[00m\n",
      "Rating ->\u001b[91m 8.0\u001b[00m\n",
      "--------------------------------------------------\n",
      "\u001b[92m Tell No One\u001b[00m\n",
      "Rating ->\u001b[91m 8.1\u001b[00m\n",
      "--------------------------------------------------\n",
      "\u001b[92m Pet Sematary\u001b[00m\n",
      "Rating ->\u001b[91m 7.9\u001b[00m\n",
      "--------------------------------------------------\n",
      "\u001b[92m About a Boy\u001b[00m\n",
      "Rating ->\u001b[91m 7.9\u001b[00m\n",
      "--------------------------------------------------\n",
      "\u001b[92m Cold Mountain : A Novel\u001b[00m\n",
      "Rating ->\u001b[91m 7.8\u001b[00m\n",
      "--------------------------------------------------\n",
      "\u001b[92m Dolores Claiborne\u001b[00m\n",
      "Rating ->\u001b[91m 7.4\u001b[00m\n",
      "--------------------------------------------------\n",
      "\u001b[92m Fall On Your Knees (Oprah #45)\u001b[00m\n",
      "Rating ->\u001b[91m 7.6\u001b[00m\n",
      "--------------------------------------------------\n",
      "\u001b[92m The Alchemist: A Fable About Following Your Dream\u001b[00m\n",
      "Rating ->\u001b[91m 8.2\u001b[00m\n",
      "--------------------------------------------------\n",
      "\u001b[92m Misery\u001b[00m\n",
      "Rating ->\u001b[91m 8.1\u001b[00m\n",
      "--------------------------------------------------\n",
      "\u001b[92m The Last Precinct\u001b[00m\n",
      "Rating ->\u001b[91m 7.5\u001b[00m\n",
      "--------------------------------------------------\n",
      "\u001b[92m Insomnia\u001b[00m\n",
      "Rating ->\u001b[91m 7.9\u001b[00m\n",
      "--------------------------------------------------\n",
      "\u001b[92m The Vampire Lestat (Vampire Chronicles, Book II)\u001b[00m\n",
      "Rating ->\u001b[91m 8.0\u001b[00m\n",
      "--------------------------------------------------\n",
      "\u001b[92m The Green Mile\u001b[00m\n",
      "Rating ->\u001b[91m 8.5\u001b[00m\n",
      "--------------------------------------------------\n",
      "\u001b[92m Harry Potter and the Sorcerer's Stone (Book 1)\u001b[00m\n",
      "Rating ->\u001b[91m 9.1\u001b[00m\n",
      "--------------------------------------------------\n",
      "\u001b[92m White Oleander : A Novel (Oprah's Book Club)\u001b[00m\n",
      "Rating ->\u001b[91m 7.9\u001b[00m\n",
      "--------------------------------------------------\n",
      "\u001b[92m Artemis Fowl (Artemis Fowl, Book 1)\u001b[00m\n",
      "Rating ->\u001b[91m 7.7\u001b[00m\n",
      "--------------------------------------------------\n",
      "\u001b[92m Watership Down\u001b[00m\n",
      "Rating ->\u001b[91m 8.6\u001b[00m\n",
      "--------------------------------------------------\n",
      "\u001b[92m The Color Purple\u001b[00m\n",
      "Rating ->\u001b[91m 8.6\u001b[00m\n",
      "--------------------------------------------------\n",
      "\u001b[92m We Were the Mulvaneys\u001b[00m\n",
      "Rating ->\u001b[91m 7.1\u001b[00m\n",
      "--------------------------------------------------\n",
      "\u001b[92m The Giver (21st Century Reference)\u001b[00m\n",
      "Rating ->\u001b[91m 8.6\u001b[00m\n",
      "--------------------------------------------------\n",
      "\u001b[92m Point of Origin\u001b[00m\n",
      "Rating ->\u001b[91m 7.7\u001b[00m\n",
      "--------------------------------------------------\n",
      "\u001b[92m She's Come Undone (Oprah's Book Club)\u001b[00m\n",
      "Rating ->\u001b[91m 7.7\u001b[00m\n",
      "--------------------------------------------------\n",
      "\u001b[92m The Summons\u001b[00m\n",
      "Rating ->\u001b[91m 7.3\u001b[00m\n",
      "--------------------------------------------------\n",
      "\u001b[92m A Child Called \\It\\\": One Child's Courage to Survive\"\u001b[00m\n",
      "Rating ->\u001b[91m 8.0\u001b[00m\n",
      "--------------------------------------------------\n",
      "\u001b[92m Harry Potter and the Goblet of Fire (Book 4)\u001b[00m\n",
      "Rating ->\u001b[91m 9.1\u001b[00m\n",
      "--------------------------------------------------\n",
      "\u001b[92m She's Come Undone (Oprah's Book Club (Paperback))\u001b[00m\n",
      "Rating ->\u001b[91m 7.5\u001b[00m\n",
      "--------------------------------------------------\n",
      "\u001b[92m It\u001b[00m\n",
      "Rating ->\u001b[91m 8.1\u001b[00m\n",
      "--------------------------------------------------\n",
      "\u001b[92m Digital Fortress : A Thriller\u001b[00m\n",
      "Rating ->\u001b[91m 7.6\u001b[00m\n",
      "--------------------------------------------------\n"
     ]
    }
   ],
   "source": [
    "item_based_coll_rs(\"Harry Potter and the Prisoner of Azkaban (Book 3)\")"
   ]
  },
  {
   "cell_type": "code",
   "execution_count": 86,
   "metadata": {
    "execution": {
     "iopub.execute_input": "2023-04-26T00:04:39.488616Z",
     "iopub.status.busy": "2023-04-26T00:04:39.488270Z",
     "iopub.status.idle": "2023-04-26T00:04:45.696160Z",
     "shell.execute_reply": "2023-04-26T00:04:45.694976Z",
     "shell.execute_reply.started": "2023-04-26T00:04:39.488583Z"
    }
   },
   "outputs": [
    {
     "name": "stdout",
     "output_type": "stream",
     "text": [
      "\u001b[92m Black Notice\u001b[00m\n",
      "Rating ->\u001b[91m 7.6\u001b[00m\n",
      "--------------------------------------------------\n",
      "\u001b[92m Artemis Fowl (Artemis Fowl, Book 1)\u001b[00m\n",
      "Rating ->\u001b[91m 7.7\u001b[00m\n",
      "--------------------------------------------------\n",
      "\u001b[92m The Subtle Knife (His Dark Materials, Book 2)\u001b[00m\n",
      "Rating ->\u001b[91m 8.7\u001b[00m\n",
      "--------------------------------------------------\n",
      "\u001b[92m Pet Sematary\u001b[00m\n",
      "Rating ->\u001b[91m 7.9\u001b[00m\n",
      "--------------------------------------------------\n",
      "\u001b[92m Unnatural Exposure\u001b[00m\n",
      "Rating ->\u001b[91m 7.8\u001b[00m\n",
      "--------------------------------------------------\n",
      "\u001b[92m I Know This Much Is True\u001b[00m\n",
      "Rating ->\u001b[91m 8.3\u001b[00m\n",
      "--------------------------------------------------\n",
      "\u001b[92m Point of Origin\u001b[00m\n",
      "Rating ->\u001b[91m 7.7\u001b[00m\n",
      "--------------------------------------------------\n",
      "\u001b[92m The Hitchhiker's Guide to the Galaxy\u001b[00m\n",
      "Rating ->\u001b[91m 8.5\u001b[00m\n",
      "--------------------------------------------------\n",
      "\u001b[92m The Giver (21st Century Reference)\u001b[00m\n",
      "Rating ->\u001b[91m 8.6\u001b[00m\n",
      "--------------------------------------------------\n",
      "\u001b[92m Fall On Your Knees (Oprah #45)\u001b[00m\n",
      "Rating ->\u001b[91m 7.6\u001b[00m\n",
      "--------------------------------------------------\n",
      "\u001b[92m Icy Sparks\u001b[00m\n",
      "Rating ->\u001b[91m 7.3\u001b[00m\n",
      "--------------------------------------------------\n",
      "\u001b[92m White Oleander : A Novel\u001b[00m\n",
      "Rating ->\u001b[91m 7.7\u001b[00m\n",
      "--------------------------------------------------\n",
      "\u001b[92m The Smoke Jumper\u001b[00m\n",
      "Rating ->\u001b[91m 7.4\u001b[00m\n",
      "--------------------------------------------------\n",
      "\u001b[92m A Walk to Remember\u001b[00m\n",
      "Rating ->\u001b[91m 7.8\u001b[00m\n",
      "--------------------------------------------------\n",
      "\u001b[92m The Tao of Pooh\u001b[00m\n",
      "Rating ->\u001b[91m 8.0\u001b[00m\n",
      "--------------------------------------------------\n",
      "\u001b[92m High Fidelity\u001b[00m\n",
      "Rating ->\u001b[91m 8.0\u001b[00m\n",
      "--------------------------------------------------\n",
      "\u001b[92m Girl, Interrupted\u001b[00m\n",
      "Rating ->\u001b[91m 7.3\u001b[00m\n",
      "--------------------------------------------------\n",
      "\u001b[92m 2nd Chance\u001b[00m\n",
      "Rating ->\u001b[91m 7.8\u001b[00m\n",
      "--------------------------------------------------\n",
      "\u001b[92m To Kill a Mockingbird\u001b[00m\n",
      "Rating ->\u001b[91m 9.0\u001b[00m\n",
      "--------------------------------------------------\n",
      "\u001b[92m Misery\u001b[00m\n",
      "Rating ->\u001b[91m 8.1\u001b[00m\n",
      "--------------------------------------------------\n"
     ]
    }
   ],
   "source": [
    "item_based_coll_rs(\"The Nanny Diaries: A Novel\")"
   ]
  },
  {
   "cell_type": "code",
   "execution_count": 87,
   "metadata": {
    "execution": {
     "iopub.execute_input": "2023-04-26T00:04:45.697963Z",
     "iopub.status.busy": "2023-04-26T00:04:45.697638Z",
     "iopub.status.idle": "2023-04-26T00:04:45.721024Z",
     "shell.execute_reply": "2023-04-26T00:04:45.719606Z",
     "shell.execute_reply.started": "2023-04-26T00:04:45.697931Z"
    }
   },
   "outputs": [
    {
     "name": "stdout",
     "output_type": "stream",
     "text": [
      "\u001b[93m This book is not in our library, check out our most popular books:\u001b[00m\n",
      "\n",
      "\u001b[92m Harry Potter and the Prisoner of Azkaban (Book 3)\u001b[00m\n",
      "Rating->\u001b[91m 9.0\u001b[00m\n",
      "--------------------------------------------------\n",
      "\u001b[92m Harry Potter and the Sorcerer's Stone (Harry Potter (Paperback))\u001b[00m\n",
      "Rating->\u001b[91m 8.9\u001b[00m\n",
      "--------------------------------------------------\n",
      "\u001b[92m Harry Potter and the Chamber of Secrets (Book 2)\u001b[00m\n",
      "Rating->\u001b[91m 8.8\u001b[00m\n",
      "--------------------------------------------------\n",
      "\u001b[92m The Secret Life of Bees\u001b[00m\n",
      "Rating->\u001b[91m 8.5\u001b[00m\n",
      "--------------------------------------------------\n",
      "\u001b[92m The Da Vinci Code\u001b[00m\n",
      "Rating->\u001b[91m 8.4\u001b[00m\n",
      "--------------------------------------------------\n",
      "\u001b[92m The Lovely Bones: A Novel\u001b[00m\n",
      "Rating->\u001b[91m 8.2\u001b[00m\n",
      "--------------------------------------------------\n",
      "\u001b[92m The Red Tent (Bestselling Backlist)\u001b[00m\n",
      "Rating->\u001b[91m 8.2\u001b[00m\n",
      "--------------------------------------------------\n",
      "\u001b[92m Where the Heart Is (Oprah's Book Club (Paperback))\u001b[00m\n",
      "Rating->\u001b[91m 8.1\u001b[00m\n",
      "--------------------------------------------------\n",
      "\u001b[92m Life of Pi\u001b[00m\n",
      "Rating->\u001b[91m 8.1\u001b[00m\n",
      "--------------------------------------------------\n",
      "\u001b[92m Angels &amp; Demons\u001b[00m\n",
      "Rating->\u001b[91m 8.0\u001b[00m\n",
      "--------------------------------------------------\n"
     ]
    }
   ],
   "source": [
    "item_based_coll_rs(\"The Subtle Art of Not Giving a F*ck\")"
   ]
  },
  {
   "cell_type": "code",
   "execution_count": 88,
   "metadata": {
    "execution": {
     "iopub.execute_input": "2023-04-26T00:04:45.723331Z",
     "iopub.status.busy": "2023-04-26T00:04:45.722886Z",
     "iopub.status.idle": "2023-04-26T00:04:52.462930Z",
     "shell.execute_reply": "2023-04-26T00:04:52.461592Z",
     "shell.execute_reply.started": "2023-04-26T00:04:45.723226Z"
    }
   },
   "outputs": [
    {
     "name": "stdout",
     "output_type": "stream",
     "text": [
      "\u001b[92m Into Thin Air : A Personal Account of the Mt. Everest Disaster\u001b[00m\n",
      "Rating ->\u001b[91m 8.1\u001b[00m\n",
      "--------------------------------------------------\n",
      "\u001b[92m Left Behind: A Novel of the Earth's Last Days (Left Behind No. 1)\u001b[00m\n",
      "Rating ->\u001b[91m 7.7\u001b[00m\n",
      "--------------------------------------------------\n",
      "\u001b[92m Sphere\u001b[00m\n",
      "Rating ->\u001b[91m 7.4\u001b[00m\n",
      "--------------------------------------------------\n",
      "\u001b[92m Tell No One\u001b[00m\n",
      "Rating ->\u001b[91m 8.1\u001b[00m\n",
      "--------------------------------------------------\n",
      "\u001b[92m Sophie's World: A Novel About the History of Philosophy\u001b[00m\n",
      "Rating ->\u001b[91m 7.8\u001b[00m\n",
      "--------------------------------------------------\n",
      "\u001b[92m Fall On Your Knees (Oprah #45)\u001b[00m\n",
      "Rating ->\u001b[91m 7.6\u001b[00m\n",
      "--------------------------------------------------\n",
      "\u001b[92m A Child Called \\It\\\": One Child's Courage to Survive\"\u001b[00m\n",
      "Rating ->\u001b[91m 8.0\u001b[00m\n",
      "--------------------------------------------------\n",
      "\u001b[92m Black Notice\u001b[00m\n",
      "Rating ->\u001b[91m 7.6\u001b[00m\n",
      "--------------------------------------------------\n",
      "\u001b[92m The Witching Hour (Lives of the Mayfair Witches)\u001b[00m\n",
      "Rating ->\u001b[91m 8.0\u001b[00m\n",
      "--------------------------------------------------\n",
      "\u001b[92m The Color of Water: A Black Man's Tribute to His White Mother\u001b[00m\n",
      "Rating ->\u001b[91m 8.3\u001b[00m\n",
      "--------------------------------------------------\n",
      "\u001b[92m Tuesdays with Morrie: An Old Man, a Young Man, and Life's Greatest Lesson\u001b[00m\n",
      "Rating ->\u001b[91m 8.6\u001b[00m\n",
      "--------------------------------------------------\n",
      "\u001b[92m Airframe\u001b[00m\n",
      "Rating ->\u001b[91m 7.5\u001b[00m\n",
      "--------------------------------------------------\n",
      "\u001b[92m Into the Wild\u001b[00m\n",
      "Rating ->\u001b[91m 8.0\u001b[00m\n",
      "--------------------------------------------------\n",
      "\u001b[92m The God of Small Things\u001b[00m\n",
      "Rating ->\u001b[91m 7.7\u001b[00m\n",
      "--------------------------------------------------\n",
      "\u001b[92m Suzanne's Diary for Nicholas\u001b[00m\n",
      "Rating ->\u001b[91m 7.7\u001b[00m\n",
      "--------------------------------------------------\n",
      "\u001b[92m The Beach House\u001b[00m\n",
      "Rating ->\u001b[91m 7.7\u001b[00m\n",
      "--------------------------------------------------\n",
      "\u001b[92m Along Came a Spider (Alex Cross Novels)\u001b[00m\n",
      "Rating ->\u001b[91m 8.0\u001b[00m\n",
      "--------------------------------------------------\n",
      "\u001b[92m The Tao of Pooh\u001b[00m\n",
      "Rating ->\u001b[91m 8.0\u001b[00m\n",
      "--------------------------------------------------\n",
      "\u001b[92m Icy Sparks\u001b[00m\n",
      "Rating ->\u001b[91m 7.3\u001b[00m\n",
      "--------------------------------------------------\n",
      "\u001b[92m The Client\u001b[00m\n",
      "Rating ->\u001b[91m 7.9\u001b[00m\n",
      "--------------------------------------------------\n",
      "\u001b[92m Balzac and the Little Chinese Seamstress : A Novel\u001b[00m\n",
      "Rating ->\u001b[91m 8.0\u001b[00m\n",
      "--------------------------------------------------\n",
      "\u001b[92m ANGELA'S ASHES\u001b[00m\n",
      "Rating ->\u001b[91m 8.4\u001b[00m\n",
      "--------------------------------------------------\n",
      "\u001b[92m Chocolat\u001b[00m\n",
      "Rating ->\u001b[91m 8.0\u001b[00m\n",
      "--------------------------------------------------\n",
      "\u001b[92m Lord of the Flies\u001b[00m\n",
      "Rating ->\u001b[91m 8.0\u001b[00m\n",
      "--------------------------------------------------\n",
      "\u001b[92m Stupid White Men ...and Other Sorry Excuses for the State of the Nation!\u001b[00m\n",
      "Rating ->\u001b[91m 7.8\u001b[00m\n",
      "--------------------------------------------------\n",
      "\u001b[92m A Time to Kill\u001b[00m\n",
      "Rating ->\u001b[91m 8.0\u001b[00m\n",
      "--------------------------------------------------\n",
      "\u001b[92m The Return of the King (The Lord of the Rings, Part 3)\u001b[00m\n",
      "Rating ->\u001b[91m 9.2\u001b[00m\n",
      "--------------------------------------------------\n",
      "\u001b[92m Fahrenheit 451\u001b[00m\n",
      "Rating ->\u001b[91m 8.5\u001b[00m\n",
      "--------------------------------------------------\n",
      "\u001b[92m The Bridges of Madison County\u001b[00m\n",
      "Rating ->\u001b[91m 7.5\u001b[00m\n",
      "--------------------------------------------------\n",
      "\u001b[92m Seabiscuit: An American Legend\u001b[00m\n",
      "Rating ->\u001b[91m 8.5\u001b[00m\n",
      "--------------------------------------------------\n",
      "\u001b[92m The Firm\u001b[00m\n",
      "Rating ->\u001b[91m 7.8\u001b[00m\n",
      "--------------------------------------------------\n"
     ]
    }
   ],
   "source": [
    "item_based_coll_rs(\"Angels &amp; Demons\")"
   ]
  },
  {
   "cell_type": "code",
   "execution_count": 89,
   "metadata": {
    "execution": {
     "iopub.execute_input": "2023-04-26T00:04:52.464664Z",
     "iopub.status.busy": "2023-04-26T00:04:52.464319Z",
     "iopub.status.idle": "2023-04-26T00:04:52.489498Z",
     "shell.execute_reply": "2023-04-26T00:04:52.487805Z",
     "shell.execute_reply.started": "2023-04-26T00:04:52.464628Z"
    }
   },
   "outputs": [
    {
     "name": "stdout",
     "output_type": "stream",
     "text": [
      "\u001b[93m This book is not in our library, check out our most popular books:\u001b[00m\n",
      "\n",
      "\u001b[92m Harry Potter and the Prisoner of Azkaban (Book 3)\u001b[00m\n",
      "Rating->\u001b[91m 9.0\u001b[00m\n",
      "--------------------------------------------------\n",
      "\u001b[92m Harry Potter and the Sorcerer's Stone (Harry Potter (Paperback))\u001b[00m\n",
      "Rating->\u001b[91m 8.9\u001b[00m\n",
      "--------------------------------------------------\n",
      "\u001b[92m Harry Potter and the Chamber of Secrets (Book 2)\u001b[00m\n",
      "Rating->\u001b[91m 8.8\u001b[00m\n",
      "--------------------------------------------------\n",
      "\u001b[92m The Secret Life of Bees\u001b[00m\n",
      "Rating->\u001b[91m 8.5\u001b[00m\n",
      "--------------------------------------------------\n",
      "\u001b[92m The Da Vinci Code\u001b[00m\n",
      "Rating->\u001b[91m 8.4\u001b[00m\n",
      "--------------------------------------------------\n",
      "\u001b[92m The Lovely Bones: A Novel\u001b[00m\n",
      "Rating->\u001b[91m 8.2\u001b[00m\n",
      "--------------------------------------------------\n",
      "\u001b[92m The Red Tent (Bestselling Backlist)\u001b[00m\n",
      "Rating->\u001b[91m 8.2\u001b[00m\n",
      "--------------------------------------------------\n",
      "\u001b[92m Where the Heart Is (Oprah's Book Club (Paperback))\u001b[00m\n",
      "Rating->\u001b[91m 8.1\u001b[00m\n",
      "--------------------------------------------------\n",
      "\u001b[92m Life of Pi\u001b[00m\n",
      "Rating->\u001b[91m 8.1\u001b[00m\n",
      "--------------------------------------------------\n",
      "\u001b[92m Angels &amp; Demons\u001b[00m\n",
      "Rating->\u001b[91m 8.0\u001b[00m\n",
      "--------------------------------------------------\n"
     ]
    }
   ],
   "source": [
    "item_based_coll_rs(\"Tuesdays with Morrie An Old Man a Young Man and Life s Greatest Lesson\")\n"
   ]
  },
  {
   "cell_type": "code",
   "execution_count": 90,
   "metadata": {
    "execution": {
     "iopub.execute_input": "2023-04-26T00:04:52.491107Z",
     "iopub.status.busy": "2023-04-26T00:04:52.490747Z",
     "iopub.status.idle": "2023-04-26T00:04:58.735006Z",
     "shell.execute_reply": "2023-04-26T00:04:58.733482Z",
     "shell.execute_reply.started": "2023-04-26T00:04:52.491069Z"
    }
   },
   "outputs": [
    {
     "name": "stdout",
     "output_type": "stream",
     "text": [
      "\u001b[92m Silence of the Lambs\u001b[00m\n",
      "Rating ->\u001b[91m 8.4\u001b[00m\n",
      "--------------------------------------------------\n",
      "\u001b[92m Dance upon the Air (Three Sisters Island Trilogy)\u001b[00m\n",
      "Rating ->\u001b[91m 8.0\u001b[00m\n",
      "--------------------------------------------------\n",
      "\u001b[92m Unnatural Exposure\u001b[00m\n",
      "Rating ->\u001b[91m 7.8\u001b[00m\n",
      "--------------------------------------------------\n",
      "\u001b[92m The Divine Secrets of the Ya-Ya Sisterhood: A Novel\u001b[00m\n",
      "Rating ->\u001b[91m 7.8\u001b[00m\n",
      "--------------------------------------------------\n",
      "\u001b[92m The Smoke Jumper\u001b[00m\n",
      "Rating ->\u001b[91m 7.4\u001b[00m\n",
      "--------------------------------------------------\n",
      "\u001b[92m Four Blind Mice\u001b[00m\n",
      "Rating ->\u001b[91m 8.2\u001b[00m\n",
      "--------------------------------------------------\n",
      "\u001b[92m Back Roads\u001b[00m\n",
      "Rating ->\u001b[91m 7.3\u001b[00m\n",
      "--------------------------------------------------\n",
      "\u001b[92m Girl, Interrupted\u001b[00m\n",
      "Rating ->\u001b[91m 7.3\u001b[00m\n",
      "--------------------------------------------------\n",
      "\u001b[92m The Hitchhiker's Guide to the Galaxy\u001b[00m\n",
      "Rating ->\u001b[91m 8.5\u001b[00m\n",
      "--------------------------------------------------\n",
      "\u001b[92m Pop Goes the Weasel\u001b[00m\n",
      "Rating ->\u001b[91m 7.5\u001b[00m\n",
      "--------------------------------------------------\n",
      "\u001b[92m A Map of the World\u001b[00m\n",
      "Rating ->\u001b[91m 7.0\u001b[00m\n",
      "--------------------------------------------------\n",
      "\u001b[92m Where the Heart Is (Oprah's Book Club (Paperback))\u001b[00m\n",
      "Rating ->\u001b[91m 8.1\u001b[00m\n",
      "--------------------------------------------------\n",
      "\u001b[92m The Bean Trees\u001b[00m\n",
      "Rating ->\u001b[91m 8.3\u001b[00m\n",
      "--------------------------------------------------\n",
      "\u001b[92m Fahrenheit 451\u001b[00m\n",
      "Rating ->\u001b[91m 8.5\u001b[00m\n",
      "--------------------------------------------------\n",
      "\u001b[92m The Bad Beginning (A Series of Unfortunate Events, Book 1)\u001b[00m\n",
      "Rating ->\u001b[91m 7.5\u001b[00m\n",
      "--------------------------------------------------\n",
      "\u001b[92m Dolores Claiborne\u001b[00m\n",
      "Rating ->\u001b[91m 7.4\u001b[00m\n",
      "--------------------------------------------------\n",
      "\u001b[92m Full House (Janet Evanovich's Full Series)\u001b[00m\n",
      "Rating ->\u001b[91m 6.9\u001b[00m\n",
      "--------------------------------------------------\n"
     ]
    }
   ],
   "source": [
    "item_based_coll_rs(\"The Da Vinci Code\")"
   ]
  },
  {
   "cell_type": "markdown",
   "metadata": {},
   "source": [
    "## User Based Collaborative Filtering"
   ]
  },
  {
   "cell_type": "markdown",
   "metadata": {},
   "source": [
    "**First we return the active users who have presented in the dataset more than 100 times**"
   ]
  },
  {
   "cell_type": "code",
   "execution_count": 91,
   "metadata": {
    "execution": {
     "iopub.execute_input": "2023-04-26T00:04:58.737290Z",
     "iopub.status.busy": "2023-04-26T00:04:58.736769Z",
     "iopub.status.idle": "2023-04-26T00:04:58.784647Z",
     "shell.execute_reply": "2023-04-26T00:04:58.783609Z",
     "shell.execute_reply.started": "2023-04-26T00:04:58.737235Z"
    }
   },
   "outputs": [],
   "source": [
    "new_df=df[df['User-ID'].map(df['User-ID'].value_counts()) > 100] "
   ]
  },
  {
   "cell_type": "code",
   "execution_count": 92,
   "metadata": {
    "execution": {
     "iopub.execute_input": "2023-04-26T00:04:58.786973Z",
     "iopub.status.busy": "2023-04-26T00:04:58.785867Z",
     "iopub.status.idle": "2023-04-26T00:04:58.794806Z",
     "shell.execute_reply": "2023-04-26T00:04:58.793163Z",
     "shell.execute_reply.started": "2023-04-26T00:04:58.786895Z"
    }
   },
   "outputs": [
    {
     "data": {
      "text/plain": [
       "(102369, 10)"
      ]
     },
     "execution_count": 92,
     "metadata": {},
     "output_type": "execute_result"
    }
   ],
   "source": [
    "new_df.shape"
   ]
  },
  {
   "cell_type": "markdown",
   "metadata": {},
   "source": [
    "**Lets make our matrix, User as indcies, Books as columns and finally ratings as values**"
   ]
  },
  {
   "cell_type": "code",
   "execution_count": 93,
   "metadata": {
    "execution": {
     "iopub.execute_input": "2023-04-26T00:04:58.797101Z",
     "iopub.status.busy": "2023-04-26T00:04:58.796582Z",
     "iopub.status.idle": "2023-04-26T00:04:59.718124Z",
     "shell.execute_reply": "2023-04-26T00:04:59.716731Z",
     "shell.execute_reply.started": "2023-04-26T00:04:58.797045Z"
    }
   },
   "outputs": [
    {
     "data": {
      "text/html": [
       "<div>\n",
       "<style scoped>\n",
       "    .dataframe tbody tr th:only-of-type {\n",
       "        vertical-align: middle;\n",
       "    }\n",
       "\n",
       "    .dataframe tbody tr th {\n",
       "        vertical-align: top;\n",
       "    }\n",
       "\n",
       "    .dataframe thead th {\n",
       "        text-align: right;\n",
       "    }\n",
       "</style>\n",
       "<table border=\"1\" class=\"dataframe\">\n",
       "  <thead>\n",
       "    <tr style=\"text-align: right;\">\n",
       "      <th>Book-Title</th>\n",
       "      <th>A Light in the Storm: The Civil War Diary of Amelia Martin, Fenwick Island, Delaware, 1861 (Dear America)</th>\n",
       "      <th>Dark Justice</th>\n",
       "      <th>Final Fantasy Anthology: Official Strategy Guide (Brady Games)</th>\n",
       "      <th>Good Wives: Image and Reality in the Lives of Women in Northern New England, 1650-1750</th>\n",
       "      <th>Highland Desire (Zebra Splendor Historical Romances)</th>\n",
       "      <th>Little Comic Shop of Horrors (Give Yourself Goosebumps, Book 17)</th>\n",
       "      <th>Murder of a Sleeping Beauty (Scumble River Mysteries (Paperback))</th>\n",
       "      <th>Nonbook Materials: The Organization of Integrated Collections</th>\n",
       "      <th>Q-Space (Star Trek The Next Generation, Book 47)</th>\n",
       "      <th>Q-Zone (Star Trek The Next Generation, Book 48)</th>\n",
       "      <th>...</th>\n",
       "      <th>termcap &amp;amp; terminfo (O'Reilly Nutshell)</th>\n",
       "      <th>the Dark Light Years</th>\n",
       "      <th>them (Modern Library)</th>\n",
       "      <th>together by christmas</th>\n",
       "      <th>wet sand, raven tracks</th>\n",
       "      <th>whataboutrick.com: a poetic tribute to Richard A. Ricci</th>\n",
       "      <th>Â¡Corre, perro, corre!</th>\n",
       "      <th>Â¿Eres tu mi mamÃ¡?/Are You My Mother?</th>\n",
       "      <th>Ã?ngeles fugaces (Falling Angels)</th>\n",
       "      <th>Ã?Â?ber das Fernsehen.</th>\n",
       "    </tr>\n",
       "    <tr>\n",
       "      <th>User-ID</th>\n",
       "      <th></th>\n",
       "      <th></th>\n",
       "      <th></th>\n",
       "      <th></th>\n",
       "      <th></th>\n",
       "      <th></th>\n",
       "      <th></th>\n",
       "      <th></th>\n",
       "      <th></th>\n",
       "      <th></th>\n",
       "      <th></th>\n",
       "      <th></th>\n",
       "      <th></th>\n",
       "      <th></th>\n",
       "      <th></th>\n",
       "      <th></th>\n",
       "      <th></th>\n",
       "      <th></th>\n",
       "      <th></th>\n",
       "      <th></th>\n",
       "      <th></th>\n",
       "    </tr>\n",
       "  </thead>\n",
       "  <tbody>\n",
       "    <tr>\n",
       "      <th>2033</th>\n",
       "      <td>NaN</td>\n",
       "      <td>NaN</td>\n",
       "      <td>NaN</td>\n",
       "      <td>NaN</td>\n",
       "      <td>NaN</td>\n",
       "      <td>NaN</td>\n",
       "      <td>NaN</td>\n",
       "      <td>NaN</td>\n",
       "      <td>NaN</td>\n",
       "      <td>NaN</td>\n",
       "      <td>...</td>\n",
       "      <td>NaN</td>\n",
       "      <td>NaN</td>\n",
       "      <td>NaN</td>\n",
       "      <td>NaN</td>\n",
       "      <td>NaN</td>\n",
       "      <td>NaN</td>\n",
       "      <td>NaN</td>\n",
       "      <td>NaN</td>\n",
       "      <td>NaN</td>\n",
       "      <td>NaN</td>\n",
       "    </tr>\n",
       "    <tr>\n",
       "      <th>2110</th>\n",
       "      <td>NaN</td>\n",
       "      <td>NaN</td>\n",
       "      <td>NaN</td>\n",
       "      <td>NaN</td>\n",
       "      <td>NaN</td>\n",
       "      <td>NaN</td>\n",
       "      <td>NaN</td>\n",
       "      <td>NaN</td>\n",
       "      <td>NaN</td>\n",
       "      <td>NaN</td>\n",
       "      <td>...</td>\n",
       "      <td>NaN</td>\n",
       "      <td>NaN</td>\n",
       "      <td>NaN</td>\n",
       "      <td>NaN</td>\n",
       "      <td>NaN</td>\n",
       "      <td>NaN</td>\n",
       "      <td>NaN</td>\n",
       "      <td>NaN</td>\n",
       "      <td>NaN</td>\n",
       "      <td>NaN</td>\n",
       "    </tr>\n",
       "    <tr>\n",
       "      <th>2276</th>\n",
       "      <td>NaN</td>\n",
       "      <td>NaN</td>\n",
       "      <td>NaN</td>\n",
       "      <td>NaN</td>\n",
       "      <td>NaN</td>\n",
       "      <td>NaN</td>\n",
       "      <td>NaN</td>\n",
       "      <td>NaN</td>\n",
       "      <td>NaN</td>\n",
       "      <td>NaN</td>\n",
       "      <td>...</td>\n",
       "      <td>NaN</td>\n",
       "      <td>NaN</td>\n",
       "      <td>NaN</td>\n",
       "      <td>NaN</td>\n",
       "      <td>NaN</td>\n",
       "      <td>NaN</td>\n",
       "      <td>NaN</td>\n",
       "      <td>NaN</td>\n",
       "      <td>NaN</td>\n",
       "      <td>NaN</td>\n",
       "    </tr>\n",
       "    <tr>\n",
       "      <th>4017</th>\n",
       "      <td>NaN</td>\n",
       "      <td>NaN</td>\n",
       "      <td>NaN</td>\n",
       "      <td>NaN</td>\n",
       "      <td>NaN</td>\n",
       "      <td>NaN</td>\n",
       "      <td>NaN</td>\n",
       "      <td>NaN</td>\n",
       "      <td>NaN</td>\n",
       "      <td>NaN</td>\n",
       "      <td>...</td>\n",
       "      <td>NaN</td>\n",
       "      <td>NaN</td>\n",
       "      <td>NaN</td>\n",
       "      <td>NaN</td>\n",
       "      <td>NaN</td>\n",
       "      <td>NaN</td>\n",
       "      <td>NaN</td>\n",
       "      <td>NaN</td>\n",
       "      <td>NaN</td>\n",
       "      <td>NaN</td>\n",
       "    </tr>\n",
       "    <tr>\n",
       "      <th>4385</th>\n",
       "      <td>NaN</td>\n",
       "      <td>NaN</td>\n",
       "      <td>NaN</td>\n",
       "      <td>NaN</td>\n",
       "      <td>NaN</td>\n",
       "      <td>NaN</td>\n",
       "      <td>NaN</td>\n",
       "      <td>NaN</td>\n",
       "      <td>NaN</td>\n",
       "      <td>NaN</td>\n",
       "      <td>...</td>\n",
       "      <td>NaN</td>\n",
       "      <td>NaN</td>\n",
       "      <td>NaN</td>\n",
       "      <td>NaN</td>\n",
       "      <td>NaN</td>\n",
       "      <td>NaN</td>\n",
       "      <td>NaN</td>\n",
       "      <td>NaN</td>\n",
       "      <td>NaN</td>\n",
       "      <td>NaN</td>\n",
       "    </tr>\n",
       "  </tbody>\n",
       "</table>\n",
       "<p>5 rows × 61192 columns</p>\n",
       "</div>"
      ],
      "text/plain": [
       "Book-Title   A Light in the Storm: The Civil War Diary of Amelia Martin, Fenwick Island, Delaware, 1861 (Dear America)  \\\n",
       "User-ID                                                                                                                  \n",
       "2033                                                      NaN                                                            \n",
       "2110                                                      NaN                                                            \n",
       "2276                                                      NaN                                                            \n",
       "4017                                                      NaN                                                            \n",
       "4385                                                      NaN                                                            \n",
       "\n",
       "Book-Title   Dark Justice  \\\n",
       "User-ID                     \n",
       "2033                  NaN   \n",
       "2110                  NaN   \n",
       "2276                  NaN   \n",
       "4017                  NaN   \n",
       "4385                  NaN   \n",
       "\n",
       "Book-Title   Final Fantasy Anthology: Official Strategy Guide (Brady Games)  \\\n",
       "User-ID                                                                       \n",
       "2033                                                      NaN                 \n",
       "2110                                                      NaN                 \n",
       "2276                                                      NaN                 \n",
       "4017                                                      NaN                 \n",
       "4385                                                      NaN                 \n",
       "\n",
       "Book-Title   Good Wives: Image and Reality in the Lives of Women in Northern New England, 1650-1750  \\\n",
       "User-ID                                                                                               \n",
       "2033                                                      NaN                                         \n",
       "2110                                                      NaN                                         \n",
       "2276                                                      NaN                                         \n",
       "4017                                                      NaN                                         \n",
       "4385                                                      NaN                                         \n",
       "\n",
       "Book-Title   Highland Desire (Zebra Splendor Historical Romances)  \\\n",
       "User-ID                                                             \n",
       "2033                                                      NaN       \n",
       "2110                                                      NaN       \n",
       "2276                                                      NaN       \n",
       "4017                                                      NaN       \n",
       "4385                                                      NaN       \n",
       "\n",
       "Book-Title   Little Comic Shop of Horrors (Give Yourself Goosebumps, Book 17)  \\\n",
       "User-ID                                                                         \n",
       "2033                                                      NaN                   \n",
       "2110                                                      NaN                   \n",
       "2276                                                      NaN                   \n",
       "4017                                                      NaN                   \n",
       "4385                                                      NaN                   \n",
       "\n",
       "Book-Title   Murder of a Sleeping Beauty (Scumble River Mysteries (Paperback))  \\\n",
       "User-ID                                                                          \n",
       "2033                                                      NaN                    \n",
       "2110                                                      NaN                    \n",
       "2276                                                      NaN                    \n",
       "4017                                                      NaN                    \n",
       "4385                                                      NaN                    \n",
       "\n",
       "Book-Title   Nonbook Materials: The Organization of Integrated Collections  \\\n",
       "User-ID                                                                      \n",
       "2033                                                      NaN                \n",
       "2110                                                      NaN                \n",
       "2276                                                      NaN                \n",
       "4017                                                      NaN                \n",
       "4385                                                      NaN                \n",
       "\n",
       "Book-Title   Q-Space (Star Trek The Next Generation, Book 47)  \\\n",
       "User-ID                                                         \n",
       "2033                                                      NaN   \n",
       "2110                                                      NaN   \n",
       "2276                                                      NaN   \n",
       "4017                                                      NaN   \n",
       "4385                                                      NaN   \n",
       "\n",
       "Book-Title   Q-Zone (Star Trek The Next Generation, Book 48)  ...  \\\n",
       "User-ID                                                       ...   \n",
       "2033                                                     NaN  ...   \n",
       "2110                                                     NaN  ...   \n",
       "2276                                                     NaN  ...   \n",
       "4017                                                     NaN  ...   \n",
       "4385                                                     NaN  ...   \n",
       "\n",
       "Book-Title  termcap &amp; terminfo (O'Reilly Nutshell)  the Dark Light Years  \\\n",
       "User-ID                                                                        \n",
       "2033                                               NaN                   NaN   \n",
       "2110                                               NaN                   NaN   \n",
       "2276                                               NaN                   NaN   \n",
       "4017                                               NaN                   NaN   \n",
       "4385                                               NaN                   NaN   \n",
       "\n",
       "Book-Title  them (Modern Library)  together by christmas  \\\n",
       "User-ID                                                    \n",
       "2033                          NaN                    NaN   \n",
       "2110                          NaN                    NaN   \n",
       "2276                          NaN                    NaN   \n",
       "4017                          NaN                    NaN   \n",
       "4385                          NaN                    NaN   \n",
       "\n",
       "Book-Title  wet sand, raven tracks  \\\n",
       "User-ID                              \n",
       "2033                           NaN   \n",
       "2110                           NaN   \n",
       "2276                           NaN   \n",
       "4017                           NaN   \n",
       "4385                           NaN   \n",
       "\n",
       "Book-Title  whataboutrick.com: a poetic tribute to Richard A. Ricci  \\\n",
       "User-ID                                                               \n",
       "2033                                                      NaN         \n",
       "2110                                                      NaN         \n",
       "2276                                                      NaN         \n",
       "4017                                                      NaN         \n",
       "4385                                                      NaN         \n",
       "\n",
       "Book-Title  Â¡Corre, perro, corre!  Â¿Eres tu mi mamÃ¡?/Are You My Mother?  \\\n",
       "User-ID                                                                      \n",
       "2033                           NaN                                     NaN   \n",
       "2110                           NaN                                     NaN   \n",
       "2276                           NaN                                     NaN   \n",
       "4017                           NaN                                     NaN   \n",
       "4385                           NaN                                     NaN   \n",
       "\n",
       "Book-Title  Ã?ngeles fugaces (Falling Angels)  Ã?Â?ber das Fernsehen.  \n",
       "User-ID                                                                \n",
       "2033                                      NaN                     NaN  \n",
       "2110                                      NaN                     NaN  \n",
       "2276                                      NaN                     NaN  \n",
       "4017                                      NaN                     NaN  \n",
       "4385                                      NaN                     NaN  \n",
       "\n",
       "[5 rows x 61192 columns]"
      ]
     },
     "execution_count": 93,
     "metadata": {},
     "output_type": "execute_result"
    }
   ],
   "source": [
    "users_matrix=new_df.pivot_table(index=[\"User-ID\"],columns=[\"Book-Title\"],values=\"Book-Rating\")\n",
    "users_matrix.head()"
   ]
  },
  {
   "cell_type": "markdown",
   "metadata": {},
   "source": [
    "**return user favorite books**"
   ]
  },
  {
   "cell_type": "code",
   "execution_count": 94,
   "metadata": {
    "execution": {
     "iopub.execute_input": "2023-04-26T00:04:59.720254Z",
     "iopub.status.busy": "2023-04-26T00:04:59.719874Z",
     "iopub.status.idle": "2023-04-26T00:04:59.739716Z",
     "shell.execute_reply": "2023-04-26T00:04:59.738395Z",
     "shell.execute_reply.started": "2023-04-26T00:04:59.720219Z"
    }
   },
   "outputs": [
    {
     "data": {
      "text/html": [
       "<div>\n",
       "<style scoped>\n",
       "    .dataframe tbody tr th:only-of-type {\n",
       "        vertical-align: middle;\n",
       "    }\n",
       "\n",
       "    .dataframe tbody tr th {\n",
       "        vertical-align: top;\n",
       "    }\n",
       "\n",
       "    .dataframe thead th {\n",
       "        text-align: right;\n",
       "    }\n",
       "</style>\n",
       "<table border=\"1\" class=\"dataframe\">\n",
       "  <thead>\n",
       "    <tr style=\"text-align: right;\">\n",
       "      <th></th>\n",
       "      <th>ISBN</th>\n",
       "      <th>Book-Title</th>\n",
       "      <th>Book-Author</th>\n",
       "      <th>Year-Of-Publication</th>\n",
       "      <th>Publisher</th>\n",
       "      <th>Image-URL-S</th>\n",
       "      <th>Image-URL-M</th>\n",
       "      <th>Image-URL-L</th>\n",
       "      <th>User-ID</th>\n",
       "      <th>Book-Rating</th>\n",
       "    </tr>\n",
       "  </thead>\n",
       "  <tbody>\n",
       "    <tr>\n",
       "      <th>66420</th>\n",
       "      <td>0142000663</td>\n",
       "      <td>The Grapes of Wrath: John Steinbeck Centennial...</td>\n",
       "      <td>John Steinbeck</td>\n",
       "      <td>2002</td>\n",
       "      <td>Penguin Books</td>\n",
       "      <td>http://images.amazon.com/images/P/0142000663.0...</td>\n",
       "      <td>http://images.amazon.com/images/P/0142000663.0...</td>\n",
       "      <td>http://images.amazon.com/images/P/0142000663.0...</td>\n",
       "      <td>2033</td>\n",
       "      <td>10</td>\n",
       "    </tr>\n",
       "    <tr>\n",
       "      <th>345591</th>\n",
       "      <td>0451458990</td>\n",
       "      <td>Shadows and Light</td>\n",
       "      <td>Anne Bishop</td>\n",
       "      <td>2002</td>\n",
       "      <td>Roc</td>\n",
       "      <td>http://images.amazon.com/images/P/0451458990.0...</td>\n",
       "      <td>http://images.amazon.com/images/P/0451458990.0...</td>\n",
       "      <td>http://images.amazon.com/images/P/0451458990.0...</td>\n",
       "      <td>2033</td>\n",
       "      <td>10</td>\n",
       "    </tr>\n",
       "    <tr>\n",
       "      <th>345438</th>\n",
       "      <td>0812523679</td>\n",
       "      <td>Monkey Sonatas</td>\n",
       "      <td>Orson Scott Card</td>\n",
       "      <td>1993</td>\n",
       "      <td>Tor Books (Mm)</td>\n",
       "      <td>http://images.amazon.com/images/P/0812523679.0...</td>\n",
       "      <td>http://images.amazon.com/images/P/0812523679.0...</td>\n",
       "      <td>http://images.amazon.com/images/P/0812523679.0...</td>\n",
       "      <td>2033</td>\n",
       "      <td>10</td>\n",
       "    </tr>\n",
       "    <tr>\n",
       "      <th>212216</th>\n",
       "      <td>0345340426</td>\n",
       "      <td>The Hobbit and The Lord of the Rings</td>\n",
       "      <td>J.R.R. TOLKIEN</td>\n",
       "      <td>1986</td>\n",
       "      <td>Del Rey</td>\n",
       "      <td>http://images.amazon.com/images/P/0345340426.0...</td>\n",
       "      <td>http://images.amazon.com/images/P/0345340426.0...</td>\n",
       "      <td>http://images.amazon.com/images/P/0345340426.0...</td>\n",
       "      <td>2033</td>\n",
       "      <td>10</td>\n",
       "    </tr>\n",
       "    <tr>\n",
       "      <th>345576</th>\n",
       "      <td>0451458028</td>\n",
       "      <td>The Invisible Ring</td>\n",
       "      <td>Anne Bishop</td>\n",
       "      <td>2000</td>\n",
       "      <td>Roc</td>\n",
       "      <td>http://images.amazon.com/images/P/0451458028.0...</td>\n",
       "      <td>http://images.amazon.com/images/P/0451458028.0...</td>\n",
       "      <td>http://images.amazon.com/images/P/0451458028.0...</td>\n",
       "      <td>2033</td>\n",
       "      <td>10</td>\n",
       "    </tr>\n",
       "  </tbody>\n",
       "</table>\n",
       "</div>"
      ],
      "text/plain": [
       "              ISBN                                         Book-Title  \\\n",
       "66420   0142000663  The Grapes of Wrath: John Steinbeck Centennial...   \n",
       "345591  0451458990                                  Shadows and Light   \n",
       "345438  0812523679                                     Monkey Sonatas   \n",
       "212216  0345340426               The Hobbit and The Lord of the Rings   \n",
       "345576  0451458028                                 The Invisible Ring   \n",
       "\n",
       "             Book-Author  Year-Of-Publication       Publisher  \\\n",
       "66420     John Steinbeck                 2002   Penguin Books   \n",
       "345591       Anne Bishop                 2002             Roc   \n",
       "345438  Orson Scott Card                 1993  Tor Books (Mm)   \n",
       "212216    J.R.R. TOLKIEN                 1986         Del Rey   \n",
       "345576       Anne Bishop                 2000             Roc   \n",
       "\n",
       "                                              Image-URL-S  \\\n",
       "66420   http://images.amazon.com/images/P/0142000663.0...   \n",
       "345591  http://images.amazon.com/images/P/0451458990.0...   \n",
       "345438  http://images.amazon.com/images/P/0812523679.0...   \n",
       "212216  http://images.amazon.com/images/P/0345340426.0...   \n",
       "345576  http://images.amazon.com/images/P/0451458028.0...   \n",
       "\n",
       "                                              Image-URL-M  \\\n",
       "66420   http://images.amazon.com/images/P/0142000663.0...   \n",
       "345591  http://images.amazon.com/images/P/0451458990.0...   \n",
       "345438  http://images.amazon.com/images/P/0812523679.0...   \n",
       "212216  http://images.amazon.com/images/P/0345340426.0...   \n",
       "345576  http://images.amazon.com/images/P/0451458028.0...   \n",
       "\n",
       "                                              Image-URL-L  User-ID  \\\n",
       "66420   http://images.amazon.com/images/P/0142000663.0...     2033   \n",
       "345591  http://images.amazon.com/images/P/0451458990.0...     2033   \n",
       "345438  http://images.amazon.com/images/P/0812523679.0...     2033   \n",
       "212216  http://images.amazon.com/images/P/0345340426.0...     2033   \n",
       "345576  http://images.amazon.com/images/P/0451458028.0...     2033   \n",
       "\n",
       "        Book-Rating  \n",
       "66420            10  \n",
       "345591           10  \n",
       "345438           10  \n",
       "212216           10  \n",
       "345576           10  "
      ]
     },
     "execution_count": 94,
     "metadata": {},
     "output_type": "execute_result"
    }
   ],
   "source": [
    "user_id = 2033 # we assume we want to recommend for that user\n",
    "users_fav=new_df[new_df[\"User-ID\"]==user_id].sort_values([\"Book-Rating\"],ascending=False)[0:5]\n",
    "users_fav.head()"
   ]
  },
  {
   "cell_type": "code",
   "execution_count": 95,
   "metadata": {
    "execution": {
     "iopub.execute_input": "2023-04-26T00:04:59.742062Z",
     "iopub.status.busy": "2023-04-26T00:04:59.741591Z",
     "iopub.status.idle": "2023-04-26T00:04:59.750964Z",
     "shell.execute_reply": "2023-04-26T00:04:59.749543Z",
     "shell.execute_reply.started": "2023-04-26T00:04:59.742016Z"
    }
   },
   "outputs": [
    {
     "data": {
      "text/plain": [
       "0"
      ]
     },
     "execution_count": 95,
     "metadata": {},
     "output_type": "execute_result"
    }
   ],
   "source": [
    "index=np.where(users_matrix.index==2033)[0][0]\n",
    "index"
   ]
  },
  {
   "cell_type": "markdown",
   "metadata": {},
   "source": [
    "**Calculate the similarity between the active user and other users**"
   ]
  },
  {
   "cell_type": "code",
   "execution_count": 96,
   "metadata": {
    "execution": {
     "iopub.execute_input": "2023-04-26T00:04:59.753882Z",
     "iopub.status.busy": "2023-04-26T00:04:59.753395Z",
     "iopub.status.idle": "2023-04-26T00:04:59.814885Z",
     "shell.execute_reply": "2023-04-26T00:04:59.813130Z",
     "shell.execute_reply.started": "2023-04-26T00:04:59.753838Z"
    }
   },
   "outputs": [],
   "source": [
    "users_matrix.fillna(0, inplace=True)"
   ]
  },
  {
   "cell_type": "markdown",
   "metadata": {},
   "source": [
    "**u should replace nan values with zero to calculate the similarity**"
   ]
  },
  {
   "cell_type": "code",
   "execution_count": 97,
   "metadata": {
    "execution": {
     "iopub.execute_input": "2023-04-26T00:04:59.817645Z",
     "iopub.status.busy": "2023-04-26T00:04:59.817216Z",
     "iopub.status.idle": "2023-04-26T00:05:00.295889Z",
     "shell.execute_reply": "2023-04-26T00:05:00.294060Z",
     "shell.execute_reply.started": "2023-04-26T00:04:59.817601Z"
    }
   },
   "outputs": [
    {
     "data": {
      "text/plain": [
       "array([1.        , 0.        , 0.04900176, 0.        , 0.        ,\n",
       "       0.        , 0.        , 0.03936096, 0.        , 0.        ,\n",
       "       0.00801549, 0.01072026, 0.        , 0.00836158, 0.01598899,\n",
       "       0.        , 0.05059689, 0.01450614, 0.        , 0.01363636,\n",
       "       0.01792129, 0.        , 0.00409943, 0.01468785, 0.        ,\n",
       "       0.        , 0.        , 0.00349717, 0.0060283 , 0.01120746,\n",
       "       0.00835357, 0.        , 0.01631097, 0.        , 0.02289906,\n",
       "       0.00300746, 0.01415305, 0.        , 0.        , 0.        ,\n",
       "       0.        , 0.        , 0.        , 0.01613501, 0.        ,\n",
       "       0.        , 0.02571924, 0.04847224, 0.        , 0.        ,\n",
       "       0.        , 0.00806266, 0.010087  , 0.        , 0.01805005,\n",
       "       0.        , 0.00460807, 0.        , 0.01787316, 0.        ,\n",
       "       0.0181024 , 0.00918986, 0.01099526, 0.00817227, 0.01551062,\n",
       "       0.03442246, 0.10420824, 0.        , 0.        , 0.        ,\n",
       "       0.0184237 , 0.        , 0.        , 0.01098732, 0.01060863,\n",
       "       0.        , 0.        , 0.        , 0.        , 0.        ,\n",
       "       0.        , 0.05842399, 0.        , 0.        , 0.        ,\n",
       "       0.        , 0.00945077, 0.01651298, 0.04681943, 0.        ,\n",
       "       0.        , 0.0073804 , 0.        , 0.00889937, 0.00829754,\n",
       "       0.02104141, 0.        , 0.02344456, 0.        , 0.01104811,\n",
       "       0.00707492, 0.03808137, 0.        , 0.        , 0.02278749,\n",
       "       0.0457394 , 0.0187209 , 0.        , 0.        , 0.        ,\n",
       "       0.        , 0.03821323, 0.0066124 , 0.04361698, 0.        ,\n",
       "       0.03387902, 0.        , 0.00348344, 0.03034035, 0.        ,\n",
       "       0.02686087, 0.02813623, 0.01149229, 0.01894244, 0.03320886,\n",
       "       0.        , 0.00952294, 0.        , 0.        , 0.        ,\n",
       "       0.        , 0.        , 0.00443868, 0.01133784, 0.        ,\n",
       "       0.        , 0.00462338, 0.02702746, 0.00815074, 0.01948839,\n",
       "       0.        , 0.        , 0.01461983, 0.        , 0.        ,\n",
       "       0.01158635, 0.        , 0.        , 0.01011912, 0.01123166,\n",
       "       0.        , 0.        , 0.        , 0.        , 0.00515803,\n",
       "       0.00700133, 0.        , 0.02123565, 0.02543935, 0.00432729,\n",
       "       0.0042019 , 0.02130153, 0.        , 0.02876939, 0.01998068,\n",
       "       0.        , 0.01934168, 0.01945937, 0.00805821, 0.05562195,\n",
       "       0.01463311, 0.00699447, 0.        , 0.0117873 , 0.        ,\n",
       "       0.        , 0.        , 0.03989858, 0.01907689, 0.02408751,\n",
       "       0.00499822, 0.00349952, 0.        , 0.        , 0.00917369,\n",
       "       0.        , 0.00846538, 0.        , 0.        , 0.        ,\n",
       "       0.        , 0.        , 0.        , 0.        , 0.00463107,\n",
       "       0.04712475, 0.00608071, 0.        , 0.        , 0.        ,\n",
       "       0.00547765, 0.01681722, 0.00985234, 0.        , 0.        ,\n",
       "       0.0087744 , 0.02447102, 0.00423991, 0.03480309, 0.        ,\n",
       "       0.        , 0.        , 0.        , 0.01054368, 0.00892458,\n",
       "       0.        , 0.04093646, 0.        , 0.        , 0.01376578,\n",
       "       0.        , 0.        , 0.        , 0.01524625, 0.00735911,\n",
       "       0.        , 0.        , 0.00939343, 0.01024073, 0.02758725,\n",
       "       0.        , 0.0244639 , 0.00226664, 0.0069655 , 0.        ,\n",
       "       0.        , 0.        , 0.        , 0.        , 0.00649926,\n",
       "       0.02049086, 0.02443147, 0.01188871, 0.        , 0.        ,\n",
       "       0.01650335, 0.        , 0.        , 0.        , 0.03736887,\n",
       "       0.        , 0.        , 0.02243568, 0.        , 0.        ,\n",
       "       0.        , 0.01069088, 0.        , 0.        , 0.        ,\n",
       "       0.        , 0.        , 0.        , 0.02724072, 0.03943525,\n",
       "       0.00858353, 0.01040781, 0.        , 0.02183002, 0.        ,\n",
       "       0.03204598, 0.05735981, 0.01536852, 0.        , 0.        ,\n",
       "       0.        , 0.        , 0.00566345, 0.01780184, 0.        ,\n",
       "       0.        , 0.02647059, 0.00475626, 0.        , 0.        ,\n",
       "       0.05653208, 0.01035779, 0.00903005, 0.03469045, 0.00399796,\n",
       "       0.        , 0.        , 0.        , 0.        , 0.01007715,\n",
       "       0.04315287, 0.01189817, 0.00985332, 0.        , 0.0111054 ,\n",
       "       0.        , 0.        , 0.        , 0.0066378 , 0.        ,\n",
       "       0.01082385, 0.        , 0.        , 0.        , 0.        ,\n",
       "       0.        , 0.        , 0.        , 0.        , 0.03006114,\n",
       "       0.        , 0.        , 0.02246234, 0.01793325, 0.00502335,\n",
       "       0.03551829, 0.        , 0.        , 0.00916395, 0.02517626,\n",
       "       0.        , 0.00955659, 0.04493111, 0.        , 0.01255662,\n",
       "       0.00282316, 0.00904729, 0.01275535, 0.        , 0.        ,\n",
       "       0.01568871, 0.00726821, 0.00941327, 0.        , 0.02083826,\n",
       "       0.016939  , 0.        , 0.        , 0.01487729, 0.        ,\n",
       "       0.01827342, 0.00485212, 0.00397095, 0.        , 0.        ,\n",
       "       0.        , 0.        , 0.        , 0.05109562, 0.        ,\n",
       "       0.00878468, 0.00560295, 0.0042558 , 0.        , 0.        ,\n",
       "       0.        , 0.0456788 , 0.00299472, 0.        , 0.01755826,\n",
       "       0.        , 0.00993161, 0.00427157, 0.0111807 , 0.00311661,\n",
       "       0.        , 0.        , 0.        , 0.00682695, 0.        ,\n",
       "       0.        , 0.        , 0.        , 0.        , 0.03332802,\n",
       "       0.00908691, 0.        , 0.00908216, 0.        , 0.        ,\n",
       "       0.00378472, 0.        , 0.        , 0.03137372, 0.00910484,\n",
       "       0.        , 0.        , 0.        , 0.01841398, 0.00485421,\n",
       "       0.        , 0.        , 0.00787502, 0.01063995, 0.0363676 ,\n",
       "       0.        , 0.        , 0.01056622, 0.        , 0.00316632,\n",
       "       0.        , 0.01632277, 0.        , 0.        , 0.01052611,\n",
       "       0.00631335, 0.07885273, 0.01098147, 0.        , 0.00746883,\n",
       "       0.00424543, 0.0057962 , 0.        , 0.        , 0.        ,\n",
       "       0.00681921, 0.018187  , 0.        , 0.04035254, 0.01175772,\n",
       "       0.00574619, 0.        , 0.        , 0.        , 0.00867931,\n",
       "       0.01500893, 0.01754829, 0.0194031 , 0.00975   , 0.00476657,\n",
       "       0.        , 0.00876   , 0.01579103, 0.        , 0.        ])"
      ]
     },
     "execution_count": 97,
     "metadata": {},
     "output_type": "execute_result"
    }
   ],
   "source": [
    "similarity=cosine_similarity(users_matrix)\n",
    "similarity[0]"
   ]
  },
  {
   "cell_type": "markdown",
   "metadata": {},
   "source": [
    "**getting users similar to the active user** "
   ]
  },
  {
   "cell_type": "code",
   "execution_count": 98,
   "metadata": {
    "execution": {
     "iopub.execute_input": "2023-04-26T00:05:00.299557Z",
     "iopub.status.busy": "2023-04-26T00:05:00.298328Z",
     "iopub.status.idle": "2023-04-26T00:05:00.317084Z",
     "shell.execute_reply": "2023-04-26T00:05:00.314821Z",
     "shell.execute_reply.started": "2023-04-26T00:05:00.299466Z"
    }
   },
   "outputs": [
    {
     "data": {
      "text/plain": [
       "[(0, 0.9999999999999988),\n",
       " (1, 0.0),\n",
       " (2, 0.049001757023845995),\n",
       " (3, 0.0),\n",
       " (4, 0.0)]"
      ]
     },
     "execution_count": 98,
     "metadata": {},
     "output_type": "execute_result"
    }
   ],
   "source": [
    "similar_users = list(enumerate(similarity[index]))\n",
    "similar_users[:5]"
   ]
  },
  {
   "cell_type": "markdown",
   "metadata": {},
   "source": [
    "**sort them**\n",
    "**of course users with high similarity will come first so we can recommend their interest to the active user**"
   ]
  },
  {
   "cell_type": "code",
   "execution_count": 99,
   "metadata": {
    "execution": {
     "iopub.execute_input": "2023-04-26T00:05:00.321788Z",
     "iopub.status.busy": "2023-04-26T00:05:00.320346Z",
     "iopub.status.idle": "2023-04-26T00:05:00.335007Z",
     "shell.execute_reply": "2023-04-26T00:05:00.333645Z",
     "shell.execute_reply.started": "2023-04-26T00:05:00.321711Z"
    }
   },
   "outputs": [
    {
     "data": {
      "text/plain": [
       "[(66, 0.10420823876635536),\n",
       " (411, 0.0788527316457873),\n",
       " (81, 0.05842398791127992),\n",
       " (271, 0.057359808221223066),\n",
       " (285, 0.05653208277085142)]"
      ]
     },
     "execution_count": 99,
     "metadata": {},
     "output_type": "execute_result"
    }
   ],
   "source": [
    "similar_users = sorted(similar_users,key = lambda x:x[1],reverse=True)[1:6]\n",
    "similar_users"
   ]
  },
  {
   "cell_type": "markdown",
   "metadata": {},
   "source": [
    "**return the user Id for the similair users**"
   ]
  },
  {
   "cell_type": "code",
   "execution_count": 100,
   "metadata": {
    "execution": {
     "iopub.execute_input": "2023-04-26T00:05:00.338638Z",
     "iopub.status.busy": "2023-04-26T00:05:00.337299Z",
     "iopub.status.idle": "2023-04-26T00:05:00.382274Z",
     "shell.execute_reply": "2023-04-26T00:05:00.380889Z",
     "shell.execute_reply.started": "2023-04-26T00:05:00.338327Z"
    }
   },
   "outputs": [
    {
     "data": {
      "text/plain": [
       "[38281, 257204, 52350, 170634, 179978]"
      ]
     },
     "execution_count": 100,
     "metadata": {},
     "output_type": "execute_result"
    }
   ],
   "source": [
    " user_rec=[]\n",
    "    \n",
    "for i in similar_users:\n",
    "        data=df[df[\"User-ID\"]==users_matrix.index[i[0]]]\n",
    "        user_rec.extend(list(data.drop_duplicates(\"User-ID\")[\"User-ID\"].values))\n",
    "\n",
    "user_rec"
   ]
  },
  {
   "cell_type": "code",
   "execution_count": 101,
   "metadata": {
    "execution": {
     "iopub.execute_input": "2023-04-26T00:05:00.385661Z",
     "iopub.status.busy": "2023-04-26T00:05:00.384668Z",
     "iopub.status.idle": "2023-04-26T00:05:00.416385Z",
     "shell.execute_reply": "2023-04-26T00:05:00.414966Z",
     "shell.execute_reply.started": "2023-04-26T00:05:00.385594Z"
    }
   },
   "outputs": [
    {
     "data": {
      "text/plain": [
       "['The Stories of Hans Christian Andersen: A New Translation from the Danish',\n",
       " 'Chillida: 1948-1998',\n",
       " 'Middlesex: A Novel',\n",
       " 'Greek Grammar',\n",
       " 'Maps in a Mirror (Maps in a Mirror)',\n",
       " 'Night Mare (Xanth Novels (Paperback))',\n",
       " 'The Quest for Saint Camber (Quest for Saint Camber)',\n",
       " 'Fifth Quarter (Daw Book Collectors)',\n",
       " 'No Quarter (Daw Book Collectors)',\n",
       " 'The White Gryphon',\n",
       " 'Krazy Kat',\n",
       " 'Tintin in Tibet (The Adventures of Tintin)',\n",
       " '300',\n",
       " 'Sin City: Booze, Broads, &amp; Bullets',\n",
       " 'Yukon Ho',\n",
       " 'The Smiling Pets Recipe Book: 101 Easy Make Treats..Five Minutes or Less Prep Time',\n",
       " 'Merriam-Webster Dictionary',\n",
       " 'The Art Of Rubber Stamping',\n",
       " 'The Last Goodie: A Novel',\n",
       " 'The Continuing Mission (Star Trek: The Next Generation)',\n",
       " 'The Tao of Pooh',\n",
       " 'The Pooh Book of Quotations: In Which Will Be Found Some Useful Information and Sustaining Thoughts by Winnie-The-Pooh and His Friends',\n",
       " 'The Mitten: A Ukrainian Folktale',\n",
       " 'Junior Girl Scout Badgebook',\n",
       " 'The Joy of Fatherhood: The First Twelve Months']"
      ]
     },
     "execution_count": 101,
     "metadata": {},
     "output_type": "execute_result"
    }
   ],
   "source": [
    "x=new_df[new_df[\"User-ID\"]==user_id]\n",
    "recommend_books=[]\n",
    "user=list(user_rec)\n",
    "for i in user:\n",
    "    y=new_df[(new_df[\"User-ID\"]==i)]\n",
    "    sim_books=y.loc[~y[\"Book-Title\"].isin(x[\"Book-Title\"]),:]\n",
    "    sim_books=sim_books.sort_values([\"Book-Rating\"],ascending=False)[0:5]\n",
    "    recommend_books.extend(sim_books[\"Book-Title\"].values)\n",
    "    \n",
    "recommend_books"
   ]
  },
  {
   "cell_type": "markdown",
   "metadata": {},
   "source": [
    "**Now lets put it all together**"
   ]
  },
  {
   "cell_type": "code",
   "execution_count": 102,
   "metadata": {
    "execution": {
     "iopub.execute_input": "2023-04-26T00:05:00.419287Z",
     "iopub.status.busy": "2023-04-26T00:05:00.418114Z",
     "iopub.status.idle": "2023-04-26T00:05:01.369366Z",
     "shell.execute_reply": "2023-04-26T00:05:01.367950Z",
     "shell.execute_reply.started": "2023-04-26T00:05:00.419227Z"
    }
   },
   "outputs": [],
   "source": [
    "new_df=df[df['User-ID'].map(df['User-ID'].value_counts()) > 100] \n",
    "users_matrix=new_df.pivot_table(index=[\"User-ID\"],columns=[\"Book-Title\"],values=\"Book-Rating\")\n",
    "users_matrix.fillna(0, inplace=True)"
   ]
  },
  {
   "cell_type": "code",
   "execution_count": 103,
   "metadata": {
    "execution": {
     "iopub.execute_input": "2023-04-26T00:05:01.371140Z",
     "iopub.status.busy": "2023-04-26T00:05:01.370784Z",
     "iopub.status.idle": "2023-04-26T00:05:01.386158Z",
     "shell.execute_reply": "2023-04-26T00:05:01.385089Z",
     "shell.execute_reply.started": "2023-04-26T00:05:01.371105Z"
    }
   },
   "outputs": [],
   "source": [
    "def user_based_coll_rs(user_id):\n",
    "    \n",
    "    users_fav=new_df[new_df[\"User-ID\"]==user_id].sort_values([\"Book-Rating\"],ascending=False)[0:5]\n",
    "    \n",
    "    prYellow(\"Ypur Top Favorite books: \\n\")\n",
    "\n",
    "    for book in users_fav['Book-Title']:\n",
    "        \n",
    "        prGreen(book)\n",
    "        print(\"Rating\", end='->')\n",
    "        prRed(round(df[df['Book-Title'] == book]['Book-Rating'].mean(), 2))\n",
    "        print(\"-\"*50)\n",
    "        \n",
    "    print(\"\\n\\n\")\n",
    "    \n",
    "    index=np.where(users_matrix.index==2033)[0][0]\n",
    "    \n",
    "    similarity=cosine_similarity(users_matrix)\n",
    "    similar_users = list(enumerate(similarity[index]))\n",
    "    similar_users = sorted(similar_users,key = lambda x:x[1],reverse=True)[0:5]\n",
    "    \n",
    "    users_id=[]\n",
    "    \n",
    "    for i in similar_users:\n",
    "        \n",
    "            data=df[df[\"User-ID\"]==users_matrix.index[i[0]]]\n",
    "            users_id.extend(list(data.drop_duplicates(\"User-ID\")[\"User-ID\"].values))\n",
    "\n",
    "\n",
    "    x=new_df[new_df[\"User-ID\"]==user_id]\n",
    "    recommend_books=[]\n",
    "    user=list(users_id)\n",
    "    \n",
    "    for i in user:\n",
    "        \n",
    "        y=new_df[(new_df[\"User-ID\"]==i)]\n",
    "        sim_books=y.loc[~y[\"Book-Title\"].isin(x[\"Book-Title\"]),:]\n",
    "        sim_books=sim_books.sort_values([\"Book-Rating\"],ascending=False)[0:5]\n",
    "        recommend_books.extend(sim_books[\"Book-Title\"].values)\n",
    "    \n",
    "    \n",
    "    prYellow(\"Recommended for you: \\n\")\n",
    "        \n",
    "    for book in recommend_books:\n",
    "        prGreen(book)\n",
    "        print(\"Rating\",end='->')\n",
    "        prRed(round(df[df['Book-Title'] == book]['Book-Rating'].mean(),2))\n",
    "        print(\"-\"*50)"
   ]
  },
  {
   "cell_type": "code",
   "execution_count": 104,
   "metadata": {
    "execution": {
     "iopub.execute_input": "2023-04-26T00:05:01.388891Z",
     "iopub.status.busy": "2023-04-26T00:05:01.387800Z",
     "iopub.status.idle": "2023-04-26T00:05:02.688670Z",
     "shell.execute_reply": "2023-04-26T00:05:02.687002Z",
     "shell.execute_reply.started": "2023-04-26T00:05:01.388839Z"
    }
   },
   "outputs": [
    {
     "name": "stdout",
     "output_type": "stream",
     "text": [
      "\u001b[93m Ypur Top Favorite books: \n",
      "\u001b[00m\n",
      "\u001b[92m The Grapes of Wrath: John Steinbeck Centennial Edition (1902-2002)\u001b[00m\n",
      "Rating->\u001b[91m 8.46\u001b[00m\n",
      "--------------------------------------------------\n",
      "\u001b[92m Shadows and Light\u001b[00m\n",
      "Rating->\u001b[91m 8.71\u001b[00m\n",
      "--------------------------------------------------\n",
      "\u001b[92m Monkey Sonatas\u001b[00m\n",
      "Rating->\u001b[91m 10.0\u001b[00m\n",
      "--------------------------------------------------\n",
      "\u001b[92m The Hobbit and The Lord of the Rings\u001b[00m\n",
      "Rating->\u001b[91m 8.5\u001b[00m\n",
      "--------------------------------------------------\n",
      "\u001b[92m The Invisible Ring\u001b[00m\n",
      "Rating->\u001b[91m 8.14\u001b[00m\n",
      "--------------------------------------------------\n",
      "\n",
      "\n",
      "\n",
      "\u001b[93m Recommended for you: \n",
      "\u001b[00m\n",
      "\u001b[92m The Stories of Hans Christian Andersen: A New Translation from the Danish\u001b[00m\n",
      "Rating->\u001b[91m 10.0\u001b[00m\n",
      "--------------------------------------------------\n",
      "\u001b[92m Chillida: 1948-1998\u001b[00m\n",
      "Rating->\u001b[91m 9.0\u001b[00m\n",
      "--------------------------------------------------\n",
      "\u001b[92m Middlesex: A Novel\u001b[00m\n",
      "Rating->\u001b[91m 8.22\u001b[00m\n",
      "--------------------------------------------------\n",
      "\u001b[92m Greek Grammar\u001b[00m\n",
      "Rating->\u001b[91m 9.33\u001b[00m\n",
      "--------------------------------------------------\n",
      "\u001b[92m Maps in a Mirror (Maps in a Mirror)\u001b[00m\n",
      "Rating->\u001b[91m 7.0\u001b[00m\n",
      "--------------------------------------------------\n",
      "\u001b[92m Night Mare (Xanth Novels (Paperback))\u001b[00m\n",
      "Rating->\u001b[91m 7.75\u001b[00m\n",
      "--------------------------------------------------\n",
      "\u001b[92m The Quest for Saint Camber (Quest for Saint Camber)\u001b[00m\n",
      "Rating->\u001b[91m 8.0\u001b[00m\n",
      "--------------------------------------------------\n",
      "\u001b[92m Fifth Quarter (Daw Book Collectors)\u001b[00m\n",
      "Rating->\u001b[91m 7.43\u001b[00m\n",
      "--------------------------------------------------\n",
      "\u001b[92m No Quarter (Daw Book Collectors)\u001b[00m\n",
      "Rating->\u001b[91m 7.8\u001b[00m\n",
      "--------------------------------------------------\n",
      "\u001b[92m The White Gryphon\u001b[00m\n",
      "Rating->\u001b[91m 7.67\u001b[00m\n",
      "--------------------------------------------------\n",
      "\u001b[92m Krazy Kat\u001b[00m\n",
      "Rating->\u001b[91m 10.0\u001b[00m\n",
      "--------------------------------------------------\n",
      "\u001b[92m Tintin in Tibet (The Adventures of Tintin)\u001b[00m\n",
      "Rating->\u001b[91m 9.67\u001b[00m\n",
      "--------------------------------------------------\n",
      "\u001b[92m 300\u001b[00m\n",
      "Rating->\u001b[91m 10.0\u001b[00m\n",
      "--------------------------------------------------\n",
      "\u001b[92m Sin City: Booze, Broads, &amp; Bullets\u001b[00m\n",
      "Rating->\u001b[91m 10.0\u001b[00m\n",
      "--------------------------------------------------\n",
      "\u001b[92m Yukon Ho\u001b[00m\n",
      "Rating->\u001b[91m 10.0\u001b[00m\n",
      "--------------------------------------------------\n",
      "\u001b[92m The Smiling Pets Recipe Book: 101 Easy Make Treats..Five Minutes or Less Prep Time\u001b[00m\n",
      "Rating->\u001b[91m 10.0\u001b[00m\n",
      "--------------------------------------------------\n",
      "\u001b[92m Merriam-Webster Dictionary\u001b[00m\n",
      "Rating->\u001b[91m 10.0\u001b[00m\n",
      "--------------------------------------------------\n",
      "\u001b[92m The Art Of Rubber Stamping\u001b[00m\n",
      "Rating->\u001b[91m 10.0\u001b[00m\n",
      "--------------------------------------------------\n",
      "\u001b[92m The Last Goodie: A Novel\u001b[00m\n",
      "Rating->\u001b[91m 10.0\u001b[00m\n",
      "--------------------------------------------------\n",
      "\u001b[92m The Continuing Mission (Star Trek: The Next Generation)\u001b[00m\n",
      "Rating->\u001b[91m 9.5\u001b[00m\n",
      "--------------------------------------------------\n"
     ]
    }
   ],
   "source": [
    "user_based_coll_rs(2033)"
   ]
  },
  {
   "cell_type": "code",
   "execution_count": 105,
   "metadata": {
    "execution": {
     "iopub.execute_input": "2023-04-26T00:05:02.691182Z",
     "iopub.status.busy": "2023-04-26T00:05:02.690653Z",
     "iopub.status.idle": "2023-04-26T00:05:04.111640Z",
     "shell.execute_reply": "2023-04-26T00:05:04.110674Z",
     "shell.execute_reply.started": "2023-04-26T00:05:02.691133Z"
    }
   },
   "outputs": [
    {
     "name": "stdout",
     "output_type": "stream",
     "text": [
      "\u001b[93m Ypur Top Favorite books: \n",
      "\u001b[00m\n",
      "\u001b[92m Sons of Texas : Callaway Country\u001b[00m\n",
      "Rating->\u001b[91m 10.0\u001b[00m\n",
      "--------------------------------------------------\n",
      "\u001b[92m When Somebody Needs You (Silhouette Special Edition, No 784)\u001b[00m\n",
      "Rating->\u001b[91m 7.5\u001b[00m\n",
      "--------------------------------------------------\n",
      "\u001b[92m Dance For A Stranger (Harlequin Presents, No 1493)\u001b[00m\n",
      "Rating->\u001b[91m 10.0\u001b[00m\n",
      "--------------------------------------------------\n",
      "\u001b[92m Accent on Desire (Second Chance at Love, No 420)\u001b[00m\n",
      "Rating->\u001b[91m 10.0\u001b[00m\n",
      "--------------------------------------------------\n",
      "\u001b[92m Exile's End (Silhouette Intimate Moments, No 449)\u001b[00m\n",
      "Rating->\u001b[91m 9.5\u001b[00m\n",
      "--------------------------------------------------\n",
      "\n",
      "\n",
      "\n",
      "\u001b[93m Recommended for you: \n",
      "\u001b[00m\n",
      "\u001b[92m The Grapes of Wrath: John Steinbeck Centennial Edition (1902-2002)\u001b[00m\n",
      "Rating->\u001b[91m 8.46\u001b[00m\n",
      "--------------------------------------------------\n",
      "\u001b[92m Shadows and Light\u001b[00m\n",
      "Rating->\u001b[91m 8.71\u001b[00m\n",
      "--------------------------------------------------\n",
      "\u001b[92m Monkey Sonatas\u001b[00m\n",
      "Rating->\u001b[91m 10.0\u001b[00m\n",
      "--------------------------------------------------\n",
      "\u001b[92m The Hobbit and The Lord of the Rings\u001b[00m\n",
      "Rating->\u001b[91m 8.5\u001b[00m\n",
      "--------------------------------------------------\n",
      "\u001b[92m The Invisible Ring\u001b[00m\n",
      "Rating->\u001b[91m 8.14\u001b[00m\n",
      "--------------------------------------------------\n",
      "\u001b[92m Ender's Game (Ender Wiggins Saga (Paperback))\u001b[00m\n",
      "Rating->\u001b[91m 8.92\u001b[00m\n",
      "--------------------------------------------------\n",
      "\u001b[92m The Stories of Hans Christian Andersen: A New Translation from the Danish\u001b[00m\n",
      "Rating->\u001b[91m 10.0\u001b[00m\n",
      "--------------------------------------------------\n",
      "\u001b[92m Fahrenheit 451\u001b[00m\n",
      "Rating->\u001b[91m 8.55\u001b[00m\n",
      "--------------------------------------------------\n",
      "\u001b[92m Ender's Shadow\u001b[00m\n",
      "Rating->\u001b[91m 8.62\u001b[00m\n",
      "--------------------------------------------------\n",
      "\u001b[92m The Canterville Ghost\u001b[00m\n",
      "Rating->\u001b[91m 9.5\u001b[00m\n",
      "--------------------------------------------------\n",
      "\u001b[92m Night Mare (Xanth Novels (Paperback))\u001b[00m\n",
      "Rating->\u001b[91m 7.75\u001b[00m\n",
      "--------------------------------------------------\n",
      "\u001b[92m The Silent Tower (Windrose Chronicles, Book 1)\u001b[00m\n",
      "Rating->\u001b[91m 8.75\u001b[00m\n",
      "--------------------------------------------------\n",
      "\u001b[92m The Doubleday Roget's Thesaurus in Dictionary Form\u001b[00m\n",
      "Rating->\u001b[91m 10.0\u001b[00m\n",
      "--------------------------------------------------\n",
      "\u001b[92m Servant of the Empire\u001b[00m\n",
      "Rating->\u001b[91m 9.25\u001b[00m\n",
      "--------------------------------------------------\n",
      "\u001b[92m Out of Phaze (Apprentice Adept (Paperback))\u001b[00m\n",
      "Rating->\u001b[91m 7.8\u001b[00m\n",
      "--------------------------------------------------\n",
      "\u001b[92m It's A Magical World: A Calvin and Hobbes Collection\u001b[00m\n",
      "Rating->\u001b[91m 9.3\u001b[00m\n",
      "--------------------------------------------------\n",
      "\u001b[92m 300\u001b[00m\n",
      "Rating->\u001b[91m 10.0\u001b[00m\n",
      "--------------------------------------------------\n",
      "\u001b[92m Sin City: That Yellow Bastard (Sin City Series , No 4)\u001b[00m\n",
      "Rating->\u001b[91m 10.0\u001b[00m\n",
      "--------------------------------------------------\n",
      "\u001b[92m The Calvin &amp; Hobbes Lazy Sunday Book\u001b[00m\n",
      "Rating->\u001b[91m 8.85\u001b[00m\n",
      "--------------------------------------------------\n",
      "\u001b[92m Scientific Progress Goes 'Boink':  A Calvin and Hobbes Collection\u001b[00m\n",
      "Rating->\u001b[91m 9.12\u001b[00m\n",
      "--------------------------------------------------\n",
      "\u001b[92m The Myth of Laziness\u001b[00m\n",
      "Rating->\u001b[91m 10.0\u001b[00m\n",
      "--------------------------------------------------\n",
      "\u001b[92m Boundaries with Kids\u001b[00m\n",
      "Rating->\u001b[91m 10.0\u001b[00m\n",
      "--------------------------------------------------\n",
      "\u001b[92m Little House on the Prairie (Little House)\u001b[00m\n",
      "Rating->\u001b[91m 9.75\u001b[00m\n",
      "--------------------------------------------------\n",
      "\u001b[92m Aspca Complete Cat Care Manual\u001b[00m\n",
      "Rating->\u001b[91m 10.0\u001b[00m\n",
      "--------------------------------------------------\n",
      "\u001b[92m The Smiling Pets Recipe Book: 101 Easy Make Treats..Five Minutes or Less Prep Time\u001b[00m\n",
      "Rating->\u001b[91m 10.0\u001b[00m\n",
      "--------------------------------------------------\n"
     ]
    }
   ],
   "source": [
    "user_based_coll_rs(4385)"
   ]
  },
  {
   "cell_type": "code",
   "execution_count": 106,
   "metadata": {
    "execution": {
     "iopub.execute_input": "2023-04-26T00:05:04.113530Z",
     "iopub.status.busy": "2023-04-26T00:05:04.112986Z",
     "iopub.status.idle": "2023-04-26T00:05:05.548712Z",
     "shell.execute_reply": "2023-04-26T00:05:05.547108Z",
     "shell.execute_reply.started": "2023-04-26T00:05:04.113495Z"
    }
   },
   "outputs": [
    {
     "name": "stdout",
     "output_type": "stream",
     "text": [
      "\u001b[93m Ypur Top Favorite books: \n",
      "\u001b[00m\n",
      "\u001b[92m To Kill a Mockingbird\u001b[00m\n",
      "Rating->\u001b[91m 8.98\u001b[00m\n",
      "--------------------------------------------------\n",
      "\u001b[92m My Evil Twin (An Avon Camelot Book)\u001b[00m\n",
      "Rating->\u001b[91m 10.0\u001b[00m\n",
      "--------------------------------------------------\n",
      "\u001b[92m A Wrinkle in Time\u001b[00m\n",
      "Rating->\u001b[91m 8.61\u001b[00m\n",
      "--------------------------------------------------\n",
      "\u001b[92m Endurance: Shackleton's Incredible Voyage\u001b[00m\n",
      "Rating->\u001b[91m 8.47\u001b[00m\n",
      "--------------------------------------------------\n",
      "\u001b[92m We Live in Ireland (Living Here)\u001b[00m\n",
      "Rating->\u001b[91m 10.0\u001b[00m\n",
      "--------------------------------------------------\n",
      "\n",
      "\n",
      "\n",
      "\u001b[93m Recommended for you: \n",
      "\u001b[00m\n",
      "\u001b[92m The Grapes of Wrath: John Steinbeck Centennial Edition (1902-2002)\u001b[00m\n",
      "Rating->\u001b[91m 8.46\u001b[00m\n",
      "--------------------------------------------------\n",
      "\u001b[92m Shadows and Light\u001b[00m\n",
      "Rating->\u001b[91m 8.71\u001b[00m\n",
      "--------------------------------------------------\n",
      "\u001b[92m Monkey Sonatas\u001b[00m\n",
      "Rating->\u001b[91m 10.0\u001b[00m\n",
      "--------------------------------------------------\n",
      "\u001b[92m The Hobbit and The Lord of the Rings\u001b[00m\n",
      "Rating->\u001b[91m 8.5\u001b[00m\n",
      "--------------------------------------------------\n",
      "\u001b[92m The Invisible Ring\u001b[00m\n",
      "Rating->\u001b[91m 8.14\u001b[00m\n",
      "--------------------------------------------------\n",
      "\u001b[92m Ender's Game (Ender Wiggins Saga (Paperback))\u001b[00m\n",
      "Rating->\u001b[91m 8.92\u001b[00m\n",
      "--------------------------------------------------\n",
      "\u001b[92m The Stories of Hans Christian Andersen: A New Translation from the Danish\u001b[00m\n",
      "Rating->\u001b[91m 10.0\u001b[00m\n",
      "--------------------------------------------------\n",
      "\u001b[92m Fahrenheit 451\u001b[00m\n",
      "Rating->\u001b[91m 8.55\u001b[00m\n",
      "--------------------------------------------------\n",
      "\u001b[92m Ender's Shadow\u001b[00m\n",
      "Rating->\u001b[91m 8.62\u001b[00m\n",
      "--------------------------------------------------\n",
      "\u001b[92m The Canterville Ghost\u001b[00m\n",
      "Rating->\u001b[91m 9.5\u001b[00m\n",
      "--------------------------------------------------\n",
      "\u001b[92m Night Mare (Xanth Novels (Paperback))\u001b[00m\n",
      "Rating->\u001b[91m 7.75\u001b[00m\n",
      "--------------------------------------------------\n",
      "\u001b[92m The Silent Tower (Windrose Chronicles, Book 1)\u001b[00m\n",
      "Rating->\u001b[91m 8.75\u001b[00m\n",
      "--------------------------------------------------\n",
      "\u001b[92m The Doubleday Roget's Thesaurus in Dictionary Form\u001b[00m\n",
      "Rating->\u001b[91m 10.0\u001b[00m\n",
      "--------------------------------------------------\n",
      "\u001b[92m Servant of the Empire\u001b[00m\n",
      "Rating->\u001b[91m 9.25\u001b[00m\n",
      "--------------------------------------------------\n",
      "\u001b[92m Out of Phaze (Apprentice Adept (Paperback))\u001b[00m\n",
      "Rating->\u001b[91m 7.8\u001b[00m\n",
      "--------------------------------------------------\n",
      "\u001b[92m Batman: The Dark Knight Returns (Batman (DC Comics Paperback))\u001b[00m\n",
      "Rating->\u001b[91m 8.6\u001b[00m\n",
      "--------------------------------------------------\n",
      "\u001b[92m Elektra Lives Again\u001b[00m\n",
      "Rating->\u001b[91m 10.0\u001b[00m\n",
      "--------------------------------------------------\n",
      "\u001b[92m Sin City: That Yellow Bastard (Sin City Series , No 4)\u001b[00m\n",
      "Rating->\u001b[91m 10.0\u001b[00m\n",
      "--------------------------------------------------\n",
      "\u001b[92m Scientific Progress Goes 'Boink':  A Calvin and Hobbes Collection\u001b[00m\n",
      "Rating->\u001b[91m 9.12\u001b[00m\n",
      "--------------------------------------------------\n",
      "\u001b[92m Spirou et Fantasio, tome 15 : Z comme Zorglub\u001b[00m\n",
      "Rating->\u001b[91m 8.5\u001b[00m\n",
      "--------------------------------------------------\n",
      "\u001b[92m Kids are Punny : Jokes Sent by Kids to the Rosie O'Donnell Show\u001b[00m\n",
      "Rating->\u001b[91m 8.0\u001b[00m\n",
      "--------------------------------------------------\n",
      "\u001b[92m Cookie Book\u001b[00m\n",
      "Rating->\u001b[91m 10.0\u001b[00m\n",
      "--------------------------------------------------\n",
      "\u001b[92m Aspca Complete Cat Care Manual\u001b[00m\n",
      "Rating->\u001b[91m 10.0\u001b[00m\n",
      "--------------------------------------------------\n",
      "\u001b[92m The Art Of Rubber Stamping\u001b[00m\n",
      "Rating->\u001b[91m 10.0\u001b[00m\n",
      "--------------------------------------------------\n",
      "\u001b[92m The Smiling Pets Recipe Book: 101 Easy Make Treats..Five Minutes or Less Prep Time\u001b[00m\n",
      "Rating->\u001b[91m 10.0\u001b[00m\n",
      "--------------------------------------------------\n"
     ]
    }
   ],
   "source": [
    "user_based_coll_rs(31556)"
   ]
  },
  {
   "cell_type": "markdown",
   "metadata": {},
   "source": [
    "## Content Based Filtering Recommender System"
   ]
  },
  {
   "cell_type": "code",
   "execution_count": 107,
   "metadata": {
    "execution": {
     "iopub.execute_input": "2023-04-26T00:05:05.550962Z",
     "iopub.status.busy": "2023-04-26T00:05:05.550440Z",
     "iopub.status.idle": "2023-04-26T00:05:05.751115Z",
     "shell.execute_reply": "2023-04-26T00:05:05.749781Z",
     "shell.execute_reply.started": "2023-04-26T00:05:05.550886Z"
    }
   },
   "outputs": [
    {
     "data": {
      "text/html": [
       "<div>\n",
       "<style scoped>\n",
       "    .dataframe tbody tr th:only-of-type {\n",
       "        vertical-align: middle;\n",
       "    }\n",
       "\n",
       "    .dataframe tbody tr th {\n",
       "        vertical-align: top;\n",
       "    }\n",
       "\n",
       "    .dataframe thead th {\n",
       "        text-align: right;\n",
       "    }\n",
       "</style>\n",
       "<table border=\"1\" class=\"dataframe\">\n",
       "  <thead>\n",
       "    <tr style=\"text-align: right;\">\n",
       "      <th></th>\n",
       "      <th>ISBN</th>\n",
       "      <th>Book-Title</th>\n",
       "      <th>Book-Author</th>\n",
       "      <th>Year-Of-Publication</th>\n",
       "      <th>Publisher</th>\n",
       "      <th>Image-URL-S</th>\n",
       "      <th>Image-URL-M</th>\n",
       "      <th>Image-URL-L</th>\n",
       "      <th>User-ID</th>\n",
       "      <th>Book-Rating</th>\n",
       "    </tr>\n",
       "  </thead>\n",
       "  <tbody>\n",
       "    <tr>\n",
       "      <th>104</th>\n",
       "      <td>0440234743</td>\n",
       "      <td>The Testament</td>\n",
       "      <td>John Grisham</td>\n",
       "      <td>1999</td>\n",
       "      <td>Dell</td>\n",
       "      <td>http://images.amazon.com/images/P/0440234743.0...</td>\n",
       "      <td>http://images.amazon.com/images/P/0440234743.0...</td>\n",
       "      <td>http://images.amazon.com/images/P/0440234743.0...</td>\n",
       "      <td>3329</td>\n",
       "      <td>8</td>\n",
       "    </tr>\n",
       "    <tr>\n",
       "      <th>108</th>\n",
       "      <td>0440234743</td>\n",
       "      <td>The Testament</td>\n",
       "      <td>John Grisham</td>\n",
       "      <td>1999</td>\n",
       "      <td>Dell</td>\n",
       "      <td>http://images.amazon.com/images/P/0440234743.0...</td>\n",
       "      <td>http://images.amazon.com/images/P/0440234743.0...</td>\n",
       "      <td>http://images.amazon.com/images/P/0440234743.0...</td>\n",
       "      <td>7346</td>\n",
       "      <td>9</td>\n",
       "    </tr>\n",
       "    <tr>\n",
       "      <th>109</th>\n",
       "      <td>0440234743</td>\n",
       "      <td>The Testament</td>\n",
       "      <td>John Grisham</td>\n",
       "      <td>1999</td>\n",
       "      <td>Dell</td>\n",
       "      <td>http://images.amazon.com/images/P/0440234743.0...</td>\n",
       "      <td>http://images.amazon.com/images/P/0440234743.0...</td>\n",
       "      <td>http://images.amazon.com/images/P/0440234743.0...</td>\n",
       "      <td>7352</td>\n",
       "      <td>8</td>\n",
       "    </tr>\n",
       "    <tr>\n",
       "      <th>110</th>\n",
       "      <td>0440234743</td>\n",
       "      <td>The Testament</td>\n",
       "      <td>John Grisham</td>\n",
       "      <td>1999</td>\n",
       "      <td>Dell</td>\n",
       "      <td>http://images.amazon.com/images/P/0440234743.0...</td>\n",
       "      <td>http://images.amazon.com/images/P/0440234743.0...</td>\n",
       "      <td>http://images.amazon.com/images/P/0440234743.0...</td>\n",
       "      <td>9419</td>\n",
       "      <td>5</td>\n",
       "    </tr>\n",
       "    <tr>\n",
       "      <th>113</th>\n",
       "      <td>0440234743</td>\n",
       "      <td>The Testament</td>\n",
       "      <td>John Grisham</td>\n",
       "      <td>1999</td>\n",
       "      <td>Dell</td>\n",
       "      <td>http://images.amazon.com/images/P/0440234743.0...</td>\n",
       "      <td>http://images.amazon.com/images/P/0440234743.0...</td>\n",
       "      <td>http://images.amazon.com/images/P/0440234743.0...</td>\n",
       "      <td>11224</td>\n",
       "      <td>6</td>\n",
       "    </tr>\n",
       "  </tbody>\n",
       "</table>\n",
       "</div>"
      ],
      "text/plain": [
       "           ISBN     Book-Title   Book-Author  Year-Of-Publication Publisher  \\\n",
       "104  0440234743  The Testament  John Grisham                 1999      Dell   \n",
       "108  0440234743  The Testament  John Grisham                 1999      Dell   \n",
       "109  0440234743  The Testament  John Grisham                 1999      Dell   \n",
       "110  0440234743  The Testament  John Grisham                 1999      Dell   \n",
       "113  0440234743  The Testament  John Grisham                 1999      Dell   \n",
       "\n",
       "                                           Image-URL-S  \\\n",
       "104  http://images.amazon.com/images/P/0440234743.0...   \n",
       "108  http://images.amazon.com/images/P/0440234743.0...   \n",
       "109  http://images.amazon.com/images/P/0440234743.0...   \n",
       "110  http://images.amazon.com/images/P/0440234743.0...   \n",
       "113  http://images.amazon.com/images/P/0440234743.0...   \n",
       "\n",
       "                                           Image-URL-M  \\\n",
       "104  http://images.amazon.com/images/P/0440234743.0...   \n",
       "108  http://images.amazon.com/images/P/0440234743.0...   \n",
       "109  http://images.amazon.com/images/P/0440234743.0...   \n",
       "110  http://images.amazon.com/images/P/0440234743.0...   \n",
       "113  http://images.amazon.com/images/P/0440234743.0...   \n",
       "\n",
       "                                           Image-URL-L  User-ID  Book-Rating  \n",
       "104  http://images.amazon.com/images/P/0440234743.0...     3329            8  \n",
       "108  http://images.amazon.com/images/P/0440234743.0...     7346            9  \n",
       "109  http://images.amazon.com/images/P/0440234743.0...     7352            8  \n",
       "110  http://images.amazon.com/images/P/0440234743.0...     9419            5  \n",
       "113  http://images.amazon.com/images/P/0440234743.0...    11224            6  "
      ]
     },
     "execution_count": 107,
     "metadata": {},
     "output_type": "execute_result"
    }
   ],
   "source": [
    "count_rate = pd.DataFrame(df['Book-Title'].value_counts())\n",
    "rare_books=count_rate[count_rate[\"Book-Title\"]<=200].index\n",
    "common_books=df[~df[\"Book-Title\"].isin(rare_books)]\n",
    "\n",
    "common_books.head()"
   ]
  },
  {
   "cell_type": "code",
   "execution_count": 108,
   "metadata": {
    "execution": {
     "iopub.execute_input": "2023-04-26T00:05:05.753866Z",
     "iopub.status.busy": "2023-04-26T00:05:05.752718Z",
     "iopub.status.idle": "2023-04-26T00:05:05.761024Z",
     "shell.execute_reply": "2023-04-26T00:05:05.759940Z",
     "shell.execute_reply.started": "2023-04-26T00:05:05.753822Z"
    }
   },
   "outputs": [
    {
     "data": {
      "text/plain": [
       "(14197, 10)"
      ]
     },
     "execution_count": 108,
     "metadata": {},
     "output_type": "execute_result"
    }
   ],
   "source": [
    "common_books.shape"
   ]
  },
  {
   "cell_type": "code",
   "execution_count": 109,
   "metadata": {
    "execution": {
     "iopub.execute_input": "2023-04-26T00:05:05.763948Z",
     "iopub.status.busy": "2023-04-26T00:05:05.762919Z",
     "iopub.status.idle": "2023-04-26T00:05:05.788891Z",
     "shell.execute_reply": "2023-04-26T00:05:05.787995Z",
     "shell.execute_reply.started": "2023-04-26T00:05:05.763869Z"
    }
   },
   "outputs": [
    {
     "data": {
      "text/html": [
       "<div>\n",
       "<style scoped>\n",
       "    .dataframe tbody tr th:only-of-type {\n",
       "        vertical-align: middle;\n",
       "    }\n",
       "\n",
       "    .dataframe tbody tr th {\n",
       "        vertical-align: top;\n",
       "    }\n",
       "\n",
       "    .dataframe thead th {\n",
       "        text-align: right;\n",
       "    }\n",
       "</style>\n",
       "<table border=\"1\" class=\"dataframe\">\n",
       "  <thead>\n",
       "    <tr style=\"text-align: right;\">\n",
       "      <th></th>\n",
       "      <th>ISBN</th>\n",
       "      <th>Book-Title</th>\n",
       "      <th>Book-Author</th>\n",
       "      <th>Year-Of-Publication</th>\n",
       "      <th>Publisher</th>\n",
       "      <th>Image-URL-S</th>\n",
       "      <th>Image-URL-M</th>\n",
       "      <th>Image-URL-L</th>\n",
       "      <th>User-ID</th>\n",
       "      <th>Book-Rating</th>\n",
       "    </tr>\n",
       "  </thead>\n",
       "  <tbody>\n",
       "    <tr>\n",
       "      <th>104</th>\n",
       "      <td>0440234743</td>\n",
       "      <td>The Testament</td>\n",
       "      <td>John Grisham</td>\n",
       "      <td>1999</td>\n",
       "      <td>Dell</td>\n",
       "      <td>http://images.amazon.com/images/P/0440234743.0...</td>\n",
       "      <td>http://images.amazon.com/images/P/0440234743.0...</td>\n",
       "      <td>http://images.amazon.com/images/P/0440234743.0...</td>\n",
       "      <td>3329</td>\n",
       "      <td>8</td>\n",
       "    </tr>\n",
       "    <tr>\n",
       "      <th>772</th>\n",
       "      <td>0971880107</td>\n",
       "      <td>Wild Animus</td>\n",
       "      <td>Rich Shapero</td>\n",
       "      <td>2004</td>\n",
       "      <td>Too Far</td>\n",
       "      <td>http://images.amazon.com/images/P/0971880107.0...</td>\n",
       "      <td>http://images.amazon.com/images/P/0971880107.0...</td>\n",
       "      <td>http://images.amazon.com/images/P/0971880107.0...</td>\n",
       "      <td>277042</td>\n",
       "      <td>2</td>\n",
       "    </tr>\n",
       "    <tr>\n",
       "      <th>3481</th>\n",
       "      <td>0345417623</td>\n",
       "      <td>Timeline</td>\n",
       "      <td>MICHAEL CRICHTON</td>\n",
       "      <td>2000</td>\n",
       "      <td>Ballantine Books</td>\n",
       "      <td>http://images.amazon.com/images/P/0345417623.0...</td>\n",
       "      <td>http://images.amazon.com/images/P/0345417623.0...</td>\n",
       "      <td>http://images.amazon.com/images/P/0345417623.0...</td>\n",
       "      <td>1376</td>\n",
       "      <td>8</td>\n",
       "    </tr>\n",
       "    <tr>\n",
       "      <th>3956</th>\n",
       "      <td>0446310786</td>\n",
       "      <td>To Kill a Mockingbird</td>\n",
       "      <td>Harper Lee</td>\n",
       "      <td>1988</td>\n",
       "      <td>Little Brown &amp;amp; Company</td>\n",
       "      <td>http://images.amazon.com/images/P/0446310786.0...</td>\n",
       "      <td>http://images.amazon.com/images/P/0446310786.0...</td>\n",
       "      <td>http://images.amazon.com/images/P/0446310786.0...</td>\n",
       "      <td>276953</td>\n",
       "      <td>10</td>\n",
       "    </tr>\n",
       "    <tr>\n",
       "      <th>5533</th>\n",
       "      <td>0440225701</td>\n",
       "      <td>The Street Lawyer</td>\n",
       "      <td>JOHN GRISHAM</td>\n",
       "      <td>1999</td>\n",
       "      <td>Dell</td>\n",
       "      <td>http://images.amazon.com/images/P/0440225701.0...</td>\n",
       "      <td>http://images.amazon.com/images/P/0440225701.0...</td>\n",
       "      <td>http://images.amazon.com/images/P/0440225701.0...</td>\n",
       "      <td>277922</td>\n",
       "      <td>6</td>\n",
       "    </tr>\n",
       "  </tbody>\n",
       "</table>\n",
       "</div>"
      ],
      "text/plain": [
       "            ISBN             Book-Title       Book-Author  \\\n",
       "104   0440234743          The Testament      John Grisham   \n",
       "772   0971880107            Wild Animus      Rich Shapero   \n",
       "3481  0345417623               Timeline  MICHAEL CRICHTON   \n",
       "3956  0446310786  To Kill a Mockingbird        Harper Lee   \n",
       "5533  0440225701      The Street Lawyer      JOHN GRISHAM   \n",
       "\n",
       "      Year-Of-Publication                   Publisher  \\\n",
       "104                  1999                        Dell   \n",
       "772                  2004                     Too Far   \n",
       "3481                 2000            Ballantine Books   \n",
       "3956                 1988  Little Brown &amp; Company   \n",
       "5533                 1999                        Dell   \n",
       "\n",
       "                                            Image-URL-S  \\\n",
       "104   http://images.amazon.com/images/P/0440234743.0...   \n",
       "772   http://images.amazon.com/images/P/0971880107.0...   \n",
       "3481  http://images.amazon.com/images/P/0345417623.0...   \n",
       "3956  http://images.amazon.com/images/P/0446310786.0...   \n",
       "5533  http://images.amazon.com/images/P/0440225701.0...   \n",
       "\n",
       "                                            Image-URL-M  \\\n",
       "104   http://images.amazon.com/images/P/0440234743.0...   \n",
       "772   http://images.amazon.com/images/P/0971880107.0...   \n",
       "3481  http://images.amazon.com/images/P/0345417623.0...   \n",
       "3956  http://images.amazon.com/images/P/0446310786.0...   \n",
       "5533  http://images.amazon.com/images/P/0440225701.0...   \n",
       "\n",
       "                                            Image-URL-L  User-ID  Book-Rating  \n",
       "104   http://images.amazon.com/images/P/0440234743.0...     3329            8  \n",
       "772   http://images.amazon.com/images/P/0971880107.0...   277042            2  \n",
       "3481  http://images.amazon.com/images/P/0345417623.0...     1376            8  \n",
       "3956  http://images.amazon.com/images/P/0446310786.0...   276953           10  \n",
       "5533  http://images.amazon.com/images/P/0440225701.0...   277922            6  "
      ]
     },
     "execution_count": 109,
     "metadata": {},
     "output_type": "execute_result"
    }
   ],
   "source": [
    "common_books=common_books.drop_duplicates(subset=[\"Book-Title\"])\n",
    "common_books.head()"
   ]
  },
  {
   "cell_type": "code",
   "execution_count": 110,
   "metadata": {
    "execution": {
     "iopub.execute_input": "2023-04-26T00:05:05.791386Z",
     "iopub.status.busy": "2023-04-26T00:05:05.790963Z",
     "iopub.status.idle": "2023-04-26T00:05:05.800662Z",
     "shell.execute_reply": "2023-04-26T00:05:05.799244Z",
     "shell.execute_reply.started": "2023-04-26T00:05:05.791347Z"
    }
   },
   "outputs": [
    {
     "data": {
      "text/plain": [
       "(50, 10)"
      ]
     },
     "execution_count": 110,
     "metadata": {},
     "output_type": "execute_result"
    }
   ],
   "source": [
    "common_books.shape"
   ]
  },
  {
   "cell_type": "code",
   "execution_count": 111,
   "metadata": {
    "execution": {
     "iopub.execute_input": "2023-04-26T00:05:05.803502Z",
     "iopub.status.busy": "2023-04-26T00:05:05.803024Z",
     "iopub.status.idle": "2023-04-26T00:05:05.824160Z",
     "shell.execute_reply": "2023-04-26T00:05:05.822653Z",
     "shell.execute_reply.started": "2023-04-26T00:05:05.803451Z"
    }
   },
   "outputs": [
    {
     "data": {
      "text/html": [
       "<div>\n",
       "<style scoped>\n",
       "    .dataframe tbody tr th:only-of-type {\n",
       "        vertical-align: middle;\n",
       "    }\n",
       "\n",
       "    .dataframe tbody tr th {\n",
       "        vertical-align: top;\n",
       "    }\n",
       "\n",
       "    .dataframe thead th {\n",
       "        text-align: right;\n",
       "    }\n",
       "</style>\n",
       "<table border=\"1\" class=\"dataframe\">\n",
       "  <thead>\n",
       "    <tr style=\"text-align: right;\">\n",
       "      <th></th>\n",
       "      <th>index</th>\n",
       "      <th>ISBN</th>\n",
       "      <th>Book-Title</th>\n",
       "      <th>Book-Author</th>\n",
       "      <th>Year-Of-Publication</th>\n",
       "      <th>Publisher</th>\n",
       "      <th>Image-URL-S</th>\n",
       "      <th>Image-URL-M</th>\n",
       "      <th>Image-URL-L</th>\n",
       "      <th>User-ID</th>\n",
       "      <th>Book-Rating</th>\n",
       "    </tr>\n",
       "  </thead>\n",
       "  <tbody>\n",
       "    <tr>\n",
       "      <th>0</th>\n",
       "      <td>104</td>\n",
       "      <td>0440234743</td>\n",
       "      <td>The Testament</td>\n",
       "      <td>John Grisham</td>\n",
       "      <td>1999</td>\n",
       "      <td>Dell</td>\n",
       "      <td>http://images.amazon.com/images/P/0440234743.0...</td>\n",
       "      <td>http://images.amazon.com/images/P/0440234743.0...</td>\n",
       "      <td>http://images.amazon.com/images/P/0440234743.0...</td>\n",
       "      <td>3329</td>\n",
       "      <td>8</td>\n",
       "    </tr>\n",
       "    <tr>\n",
       "      <th>1</th>\n",
       "      <td>772</td>\n",
       "      <td>0971880107</td>\n",
       "      <td>Wild Animus</td>\n",
       "      <td>Rich Shapero</td>\n",
       "      <td>2004</td>\n",
       "      <td>Too Far</td>\n",
       "      <td>http://images.amazon.com/images/P/0971880107.0...</td>\n",
       "      <td>http://images.amazon.com/images/P/0971880107.0...</td>\n",
       "      <td>http://images.amazon.com/images/P/0971880107.0...</td>\n",
       "      <td>277042</td>\n",
       "      <td>2</td>\n",
       "    </tr>\n",
       "    <tr>\n",
       "      <th>2</th>\n",
       "      <td>3481</td>\n",
       "      <td>0345417623</td>\n",
       "      <td>Timeline</td>\n",
       "      <td>MICHAEL CRICHTON</td>\n",
       "      <td>2000</td>\n",
       "      <td>Ballantine Books</td>\n",
       "      <td>http://images.amazon.com/images/P/0345417623.0...</td>\n",
       "      <td>http://images.amazon.com/images/P/0345417623.0...</td>\n",
       "      <td>http://images.amazon.com/images/P/0345417623.0...</td>\n",
       "      <td>1376</td>\n",
       "      <td>8</td>\n",
       "    </tr>\n",
       "    <tr>\n",
       "      <th>3</th>\n",
       "      <td>3956</td>\n",
       "      <td>0446310786</td>\n",
       "      <td>To Kill a Mockingbird</td>\n",
       "      <td>Harper Lee</td>\n",
       "      <td>1988</td>\n",
       "      <td>Little Brown &amp;amp; Company</td>\n",
       "      <td>http://images.amazon.com/images/P/0446310786.0...</td>\n",
       "      <td>http://images.amazon.com/images/P/0446310786.0...</td>\n",
       "      <td>http://images.amazon.com/images/P/0446310786.0...</td>\n",
       "      <td>276953</td>\n",
       "      <td>10</td>\n",
       "    </tr>\n",
       "    <tr>\n",
       "      <th>4</th>\n",
       "      <td>5533</td>\n",
       "      <td>0440225701</td>\n",
       "      <td>The Street Lawyer</td>\n",
       "      <td>JOHN GRISHAM</td>\n",
       "      <td>1999</td>\n",
       "      <td>Dell</td>\n",
       "      <td>http://images.amazon.com/images/P/0440225701.0...</td>\n",
       "      <td>http://images.amazon.com/images/P/0440225701.0...</td>\n",
       "      <td>http://images.amazon.com/images/P/0440225701.0...</td>\n",
       "      <td>277922</td>\n",
       "      <td>6</td>\n",
       "    </tr>\n",
       "  </tbody>\n",
       "</table>\n",
       "</div>"
      ],
      "text/plain": [
       "   index        ISBN             Book-Title       Book-Author  \\\n",
       "0    104  0440234743          The Testament      John Grisham   \n",
       "1    772  0971880107            Wild Animus      Rich Shapero   \n",
       "2   3481  0345417623               Timeline  MICHAEL CRICHTON   \n",
       "3   3956  0446310786  To Kill a Mockingbird        Harper Lee   \n",
       "4   5533  0440225701      The Street Lawyer      JOHN GRISHAM   \n",
       "\n",
       "   Year-Of-Publication                   Publisher  \\\n",
       "0                 1999                        Dell   \n",
       "1                 2004                     Too Far   \n",
       "2                 2000            Ballantine Books   \n",
       "3                 1988  Little Brown &amp; Company   \n",
       "4                 1999                        Dell   \n",
       "\n",
       "                                         Image-URL-S  \\\n",
       "0  http://images.amazon.com/images/P/0440234743.0...   \n",
       "1  http://images.amazon.com/images/P/0971880107.0...   \n",
       "2  http://images.amazon.com/images/P/0345417623.0...   \n",
       "3  http://images.amazon.com/images/P/0446310786.0...   \n",
       "4  http://images.amazon.com/images/P/0440225701.0...   \n",
       "\n",
       "                                         Image-URL-M  \\\n",
       "0  http://images.amazon.com/images/P/0440234743.0...   \n",
       "1  http://images.amazon.com/images/P/0971880107.0...   \n",
       "2  http://images.amazon.com/images/P/0345417623.0...   \n",
       "3  http://images.amazon.com/images/P/0446310786.0...   \n",
       "4  http://images.amazon.com/images/P/0440225701.0...   \n",
       "\n",
       "                                         Image-URL-L  User-ID  Book-Rating  \n",
       "0  http://images.amazon.com/images/P/0440234743.0...     3329            8  \n",
       "1  http://images.amazon.com/images/P/0971880107.0...   277042            2  \n",
       "2  http://images.amazon.com/images/P/0345417623.0...     1376            8  \n",
       "3  http://images.amazon.com/images/P/0446310786.0...   276953           10  \n",
       "4  http://images.amazon.com/images/P/0440225701.0...   277922            6  "
      ]
     },
     "execution_count": 111,
     "metadata": {},
     "output_type": "execute_result"
    }
   ],
   "source": [
    "common_books.reset_index(inplace=True)\n",
    "common_books.head()"
   ]
  },
  {
   "cell_type": "code",
   "execution_count": 112,
   "metadata": {
    "execution": {
     "iopub.execute_input": "2023-04-26T00:05:05.827105Z",
     "iopub.status.busy": "2023-04-26T00:05:05.826338Z",
     "iopub.status.idle": "2023-04-26T00:05:05.852636Z",
     "shell.execute_reply": "2023-04-26T00:05:05.851440Z",
     "shell.execute_reply.started": "2023-04-26T00:05:05.827061Z"
    }
   },
   "outputs": [
    {
     "data": {
      "text/html": [
       "<div>\n",
       "<style scoped>\n",
       "    .dataframe tbody tr th:only-of-type {\n",
       "        vertical-align: middle;\n",
       "    }\n",
       "\n",
       "    .dataframe tbody tr th {\n",
       "        vertical-align: top;\n",
       "    }\n",
       "\n",
       "    .dataframe thead th {\n",
       "        text-align: right;\n",
       "    }\n",
       "</style>\n",
       "<table border=\"1\" class=\"dataframe\">\n",
       "  <thead>\n",
       "    <tr style=\"text-align: right;\">\n",
       "      <th></th>\n",
       "      <th>index</th>\n",
       "      <th>ISBN</th>\n",
       "      <th>Book-Title</th>\n",
       "      <th>Book-Author</th>\n",
       "      <th>Year-Of-Publication</th>\n",
       "      <th>Publisher</th>\n",
       "      <th>Image-URL-S</th>\n",
       "      <th>Image-URL-M</th>\n",
       "      <th>Image-URL-L</th>\n",
       "      <th>User-ID</th>\n",
       "      <th>Book-Rating</th>\n",
       "    </tr>\n",
       "  </thead>\n",
       "  <tbody>\n",
       "    <tr>\n",
       "      <th>0</th>\n",
       "      <td>0</td>\n",
       "      <td>0440234743</td>\n",
       "      <td>The Testament</td>\n",
       "      <td>John Grisham</td>\n",
       "      <td>1999</td>\n",
       "      <td>Dell</td>\n",
       "      <td>http://images.amazon.com/images/P/0440234743.0...</td>\n",
       "      <td>http://images.amazon.com/images/P/0440234743.0...</td>\n",
       "      <td>http://images.amazon.com/images/P/0440234743.0...</td>\n",
       "      <td>3329</td>\n",
       "      <td>8</td>\n",
       "    </tr>\n",
       "    <tr>\n",
       "      <th>1</th>\n",
       "      <td>1</td>\n",
       "      <td>0971880107</td>\n",
       "      <td>Wild Animus</td>\n",
       "      <td>Rich Shapero</td>\n",
       "      <td>2004</td>\n",
       "      <td>Too Far</td>\n",
       "      <td>http://images.amazon.com/images/P/0971880107.0...</td>\n",
       "      <td>http://images.amazon.com/images/P/0971880107.0...</td>\n",
       "      <td>http://images.amazon.com/images/P/0971880107.0...</td>\n",
       "      <td>277042</td>\n",
       "      <td>2</td>\n",
       "    </tr>\n",
       "    <tr>\n",
       "      <th>2</th>\n",
       "      <td>2</td>\n",
       "      <td>0345417623</td>\n",
       "      <td>Timeline</td>\n",
       "      <td>MICHAEL CRICHTON</td>\n",
       "      <td>2000</td>\n",
       "      <td>Ballantine Books</td>\n",
       "      <td>http://images.amazon.com/images/P/0345417623.0...</td>\n",
       "      <td>http://images.amazon.com/images/P/0345417623.0...</td>\n",
       "      <td>http://images.amazon.com/images/P/0345417623.0...</td>\n",
       "      <td>1376</td>\n",
       "      <td>8</td>\n",
       "    </tr>\n",
       "    <tr>\n",
       "      <th>3</th>\n",
       "      <td>3</td>\n",
       "      <td>0446310786</td>\n",
       "      <td>To Kill a Mockingbird</td>\n",
       "      <td>Harper Lee</td>\n",
       "      <td>1988</td>\n",
       "      <td>Little Brown &amp;amp; Company</td>\n",
       "      <td>http://images.amazon.com/images/P/0446310786.0...</td>\n",
       "      <td>http://images.amazon.com/images/P/0446310786.0...</td>\n",
       "      <td>http://images.amazon.com/images/P/0446310786.0...</td>\n",
       "      <td>276953</td>\n",
       "      <td>10</td>\n",
       "    </tr>\n",
       "    <tr>\n",
       "      <th>4</th>\n",
       "      <td>4</td>\n",
       "      <td>0440225701</td>\n",
       "      <td>The Street Lawyer</td>\n",
       "      <td>JOHN GRISHAM</td>\n",
       "      <td>1999</td>\n",
       "      <td>Dell</td>\n",
       "      <td>http://images.amazon.com/images/P/0440225701.0...</td>\n",
       "      <td>http://images.amazon.com/images/P/0440225701.0...</td>\n",
       "      <td>http://images.amazon.com/images/P/0440225701.0...</td>\n",
       "      <td>277922</td>\n",
       "      <td>6</td>\n",
       "    </tr>\n",
       "  </tbody>\n",
       "</table>\n",
       "</div>"
      ],
      "text/plain": [
       "   index        ISBN             Book-Title       Book-Author  \\\n",
       "0      0  0440234743          The Testament      John Grisham   \n",
       "1      1  0971880107            Wild Animus      Rich Shapero   \n",
       "2      2  0345417623               Timeline  MICHAEL CRICHTON   \n",
       "3      3  0446310786  To Kill a Mockingbird        Harper Lee   \n",
       "4      4  0440225701      The Street Lawyer      JOHN GRISHAM   \n",
       "\n",
       "   Year-Of-Publication                   Publisher  \\\n",
       "0                 1999                        Dell   \n",
       "1                 2004                     Too Far   \n",
       "2                 2000            Ballantine Books   \n",
       "3                 1988  Little Brown &amp; Company   \n",
       "4                 1999                        Dell   \n",
       "\n",
       "                                         Image-URL-S  \\\n",
       "0  http://images.amazon.com/images/P/0440234743.0...   \n",
       "1  http://images.amazon.com/images/P/0971880107.0...   \n",
       "2  http://images.amazon.com/images/P/0345417623.0...   \n",
       "3  http://images.amazon.com/images/P/0446310786.0...   \n",
       "4  http://images.amazon.com/images/P/0440225701.0...   \n",
       "\n",
       "                                         Image-URL-M  \\\n",
       "0  http://images.amazon.com/images/P/0440234743.0...   \n",
       "1  http://images.amazon.com/images/P/0971880107.0...   \n",
       "2  http://images.amazon.com/images/P/0345417623.0...   \n",
       "3  http://images.amazon.com/images/P/0446310786.0...   \n",
       "4  http://images.amazon.com/images/P/0440225701.0...   \n",
       "\n",
       "                                         Image-URL-L  User-ID  Book-Rating  \n",
       "0  http://images.amazon.com/images/P/0440234743.0...     3329            8  \n",
       "1  http://images.amazon.com/images/P/0971880107.0...   277042            2  \n",
       "2  http://images.amazon.com/images/P/0345417623.0...     1376            8  \n",
       "3  http://images.amazon.com/images/P/0446310786.0...   276953           10  \n",
       "4  http://images.amazon.com/images/P/0440225701.0...   277922            6  "
      ]
     },
     "execution_count": 112,
     "metadata": {},
     "output_type": "execute_result"
    }
   ],
   "source": [
    "common_books[\"index\"]=[i for i in range(common_books.shape[0])]\n",
    "common_books.head()"
   ]
  },
  {
   "cell_type": "code",
   "execution_count": 113,
   "metadata": {
    "execution": {
     "iopub.execute_input": "2023-04-26T00:05:05.855103Z",
     "iopub.status.busy": "2023-04-26T00:05:05.854673Z",
     "iopub.status.idle": "2023-04-26T00:05:05.875779Z",
     "shell.execute_reply": "2023-04-26T00:05:05.874328Z",
     "shell.execute_reply.started": "2023-04-26T00:05:05.855059Z"
    }
   },
   "outputs": [
    {
     "data": {
      "text/plain": [
       "(50, 11)"
      ]
     },
     "execution_count": 113,
     "metadata": {},
     "output_type": "execute_result"
    }
   ],
   "source": [
    "common_books.shape"
   ]
  },
  {
   "cell_type": "code",
   "execution_count": 114,
   "metadata": {
    "execution": {
     "iopub.execute_input": "2023-04-26T00:05:05.877809Z",
     "iopub.status.busy": "2023-04-26T00:05:05.877403Z",
     "iopub.status.idle": "2023-04-26T00:05:05.890477Z",
     "shell.execute_reply": "2023-04-26T00:05:05.889123Z",
     "shell.execute_reply.started": "2023-04-26T00:05:05.877769Z"
    }
   },
   "outputs": [],
   "source": [
    "common_books['Book-Title'] = common_books['Book-Title'].astype('object')\n",
    "common_books['Book-Author'] = common_books['Book-Author'].astype('object')\n",
    "common_books['Publisher'] = common_books['Publisher'].astype('object')"
   ]
  },
  {
   "cell_type": "code",
   "execution_count": 115,
   "metadata": {
    "execution": {
     "iopub.execute_input": "2023-04-26T00:05:05.892497Z",
     "iopub.status.busy": "2023-04-26T00:05:05.892143Z",
     "iopub.status.idle": "2023-04-26T00:05:05.951911Z",
     "shell.execute_reply": "2023-04-26T00:05:05.950563Z",
     "shell.execute_reply.started": "2023-04-26T00:05:05.892463Z"
    }
   },
   "outputs": [
    {
     "data": {
      "text/html": [
       "<div>\n",
       "<style scoped>\n",
       "    .dataframe tbody tr th:only-of-type {\n",
       "        vertical-align: middle;\n",
       "    }\n",
       "\n",
       "    .dataframe tbody tr th {\n",
       "        vertical-align: top;\n",
       "    }\n",
       "\n",
       "    .dataframe thead th {\n",
       "        text-align: right;\n",
       "    }\n",
       "</style>\n",
       "<table border=\"1\" class=\"dataframe\">\n",
       "  <thead>\n",
       "    <tr style=\"text-align: right;\">\n",
       "      <th></th>\n",
       "      <th>index</th>\n",
       "      <th>ISBN</th>\n",
       "      <th>Book-Title</th>\n",
       "      <th>Book-Author</th>\n",
       "      <th>Year-Of-Publication</th>\n",
       "      <th>Publisher</th>\n",
       "      <th>Image-URL-S</th>\n",
       "      <th>Image-URL-M</th>\n",
       "      <th>Image-URL-L</th>\n",
       "      <th>User-ID</th>\n",
       "      <th>Book-Rating</th>\n",
       "      <th>all_features</th>\n",
       "    </tr>\n",
       "  </thead>\n",
       "  <tbody>\n",
       "    <tr>\n",
       "      <th>0</th>\n",
       "      <td>0</td>\n",
       "      <td>0440234743</td>\n",
       "      <td>The Testament</td>\n",
       "      <td>John Grisham</td>\n",
       "      <td>1999</td>\n",
       "      <td>Dell</td>\n",
       "      <td>http://images.amazon.com/images/P/0440234743.0...</td>\n",
       "      <td>http://images.amazon.com/images/P/0440234743.0...</td>\n",
       "      <td>http://images.amazon.com/images/P/0440234743.0...</td>\n",
       "      <td>3329</td>\n",
       "      <td>8</td>\n",
       "      <td>The Testament John Grisham Dell</td>\n",
       "    </tr>\n",
       "    <tr>\n",
       "      <th>1</th>\n",
       "      <td>1</td>\n",
       "      <td>0971880107</td>\n",
       "      <td>Wild Animus</td>\n",
       "      <td>Rich Shapero</td>\n",
       "      <td>2004</td>\n",
       "      <td>Too Far</td>\n",
       "      <td>http://images.amazon.com/images/P/0971880107.0...</td>\n",
       "      <td>http://images.amazon.com/images/P/0971880107.0...</td>\n",
       "      <td>http://images.amazon.com/images/P/0971880107.0...</td>\n",
       "      <td>277042</td>\n",
       "      <td>2</td>\n",
       "      <td>Wild Animus Rich Shapero Too Far</td>\n",
       "    </tr>\n",
       "    <tr>\n",
       "      <th>2</th>\n",
       "      <td>2</td>\n",
       "      <td>0345417623</td>\n",
       "      <td>Timeline</td>\n",
       "      <td>MICHAEL CRICHTON</td>\n",
       "      <td>2000</td>\n",
       "      <td>Ballantine Books</td>\n",
       "      <td>http://images.amazon.com/images/P/0345417623.0...</td>\n",
       "      <td>http://images.amazon.com/images/P/0345417623.0...</td>\n",
       "      <td>http://images.amazon.com/images/P/0345417623.0...</td>\n",
       "      <td>1376</td>\n",
       "      <td>8</td>\n",
       "      <td>Timeline MICHAEL CRICHTON Ballantine Books</td>\n",
       "    </tr>\n",
       "    <tr>\n",
       "      <th>3</th>\n",
       "      <td>3</td>\n",
       "      <td>0446310786</td>\n",
       "      <td>To Kill a Mockingbird</td>\n",
       "      <td>Harper Lee</td>\n",
       "      <td>1988</td>\n",
       "      <td>Little Brown &amp;amp; Company</td>\n",
       "      <td>http://images.amazon.com/images/P/0446310786.0...</td>\n",
       "      <td>http://images.amazon.com/images/P/0446310786.0...</td>\n",
       "      <td>http://images.amazon.com/images/P/0446310786.0...</td>\n",
       "      <td>276953</td>\n",
       "      <td>10</td>\n",
       "      <td>To Kill a Mockingbird Harper Lee Little Brown ...</td>\n",
       "    </tr>\n",
       "    <tr>\n",
       "      <th>4</th>\n",
       "      <td>4</td>\n",
       "      <td>0440225701</td>\n",
       "      <td>The Street Lawyer</td>\n",
       "      <td>JOHN GRISHAM</td>\n",
       "      <td>1999</td>\n",
       "      <td>Dell</td>\n",
       "      <td>http://images.amazon.com/images/P/0440225701.0...</td>\n",
       "      <td>http://images.amazon.com/images/P/0440225701.0...</td>\n",
       "      <td>http://images.amazon.com/images/P/0440225701.0...</td>\n",
       "      <td>277922</td>\n",
       "      <td>6</td>\n",
       "      <td>The Street Lawyer JOHN GRISHAM Dell</td>\n",
       "    </tr>\n",
       "  </tbody>\n",
       "</table>\n",
       "</div>"
      ],
      "text/plain": [
       "   index        ISBN             Book-Title       Book-Author  \\\n",
       "0      0  0440234743          The Testament      John Grisham   \n",
       "1      1  0971880107            Wild Animus      Rich Shapero   \n",
       "2      2  0345417623               Timeline  MICHAEL CRICHTON   \n",
       "3      3  0446310786  To Kill a Mockingbird        Harper Lee   \n",
       "4      4  0440225701      The Street Lawyer      JOHN GRISHAM   \n",
       "\n",
       "   Year-Of-Publication                   Publisher  \\\n",
       "0                 1999                        Dell   \n",
       "1                 2004                     Too Far   \n",
       "2                 2000            Ballantine Books   \n",
       "3                 1988  Little Brown &amp; Company   \n",
       "4                 1999                        Dell   \n",
       "\n",
       "                                         Image-URL-S  \\\n",
       "0  http://images.amazon.com/images/P/0440234743.0...   \n",
       "1  http://images.amazon.com/images/P/0971880107.0...   \n",
       "2  http://images.amazon.com/images/P/0345417623.0...   \n",
       "3  http://images.amazon.com/images/P/0446310786.0...   \n",
       "4  http://images.amazon.com/images/P/0440225701.0...   \n",
       "\n",
       "                                         Image-URL-M  \\\n",
       "0  http://images.amazon.com/images/P/0440234743.0...   \n",
       "1  http://images.amazon.com/images/P/0971880107.0...   \n",
       "2  http://images.amazon.com/images/P/0345417623.0...   \n",
       "3  http://images.amazon.com/images/P/0446310786.0...   \n",
       "4  http://images.amazon.com/images/P/0440225701.0...   \n",
       "\n",
       "                                         Image-URL-L  User-ID  Book-Rating  \\\n",
       "0  http://images.amazon.com/images/P/0440234743.0...     3329            8   \n",
       "1  http://images.amazon.com/images/P/0971880107.0...   277042            2   \n",
       "2  http://images.amazon.com/images/P/0345417623.0...     1376            8   \n",
       "3  http://images.amazon.com/images/P/0446310786.0...   276953           10   \n",
       "4  http://images.amazon.com/images/P/0440225701.0...   277922            6   \n",
       "\n",
       "                                        all_features  \n",
       "0                    The Testament John Grisham Dell  \n",
       "1                   Wild Animus Rich Shapero Too Far  \n",
       "2         Timeline MICHAEL CRICHTON Ballantine Books  \n",
       "3  To Kill a Mockingbird Harper Lee Little Brown ...  \n",
       "4                The Street Lawyer JOHN GRISHAM Dell  "
      ]
     },
     "execution_count": 115,
     "metadata": {},
     "output_type": "execute_result"
    }
   ],
   "source": [
    "targets=[\"Book-Title\",\"Book-Author\",\"Publisher\"]\n",
    "common_books[\"all_features\"] = [\" \".join(common_books[targets].iloc[i,].values) for i in range(common_books[targets].shape[0])]\n",
    "common_books.head()"
   ]
  },
  {
   "cell_type": "code",
   "execution_count": 116,
   "metadata": {
    "execution": {
     "iopub.execute_input": "2023-04-26T00:05:05.954087Z",
     "iopub.status.busy": "2023-04-26T00:05:05.953622Z",
     "iopub.status.idle": "2023-04-26T00:05:05.967392Z",
     "shell.execute_reply": "2023-04-26T00:05:05.966376Z",
     "shell.execute_reply.started": "2023-04-26T00:05:05.954046Z"
    }
   },
   "outputs": [
    {
     "data": {
      "text/plain": [
       "<50x232 sparse matrix of type '<class 'numpy.int64'>'\n",
       "\twith 403 stored elements in Compressed Sparse Row format>"
      ]
     },
     "execution_count": 116,
     "metadata": {},
     "output_type": "execute_result"
    }
   ],
   "source": [
    "vectorizer=CountVectorizer()\n",
    "common_booksVector=vectorizer.fit_transform(common_books[\"all_features\"])\n",
    "common_booksVector"
   ]
  },
  {
   "cell_type": "code",
   "execution_count": 117,
   "metadata": {
    "execution": {
     "iopub.execute_input": "2023-04-26T00:05:05.969188Z",
     "iopub.status.busy": "2023-04-26T00:05:05.968776Z",
     "iopub.status.idle": "2023-04-26T00:05:05.981822Z",
     "shell.execute_reply": "2023-04-26T00:05:05.980336Z",
     "shell.execute_reply.started": "2023-04-26T00:05:05.969148Z"
    }
   },
   "outputs": [
    {
     "data": {
      "text/plain": [
       "array([[1.        , 0.        , 0.        , ..., 0.14142136, 0.24806947,\n",
       "        0.6761234 ],\n",
       "       [0.        , 1.        , 0.        , ..., 0.        , 0.        ,\n",
       "        0.        ],\n",
       "       [0.        , 0.        , 1.        , ..., 0.        , 0.        ,\n",
       "        0.        ],\n",
       "       ...,\n",
       "       [0.14142136, 0.        , 0.        , ..., 1.        , 0.78935222,\n",
       "        0.11952286],\n",
       "       [0.24806947, 0.        , 0.        , ..., 0.78935222, 1.        ,\n",
       "        0.20965697],\n",
       "       [0.6761234 , 0.        , 0.        , ..., 0.11952286, 0.20965697,\n",
       "        1.        ]])"
      ]
     },
     "execution_count": 117,
     "metadata": {},
     "output_type": "execute_result"
    }
   ],
   "source": [
    "similarity=cosine_similarity(common_booksVector)\n",
    "similarity"
   ]
  },
  {
   "cell_type": "code",
   "execution_count": 118,
   "metadata": {
    "execution": {
     "iopub.execute_input": "2023-04-26T00:05:05.984928Z",
     "iopub.status.busy": "2023-04-26T00:05:05.983555Z",
     "iopub.status.idle": "2023-04-26T00:05:05.996876Z",
     "shell.execute_reply": "2023-04-26T00:05:05.995466Z",
     "shell.execute_reply.started": "2023-04-26T00:05:05.984851Z"
    }
   },
   "outputs": [
    {
     "data": {
      "text/plain": [
       "28"
      ]
     },
     "execution_count": 118,
     "metadata": {},
     "output_type": "execute_result"
    }
   ],
   "source": [
    "index=common_books[common_books[\"Book-Title\"]==book_title][\"index\"].values[0]\n",
    "index"
   ]
  },
  {
   "cell_type": "code",
   "execution_count": 119,
   "metadata": {
    "execution": {
     "iopub.execute_input": "2023-04-26T00:05:05.999833Z",
     "iopub.status.busy": "2023-04-26T00:05:05.998530Z",
     "iopub.status.idle": "2023-04-26T00:05:06.010397Z",
     "shell.execute_reply": "2023-04-26T00:05:06.008410Z",
     "shell.execute_reply.started": "2023-04-26T00:05:05.999773Z"
    }
   },
   "outputs": [
    {
     "data": {
      "text/plain": [
       "(0, 0.0)"
      ]
     },
     "execution_count": 119,
     "metadata": {},
     "output_type": "execute_result"
    }
   ],
   "source": [
    "similar_books=list(enumerate(similarity[index]))\n",
    "similar_books[0]"
   ]
  },
  {
   "cell_type": "code",
   "execution_count": 120,
   "metadata": {
    "execution": {
     "iopub.execute_input": "2023-04-26T00:05:06.013376Z",
     "iopub.status.busy": "2023-04-26T00:05:06.012625Z",
     "iopub.status.idle": "2023-04-26T00:05:06.029261Z",
     "shell.execute_reply": "2023-04-26T00:05:06.027795Z",
     "shell.execute_reply.started": "2023-04-26T00:05:06.013318Z"
    }
   },
   "outputs": [
    {
     "data": {
      "text/plain": [
       "[(46, 0.31622776601683794),\n",
       " (2, 0.1414213562373095),\n",
       " (16, 0.12909944487358058),\n",
       " (21, 0.12909944487358058),\n",
       " (22, 0.12909944487358058)]"
      ]
     },
     "execution_count": 120,
     "metadata": {},
     "output_type": "execute_result"
    }
   ],
   "source": [
    "similar_books=sorted(similar_books,key=lambda x:x[1],reverse=True)[1:6]\n",
    "similar_books[:]"
   ]
  },
  {
   "cell_type": "code",
   "execution_count": 121,
   "metadata": {
    "execution": {
     "iopub.execute_input": "2023-04-26T00:05:06.031617Z",
     "iopub.status.busy": "2023-04-26T00:05:06.031168Z",
     "iopub.status.idle": "2023-04-26T00:05:06.192565Z",
     "shell.execute_reply": "2023-04-26T00:05:06.191257Z",
     "shell.execute_reply.started": "2023-04-26T00:05:06.031577Z"
    }
   },
   "outputs": [
    {
     "name": "stdout",
     "output_type": "stream",
     "text": [
      "\u001b[93m Recommend Books similar to Me Talk Pretty One Day:\n",
      "\u001b[00m\n",
      "\u001b[92m The Pilot's Wife : A Novel\u001b[00m\n",
      "Rating->\u001b[91m 7.5\u001b[00m\n",
      "\u001b[92m Timeline\u001b[00m\n",
      "Rating->\u001b[91m 7.87\u001b[00m\n",
      "\u001b[92m The Firm\u001b[00m\n",
      "Rating->\u001b[91m 7.83\u001b[00m\n",
      "\u001b[92m The Chamber\u001b[00m\n",
      "Rating->\u001b[91m 7.42\u001b[00m\n",
      "\u001b[92m The Partner\u001b[00m\n",
      "Rating->\u001b[91m 7.67\u001b[00m\n"
     ]
    }
   ],
   "source": [
    "r_books=[]\n",
    "\n",
    "for i in range(len(similar_books)):\n",
    "    r_books.append(common_books[common_books[\"index\"]==similar_books[i][0]][\"Book-Title\"].item())\n",
    " \n",
    "prYellow(f\"Recommend Books similar to {book_title}:\\n\")\n",
    "for book in r_books:\n",
    "    prGreen(book)\n",
    "    print(\"Rating\",end='->')\n",
    "    prRed(round(df[df['Book-Title'] == book]['Book-Rating'].mean(), 2))"
   ]
  },
  {
   "cell_type": "markdown",
   "metadata": {},
   "source": [
    "**Lets put it all together**"
   ]
  },
  {
   "cell_type": "code",
   "execution_count": 122,
   "metadata": {
    "execution": {
     "iopub.execute_input": "2023-04-26T00:05:06.195022Z",
     "iopub.status.busy": "2023-04-26T00:05:06.194506Z",
     "iopub.status.idle": "2023-04-26T00:05:06.209854Z",
     "shell.execute_reply": "2023-04-26T00:05:06.208843Z",
     "shell.execute_reply.started": "2023-04-26T00:05:06.194975Z"
    }
   },
   "outputs": [],
   "source": [
    "def content_based(book_title):\n",
    "    \n",
    "    book_title = str(book_title)\n",
    "    \n",
    "    if book_title in books_with_ratings['Book-Title'].values:\n",
    "        count_rate = pd.DataFrame(books_with_ratings['Book-Title'].value_counts())\n",
    "        rare_books=count_rate[count_rate[\"Book-Title\"]<=200].index\n",
    "        common_books=books_with_ratings[~books_with_ratings[\"Book-Title\"].isin(rare_books)]\n",
    "\n",
    "        if book_title in rare_books:\n",
    "            prYellow(\"A rare book, so u may try our popular books: \\n \")\n",
    "            popular_books()\n",
    "\n",
    "        else:\n",
    "\n",
    "            common_books=common_books.drop_duplicates(subset=[\"Book-Title\"])\n",
    "            common_books.reset_index(inplace=True)\n",
    "            \n",
    "            common_books[\"index\"]=[i for i in range(common_books.shape[0])]\n",
    "            common_books['Book-Title'] = common_books['Book-Title'].astype('object')\n",
    "            common_books['Book-Author'] = common_books['Book-Author'].astype('object')\n",
    "            common_books['Publisher'] = common_books['Publisher'].astype('object')\n",
    "\n",
    "            targets=[\"Book-Title\",\"Book-Author\",\"Publisher\"]\n",
    "            common_books[\"all_features\"] = [\" \".join(common_books[targets].iloc[i,].values) for i in range(common_books[targets].shape[0])]\n",
    "\n",
    "            vectorizer=CountVectorizer()\n",
    "            common_booksVector=vectorizer.fit_transform(common_books[\"all_features\"])\n",
    "\n",
    "            similarity=cosine_similarity(common_booksVector)\n",
    "            index=common_books[common_books[\"Book-Title\"]==book_title][\"index\"].values[0]\n",
    "            similar_books=list(enumerate(similarity[index]))\n",
    "            similar_booksSorted=sorted(similar_books,key=lambda x:x[1],reverse=True)[1:6]\n",
    "            r_books=[]\n",
    "\n",
    "            for i in range(len(similar_booksSorted)):\n",
    "                r_books.append(common_books[common_books[\"index\"]==similar_booksSorted[i][0]][\"Book-Title\"].item())\n",
    "\n",
    "            prYellow(f\"Recommend Books similar to {book_title}:\\n\")\n",
    "            for book in r_books:\n",
    "                prGreen(book)\n",
    "                print(\"Rating\",end='->')\n",
    "                prRed(round(df[df['Book-Title'] == book]['Book-Rating'].mean(), 2))\n",
    "                \n",
    "    else:\n",
    "        prYellow(\"This book is not in our library, check out our most popular books:\")\n",
    "        print()\n",
    "        popular_books()"
   ]
  },
  {
   "cell_type": "code",
   "execution_count": 123,
   "metadata": {
    "execution": {
     "iopub.execute_input": "2023-04-26T00:05:06.211388Z",
     "iopub.status.busy": "2023-04-26T00:05:06.211007Z",
     "iopub.status.idle": "2023-04-26T00:05:06.263383Z",
     "shell.execute_reply": "2023-04-26T00:05:06.261796Z",
     "shell.execute_reply.started": "2023-04-26T00:05:06.211349Z"
    }
   },
   "outputs": [
    {
     "data": {
      "text/html": [
       "<div>\n",
       "<style scoped>\n",
       "    .dataframe tbody tr th:only-of-type {\n",
       "        vertical-align: middle;\n",
       "    }\n",
       "\n",
       "    .dataframe tbody tr th {\n",
       "        vertical-align: top;\n",
       "    }\n",
       "\n",
       "    .dataframe thead th {\n",
       "        text-align: right;\n",
       "    }\n",
       "</style>\n",
       "<table border=\"1\" class=\"dataframe\">\n",
       "  <thead>\n",
       "    <tr style=\"text-align: right;\">\n",
       "      <th></th>\n",
       "      <th>ISBN</th>\n",
       "      <th>Book-Title</th>\n",
       "      <th>Book-Author</th>\n",
       "      <th>Year-Of-Publication</th>\n",
       "      <th>Publisher</th>\n",
       "      <th>Image-URL-S</th>\n",
       "      <th>Image-URL-M</th>\n",
       "      <th>Image-URL-L</th>\n",
       "    </tr>\n",
       "  </thead>\n",
       "  <tbody>\n",
       "    <tr>\n",
       "      <th>833</th>\n",
       "      <td>0316776963</td>\n",
       "      <td>Me Talk Pretty One Day</td>\n",
       "      <td>David Sedaris</td>\n",
       "      <td>2001</td>\n",
       "      <td>Back Bay Books</td>\n",
       "      <td>http://images.amazon.com/images/P/0316776963.0...</td>\n",
       "      <td>http://images.amazon.com/images/P/0316776963.0...</td>\n",
       "      <td>http://images.amazon.com/images/P/0316776963.0...</td>\n",
       "    </tr>\n",
       "    <tr>\n",
       "      <th>18516</th>\n",
       "      <td>0316777722</td>\n",
       "      <td>Me Talk Pretty One Day</td>\n",
       "      <td>David Sedaris</td>\n",
       "      <td>2000</td>\n",
       "      <td>Little, Brown</td>\n",
       "      <td>http://images.amazon.com/images/P/0316777722.0...</td>\n",
       "      <td>http://images.amazon.com/images/P/0316777722.0...</td>\n",
       "      <td>http://images.amazon.com/images/P/0316777722.0...</td>\n",
       "    </tr>\n",
       "    <tr>\n",
       "      <th>54389</th>\n",
       "      <td>1586210661</td>\n",
       "      <td>Me Talk Pretty One Day</td>\n",
       "      <td>David Sedaris</td>\n",
       "      <td>2001</td>\n",
       "      <td>Time Warner Audio Major</td>\n",
       "      <td>http://images.amazon.com/images/P/1586210661.0...</td>\n",
       "      <td>http://images.amazon.com/images/P/1586210661.0...</td>\n",
       "      <td>http://images.amazon.com/images/P/1586210661.0...</td>\n",
       "    </tr>\n",
       "    <tr>\n",
       "      <th>61572</th>\n",
       "      <td>1570428654</td>\n",
       "      <td>Me Talk Pretty One Day</td>\n",
       "      <td>David Sedaris</td>\n",
       "      <td>2000</td>\n",
       "      <td>Time Warner Audio Major</td>\n",
       "      <td>http://images.amazon.com/images/P/1570428654.0...</td>\n",
       "      <td>http://images.amazon.com/images/P/1570428654.0...</td>\n",
       "      <td>http://images.amazon.com/images/P/1570428654.0...</td>\n",
       "    </tr>\n",
       "  </tbody>\n",
       "</table>\n",
       "</div>"
      ],
      "text/plain": [
       "             ISBN              Book-Title    Book-Author  Year-Of-Publication  \\\n",
       "833    0316776963  Me Talk Pretty One Day  David Sedaris                 2001   \n",
       "18516  0316777722  Me Talk Pretty One Day  David Sedaris                 2000   \n",
       "54389  1586210661  Me Talk Pretty One Day  David Sedaris                 2001   \n",
       "61572  1570428654  Me Talk Pretty One Day  David Sedaris                 2000   \n",
       "\n",
       "                     Publisher  \\\n",
       "833             Back Bay Books   \n",
       "18516            Little, Brown   \n",
       "54389  Time Warner Audio Major   \n",
       "61572  Time Warner Audio Major   \n",
       "\n",
       "                                             Image-URL-S  \\\n",
       "833    http://images.amazon.com/images/P/0316776963.0...   \n",
       "18516  http://images.amazon.com/images/P/0316777722.0...   \n",
       "54389  http://images.amazon.com/images/P/1586210661.0...   \n",
       "61572  http://images.amazon.com/images/P/1570428654.0...   \n",
       "\n",
       "                                             Image-URL-M  \\\n",
       "833    http://images.amazon.com/images/P/0316776963.0...   \n",
       "18516  http://images.amazon.com/images/P/0316777722.0...   \n",
       "54389  http://images.amazon.com/images/P/1586210661.0...   \n",
       "61572  http://images.amazon.com/images/P/1570428654.0...   \n",
       "\n",
       "                                             Image-URL-L  \n",
       "833    http://images.amazon.com/images/P/0316776963.0...  \n",
       "18516  http://images.amazon.com/images/P/0316777722.0...  \n",
       "54389  http://images.amazon.com/images/P/1586210661.0...  \n",
       "61572  http://images.amazon.com/images/P/1570428654.0...  "
      ]
     },
     "execution_count": 123,
     "metadata": {},
     "output_type": "execute_result"
    }
   ],
   "source": [
    "books[books['Book-Title'] == book_title]"
   ]
  },
  {
   "cell_type": "code",
   "execution_count": 124,
   "metadata": {
    "execution": {
     "iopub.execute_input": "2023-04-26T00:05:06.265629Z",
     "iopub.status.busy": "2023-04-26T00:05:06.265268Z",
     "iopub.status.idle": "2023-04-26T00:05:07.153626Z",
     "shell.execute_reply": "2023-04-26T00:05:07.152486Z",
     "shell.execute_reply.started": "2023-04-26T00:05:06.265596Z"
    }
   },
   "outputs": [
    {
     "name": "stdout",
     "output_type": "stream",
     "text": [
      "\u001b[93m Recommend Books similar to Me Talk Pretty One Day:\n",
      "\u001b[00m\n",
      "\u001b[92m Lucky : A Memoir\u001b[00m\n",
      "Rating->\u001b[91m 8.2\u001b[00m\n",
      "\u001b[92m The Pilot's Wife : A Novel\u001b[00m\n",
      "Rating->\u001b[91m 7.5\u001b[00m\n",
      "\u001b[92m The Last Time They Met : A Novel\u001b[00m\n",
      "Rating->\u001b[91m 6.86\u001b[00m\n",
      "\u001b[92m White Oleander : A Novel (Oprah's Book Club)\u001b[00m\n",
      "Rating->\u001b[91m 7.85\u001b[00m\n",
      "\u001b[92m Wish You Well\u001b[00m\n",
      "Rating->\u001b[91m 7.92\u001b[00m\n"
     ]
    }
   ],
   "source": [
    "content_based(book_title)"
   ]
  },
  {
   "cell_type": "code",
   "execution_count": 125,
   "metadata": {
    "execution": {
     "iopub.execute_input": "2023-04-26T00:05:07.155050Z",
     "iopub.status.busy": "2023-04-26T00:05:07.154670Z",
     "iopub.status.idle": "2023-04-26T00:05:08.026931Z",
     "shell.execute_reply": "2023-04-26T00:05:08.025472Z",
     "shell.execute_reply.started": "2023-04-26T00:05:07.155003Z"
    }
   },
   "outputs": [
    {
     "name": "stdout",
     "output_type": "stream",
     "text": [
      "\u001b[93m Recommend Books similar to The Da Vinci Code:\n",
      "\u001b[00m\n",
      "\u001b[92m The Catcher in the Rye\u001b[00m\n",
      "Rating->\u001b[91m 7.7\u001b[00m\n",
      "\u001b[92m The Brethren\u001b[00m\n",
      "Rating->\u001b[91m 7.44\u001b[00m\n",
      "\u001b[92m Deception Point\u001b[00m\n",
      "Rating->\u001b[91m 7.68\u001b[00m\n",
      "\u001b[92m The Firm\u001b[00m\n",
      "Rating->\u001b[91m 7.83\u001b[00m\n",
      "\u001b[92m The Client\u001b[00m\n",
      "Rating->\u001b[91m 7.88\u001b[00m\n"
     ]
    }
   ],
   "source": [
    "content_based(\"The Da Vinci Code\")"
   ]
  },
  {
   "cell_type": "code",
   "execution_count": 126,
   "metadata": {
    "execution": {
     "iopub.execute_input": "2023-04-26T00:05:08.029394Z",
     "iopub.status.busy": "2023-04-26T00:05:08.028916Z",
     "iopub.status.idle": "2023-04-26T00:05:08.560972Z",
     "shell.execute_reply": "2023-04-26T00:05:08.559620Z",
     "shell.execute_reply.started": "2023-04-26T00:05:08.029346Z"
    }
   },
   "outputs": [
    {
     "name": "stdout",
     "output_type": "stream",
     "text": [
      "\u001b[93m A rare book, so u may try our popular books: \n",
      " \u001b[00m\n",
      "\u001b[92m Harry Potter and the Prisoner of Azkaban (Book 3)\u001b[00m\n",
      "Rating->\u001b[91m 9.0\u001b[00m\n",
      "--------------------------------------------------\n",
      "\u001b[92m Harry Potter and the Sorcerer's Stone (Harry Potter (Paperback))\u001b[00m\n",
      "Rating->\u001b[91m 8.9\u001b[00m\n",
      "--------------------------------------------------\n",
      "\u001b[92m Harry Potter and the Chamber of Secrets (Book 2)\u001b[00m\n",
      "Rating->\u001b[91m 8.8\u001b[00m\n",
      "--------------------------------------------------\n",
      "\u001b[92m The Secret Life of Bees\u001b[00m\n",
      "Rating->\u001b[91m 8.5\u001b[00m\n",
      "--------------------------------------------------\n",
      "\u001b[92m The Da Vinci Code\u001b[00m\n",
      "Rating->\u001b[91m 8.4\u001b[00m\n",
      "--------------------------------------------------\n",
      "\u001b[92m The Lovely Bones: A Novel\u001b[00m\n",
      "Rating->\u001b[91m 8.2\u001b[00m\n",
      "--------------------------------------------------\n",
      "\u001b[92m The Red Tent (Bestselling Backlist)\u001b[00m\n",
      "Rating->\u001b[91m 8.2\u001b[00m\n",
      "--------------------------------------------------\n",
      "\u001b[92m Where the Heart Is (Oprah's Book Club (Paperback))\u001b[00m\n",
      "Rating->\u001b[91m 8.1\u001b[00m\n",
      "--------------------------------------------------\n",
      "\u001b[92m Life of Pi\u001b[00m\n",
      "Rating->\u001b[91m 8.1\u001b[00m\n",
      "--------------------------------------------------\n",
      "\u001b[92m Angels &amp; Demons\u001b[00m\n",
      "Rating->\u001b[91m 8.0\u001b[00m\n",
      "--------------------------------------------------\n"
     ]
    }
   ],
   "source": [
    "content_based(\"Clara Callan\")"
   ]
  },
  {
   "cell_type": "code",
   "execution_count": 127,
   "metadata": {
    "execution": {
     "iopub.execute_input": "2023-04-26T00:05:08.563974Z",
     "iopub.status.busy": "2023-04-26T00:05:08.563053Z",
     "iopub.status.idle": "2023-04-26T00:05:09.061337Z",
     "shell.execute_reply": "2023-04-26T00:05:09.060025Z",
     "shell.execute_reply.started": "2023-04-26T00:05:08.563916Z"
    }
   },
   "outputs": [
    {
     "name": "stdout",
     "output_type": "stream",
     "text": [
      "\u001b[93m A rare book, so u may try our popular books: \n",
      " \u001b[00m\n",
      "\u001b[92m Harry Potter and the Prisoner of Azkaban (Book 3)\u001b[00m\n",
      "Rating->\u001b[91m 9.0\u001b[00m\n",
      "--------------------------------------------------\n",
      "\u001b[92m Harry Potter and the Sorcerer's Stone (Harry Potter (Paperback))\u001b[00m\n",
      "Rating->\u001b[91m 8.9\u001b[00m\n",
      "--------------------------------------------------\n",
      "\u001b[92m Harry Potter and the Chamber of Secrets (Book 2)\u001b[00m\n",
      "Rating->\u001b[91m 8.8\u001b[00m\n",
      "--------------------------------------------------\n",
      "\u001b[92m The Secret Life of Bees\u001b[00m\n",
      "Rating->\u001b[91m 8.5\u001b[00m\n",
      "--------------------------------------------------\n",
      "\u001b[92m The Da Vinci Code\u001b[00m\n",
      "Rating->\u001b[91m 8.4\u001b[00m\n",
      "--------------------------------------------------\n",
      "\u001b[92m The Lovely Bones: A Novel\u001b[00m\n",
      "Rating->\u001b[91m 8.2\u001b[00m\n",
      "--------------------------------------------------\n",
      "\u001b[92m The Red Tent (Bestselling Backlist)\u001b[00m\n",
      "Rating->\u001b[91m 8.2\u001b[00m\n",
      "--------------------------------------------------\n",
      "\u001b[92m Where the Heart Is (Oprah's Book Club (Paperback))\u001b[00m\n",
      "Rating->\u001b[91m 8.1\u001b[00m\n",
      "--------------------------------------------------\n",
      "\u001b[92m Life of Pi\u001b[00m\n",
      "Rating->\u001b[91m 8.1\u001b[00m\n",
      "--------------------------------------------------\n",
      "\u001b[92m Angels &amp; Demons\u001b[00m\n",
      "Rating->\u001b[91m 8.0\u001b[00m\n",
      "--------------------------------------------------\n"
     ]
    }
   ],
   "source": [
    "content_based('The Mummies of Urumchi')"
   ]
  },
  {
   "cell_type": "code",
   "execution_count": 128,
   "metadata": {
    "execution": {
     "iopub.execute_input": "2023-04-26T00:05:09.063436Z",
     "iopub.status.busy": "2023-04-26T00:05:09.062956Z",
     "iopub.status.idle": "2023-04-26T00:05:09.101982Z",
     "shell.execute_reply": "2023-04-26T00:05:09.099986Z",
     "shell.execute_reply.started": "2023-04-26T00:05:09.063384Z"
    }
   },
   "outputs": [
    {
     "data": {
      "text/html": [
       "<div>\n",
       "<style scoped>\n",
       "    .dataframe tbody tr th:only-of-type {\n",
       "        vertical-align: middle;\n",
       "    }\n",
       "\n",
       "    .dataframe tbody tr th {\n",
       "        vertical-align: top;\n",
       "    }\n",
       "\n",
       "    .dataframe thead th {\n",
       "        text-align: right;\n",
       "    }\n",
       "</style>\n",
       "<table border=\"1\" class=\"dataframe\">\n",
       "  <thead>\n",
       "    <tr style=\"text-align: right;\">\n",
       "      <th></th>\n",
       "      <th>ISBN</th>\n",
       "      <th>Book-Title</th>\n",
       "      <th>Book-Author</th>\n",
       "      <th>Year-Of-Publication</th>\n",
       "      <th>Publisher</th>\n",
       "      <th>Image-URL-S</th>\n",
       "      <th>Image-URL-M</th>\n",
       "      <th>Image-URL-L</th>\n",
       "    </tr>\n",
       "  </thead>\n",
       "  <tbody>\n",
       "    <tr>\n",
       "      <th>26</th>\n",
       "      <td>0971880107</td>\n",
       "      <td>Wild Animus</td>\n",
       "      <td>Rich Shapero</td>\n",
       "      <td>2004</td>\n",
       "      <td>Too Far</td>\n",
       "      <td>http://images.amazon.com/images/P/0971880107.0...</td>\n",
       "      <td>http://images.amazon.com/images/P/0971880107.0...</td>\n",
       "      <td>http://images.amazon.com/images/P/0971880107.0...</td>\n",
       "    </tr>\n",
       "  </tbody>\n",
       "</table>\n",
       "</div>"
      ],
      "text/plain": [
       "          ISBN   Book-Title   Book-Author  Year-Of-Publication Publisher  \\\n",
       "26  0971880107  Wild Animus  Rich Shapero                 2004   Too Far   \n",
       "\n",
       "                                          Image-URL-S  \\\n",
       "26  http://images.amazon.com/images/P/0971880107.0...   \n",
       "\n",
       "                                          Image-URL-M  \\\n",
       "26  http://images.amazon.com/images/P/0971880107.0...   \n",
       "\n",
       "                                          Image-URL-L  \n",
       "26  http://images.amazon.com/images/P/0971880107.0...  "
      ]
     },
     "execution_count": 128,
     "metadata": {},
     "output_type": "execute_result"
    }
   ],
   "source": [
    "books[books['Book-Title'] == 'Wild Animus']"
   ]
  },
  {
   "cell_type": "code",
   "execution_count": 129,
   "metadata": {
    "execution": {
     "iopub.execute_input": "2023-04-26T00:05:09.104738Z",
     "iopub.status.busy": "2023-04-26T00:05:09.104095Z",
     "iopub.status.idle": "2023-04-26T00:05:09.990810Z",
     "shell.execute_reply": "2023-04-26T00:05:09.989582Z",
     "shell.execute_reply.started": "2023-04-26T00:05:09.104678Z"
    }
   },
   "outputs": [
    {
     "name": "stdout",
     "output_type": "stream",
     "text": [
      "\u001b[93m Recommend Books similar to The Lovely Bones: A Novel:\n",
      "\u001b[00m\n",
      "\u001b[92m The Catcher in the Rye\u001b[00m\n",
      "Rating->\u001b[91m 7.7\u001b[00m\n",
      "\u001b[92m White Oleander : A Novel\u001b[00m\n",
      "Rating->\u001b[91m 7.67\u001b[00m\n",
      "\u001b[92m Balzac and the Little Chinese Seamstress : A Novel\u001b[00m\n",
      "Rating->\u001b[91m 8.03\u001b[00m\n",
      "\u001b[92m 2nd Chance\u001b[00m\n",
      "Rating->\u001b[91m 7.76\u001b[00m\n",
      "\u001b[92m The Hours : A Novel\u001b[00m\n",
      "Rating->\u001b[91m 7.59\u001b[00m\n"
     ]
    }
   ],
   "source": [
    "content_based('The Lovely Bones: A Novel')"
   ]
  }
 ],
 "metadata": {
  "kernelspec": {
   "display_name": "Python 3 (ipykernel)",
   "language": "python",
   "name": "python3"
  },
  "language_info": {
   "codemirror_mode": {
    "name": "ipython",
    "version": 3
   },
   "file_extension": ".py",
   "mimetype": "text/x-python",
   "name": "python",
   "nbconvert_exporter": "python",
   "pygments_lexer": "ipython3",
   "version": "3.12.4"
  }
 },
 "nbformat": 4,
 "nbformat_minor": 4
}
