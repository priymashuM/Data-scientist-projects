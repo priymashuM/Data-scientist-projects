{
 "cells": [
  {
   "cell_type": "code",
   "execution_count": 1,
   "id": "e0cdb232-5c95-4c0a-9a63-d07d2a5cf0b2",
   "metadata": {},
   "outputs": [],
   "source": [
    "\n",
    "import numpy as np\n",
    "import pandas as pd\n",
    "from matplotlib import pyplot as plt\n",
    "import country_converter as coco\n",
    "\n",
    "import seaborn as sns\n",
    "import missingno as msno\n",
    "import plotly.express as px\n",
    "import plotly.graph_objects as go\n",
    "from plotly.subplots import make_subplots\n",
    "from plotly.offline import iplot\n",
    "from PIL import Image\n",
    "import requests\n",
    "\n",
    "from sklearn.metrics.pairwise import cosine_similarity\n",
    "from sklearn.feature_extraction.text import CountVectorizer\n",
    "\n",
    "import warnings\n",
    "warnings.filterwarnings('ignore')"
   ]
  },
  {
   "cell_type": "code",
   "execution_count": 2,
   "id": "b637a658-0163-4576-9ca5-e291ef7d6c44",
   "metadata": {},
   "outputs": [],
   "source": [
    "books = pd.read_csv(\"../data/Books.csv\")\n",
    "ratings = pd.read_csv(\"../data/Ratings.csv\")\n",
    "users = pd.read_csv(\"../data/Users.csv\")"
   ]
  },
  {
   "cell_type": "code",
   "execution_count": 3,
   "id": "ab96edbc-f1d2-4cc0-9938-13ff631bc7cd",
   "metadata": {},
   "outputs": [
    {
     "data": {
      "text/plain": [
       "Index(['ISBN', 'Book-Title', 'Book-Author', 'Year-Of-Publication', 'Publisher',\n",
       "       'Image-URL-S', 'Image-URL-M', 'Image-URL-L'],\n",
       "      dtype='object')"
      ]
     },
     "execution_count": 3,
     "metadata": {},
     "output_type": "execute_result"
    }
   ],
   "source": [
    "books.columns"
   ]
  },
  {
   "cell_type": "code",
   "execution_count": 4,
   "id": "963eca87-7bee-4e86-a248-9342004167c4",
   "metadata": {},
   "outputs": [
    {
     "data": {
      "text/plain": [
       "Index(['User-ID', 'ISBN', 'Book-Rating'], dtype='object')"
      ]
     },
     "execution_count": 4,
     "metadata": {},
     "output_type": "execute_result"
    }
   ],
   "source": [
    "ratings.columns\n"
   ]
  },
  {
   "cell_type": "code",
   "execution_count": 5,
   "id": "ec281aa9-f9a6-413e-90c5-6aa687a5c6bc",
   "metadata": {},
   "outputs": [
    {
     "data": {
      "text/plain": [
       "Index(['User-ID', 'Location', 'Age'], dtype='object')"
      ]
     },
     "execution_count": 5,
     "metadata": {},
     "output_type": "execute_result"
    }
   ],
   "source": [
    "users.columns"
   ]
  },
  {
   "cell_type": "code",
   "execution_count": 8,
   "id": "386fb842-ad7d-496e-9cfa-488732f56249",
   "metadata": {},
   "outputs": [
    {
     "name": "stdout",
     "output_type": "stream",
     "text": [
      "Connected to MySQL Database\n",
      "Data inserted into books successfully\n",
      "Data inserted into ratings successfully\n",
      "Data inserted into users successfully\n",
      "MySQL connection is closed\n"
     ]
    }
   ],
   "source": [
    "import pymysql\n",
    "import pandas as pd\n",
    "\n",
    "# Database connection details\n",
    "HOST = \"localhost\"\n",
    "USER = \"root\"\n",
    "PASSWORD = \"root\"\n",
    "DATABASE = \"bookrecommendation\"\n",
    "\n",
    "# Connect to the MySQL database\n",
    "try:\n",
    "    connection = pymysql.connect(\n",
    "        host=HOST,\n",
    "        user=USER,\n",
    "        password=PASSWORD,\n",
    "        database=DATABASE,\n",
    "        charset='utf8mb4',\n",
    "        cursorclass=pymysql.cursors.DictCursor\n",
    "    )\n",
    "    print(\"Connected to MySQL Database\")\n",
    "\n",
    "    cursor = connection.cursor()\n",
    "\n",
    "    # Function to insert data into a table\n",
    "    def insert_data_from_csv(table_name, csv_file, columns):\n",
    "        # Load the CSV file with explicit data types\n",
    "        data = pd.read_csv(csv_file, dtype=str)  # Load everything as string to avoid type issues\n",
    "        data = data.fillna('NULL')  # Replace NaN values with 'NULL' for MySQL compatibility\n",
    "        \n",
    "        # Prepare the INSERT query with the IGNORE keyword to skip duplicates\n",
    "        placeholders = \", \".join([\"%s\"] * len(columns))\n",
    "        query = f\"INSERT IGNORE INTO {table_name} ({ ', '.join(columns) }) VALUES ({placeholders})\"\n",
    "        \n",
    "        # Insert each row into the table\n",
    "        for _, row in data.iterrows():\n",
    "            try:\n",
    "                cursor.execute(query, tuple(row))\n",
    "            except pymysql.Error as e:\n",
    "                print(f\"Skipping duplicate row in {table_name}: {e}\")\n",
    "        \n",
    "        connection.commit()\n",
    "        print(f\"Data inserted into {table_name} successfully\")\n",
    "\n",
    "    # Insert Books data (corrected to lowercase 'books' and handling duplicates)\n",
    "    insert_data_from_csv(\n",
    "        table_name=\"books\",  # Corrected to lowercase 'books'\n",
    "        csv_file=\"../data/Books.csv\",  # Path to Books.csv\n",
    "        columns=['ISBN', 'Book_Title', 'Book_Author', 'Year_Of_Publication', 'Publisher',\n",
    "                 'Image_URL_S', 'Image_URL_M', 'Image_URL_L']\n",
    "    )\n",
    "\n",
    "    # Insert Ratings data (corrected to lowercase 'ratings' and handling duplicates)\n",
    "    insert_data_from_csv(\n",
    "        table_name=\"ratings\",  # Corrected to lowercase 'ratings'\n",
    "        csv_file=\"../data/Ratings.csv\",  # Path to Ratings.csv\n",
    "        columns=['User_ID', 'ISBN', 'Book_Rating']\n",
    "    )\n",
    "\n",
    "    # Insert Users data (corrected to lowercase 'users' and handling duplicates)\n",
    "    insert_data_from_csv(\n",
    "        table_name=\"users\",  # Corrected to lowercase 'users'\n",
    "        csv_file=\"../data/Users.csv\",  # Path to Users.csv\n",
    "        columns=['User_ID', 'Location', 'Age']\n",
    "    )\n",
    "\n",
    "except pymysql.Error as e:\n",
    "    print(f\"Error: {e}\")\n",
    "\n",
    "finally:\n",
    "    # Close the connection\n",
    "    if connection:\n",
    "        cursor.close()\n",
    "        connection.close()\n",
    "        print(\"MySQL connection is closed\")"
   ]
  },
  {
   "cell_type": "code",
   "execution_count": 10,
   "id": "3635c997-a453-44a4-88ed-26894a952f86",
   "metadata": {},
   "outputs": [
    {
     "name": "stdout",
     "output_type": "stream",
     "text": [
      "Connected to MySQL Database\n",
      "Skipping duplicate row: (1206, 'The total number of locks exceeds the lock table size')\n",
      "Skipping duplicate row: (1206, 'The total number of locks exceeds the lock table size')\n",
      "Ratings data inserted successfully\n",
      "MySQL connection is closed\n"
     ]
    }
   ],
   "source": [
    "import pymysql\n",
    "import pandas as pd\n",
    "\n",
    "# Database connection details\n",
    "HOST = \"localhost\"\n",
    "USER = \"root\"\n",
    "PASSWORD = \"root\"\n",
    "DATABASE = \"bookrecommendation\"\n",
    "\n",
    "# Connect to the MySQL database\n",
    "try:\n",
    "    connection = pymysql.connect(\n",
    "        host=HOST,\n",
    "        user=USER,\n",
    "        password=PASSWORD,\n",
    "        database=DATABASE,\n",
    "        charset='utf8mb4',\n",
    "        cursorclass=pymysql.cursors.DictCursor\n",
    "    )\n",
    "    print(\"Connected to MySQL Database\")\n",
    "\n",
    "    cursor = connection.cursor()\n",
    "\n",
    "    # Function to insert ratings data into the 'ratings' table\n",
    "    def insert_ratings_from_csv(csv_file, columns):\n",
    "        # Load the CSV file with explicit data types\n",
    "        data = pd.read_csv(csv_file, dtype=str)  # Load everything as string to avoid type issues\n",
    "        data = data.fillna('NULL')  # Replace NaN values with 'NULL' for MySQL compatibility\n",
    "        \n",
    "        # Prepare the INSERT query with the IGNORE keyword to skip duplicates\n",
    "        columns = [col for col in columns]  # Ensure we are working with the correct columns\n",
    "        placeholders = \", \".join([\"%s\"] * len(columns))\n",
    "        query = f\"INSERT IGNORE INTO ratings ({ ', '.join(columns) }) VALUES ({placeholders})\"\n",
    "        \n",
    "        # Insert each row into the table\n",
    "        for _, row in data.iterrows():\n",
    "            try:\n",
    "                cursor.execute(query, tuple(row))\n",
    "            except pymysql.Error as e:\n",
    "                print(f\"Skipping duplicate row: {e}\")\n",
    "        \n",
    "        connection.commit()\n",
    "        print(\"Ratings data inserted successfully\")\n",
    "\n",
    "    # Insert Ratings data (corrected to lowercase 'ratings' and handling duplicates)\n",
    "    insert_ratings_from_csv(\n",
    "        csv_file=\"../data/Ratings.csv\",\n",
    "        columns=['User_ID', 'ISBN', 'Book_Rating']  # Columns to insert\n",
    "    )\n",
    "\n",
    "except pymysql.Error as e:\n",
    "    print(f\"Error: {e}\")\n",
    "\n",
    "finally:\n",
    "    # Close the connection\n",
    "    if connection:\n",
    "        cursor.close()\n",
    "        connection.close()\n",
    "        print(\"MySQL connection is closed\")"
   ]
  },
  {
   "cell_type": "code",
   "execution_count": null,
   "id": "ae696987-e7b2-47f7-880b-aaa78f0a80f6",
   "metadata": {},
   "outputs": [],
   "source": [
    "   "
   ]
  }
 ],
 "metadata": {
  "kernelspec": {
   "display_name": "Python 3 (ipykernel)",
   "language": "python",
   "name": "python3"
  },
  "language_info": {
   "codemirror_mode": {
    "name": "ipython",
    "version": 3
   },
   "file_extension": ".py",
   "mimetype": "text/x-python",
   "name": "python",
   "nbconvert_exporter": "python",
   "pygments_lexer": "ipython3",
   "version": "3.12.4"
  }
 },
 "nbformat": 4,
 "nbformat_minor": 5
}
