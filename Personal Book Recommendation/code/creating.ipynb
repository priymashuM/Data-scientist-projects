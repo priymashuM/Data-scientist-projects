{
 "cells": [
  {
   "cell_type": "code",
   "execution_count": 1,
   "id": "10c71518-aa77-41b3-a6d3-0d6e1fd9d6a2",
   "metadata": {},
   "outputs": [
    {
     "name": "stdout",
     "output_type": "stream",
     "text": [
      "Collecting missingno\n",
      "  Using cached missingno-0.5.2-py3-none-any.whl.metadata (639 bytes)\n",
      "Requirement already satisfied: numpy in c:\\users\\dell\\anaconda3\\envs\\officeprojects\\lib\\site-packages (from missingno) (1.26.4)\n",
      "Requirement already satisfied: matplotlib in c:\\users\\dell\\anaconda3\\envs\\officeprojects\\lib\\site-packages (from missingno) (3.8.0)\n",
      "Requirement already satisfied: scipy in c:\\users\\dell\\anaconda3\\envs\\officeprojects\\lib\\site-packages (from missingno) (1.13.1)\n",
      "Requirement already satisfied: seaborn in c:\\users\\dell\\anaconda3\\envs\\officeprojects\\lib\\site-packages (from missingno) (0.13.2)\n",
      "Requirement already satisfied: contourpy>=1.0.1 in c:\\users\\dell\\anaconda3\\envs\\officeprojects\\lib\\site-packages (from matplotlib->missingno) (1.3.0)\n",
      "Requirement already satisfied: cycler>=0.10 in c:\\users\\dell\\anaconda3\\envs\\officeprojects\\lib\\site-packages (from matplotlib->missingno) (0.12.1)\n",
      "Requirement already satisfied: fonttools>=4.22.0 in c:\\users\\dell\\anaconda3\\envs\\officeprojects\\lib\\site-packages (from matplotlib->missingno) (4.56.0)\n",
      "Requirement already satisfied: kiwisolver>=1.0.1 in c:\\users\\dell\\anaconda3\\envs\\officeprojects\\lib\\site-packages (from matplotlib->missingno) (1.4.7)\n",
      "Requirement already satisfied: packaging>=20.0 in c:\\users\\dell\\anaconda3\\envs\\officeprojects\\lib\\site-packages (from matplotlib->missingno) (24.2)\n",
      "Requirement already satisfied: pillow>=6.2.0 in c:\\users\\dell\\anaconda3\\envs\\officeprojects\\lib\\site-packages (from matplotlib->missingno) (11.1.0)\n",
      "Requirement already satisfied: pyparsing>=2.3.1 in c:\\users\\dell\\anaconda3\\envs\\officeprojects\\lib\\site-packages (from matplotlib->missingno) (3.2.1)\n",
      "Requirement already satisfied: python-dateutil>=2.7 in c:\\users\\dell\\anaconda3\\envs\\officeprojects\\lib\\site-packages (from matplotlib->missingno) (2.9.0.post0)\n",
      "Requirement already satisfied: importlib-resources>=3.2.0 in c:\\users\\dell\\anaconda3\\envs\\officeprojects\\lib\\site-packages (from matplotlib->missingno) (6.5.2)\n",
      "Requirement already satisfied: pandas>=1.2 in c:\\users\\dell\\anaconda3\\envs\\officeprojects\\lib\\site-packages (from seaborn->missingno) (2.0.3)\n",
      "Requirement already satisfied: zipp>=3.1.0 in c:\\users\\dell\\anaconda3\\envs\\officeprojects\\lib\\site-packages (from importlib-resources>=3.2.0->matplotlib->missingno) (3.21.0)\n",
      "Requirement already satisfied: pytz>=2020.1 in c:\\users\\dell\\anaconda3\\envs\\officeprojects\\lib\\site-packages (from pandas>=1.2->seaborn->missingno) (2025.1)\n",
      "Requirement already satisfied: tzdata>=2022.1 in c:\\users\\dell\\anaconda3\\envs\\officeprojects\\lib\\site-packages (from pandas>=1.2->seaborn->missingno) (2025.1)\n",
      "Requirement already satisfied: six>=1.5 in c:\\users\\dell\\anaconda3\\envs\\officeprojects\\lib\\site-packages (from python-dateutil>=2.7->matplotlib->missingno) (1.16.0)\n",
      "Using cached missingno-0.5.2-py3-none-any.whl (8.7 kB)\n",
      "Installing collected packages: missingno\n",
      "Successfully installed missingno-0.5.2\n",
      "Note: you may need to restart the kernel to use updated packages.\n"
     ]
    }
   ],
   "source": [
    "pip install missingno"
   ]
  },
  {
   "cell_type": "code",
   "execution_count": 2,
   "id": "67de2b31-4b5a-4122-ac5e-1a696323cff9",
   "metadata": {
    "scrolled": true
   },
   "outputs": [
    {
     "name": "stdout",
     "output_type": "stream",
     "text": [
      "Collecting country_converter\n",
      "  Using cached country_converter-1.3-py3-none-any.whl.metadata (25 kB)\n",
      "Requirement already satisfied: pandas>=1.0 in c:\\users\\dell\\anaconda3\\envs\\officeprojects\\lib\\site-packages (from country_converter) (2.0.3)\n",
      "Requirement already satisfied: python-dateutil>=2.8.2 in c:\\users\\dell\\anaconda3\\envs\\officeprojects\\lib\\site-packages (from pandas>=1.0->country_converter) (2.9.0.post0)\n",
      "Requirement already satisfied: pytz>=2020.1 in c:\\users\\dell\\anaconda3\\envs\\officeprojects\\lib\\site-packages (from pandas>=1.0->country_converter) (2025.1)\n",
      "Requirement already satisfied: tzdata>=2022.1 in c:\\users\\dell\\anaconda3\\envs\\officeprojects\\lib\\site-packages (from pandas>=1.0->country_converter) (2025.1)\n",
      "Requirement already satisfied: numpy>=1.20.3 in c:\\users\\dell\\anaconda3\\envs\\officeprojects\\lib\\site-packages (from pandas>=1.0->country_converter) (1.26.4)\n",
      "Requirement already satisfied: six>=1.5 in c:\\users\\dell\\anaconda3\\envs\\officeprojects\\lib\\site-packages (from python-dateutil>=2.8.2->pandas>=1.0->country_converter) (1.16.0)\n",
      "Using cached country_converter-1.3-py3-none-any.whl (47 kB)\n",
      "Installing collected packages: country_converter\n",
      "Successfully installed country_converter-1.3\n"
     ]
    },
    {
     "ename": "ModuleNotFoundError",
     "evalue": "No module named 'plotly'",
     "output_type": "error",
     "traceback": [
      "\u001b[1;31m---------------------------------------------------------------------------\u001b[0m",
      "\u001b[1;31mModuleNotFoundError\u001b[0m                       Traceback (most recent call last)",
      "Cell \u001b[1;32mIn[2], line 9\u001b[0m\n\u001b[0;32m      7\u001b[0m \u001b[38;5;28;01mimport\u001b[39;00m \u001b[38;5;21;01mseaborn\u001b[39;00m \u001b[38;5;28;01mas\u001b[39;00m \u001b[38;5;21;01msns\u001b[39;00m\n\u001b[0;32m      8\u001b[0m \u001b[38;5;28;01mimport\u001b[39;00m \u001b[38;5;21;01mmissingno\u001b[39;00m \u001b[38;5;28;01mas\u001b[39;00m \u001b[38;5;21;01mmsno\u001b[39;00m\n\u001b[1;32m----> 9\u001b[0m \u001b[38;5;28;01mimport\u001b[39;00m \u001b[38;5;21;01mplotly\u001b[39;00m\u001b[38;5;21;01m.\u001b[39;00m\u001b[38;5;21;01mexpress\u001b[39;00m \u001b[38;5;28;01mas\u001b[39;00m \u001b[38;5;21;01mpx\u001b[39;00m\n\u001b[0;32m     10\u001b[0m \u001b[38;5;28;01mimport\u001b[39;00m \u001b[38;5;21;01mplotly\u001b[39;00m\u001b[38;5;21;01m.\u001b[39;00m\u001b[38;5;21;01mgraph_objects\u001b[39;00m \u001b[38;5;28;01mas\u001b[39;00m \u001b[38;5;21;01mgo\u001b[39;00m\n\u001b[0;32m     11\u001b[0m \u001b[38;5;28;01mfrom\u001b[39;00m \u001b[38;5;21;01mplotly\u001b[39;00m\u001b[38;5;21;01m.\u001b[39;00m\u001b[38;5;21;01msubplots\u001b[39;00m \u001b[38;5;28;01mimport\u001b[39;00m make_subplots\n",
      "\u001b[1;31mModuleNotFoundError\u001b[0m: No module named 'plotly'"
     ]
    }
   ],
   "source": [
    "\n",
    "!pip install country_converter\n",
    "import numpy as np\n",
    "import pandas as pd\n",
    "from matplotlib import pyplot as plt\n",
    "import country_converter as coco\n",
    "\n",
    "import seaborn as sns\n",
    "import missingno as msno\n",
    "import plotly.express as px\n",
    "import plotly.graph_objects as go\n",
    "from plotly.subplots import make_subplots\n",
    "from plotly.offline import iplot\n",
    "from PIL import Image\n",
    "import requests\n",
    "\n",
    "from sklearn.metrics.pairwise import cosine_similarity\n",
    "from sklearn.feature_extraction.text import CountVectorizer\n",
    "\n",
    "import warnings\n",
    "warnings.filterwarnings('ignore')"
   ]
  },
  {
   "cell_type": "code",
   "execution_count": 11,
   "id": "ffb3a206-b421-42ba-b8e1-54940f2ba58f",
   "metadata": {},
   "outputs": [
    {
     "name": "stderr",
     "output_type": "stream",
     "text": [
      "C:\\Users\\Dell\\AppData\\Local\\Temp\\ipykernel_15172\\391755234.py:1: DtypeWarning: Columns (3) have mixed types. Specify dtype option on import or set low_memory=False.\n",
      "  books = pd.read_csv(\"../data/Books.csv\")\n"
     ]
    }
   ],
   "source": [
    "books = pd.read_csv(\"../data/Books.csv\")\n",
    "ratings = pd.read_csv(\"../data/Ratings.csv\")\n",
    "users = pd.read_csv(\"../data/Users.csv\")"
   ]
  },
  {
   "cell_type": "code",
   "execution_count": 1,
   "id": "305fab17-853f-43bd-a69e-be0e18f7f030",
   "metadata": {},
   "outputs": [
    {
     "name": "stdout",
     "output_type": "stream",
     "text": [
      ":white_check_mark: Connected to MySQL Server\n",
      ":white_check_mark: Database 'BookRecommendation' created successfully\n",
      ":white_check_mark: Table 'Books' created successfully\n",
      ":white_check_mark: Table 'Users' created successfully\n",
      ":white_check_mark: Table 'Ratings' created successfully\n",
      ":white_check_mark: MySQL connection is closed\n"
     ]
    }
   ],
   "source": [
    "import pymysql\n",
    "from pymysql import Error\n",
    "\n",
    "# Database connection details\n",
    "HOST = \"localhost\"\n",
    "USER = \"root\"\n",
    "PASSWORD = \"root\"\n",
    "DATABASE = \"BookRecommendation\"\n",
    "\n",
    "try:\n",
    "    # Connect to MySQL server\n",
    "    connection = pymysql.connect(\n",
    "        host=HOST,\n",
    "        user=USER,\n",
    "        password=PASSWORD,\n",
    "        charset='utf8mb4',\n",
    "        cursorclass=pymysql.cursors.DictCursor\n",
    "    )\n",
    "\n",
    "    with connection.cursor() as cursor:\n",
    "        print(\":white_check_mark: Connected to MySQL Server\")\n",
    "\n",
    "        # Step 1: Create the database\n",
    "        cursor.execute(\"CREATE DATABASE IF NOT EXISTS BookRecommendation\")\n",
    "        print(\":white_check_mark: Database 'BookRecommendation' created successfully\")\n",
    "\n",
    "        # Switch to the new database\n",
    "        cursor.execute(\"USE BookRecommendation\")\n",
    "\n",
    "        # Step 2: Create Books table\n",
    "        create_books_table = \"\"\"\n",
    "        CREATE TABLE IF NOT EXISTS Books (\n",
    "            ISBN VARCHAR(20) PRIMARY KEY,\n",
    "            Book_Title VARCHAR(255) NOT NULL,\n",
    "            Book_Author VARCHAR(255) NOT NULL,\n",
    "            Year_Of_Publication INT NOT NULL,\n",
    "            Publisher VARCHAR(255) NOT NULL,\n",
    "            Image_URL_S VARCHAR(255),\n",
    "            Image_URL_M VARCHAR(255),\n",
    "            Image_URL_L VARCHAR(255)\n",
    "        )\n",
    "        \"\"\"\n",
    "        cursor.execute(create_books_table)\n",
    "        print(\":white_check_mark: Table 'Books' created successfully\")\n",
    "\n",
    "        # Step 3: Create Users table\n",
    "        create_users_table = \"\"\"\n",
    "        CREATE TABLE IF NOT EXISTS Users (\n",
    "            User_ID INT AUTO_INCREMENT PRIMARY KEY,\n",
    "            Location VARCHAR(255) NOT NULL,\n",
    "            Age INT\n",
    "        )\n",
    "        \"\"\"\n",
    "        cursor.execute(create_users_table)\n",
    "        print(\":white_check_mark: Table 'Users' created successfully\")\n",
    "\n",
    "        # Step 4: Create Ratings table\n",
    "        create_ratings_table = \"\"\"\n",
    "        CREATE TABLE IF NOT EXISTS Ratings (\n",
    "            Rating_ID INT AUTO_INCREMENT PRIMARY KEY,\n",
    "            User_ID INT NOT NULL,\n",
    "            ISBN VARCHAR(20) NOT NULL,\n",
    "            Book_Rating INT CHECK (Book_Rating BETWEEN 0 AND 10),\n",
    "            FOREIGN KEY (User_ID) REFERENCES Users(User_ID) ON DELETE CASCADE,\n",
    "            FOREIGN KEY (ISBN) REFERENCES Books(ISBN) ON DELETE CASCADE\n",
    "        )\n",
    "        \"\"\"\n",
    "        cursor.execute(create_ratings_table)\n",
    "        print(\":white_check_mark: Table 'Ratings' created successfully\")\n",
    "\n",
    "    # Commit the changes\n",
    "    connection.commit()\n",
    "\n",
    "except Error as e:\n",
    "    print(f\":x: Error: {e}\")\n",
    "\n",
    "finally:\n",
    "    # Close the connection\n",
    "    if connection:\n",
    "        connection.close()\n",
    "        print(\":white_check_mark: MySQL connection is closed\")\n",
    "        "
   ]
  },
  {
   "cell_type": "code",
   "execution_count": null,
   "id": "db7fded4-d072-4a74-874a-6835ede66870",
   "metadata": {},
   "outputs": [],
   "source": []
  }
 ],
 "metadata": {
  "kernelspec": {
   "display_name": "Python 3 (ipykernel)",
   "language": "python",
   "name": "python3"
  },
  "language_info": {
   "codemirror_mode": {
    "name": "ipython",
    "version": 3
   },
   "file_extension": ".py",
   "mimetype": "text/x-python",
   "name": "python",
   "nbconvert_exporter": "python",
   "pygments_lexer": "ipython3",
   "version": "3.9.18"
  }
 },
 "nbformat": 4,
 "nbformat_minor": 5
}
