{
 "cells": [
  {
   "cell_type": "code",
   "execution_count": 1,
   "id": "8c1953d1-213f-4232-9264-e5a127cb7976",
   "metadata": {},
   "outputs": [
    {
     "name": "stdout",
     "output_type": "stream",
     "text": [
      "Rating_ID            0\n",
      "User_ID              0\n",
      "ISBN                 0\n",
      "Book_Rating          0\n",
      "implicit_feedback    0\n",
      "Review_Sentiment     0\n",
      "dtype: int64\n"
     ]
    },
    {
     "data": {
      "text/html": [
       "<div>\n",
       "<style scoped>\n",
       "    .dataframe tbody tr th:only-of-type {\n",
       "        vertical-align: middle;\n",
       "    }\n",
       "\n",
       "    .dataframe tbody tr th {\n",
       "        vertical-align: top;\n",
       "    }\n",
       "\n",
       "    .dataframe thead th {\n",
       "        text-align: right;\n",
       "    }\n",
       "</style>\n",
       "<table border=\"1\" class=\"dataframe\">\n",
       "  <thead>\n",
       "    <tr style=\"text-align: right;\">\n",
       "      <th></th>\n",
       "      <th>ISBN</th>\n",
       "      <th>Book_Title</th>\n",
       "      <th>Book_Author</th>\n",
       "      <th>Book_Rating</th>\n",
       "      <th>Review_Sentiment</th>\n",
       "      <th>User_ID</th>\n",
       "    </tr>\n",
       "  </thead>\n",
       "  <tbody>\n",
       "    <tr>\n",
       "      <th>0</th>\n",
       "      <td>0060928336</td>\n",
       "      <td>Divine Secrets of the Ya-Ya Sisterhood: A Novel</td>\n",
       "      <td>Rebecca Wells</td>\n",
       "      <td>0.0</td>\n",
       "      <td>Negative</td>\n",
       "      <td>246655</td>\n",
       "    </tr>\n",
       "    <tr>\n",
       "      <th>1</th>\n",
       "      <td>0312195516</td>\n",
       "      <td>The Red Tent (Bestselling Backlist)</td>\n",
       "      <td>Anita Diamant</td>\n",
       "      <td>0.0</td>\n",
       "      <td>Negative</td>\n",
       "      <td>246655</td>\n",
       "    </tr>\n",
       "    <tr>\n",
       "      <th>2</th>\n",
       "      <td>0316666343</td>\n",
       "      <td>The Lovely Bones: A Novel</td>\n",
       "      <td>Alice Sebold</td>\n",
       "      <td>5.0</td>\n",
       "      <td>Positive</td>\n",
       "      <td>246655</td>\n",
       "    </tr>\n",
       "    <tr>\n",
       "      <th>3</th>\n",
       "      <td>0446672211</td>\n",
       "      <td>Where the Heart Is (Oprah's Book Club (Paperba...</td>\n",
       "      <td>Billie Letts</td>\n",
       "      <td>0.0</td>\n",
       "      <td>Negative</td>\n",
       "      <td>246655</td>\n",
       "    </tr>\n",
       "    <tr>\n",
       "      <th>4</th>\n",
       "      <td>059035342X</td>\n",
       "      <td>Harry Potter and the Sorcerer's Stone (Harry P...</td>\n",
       "      <td>J. K. Rowling</td>\n",
       "      <td>3.4</td>\n",
       "      <td>Positive</td>\n",
       "      <td>246655</td>\n",
       "    </tr>\n",
       "    <tr>\n",
       "      <th>5</th>\n",
       "      <td>0142001740</td>\n",
       "      <td>The Secret Life of Bees</td>\n",
       "      <td>Sue Monk Kidd</td>\n",
       "      <td>0.0</td>\n",
       "      <td>Negative</td>\n",
       "      <td>254465</td>\n",
       "    </tr>\n",
       "    <tr>\n",
       "      <th>6</th>\n",
       "      <td>0385504209</td>\n",
       "      <td>The Da Vinci Code</td>\n",
       "      <td>Dan Brown</td>\n",
       "      <td>3.0</td>\n",
       "      <td>Negative</td>\n",
       "      <td>254465</td>\n",
       "    </tr>\n",
       "    <tr>\n",
       "      <th>7</th>\n",
       "      <td>044023722X</td>\n",
       "      <td>A Painted House</td>\n",
       "      <td>John Grisham</td>\n",
       "      <td>0.0</td>\n",
       "      <td>Negative</td>\n",
       "      <td>254465</td>\n",
       "    </tr>\n",
       "    <tr>\n",
       "      <th>8</th>\n",
       "      <td>059035342X</td>\n",
       "      <td>Harry Potter and the Sorcerer's Stone (Harry P...</td>\n",
       "      <td>J. K. Rowling</td>\n",
       "      <td>3.4</td>\n",
       "      <td>Positive</td>\n",
       "      <td>254465</td>\n",
       "    </tr>\n",
       "    <tr>\n",
       "      <th>9</th>\n",
       "      <td>067976402X</td>\n",
       "      <td>Snow Falling on Cedars</td>\n",
       "      <td>David Guterson</td>\n",
       "      <td>8.0</td>\n",
       "      <td>Positive</td>\n",
       "      <td>254465</td>\n",
       "    </tr>\n",
       "    <tr>\n",
       "      <th>10</th>\n",
       "      <td>0142001740</td>\n",
       "      <td>The Secret Life of Bees</td>\n",
       "      <td>Sue Monk Kidd</td>\n",
       "      <td>0.0</td>\n",
       "      <td>Negative</td>\n",
       "      <td>257204</td>\n",
       "    </tr>\n",
       "    <tr>\n",
       "      <th>11</th>\n",
       "      <td>0316666343</td>\n",
       "      <td>The Lovely Bones: A Novel</td>\n",
       "      <td>Alice Sebold</td>\n",
       "      <td>5.0</td>\n",
       "      <td>Positive</td>\n",
       "      <td>257204</td>\n",
       "    </tr>\n",
       "    <tr>\n",
       "      <th>12</th>\n",
       "      <td>0385504209</td>\n",
       "      <td>The Da Vinci Code</td>\n",
       "      <td>Dan Brown</td>\n",
       "      <td>3.0</td>\n",
       "      <td>Negative</td>\n",
       "      <td>257204</td>\n",
       "    </tr>\n",
       "    <tr>\n",
       "      <th>13</th>\n",
       "      <td>044023722X</td>\n",
       "      <td>A Painted House</td>\n",
       "      <td>John Grisham</td>\n",
       "      <td>0.0</td>\n",
       "      <td>Negative</td>\n",
       "      <td>257204</td>\n",
       "    </tr>\n",
       "    <tr>\n",
       "      <th>14</th>\n",
       "      <td>067976402X</td>\n",
       "      <td>Snow Falling on Cedars</td>\n",
       "      <td>David Guterson</td>\n",
       "      <td>8.0</td>\n",
       "      <td>Positive</td>\n",
       "      <td>257204</td>\n",
       "    </tr>\n",
       "    <tr>\n",
       "      <th>15</th>\n",
       "      <td>0316666343</td>\n",
       "      <td>The Lovely Bones: A Novel</td>\n",
       "      <td>Alice Sebold</td>\n",
       "      <td>5.0</td>\n",
       "      <td>Positive</td>\n",
       "      <td>265115</td>\n",
       "    </tr>\n",
       "    <tr>\n",
       "      <th>16</th>\n",
       "      <td>044023722X</td>\n",
       "      <td>A Painted House</td>\n",
       "      <td>John Grisham</td>\n",
       "      <td>0.0</td>\n",
       "      <td>Negative</td>\n",
       "      <td>265115</td>\n",
       "    </tr>\n",
       "    <tr>\n",
       "      <th>17</th>\n",
       "      <td>0446672211</td>\n",
       "      <td>Where the Heart Is (Oprah's Book Club (Paperba...</td>\n",
       "      <td>Billie Letts</td>\n",
       "      <td>0.0</td>\n",
       "      <td>Negative</td>\n",
       "      <td>265115</td>\n",
       "    </tr>\n",
       "    <tr>\n",
       "      <th>18</th>\n",
       "      <td>067976402X</td>\n",
       "      <td>Snow Falling on Cedars</td>\n",
       "      <td>David Guterson</td>\n",
       "      <td>8.0</td>\n",
       "      <td>Positive</td>\n",
       "      <td>265115</td>\n",
       "    </tr>\n",
       "    <tr>\n",
       "      <th>19</th>\n",
       "      <td>0142001740</td>\n",
       "      <td>The Secret Life of Bees</td>\n",
       "      <td>Sue Monk Kidd</td>\n",
       "      <td>0.0</td>\n",
       "      <td>Negative</td>\n",
       "      <td>266226</td>\n",
       "    </tr>\n",
       "    <tr>\n",
       "      <th>20</th>\n",
       "      <td>0312195516</td>\n",
       "      <td>The Red Tent (Bestselling Backlist)</td>\n",
       "      <td>Anita Diamant</td>\n",
       "      <td>0.0</td>\n",
       "      <td>Negative</td>\n",
       "      <td>266226</td>\n",
       "    </tr>\n",
       "    <tr>\n",
       "      <th>21</th>\n",
       "      <td>0316666343</td>\n",
       "      <td>The Lovely Bones: A Novel</td>\n",
       "      <td>Alice Sebold</td>\n",
       "      <td>5.0</td>\n",
       "      <td>Positive</td>\n",
       "      <td>266226</td>\n",
       "    </tr>\n",
       "    <tr>\n",
       "      <th>22</th>\n",
       "      <td>067976402X</td>\n",
       "      <td>Snow Falling on Cedars</td>\n",
       "      <td>David Guterson</td>\n",
       "      <td>8.0</td>\n",
       "      <td>Positive</td>\n",
       "      <td>266226</td>\n",
       "    </tr>\n",
       "    <tr>\n",
       "      <th>23</th>\n",
       "      <td>0971880107</td>\n",
       "      <td>Wild Animus</td>\n",
       "      <td>Rich Shapero</td>\n",
       "      <td>0.0</td>\n",
       "      <td>Negative</td>\n",
       "      <td>266226</td>\n",
       "    </tr>\n",
       "    <tr>\n",
       "      <th>24</th>\n",
       "      <td>0060928336</td>\n",
       "      <td>Divine Secrets of the Ya-Ya Sisterhood: A Novel</td>\n",
       "      <td>Rebecca Wells</td>\n",
       "      <td>0.0</td>\n",
       "      <td>Negative</td>\n",
       "      <td>269566</td>\n",
       "    </tr>\n",
       "    <tr>\n",
       "      <th>25</th>\n",
       "      <td>0312195516</td>\n",
       "      <td>The Red Tent (Bestselling Backlist)</td>\n",
       "      <td>Anita Diamant</td>\n",
       "      <td>0.0</td>\n",
       "      <td>Negative</td>\n",
       "      <td>269566</td>\n",
       "    </tr>\n",
       "    <tr>\n",
       "      <th>26</th>\n",
       "      <td>0385504209</td>\n",
       "      <td>The Da Vinci Code</td>\n",
       "      <td>Dan Brown</td>\n",
       "      <td>3.0</td>\n",
       "      <td>Negative</td>\n",
       "      <td>269566</td>\n",
       "    </tr>\n",
       "    <tr>\n",
       "      <th>27</th>\n",
       "      <td>044023722X</td>\n",
       "      <td>A Painted House</td>\n",
       "      <td>John Grisham</td>\n",
       "      <td>0.0</td>\n",
       "      <td>Negative</td>\n",
       "      <td>269566</td>\n",
       "    </tr>\n",
       "    <tr>\n",
       "      <th>28</th>\n",
       "      <td>0446672211</td>\n",
       "      <td>Where the Heart Is (Oprah's Book Club (Paperba...</td>\n",
       "      <td>Billie Letts</td>\n",
       "      <td>0.0</td>\n",
       "      <td>Negative</td>\n",
       "      <td>269566</td>\n",
       "    </tr>\n",
       "    <tr>\n",
       "      <th>29</th>\n",
       "      <td>0060928336</td>\n",
       "      <td>Divine Secrets of the Ya-Ya Sisterhood: A Novel</td>\n",
       "      <td>Rebecca Wells</td>\n",
       "      <td>0.0</td>\n",
       "      <td>Negative</td>\n",
       "      <td>271284</td>\n",
       "    </tr>\n",
       "    <tr>\n",
       "      <th>30</th>\n",
       "      <td>0312195516</td>\n",
       "      <td>The Red Tent (Bestselling Backlist)</td>\n",
       "      <td>Anita Diamant</td>\n",
       "      <td>0.0</td>\n",
       "      <td>Negative</td>\n",
       "      <td>271284</td>\n",
       "    </tr>\n",
       "    <tr>\n",
       "      <th>31</th>\n",
       "      <td>0316666343</td>\n",
       "      <td>The Lovely Bones: A Novel</td>\n",
       "      <td>Alice Sebold</td>\n",
       "      <td>5.0</td>\n",
       "      <td>Positive</td>\n",
       "      <td>271284</td>\n",
       "    </tr>\n",
       "    <tr>\n",
       "      <th>32</th>\n",
       "      <td>0446672211</td>\n",
       "      <td>Where the Heart Is (Oprah's Book Club (Paperba...</td>\n",
       "      <td>Billie Letts</td>\n",
       "      <td>0.0</td>\n",
       "      <td>Negative</td>\n",
       "      <td>271284</td>\n",
       "    </tr>\n",
       "    <tr>\n",
       "      <th>33</th>\n",
       "      <td>0971880107</td>\n",
       "      <td>Wild Animus</td>\n",
       "      <td>Rich Shapero</td>\n",
       "      <td>0.0</td>\n",
       "      <td>Negative</td>\n",
       "      <td>271284</td>\n",
       "    </tr>\n",
       "    <tr>\n",
       "      <th>34</th>\n",
       "      <td>0060928336</td>\n",
       "      <td>Divine Secrets of the Ya-Ya Sisterhood: A Novel</td>\n",
       "      <td>Rebecca Wells</td>\n",
       "      <td>0.0</td>\n",
       "      <td>Negative</td>\n",
       "      <td>274308</td>\n",
       "    </tr>\n",
       "    <tr>\n",
       "      <th>35</th>\n",
       "      <td>0312195516</td>\n",
       "      <td>The Red Tent (Bestselling Backlist)</td>\n",
       "      <td>Anita Diamant</td>\n",
       "      <td>0.0</td>\n",
       "      <td>Negative</td>\n",
       "      <td>274308</td>\n",
       "    </tr>\n",
       "    <tr>\n",
       "      <th>36</th>\n",
       "      <td>0446672211</td>\n",
       "      <td>Where the Heart Is (Oprah's Book Club (Paperba...</td>\n",
       "      <td>Billie Letts</td>\n",
       "      <td>0.0</td>\n",
       "      <td>Negative</td>\n",
       "      <td>274308</td>\n",
       "    </tr>\n",
       "    <tr>\n",
       "      <th>37</th>\n",
       "      <td>067976402X</td>\n",
       "      <td>Snow Falling on Cedars</td>\n",
       "      <td>David Guterson</td>\n",
       "      <td>8.0</td>\n",
       "      <td>Positive</td>\n",
       "      <td>274308</td>\n",
       "    </tr>\n",
       "    <tr>\n",
       "      <th>38</th>\n",
       "      <td>0971880107</td>\n",
       "      <td>Wild Animus</td>\n",
       "      <td>Rich Shapero</td>\n",
       "      <td>0.0</td>\n",
       "      <td>Negative</td>\n",
       "      <td>274308</td>\n",
       "    </tr>\n",
       "    <tr>\n",
       "      <th>39</th>\n",
       "      <td>0312195516</td>\n",
       "      <td>The Red Tent (Bestselling Backlist)</td>\n",
       "      <td>Anita Diamant</td>\n",
       "      <td>0.0</td>\n",
       "      <td>Negative</td>\n",
       "      <td>275970</td>\n",
       "    </tr>\n",
       "    <tr>\n",
       "      <th>40</th>\n",
       "      <td>0316666343</td>\n",
       "      <td>The Lovely Bones: A Novel</td>\n",
       "      <td>Alice Sebold</td>\n",
       "      <td>5.0</td>\n",
       "      <td>Positive</td>\n",
       "      <td>275970</td>\n",
       "    </tr>\n",
       "    <tr>\n",
       "      <th>41</th>\n",
       "      <td>0446672211</td>\n",
       "      <td>Where the Heart Is (Oprah's Book Club (Paperba...</td>\n",
       "      <td>Billie Letts</td>\n",
       "      <td>0.0</td>\n",
       "      <td>Negative</td>\n",
       "      <td>275970</td>\n",
       "    </tr>\n",
       "    <tr>\n",
       "      <th>42</th>\n",
       "      <td>059035342X</td>\n",
       "      <td>Harry Potter and the Sorcerer's Stone (Harry P...</td>\n",
       "      <td>J. K. Rowling</td>\n",
       "      <td>3.4</td>\n",
       "      <td>Positive</td>\n",
       "      <td>275970</td>\n",
       "    </tr>\n",
       "    <tr>\n",
       "      <th>43</th>\n",
       "      <td>0971880107</td>\n",
       "      <td>Wild Animus</td>\n",
       "      <td>Rich Shapero</td>\n",
       "      <td>0.0</td>\n",
       "      <td>Negative</td>\n",
       "      <td>275970</td>\n",
       "    </tr>\n",
       "  </tbody>\n",
       "</table>\n",
       "</div>"
      ],
      "text/plain": [
       "          ISBN                                         Book_Title  \\\n",
       "0   0060928336    Divine Secrets of the Ya-Ya Sisterhood: A Novel   \n",
       "1   0312195516                The Red Tent (Bestselling Backlist)   \n",
       "2   0316666343                          The Lovely Bones: A Novel   \n",
       "3   0446672211  Where the Heart Is (Oprah's Book Club (Paperba...   \n",
       "4   059035342X  Harry Potter and the Sorcerer's Stone (Harry P...   \n",
       "5   0142001740                            The Secret Life of Bees   \n",
       "6   0385504209                                  The Da Vinci Code   \n",
       "7   044023722X                                    A Painted House   \n",
       "8   059035342X  Harry Potter and the Sorcerer's Stone (Harry P...   \n",
       "9   067976402X                             Snow Falling on Cedars   \n",
       "10  0142001740                            The Secret Life of Bees   \n",
       "11  0316666343                          The Lovely Bones: A Novel   \n",
       "12  0385504209                                  The Da Vinci Code   \n",
       "13  044023722X                                    A Painted House   \n",
       "14  067976402X                             Snow Falling on Cedars   \n",
       "15  0316666343                          The Lovely Bones: A Novel   \n",
       "16  044023722X                                    A Painted House   \n",
       "17  0446672211  Where the Heart Is (Oprah's Book Club (Paperba...   \n",
       "18  067976402X                             Snow Falling on Cedars   \n",
       "19  0142001740                            The Secret Life of Bees   \n",
       "20  0312195516                The Red Tent (Bestselling Backlist)   \n",
       "21  0316666343                          The Lovely Bones: A Novel   \n",
       "22  067976402X                             Snow Falling on Cedars   \n",
       "23  0971880107                                        Wild Animus   \n",
       "24  0060928336    Divine Secrets of the Ya-Ya Sisterhood: A Novel   \n",
       "25  0312195516                The Red Tent (Bestselling Backlist)   \n",
       "26  0385504209                                  The Da Vinci Code   \n",
       "27  044023722X                                    A Painted House   \n",
       "28  0446672211  Where the Heart Is (Oprah's Book Club (Paperba...   \n",
       "29  0060928336    Divine Secrets of the Ya-Ya Sisterhood: A Novel   \n",
       "30  0312195516                The Red Tent (Bestselling Backlist)   \n",
       "31  0316666343                          The Lovely Bones: A Novel   \n",
       "32  0446672211  Where the Heart Is (Oprah's Book Club (Paperba...   \n",
       "33  0971880107                                        Wild Animus   \n",
       "34  0060928336    Divine Secrets of the Ya-Ya Sisterhood: A Novel   \n",
       "35  0312195516                The Red Tent (Bestselling Backlist)   \n",
       "36  0446672211  Where the Heart Is (Oprah's Book Club (Paperba...   \n",
       "37  067976402X                             Snow Falling on Cedars   \n",
       "38  0971880107                                        Wild Animus   \n",
       "39  0312195516                The Red Tent (Bestselling Backlist)   \n",
       "40  0316666343                          The Lovely Bones: A Novel   \n",
       "41  0446672211  Where the Heart Is (Oprah's Book Club (Paperba...   \n",
       "42  059035342X  Harry Potter and the Sorcerer's Stone (Harry P...   \n",
       "43  0971880107                                        Wild Animus   \n",
       "\n",
       "       Book_Author  Book_Rating Review_Sentiment  User_ID  \n",
       "0    Rebecca Wells          0.0         Negative   246655  \n",
       "1    Anita Diamant          0.0         Negative   246655  \n",
       "2     Alice Sebold          5.0         Positive   246655  \n",
       "3     Billie Letts          0.0         Negative   246655  \n",
       "4    J. K. Rowling          3.4         Positive   246655  \n",
       "5    Sue Monk Kidd          0.0         Negative   254465  \n",
       "6        Dan Brown          3.0         Negative   254465  \n",
       "7     John Grisham          0.0         Negative   254465  \n",
       "8    J. K. Rowling          3.4         Positive   254465  \n",
       "9   David Guterson          8.0         Positive   254465  \n",
       "10   Sue Monk Kidd          0.0         Negative   257204  \n",
       "11    Alice Sebold          5.0         Positive   257204  \n",
       "12       Dan Brown          3.0         Negative   257204  \n",
       "13    John Grisham          0.0         Negative   257204  \n",
       "14  David Guterson          8.0         Positive   257204  \n",
       "15    Alice Sebold          5.0         Positive   265115  \n",
       "16    John Grisham          0.0         Negative   265115  \n",
       "17    Billie Letts          0.0         Negative   265115  \n",
       "18  David Guterson          8.0         Positive   265115  \n",
       "19   Sue Monk Kidd          0.0         Negative   266226  \n",
       "20   Anita Diamant          0.0         Negative   266226  \n",
       "21    Alice Sebold          5.0         Positive   266226  \n",
       "22  David Guterson          8.0         Positive   266226  \n",
       "23    Rich Shapero          0.0         Negative   266226  \n",
       "24   Rebecca Wells          0.0         Negative   269566  \n",
       "25   Anita Diamant          0.0         Negative   269566  \n",
       "26       Dan Brown          3.0         Negative   269566  \n",
       "27    John Grisham          0.0         Negative   269566  \n",
       "28    Billie Letts          0.0         Negative   269566  \n",
       "29   Rebecca Wells          0.0         Negative   271284  \n",
       "30   Anita Diamant          0.0         Negative   271284  \n",
       "31    Alice Sebold          5.0         Positive   271284  \n",
       "32    Billie Letts          0.0         Negative   271284  \n",
       "33    Rich Shapero          0.0         Negative   271284  \n",
       "34   Rebecca Wells          0.0         Negative   274308  \n",
       "35   Anita Diamant          0.0         Negative   274308  \n",
       "36    Billie Letts          0.0         Negative   274308  \n",
       "37  David Guterson          8.0         Positive   274308  \n",
       "38    Rich Shapero          0.0         Negative   274308  \n",
       "39   Anita Diamant          0.0         Negative   275970  \n",
       "40    Alice Sebold          5.0         Positive   275970  \n",
       "41    Billie Letts          0.0         Negative   275970  \n",
       "42   J. K. Rowling          3.4         Positive   275970  \n",
       "43    Rich Shapero          0.0         Negative   275970  "
      ]
     },
     "metadata": {},
     "output_type": "display_data"
    }
   ],
   "source": [
    "import pandas as pd\n",
    "import numpy as np\n",
    "from scipy.sparse import coo_matrix\n",
    "from sklearn.decomposition import TruncatedSVD\n",
    "from IPython.display import display\n",
    "\n",
    "# Load the data\n",
    "ratings_df = pd.read_csv(\"Preprocessed_Ratings.csv\")\n",
    "books_df = pd.read_csv(\"Preprocessed_Books.csv\")\n",
    "\n",
    "# Map Book_Rating to implicit feedback (1 for positive feedback, 0.5 for neutral, 0 for negative)\n",
    "ratings_df['implicit_feedback'] = ratings_df['Book_Rating'].apply(lambda x: 1 if x >= 7 else (0.5 if x >= 4 else 0))\n",
    "\n",
    "# Step 1: Map Ratings to Review Sentiment (Proxy)\n",
    "def map_rating_to_review(rating):\n",
    "    if rating >= 7:\n",
    "        return 'Positive'\n",
    "    elif rating >= 4:\n",
    "        return 'Neutral'\n",
    "    else:\n",
    "        return 'Negative'\n",
    "\n",
    "ratings_df['Review_Sentiment'] = ratings_df['Book_Rating'].apply(map_rating_to_review)\n",
    "\n",
    "# Limit the dataset to top 10 users and books\n",
    "top_users = ratings_df['User_ID'].value_counts().head(10).index\n",
    "top_books = ratings_df['ISBN'].value_counts().head(10).index\n",
    "ratings_df = ratings_df[ratings_df['User_ID'].isin(top_users) & ratings_df['ISBN'].isin(top_books)]\n",
    "\n",
    "# Check for missing values\n",
    "print(ratings_df.isnull().sum())\n",
    "\n",
    "# Create the sparse matrix for User-Book interaction\n",
    "rows = ratings_df['User_ID'].astype('category').cat.codes\n",
    "cols = ratings_df['ISBN'].astype('category').cat.codes\n",
    "data = ratings_df['implicit_feedback']\n",
    "\n",
    "interaction_matrix = coo_matrix((data, (rows, cols)), shape=(ratings_df['User_ID'].nunique(), ratings_df['ISBN'].nunique()))\n",
    "\n",
    "# Perform Matrix Factorization using SVD\n",
    "n_components = min(interaction_matrix.shape[1], 50)  # Ensure n_components <= number of books\n",
    "svd = TruncatedSVD(n_components=n_components)\n",
    "matrix_factorized = svd.fit_transform(interaction_matrix)\n",
    "\n",
    "# Reconstruct the interaction matrix\n",
    "reconstructed_matrix = np.dot(matrix_factorized, svd.components_)\n",
    "\n",
    "# Step 2: Recommend books for a specific user\n",
    "def recommend_books_for_user(user_id, top_n=5):\n",
    "    \"\"\"\n",
    "    Recommend books for a specific user based on predicted interaction scores.\n",
    "    \n",
    "    Args:\n",
    "        user_id (int): The user ID for whom recommendations are needed.\n",
    "        top_n (int): Number of books to recommend.\n",
    "    \n",
    "    Returns:\n",
    "        pd.DataFrame: Recommended books with book details and user reviews.\n",
    "    \"\"\"\n",
    "    if user_id not in ratings_df['User_ID'].unique():\n",
    "        raise ValueError(f\"User ID {user_id} not found in the dataset.\")\n",
    "    \n",
    "    # Get the predicted interaction scores for the user\n",
    "    user_index = ratings_df['User_ID'].unique().tolist().index(user_id)\n",
    "    user_predictions = reconstructed_matrix[user_index]\n",
    "    \n",
    "    # Get books the user has already interacted with\n",
    "    interacted_books = ratings_df[ratings_df['User_ID'] == user_id]['ISBN'].tolist()\n",
    "    \n",
    "    # Filter out books the user has already interacted with\n",
    "    recommended_books = pd.Series(user_predictions, index=ratings_df['ISBN'].unique())\n",
    "    recommended_books = recommended_books[~recommended_books.index.isin(interacted_books)]\n",
    "    \n",
    "    # Get top N book ids based on predicted interaction scores\n",
    "    top_book_ids = recommended_books.sort_values(ascending=False).head(top_n).index.tolist()\n",
    "    \n",
    "    # Fetch book details from the Books dataframe\n",
    "    recommended_books_details = books_df[books_df['ISBN'].isin(top_book_ids)].copy()\n",
    "    \n",
    "    # Step 3: Add review sentiments (based on ratings) to the recommended books\n",
    "    reviews_df = ratings_df[ratings_df['ISBN'].isin(top_book_ids)]\n",
    "    reviews_df = reviews_df.groupby('ISBN').agg({'Book_Rating': 'mean', 'Review_Sentiment': 'first'}).reset_index()\n",
    "\n",
    "    # Merge book details with review sentiments\n",
    "    recommended_books_details = pd.merge(recommended_books_details, reviews_df, on='ISBN', how='left')\n",
    "    \n",
    "    return recommended_books_details[['ISBN', 'Book_Title', 'Book_Author', 'Book_Rating', 'Review_Sentiment']]\n",
    "\n",
    "# Step 4: Recommend books for all users\n",
    "all_recommended_books = []\n",
    "\n",
    "# Iterate over all unique users in the ratings data\n",
    "for user_id in ratings_df['User_ID'].unique():\n",
    "    top_books = recommend_books_for_user(user_id, top_n=5)\n",
    "    top_books['User_ID'] = user_id  # Add user_id to the recommendation dataframe\n",
    "    all_recommended_books.append(top_books)\n",
    "\n",
    "# Combine all the recommendations into a single dataframe\n",
    "all_recommended_books_df = pd.concat(all_recommended_books, ignore_index=True)\n",
    "\n",
    "# Display the results in a table format\n",
    "display(all_recommended_books_df)"
   ]
  },
  {
   "cell_type": "markdown",
   "id": "fcdacf54-67da-46c1-bb76-af26194a3924",
   "metadata": {},
   "source": [
    "### popularity based filtering"
   ]
  },
  {
   "cell_type": "code",
   "execution_count": 3,
   "id": "6b22e977-0854-4236-91fb-2e4e8a358d57",
   "metadata": {},
   "outputs": [
    {
     "data": {
      "text/plain": [
       "'\\nRecommendations for User 269566:'"
      ]
     },
     "metadata": {},
     "output_type": "display_data"
    },
    {
     "data": {
      "text/plain": [
       "' - The Lovely Bones: A Novel'"
      ]
     },
     "metadata": {},
     "output_type": "display_data"
    },
    {
     "data": {
      "text/plain": [
       "' - The Da Vinci Code'"
      ]
     },
     "metadata": {},
     "output_type": "display_data"
    },
    {
     "data": {
      "text/plain": [
       "' - The Red Tent (Bestselling Backlist)'"
      ]
     },
     "metadata": {},
     "output_type": "display_data"
    },
    {
     "data": {
      "text/plain": [
       "\" - Harry Potter and the Sorcerer's Stone (Harry Potter (Paperback))\""
      ]
     },
     "metadata": {},
     "output_type": "display_data"
    },
    {
     "data": {
      "text/plain": [
       "\" - Where the Heart Is (Oprah's Book Club (Paperback))\""
      ]
     },
     "metadata": {},
     "output_type": "display_data"
    },
    {
     "data": {
      "text/plain": [
       "\" - The Pilot's Wife : A Novel\""
      ]
     },
     "metadata": {},
     "output_type": "display_data"
    },
    {
     "data": {
      "text/plain": [
       "' - Wild Animus'"
      ]
     },
     "metadata": {},
     "output_type": "display_data"
    },
    {
     "data": {
      "text/plain": [
       "' - Divine Secrets of the Ya-Ya Sisterhood: A Novel'"
      ]
     },
     "metadata": {},
     "output_type": "display_data"
    },
    {
     "data": {
      "text/plain": [
       "' - Life of Pi'"
      ]
     },
     "metadata": {},
     "output_type": "display_data"
    },
    {
     "data": {
      "text/plain": [
       "' - The Nanny Diaries: A Novel'"
      ]
     },
     "metadata": {},
     "output_type": "display_data"
    },
    {
     "data": {
      "text/plain": [
       "'\\nRecommendations for User 257204:'"
      ]
     },
     "metadata": {},
     "output_type": "display_data"
    },
    {
     "data": {
      "text/plain": [
       "' - The Lovely Bones: A Novel'"
      ]
     },
     "metadata": {},
     "output_type": "display_data"
    },
    {
     "data": {
      "text/plain": [
       "' - The Da Vinci Code'"
      ]
     },
     "metadata": {},
     "output_type": "display_data"
    },
    {
     "data": {
      "text/plain": [
       "' - The Red Tent (Bestselling Backlist)'"
      ]
     },
     "metadata": {},
     "output_type": "display_data"
    },
    {
     "data": {
      "text/plain": [
       "\" - Harry Potter and the Sorcerer's Stone (Harry Potter (Paperback))\""
      ]
     },
     "metadata": {},
     "output_type": "display_data"
    },
    {
     "data": {
      "text/plain": [
       "\" - Where the Heart Is (Oprah's Book Club (Paperback))\""
      ]
     },
     "metadata": {},
     "output_type": "display_data"
    },
    {
     "data": {
      "text/plain": [
       "\" - The Pilot's Wife : A Novel\""
      ]
     },
     "metadata": {},
     "output_type": "display_data"
    },
    {
     "data": {
      "text/plain": [
       "' - Wild Animus'"
      ]
     },
     "metadata": {},
     "output_type": "display_data"
    },
    {
     "data": {
      "text/plain": [
       "' - Divine Secrets of the Ya-Ya Sisterhood: A Novel'"
      ]
     },
     "metadata": {},
     "output_type": "display_data"
    },
    {
     "data": {
      "text/plain": [
       "' - Life of Pi'"
      ]
     },
     "metadata": {},
     "output_type": "display_data"
    },
    {
     "data": {
      "text/plain": [
       "' - The Nanny Diaries: A Novel'"
      ]
     },
     "metadata": {},
     "output_type": "display_data"
    },
    {
     "data": {
      "text/plain": [
       "'\\nRecommendations for User 275970:'"
      ]
     },
     "metadata": {},
     "output_type": "display_data"
    },
    {
     "data": {
      "text/plain": [
       "' - The Lovely Bones: A Novel'"
      ]
     },
     "metadata": {},
     "output_type": "display_data"
    },
    {
     "data": {
      "text/plain": [
       "' - The Da Vinci Code'"
      ]
     },
     "metadata": {},
     "output_type": "display_data"
    },
    {
     "data": {
      "text/plain": [
       "' - The Red Tent (Bestselling Backlist)'"
      ]
     },
     "metadata": {},
     "output_type": "display_data"
    },
    {
     "data": {
      "text/plain": [
       "\" - Harry Potter and the Sorcerer's Stone (Harry Potter (Paperback))\""
      ]
     },
     "metadata": {},
     "output_type": "display_data"
    },
    {
     "data": {
      "text/plain": [
       "\" - Where the Heart Is (Oprah's Book Club (Paperback))\""
      ]
     },
     "metadata": {},
     "output_type": "display_data"
    },
    {
     "data": {
      "text/plain": [
       "\" - The Pilot's Wife : A Novel\""
      ]
     },
     "metadata": {},
     "output_type": "display_data"
    },
    {
     "data": {
      "text/plain": [
       "' - Wild Animus'"
      ]
     },
     "metadata": {},
     "output_type": "display_data"
    },
    {
     "data": {
      "text/plain": [
       "' - Divine Secrets of the Ya-Ya Sisterhood: A Novel'"
      ]
     },
     "metadata": {},
     "output_type": "display_data"
    },
    {
     "data": {
      "text/plain": [
       "' - Life of Pi'"
      ]
     },
     "metadata": {},
     "output_type": "display_data"
    },
    {
     "data": {
      "text/plain": [
       "' - The Nanny Diaries: A Novel'"
      ]
     },
     "metadata": {},
     "output_type": "display_data"
    },
    {
     "data": {
      "text/plain": [
       "'\\nRecommendations for User 266226:'"
      ]
     },
     "metadata": {},
     "output_type": "display_data"
    },
    {
     "data": {
      "text/plain": [
       "' - The Lovely Bones: A Novel'"
      ]
     },
     "metadata": {},
     "output_type": "display_data"
    },
    {
     "data": {
      "text/plain": [
       "' - The Da Vinci Code'"
      ]
     },
     "metadata": {},
     "output_type": "display_data"
    },
    {
     "data": {
      "text/plain": [
       "' - The Red Tent (Bestselling Backlist)'"
      ]
     },
     "metadata": {},
     "output_type": "display_data"
    },
    {
     "data": {
      "text/plain": [
       "\" - Harry Potter and the Sorcerer's Stone (Harry Potter (Paperback))\""
      ]
     },
     "metadata": {},
     "output_type": "display_data"
    },
    {
     "data": {
      "text/plain": [
       "\" - Where the Heart Is (Oprah's Book Club (Paperback))\""
      ]
     },
     "metadata": {},
     "output_type": "display_data"
    },
    {
     "data": {
      "text/plain": [
       "\" - The Pilot's Wife : A Novel\""
      ]
     },
     "metadata": {},
     "output_type": "display_data"
    },
    {
     "data": {
      "text/plain": [
       "' - Wild Animus'"
      ]
     },
     "metadata": {},
     "output_type": "display_data"
    },
    {
     "data": {
      "text/plain": [
       "' - Divine Secrets of the Ya-Ya Sisterhood: A Novel'"
      ]
     },
     "metadata": {},
     "output_type": "display_data"
    },
    {
     "data": {
      "text/plain": [
       "' - Life of Pi'"
      ]
     },
     "metadata": {},
     "output_type": "display_data"
    },
    {
     "data": {
      "text/plain": [
       "' - The Nanny Diaries: A Novel'"
      ]
     },
     "metadata": {},
     "output_type": "display_data"
    },
    {
     "data": {
      "text/plain": [
       "'\\nRecommendations for User 274308:'"
      ]
     },
     "metadata": {},
     "output_type": "display_data"
    },
    {
     "data": {
      "text/plain": [
       "' - The Lovely Bones: A Novel'"
      ]
     },
     "metadata": {},
     "output_type": "display_data"
    },
    {
     "data": {
      "text/plain": [
       "' - The Da Vinci Code'"
      ]
     },
     "metadata": {},
     "output_type": "display_data"
    },
    {
     "data": {
      "text/plain": [
       "' - The Red Tent (Bestselling Backlist)'"
      ]
     },
     "metadata": {},
     "output_type": "display_data"
    },
    {
     "data": {
      "text/plain": [
       "\" - Harry Potter and the Sorcerer's Stone (Harry Potter (Paperback))\""
      ]
     },
     "metadata": {},
     "output_type": "display_data"
    },
    {
     "data": {
      "text/plain": [
       "\" - Where the Heart Is (Oprah's Book Club (Paperback))\""
      ]
     },
     "metadata": {},
     "output_type": "display_data"
    },
    {
     "data": {
      "text/plain": [
       "\" - The Pilot's Wife : A Novel\""
      ]
     },
     "metadata": {},
     "output_type": "display_data"
    },
    {
     "data": {
      "text/plain": [
       "' - Wild Animus'"
      ]
     },
     "metadata": {},
     "output_type": "display_data"
    },
    {
     "data": {
      "text/plain": [
       "' - Divine Secrets of the Ya-Ya Sisterhood: A Novel'"
      ]
     },
     "metadata": {},
     "output_type": "display_data"
    },
    {
     "data": {
      "text/plain": [
       "' - Life of Pi'"
      ]
     },
     "metadata": {},
     "output_type": "display_data"
    },
    {
     "data": {
      "text/plain": [
       "' - The Nanny Diaries: A Novel'"
      ]
     },
     "metadata": {},
     "output_type": "display_data"
    },
    {
     "data": {
      "text/plain": [
       "'\\nRecommendations for User 254465:'"
      ]
     },
     "metadata": {},
     "output_type": "display_data"
    },
    {
     "data": {
      "text/plain": [
       "' - The Lovely Bones: A Novel'"
      ]
     },
     "metadata": {},
     "output_type": "display_data"
    },
    {
     "data": {
      "text/plain": [
       "' - The Da Vinci Code'"
      ]
     },
     "metadata": {},
     "output_type": "display_data"
    },
    {
     "data": {
      "text/plain": [
       "' - The Red Tent (Bestselling Backlist)'"
      ]
     },
     "metadata": {},
     "output_type": "display_data"
    },
    {
     "data": {
      "text/plain": [
       "\" - Harry Potter and the Sorcerer's Stone (Harry Potter (Paperback))\""
      ]
     },
     "metadata": {},
     "output_type": "display_data"
    },
    {
     "data": {
      "text/plain": [
       "\" - Where the Heart Is (Oprah's Book Club (Paperback))\""
      ]
     },
     "metadata": {},
     "output_type": "display_data"
    },
    {
     "data": {
      "text/plain": [
       "\" - The Pilot's Wife : A Novel\""
      ]
     },
     "metadata": {},
     "output_type": "display_data"
    },
    {
     "data": {
      "text/plain": [
       "' - Wild Animus'"
      ]
     },
     "metadata": {},
     "output_type": "display_data"
    },
    {
     "data": {
      "text/plain": [
       "' - Divine Secrets of the Ya-Ya Sisterhood: A Novel'"
      ]
     },
     "metadata": {},
     "output_type": "display_data"
    },
    {
     "data": {
      "text/plain": [
       "' - Life of Pi'"
      ]
     },
     "metadata": {},
     "output_type": "display_data"
    },
    {
     "data": {
      "text/plain": [
       "' - The Nanny Diaries: A Novel'"
      ]
     },
     "metadata": {},
     "output_type": "display_data"
    },
    {
     "data": {
      "text/plain": [
       "'\\nRecommendations for User 271284:'"
      ]
     },
     "metadata": {},
     "output_type": "display_data"
    },
    {
     "data": {
      "text/plain": [
       "' - The Lovely Bones: A Novel'"
      ]
     },
     "metadata": {},
     "output_type": "display_data"
    },
    {
     "data": {
      "text/plain": [
       "' - The Da Vinci Code'"
      ]
     },
     "metadata": {},
     "output_type": "display_data"
    },
    {
     "data": {
      "text/plain": [
       "' - The Red Tent (Bestselling Backlist)'"
      ]
     },
     "metadata": {},
     "output_type": "display_data"
    },
    {
     "data": {
      "text/plain": [
       "\" - Harry Potter and the Sorcerer's Stone (Harry Potter (Paperback))\""
      ]
     },
     "metadata": {},
     "output_type": "display_data"
    },
    {
     "data": {
      "text/plain": [
       "\" - Where the Heart Is (Oprah's Book Club (Paperback))\""
      ]
     },
     "metadata": {},
     "output_type": "display_data"
    },
    {
     "data": {
      "text/plain": [
       "\" - The Pilot's Wife : A Novel\""
      ]
     },
     "metadata": {},
     "output_type": "display_data"
    },
    {
     "data": {
      "text/plain": [
       "' - Wild Animus'"
      ]
     },
     "metadata": {},
     "output_type": "display_data"
    },
    {
     "data": {
      "text/plain": [
       "' - Divine Secrets of the Ya-Ya Sisterhood: A Novel'"
      ]
     },
     "metadata": {},
     "output_type": "display_data"
    },
    {
     "data": {
      "text/plain": [
       "' - Life of Pi'"
      ]
     },
     "metadata": {},
     "output_type": "display_data"
    },
    {
     "data": {
      "text/plain": [
       "' - The Nanny Diaries: A Novel'"
      ]
     },
     "metadata": {},
     "output_type": "display_data"
    },
    {
     "data": {
      "text/plain": [
       "'\\nRecommendations for User 246655:'"
      ]
     },
     "metadata": {},
     "output_type": "display_data"
    },
    {
     "data": {
      "text/plain": [
       "' - The Lovely Bones: A Novel'"
      ]
     },
     "metadata": {},
     "output_type": "display_data"
    },
    {
     "data": {
      "text/plain": [
       "' - The Da Vinci Code'"
      ]
     },
     "metadata": {},
     "output_type": "display_data"
    },
    {
     "data": {
      "text/plain": [
       "' - The Red Tent (Bestselling Backlist)'"
      ]
     },
     "metadata": {},
     "output_type": "display_data"
    },
    {
     "data": {
      "text/plain": [
       "\" - Harry Potter and the Sorcerer's Stone (Harry Potter (Paperback))\""
      ]
     },
     "metadata": {},
     "output_type": "display_data"
    },
    {
     "data": {
      "text/plain": [
       "\" - Where the Heart Is (Oprah's Book Club (Paperback))\""
      ]
     },
     "metadata": {},
     "output_type": "display_data"
    },
    {
     "data": {
      "text/plain": [
       "\" - The Pilot's Wife : A Novel\""
      ]
     },
     "metadata": {},
     "output_type": "display_data"
    },
    {
     "data": {
      "text/plain": [
       "' - Wild Animus'"
      ]
     },
     "metadata": {},
     "output_type": "display_data"
    },
    {
     "data": {
      "text/plain": [
       "' - Divine Secrets of the Ya-Ya Sisterhood: A Novel'"
      ]
     },
     "metadata": {},
     "output_type": "display_data"
    },
    {
     "data": {
      "text/plain": [
       "' - Life of Pi'"
      ]
     },
     "metadata": {},
     "output_type": "display_data"
    },
    {
     "data": {
      "text/plain": [
       "' - The Nanny Diaries: A Novel'"
      ]
     },
     "metadata": {},
     "output_type": "display_data"
    },
    {
     "data": {
      "text/plain": [
       "'\\nRecommendations for User 265115:'"
      ]
     },
     "metadata": {},
     "output_type": "display_data"
    },
    {
     "data": {
      "text/plain": [
       "' - The Lovely Bones: A Novel'"
      ]
     },
     "metadata": {},
     "output_type": "display_data"
    },
    {
     "data": {
      "text/plain": [
       "' - The Da Vinci Code'"
      ]
     },
     "metadata": {},
     "output_type": "display_data"
    },
    {
     "data": {
      "text/plain": [
       "' - The Red Tent (Bestselling Backlist)'"
      ]
     },
     "metadata": {},
     "output_type": "display_data"
    },
    {
     "data": {
      "text/plain": [
       "\" - Harry Potter and the Sorcerer's Stone (Harry Potter (Paperback))\""
      ]
     },
     "metadata": {},
     "output_type": "display_data"
    },
    {
     "data": {
      "text/plain": [
       "\" - Where the Heart Is (Oprah's Book Club (Paperback))\""
      ]
     },
     "metadata": {},
     "output_type": "display_data"
    },
    {
     "data": {
      "text/plain": [
       "\" - The Pilot's Wife : A Novel\""
      ]
     },
     "metadata": {},
     "output_type": "display_data"
    },
    {
     "data": {
      "text/plain": [
       "' - Wild Animus'"
      ]
     },
     "metadata": {},
     "output_type": "display_data"
    },
    {
     "data": {
      "text/plain": [
       "' - Divine Secrets of the Ya-Ya Sisterhood: A Novel'"
      ]
     },
     "metadata": {},
     "output_type": "display_data"
    },
    {
     "data": {
      "text/plain": [
       "' - Life of Pi'"
      ]
     },
     "metadata": {},
     "output_type": "display_data"
    },
    {
     "data": {
      "text/plain": [
       "' - The Nanny Diaries: A Novel'"
      ]
     },
     "metadata": {},
     "output_type": "display_data"
    },
    {
     "data": {
      "text/plain": [
       "'\\nRecommendations for User 248718:'"
      ]
     },
     "metadata": {},
     "output_type": "display_data"
    },
    {
     "data": {
      "text/plain": [
       "' - The Lovely Bones: A Novel'"
      ]
     },
     "metadata": {},
     "output_type": "display_data"
    },
    {
     "data": {
      "text/plain": [
       "' - The Da Vinci Code'"
      ]
     },
     "metadata": {},
     "output_type": "display_data"
    },
    {
     "data": {
      "text/plain": [
       "' - The Red Tent (Bestselling Backlist)'"
      ]
     },
     "metadata": {},
     "output_type": "display_data"
    },
    {
     "data": {
      "text/plain": [
       "\" - Harry Potter and the Sorcerer's Stone (Harry Potter (Paperback))\""
      ]
     },
     "metadata": {},
     "output_type": "display_data"
    },
    {
     "data": {
      "text/plain": [
       "\" - Where the Heart Is (Oprah's Book Club (Paperback))\""
      ]
     },
     "metadata": {},
     "output_type": "display_data"
    },
    {
     "data": {
      "text/plain": [
       "\" - The Pilot's Wife : A Novel\""
      ]
     },
     "metadata": {},
     "output_type": "display_data"
    },
    {
     "data": {
      "text/plain": [
       "' - Wild Animus'"
      ]
     },
     "metadata": {},
     "output_type": "display_data"
    },
    {
     "data": {
      "text/plain": [
       "' - Divine Secrets of the Ya-Ya Sisterhood: A Novel'"
      ]
     },
     "metadata": {},
     "output_type": "display_data"
    },
    {
     "data": {
      "text/plain": [
       "' - Life of Pi'"
      ]
     },
     "metadata": {},
     "output_type": "display_data"
    },
    {
     "data": {
      "text/plain": [
       "' - The Nanny Diaries: A Novel'"
      ]
     },
     "metadata": {},
     "output_type": "display_data"
    }
   ],
   "source": [
    "import pandas as pd\n",
    "from IPython.display import display  # Import display function\n",
    "\n",
    "# Load preprocessed data\n",
    "books_df = pd.read_csv(\"Preprocessed_Books.csv\")\n",
    "ratings_df = pd.read_csv(\"Preprocessed_Ratings.csv\")\n",
    "\n",
    "# Standardize column names\n",
    "books_df.rename(columns={'Book-Title': 'Book_Title'}, inplace=True)\n",
    "ratings_df.rename(columns={'User-ID': 'User_ID', 'Book-Rating': 'Book_Rating'}, inplace=True)\n",
    "\n",
    "# Calculate book popularity based on the number of ratings and average rating\n",
    "book_popularity = ratings_df.groupby('ISBN').agg(\n",
    "    num_ratings=('Book_Rating', 'count'),\n",
    "    avg_rating=('Book_Rating', 'mean')\n",
    ").reset_index()\n",
    "\n",
    "# Merge with book details\n",
    "book_popularity = book_popularity.merge(books_df, on='ISBN', how='inner')\n",
    "\n",
    "# Define popularity score (weighted sum of avg rating and number of ratings)\n",
    "book_popularity['popularity_score'] = book_popularity['num_ratings'] * book_popularity['avg_rating']\n",
    "\n",
    "# Get top 10 popular books\n",
    "top_books = book_popularity.sort_values(by='popularity_score', ascending=False).head(10)\n",
    "\n",
    "# Get the top 10 users based on the number of ratings\n",
    "top_users = ratings_df['User_ID'].value_counts().head(10).index\n",
    "\n",
    "# Recommend popular books to the top 10 users\n",
    "recommendations = {user: top_books['Book_Title'].tolist() for user in top_users}\n",
    "\n",
    "# Display recommendations using display\n",
    "for user, rec_books in recommendations.items():\n",
    "    display(f\"\\nRecommendations for User {user}:\")\n",
    "    for book in rec_books:\n",
    "        display(f\" - {book}\")"
   ]
  },
  {
   "cell_type": "code",
   "execution_count": 4,
   "id": "8cf3d6dd-8481-4df6-9a9a-50367ee6d7f7",
   "metadata": {},
   "outputs": [
    {
     "name": "stdout",
     "output_type": "stream",
     "text": [
      "\n",
      "Recommendations for User 269566:\n",
      " - The Lovely Bones: A Novel\n",
      " - The Da Vinci Code\n",
      " - The Red Tent (Bestselling Backlist)\n",
      " - Harry Potter and the Sorcerer's Stone (Harry Potter (Paperback))\n",
      " - Where the Heart Is (Oprah's Book Club (Paperback))\n",
      " - The Pilot's Wife : A Novel\n",
      " - Wild Animus\n",
      " - Divine Secrets of the Ya-Ya Sisterhood: A Novel\n",
      " - Life of Pi\n",
      " - The Nanny Diaries: A Novel\n",
      "\n",
      "Recommendations for User 257204:\n",
      " - The Lovely Bones: A Novel\n",
      " - The Da Vinci Code\n",
      " - The Red Tent (Bestselling Backlist)\n",
      " - Harry Potter and the Sorcerer's Stone (Harry Potter (Paperback))\n",
      " - Where the Heart Is (Oprah's Book Club (Paperback))\n",
      " - The Pilot's Wife : A Novel\n",
      " - Wild Animus\n",
      " - Divine Secrets of the Ya-Ya Sisterhood: A Novel\n",
      " - Life of Pi\n",
      " - The Nanny Diaries: A Novel\n",
      "\n",
      "Recommendations for User 275970:\n",
      " - The Lovely Bones: A Novel\n",
      " - The Da Vinci Code\n",
      " - The Red Tent (Bestselling Backlist)\n",
      " - Harry Potter and the Sorcerer's Stone (Harry Potter (Paperback))\n",
      " - Where the Heart Is (Oprah's Book Club (Paperback))\n",
      " - The Pilot's Wife : A Novel\n",
      " - Wild Animus\n",
      " - Divine Secrets of the Ya-Ya Sisterhood: A Novel\n",
      " - Life of Pi\n",
      " - The Nanny Diaries: A Novel\n",
      "\n",
      "Recommendations for User 266226:\n",
      " - The Lovely Bones: A Novel\n",
      " - The Da Vinci Code\n",
      " - The Red Tent (Bestselling Backlist)\n",
      " - Harry Potter and the Sorcerer's Stone (Harry Potter (Paperback))\n",
      " - Where the Heart Is (Oprah's Book Club (Paperback))\n",
      " - The Pilot's Wife : A Novel\n",
      " - Wild Animus\n",
      " - Divine Secrets of the Ya-Ya Sisterhood: A Novel\n",
      " - Life of Pi\n",
      " - The Nanny Diaries: A Novel\n",
      "\n",
      "Recommendations for User 274308:\n",
      " - The Lovely Bones: A Novel\n",
      " - The Da Vinci Code\n",
      " - The Red Tent (Bestselling Backlist)\n",
      " - Harry Potter and the Sorcerer's Stone (Harry Potter (Paperback))\n",
      " - Where the Heart Is (Oprah's Book Club (Paperback))\n",
      " - The Pilot's Wife : A Novel\n",
      " - Wild Animus\n",
      " - Divine Secrets of the Ya-Ya Sisterhood: A Novel\n",
      " - Life of Pi\n",
      " - The Nanny Diaries: A Novel\n",
      "\n",
      "Recommendations for User 254465:\n",
      " - The Lovely Bones: A Novel\n",
      " - The Da Vinci Code\n",
      " - The Red Tent (Bestselling Backlist)\n",
      " - Harry Potter and the Sorcerer's Stone (Harry Potter (Paperback))\n",
      " - Where the Heart Is (Oprah's Book Club (Paperback))\n",
      " - The Pilot's Wife : A Novel\n",
      " - Wild Animus\n",
      " - Divine Secrets of the Ya-Ya Sisterhood: A Novel\n",
      " - Life of Pi\n",
      " - The Nanny Diaries: A Novel\n",
      "\n",
      "Recommendations for User 271284:\n",
      " - The Lovely Bones: A Novel\n",
      " - The Da Vinci Code\n",
      " - The Red Tent (Bestselling Backlist)\n",
      " - Harry Potter and the Sorcerer's Stone (Harry Potter (Paperback))\n",
      " - Where the Heart Is (Oprah's Book Club (Paperback))\n",
      " - The Pilot's Wife : A Novel\n",
      " - Wild Animus\n",
      " - Divine Secrets of the Ya-Ya Sisterhood: A Novel\n",
      " - Life of Pi\n",
      " - The Nanny Diaries: A Novel\n",
      "\n",
      "Recommendations for User 246655:\n",
      " - The Lovely Bones: A Novel\n",
      " - The Da Vinci Code\n",
      " - The Red Tent (Bestselling Backlist)\n",
      " - Harry Potter and the Sorcerer's Stone (Harry Potter (Paperback))\n",
      " - Where the Heart Is (Oprah's Book Club (Paperback))\n",
      " - The Pilot's Wife : A Novel\n",
      " - Wild Animus\n",
      " - Divine Secrets of the Ya-Ya Sisterhood: A Novel\n",
      " - Life of Pi\n",
      " - The Nanny Diaries: A Novel\n",
      "\n",
      "Recommendations for User 265115:\n",
      " - The Lovely Bones: A Novel\n",
      " - The Da Vinci Code\n",
      " - The Red Tent (Bestselling Backlist)\n",
      " - Harry Potter and the Sorcerer's Stone (Harry Potter (Paperback))\n",
      " - Where the Heart Is (Oprah's Book Club (Paperback))\n",
      " - The Pilot's Wife : A Novel\n",
      " - Wild Animus\n",
      " - Divine Secrets of the Ya-Ya Sisterhood: A Novel\n",
      " - Life of Pi\n",
      " - The Nanny Diaries: A Novel\n",
      "\n",
      "Recommendations for User 248718:\n",
      " - The Lovely Bones: A Novel\n",
      " - The Da Vinci Code\n",
      " - The Red Tent (Bestselling Backlist)\n",
      " - Harry Potter and the Sorcerer's Stone (Harry Potter (Paperback))\n",
      " - Where the Heart Is (Oprah's Book Club (Paperback))\n",
      " - The Pilot's Wife : A Novel\n",
      " - Wild Animus\n",
      " - Divine Secrets of the Ya-Ya Sisterhood: A Novel\n",
      " - Life of Pi\n",
      " - The Nanny Diaries: A Novel\n"
     ]
    }
   ],
   "source": [
    "import pandas as pd\n",
    "\n",
    "# Load preprocessed data\n",
    "books_df = pd.read_csv(\"Preprocessed_Books.csv\")\n",
    "ratings_df = pd.read_csv(\"Preprocessed_Ratings.csv\")\n",
    "\n",
    "# Standardize column names\n",
    "books_df.rename(columns={'Book-Title': 'Book_Title'}, inplace=True)\n",
    "ratings_df.rename(columns={'User-ID': 'User_ID', 'Book-Rating': 'Book_Rating'}, inplace=True)\n",
    "\n",
    "# Calculate book popularity based on the number of ratings and average rating\n",
    "book_popularity = ratings_df.groupby('ISBN').agg(\n",
    "    num_ratings=('Book_Rating', 'count'),\n",
    "    avg_rating=('Book_Rating', 'mean')\n",
    ").reset_index()\n",
    "\n",
    "# Merge with book details\n",
    "book_popularity = book_popularity.merge(books_df, on='ISBN', how='inner')\n",
    "\n",
    "# Define popularity score (weighted sum of avg rating and number of ratings)\n",
    "book_popularity['popularity_score'] = book_popularity['num_ratings'] * book_popularity['avg_rating']\n",
    "\n",
    "# Get top 10 popular books\n",
    "top_books = book_popularity.sort_values(by='popularity_score', ascending=False).head(10)\n",
    "\n",
    "# Get the top 10 users based on the number of ratings\n",
    "top_users = ratings_df['User_ID'].value_counts().head(10).index\n",
    "\n",
    "# Recommend popular books to the top 10 users\n",
    "recommendations = {user: top_books['Book_Title'].tolist() for user in top_users}\n",
    "\n",
    "# Display recommendations\n",
    "for user, rec_books in recommendations.items():\n",
    "    print(f\"\\nRecommendations for User {user}:\")\n",
    "    for book in rec_books:\n",
    "        print(f\" - {book}\")"
   ]
  },
  {
   "cell_type": "markdown",
   "id": "cadd2ace-2c19-40b4-b141-c834b99be6a2",
   "metadata": {},
   "source": [
    "###  recommending books based on readers mood¶\n"
   ]
  },
  {
   "cell_type": "code",
   "execution_count": 6,
   "id": "9a313b08-59d6-4acf-8c5b-be4a39fd2107",
   "metadata": {},
   "outputs": [
    {
     "name": "stdout",
     "output_type": "stream",
     "text": [
      "Answer the following questions to get a book recommendation:\n"
     ]
    },
    {
     "ename": "KeyboardInterrupt",
     "evalue": "Interrupted by user",
     "output_type": "error",
     "traceback": [
      "\u001b[1;31m---------------------------------------------------------------------------\u001b[0m",
      "\u001b[1;31mKeyboardInterrupt\u001b[0m                         Traceback (most recent call last)",
      "Cell \u001b[1;32mIn[6], line 45\u001b[0m\n\u001b[0;32m     42\u001b[0m         \u001b[38;5;28;01mreturn\u001b[39;00m \u001b[38;5;124m\"\u001b[39m\u001b[38;5;124mRelaxed\u001b[39m\u001b[38;5;124m\"\u001b[39m\n\u001b[0;32m     44\u001b[0m \u001b[38;5;66;03m# Generate book recommendation based on mood\u001b[39;00m\n\u001b[1;32m---> 45\u001b[0m user_mood \u001b[38;5;241m=\u001b[39m get_user_mood()\n\u001b[0;32m     46\u001b[0m recommended_books \u001b[38;5;241m=\u001b[39m mood_book_mapping[user_mood]\n\u001b[0;32m     48\u001b[0m \u001b[38;5;66;03m# Display recommendations\u001b[39;00m\n",
      "Cell \u001b[1;32mIn[6], line 36\u001b[0m, in \u001b[0;36mget_user_mood\u001b[1;34m()\u001b[0m\n\u001b[0;32m     24\u001b[0m questions \u001b[38;5;241m=\u001b[39m [\n\u001b[0;32m     25\u001b[0m     \u001b[38;5;124m\"\u001b[39m\u001b[38;5;124mHow are you feeling right now? (Happy, Sad, Energetic, Tired, Moody, Relaxed)\u001b[39m\u001b[38;5;124m\"\u001b[39m,\n\u001b[0;32m     26\u001b[0m     \u001b[38;5;124m\"\u001b[39m\u001b[38;5;124mDo you want something inspiring or reflective?\u001b[39m\u001b[38;5;124m\"\u001b[39m,\n\u001b[1;32m   (...)\u001b[0m\n\u001b[0;32m     32\u001b[0m     \u001b[38;5;124m\"\u001b[39m\u001b[38;5;124mWould you prefer a short read or a long immersive experience?\u001b[39m\u001b[38;5;124m\"\u001b[39m\n\u001b[0;32m     33\u001b[0m ]\n\u001b[0;32m     35\u001b[0m \u001b[38;5;28mprint\u001b[39m(\u001b[38;5;124m\"\u001b[39m\u001b[38;5;124mAnswer the following questions to get a book recommendation:\u001b[39m\u001b[38;5;124m\"\u001b[39m)\n\u001b[1;32m---> 36\u001b[0m mood \u001b[38;5;241m=\u001b[39m \u001b[38;5;28minput\u001b[39m(questions[\u001b[38;5;241m0\u001b[39m])\u001b[38;5;241m.\u001b[39mstrip()\u001b[38;5;241m.\u001b[39mcapitalize()\n\u001b[0;32m     38\u001b[0m \u001b[38;5;28;01mif\u001b[39;00m mood \u001b[38;5;129;01min\u001b[39;00m mood_book_mapping:\n\u001b[0;32m     39\u001b[0m     \u001b[38;5;28;01mreturn\u001b[39;00m mood\n",
      "File \u001b[1;32m~\\anaconda3\\Lib\\site-packages\\ipykernel\\kernelbase.py:1262\u001b[0m, in \u001b[0;36mKernel.raw_input\u001b[1;34m(self, prompt)\u001b[0m\n\u001b[0;32m   1260\u001b[0m     msg \u001b[38;5;241m=\u001b[39m \u001b[38;5;124m\"\u001b[39m\u001b[38;5;124mraw_input was called, but this frontend does not support input requests.\u001b[39m\u001b[38;5;124m\"\u001b[39m\n\u001b[0;32m   1261\u001b[0m     \u001b[38;5;28;01mraise\u001b[39;00m StdinNotImplementedError(msg)\n\u001b[1;32m-> 1262\u001b[0m \u001b[38;5;28;01mreturn\u001b[39;00m \u001b[38;5;28mself\u001b[39m\u001b[38;5;241m.\u001b[39m_input_request(\n\u001b[0;32m   1263\u001b[0m     \u001b[38;5;28mstr\u001b[39m(prompt),\n\u001b[0;32m   1264\u001b[0m     \u001b[38;5;28mself\u001b[39m\u001b[38;5;241m.\u001b[39m_parent_ident[\u001b[38;5;124m\"\u001b[39m\u001b[38;5;124mshell\u001b[39m\u001b[38;5;124m\"\u001b[39m],\n\u001b[0;32m   1265\u001b[0m     \u001b[38;5;28mself\u001b[39m\u001b[38;5;241m.\u001b[39mget_parent(\u001b[38;5;124m\"\u001b[39m\u001b[38;5;124mshell\u001b[39m\u001b[38;5;124m\"\u001b[39m),\n\u001b[0;32m   1266\u001b[0m     password\u001b[38;5;241m=\u001b[39m\u001b[38;5;28;01mFalse\u001b[39;00m,\n\u001b[0;32m   1267\u001b[0m )\n",
      "File \u001b[1;32m~\\anaconda3\\Lib\\site-packages\\ipykernel\\kernelbase.py:1305\u001b[0m, in \u001b[0;36mKernel._input_request\u001b[1;34m(self, prompt, ident, parent, password)\u001b[0m\n\u001b[0;32m   1302\u001b[0m \u001b[38;5;28;01mexcept\u001b[39;00m \u001b[38;5;167;01mKeyboardInterrupt\u001b[39;00m:\n\u001b[0;32m   1303\u001b[0m     \u001b[38;5;66;03m# re-raise KeyboardInterrupt, to truncate traceback\u001b[39;00m\n\u001b[0;32m   1304\u001b[0m     msg \u001b[38;5;241m=\u001b[39m \u001b[38;5;124m\"\u001b[39m\u001b[38;5;124mInterrupted by user\u001b[39m\u001b[38;5;124m\"\u001b[39m\n\u001b[1;32m-> 1305\u001b[0m     \u001b[38;5;28;01mraise\u001b[39;00m \u001b[38;5;167;01mKeyboardInterrupt\u001b[39;00m(msg) \u001b[38;5;28;01mfrom\u001b[39;00m \u001b[38;5;28;01mNone\u001b[39;00m\n\u001b[0;32m   1306\u001b[0m \u001b[38;5;28;01mexcept\u001b[39;00m \u001b[38;5;167;01mException\u001b[39;00m:\n\u001b[0;32m   1307\u001b[0m     \u001b[38;5;28mself\u001b[39m\u001b[38;5;241m.\u001b[39mlog\u001b[38;5;241m.\u001b[39mwarning(\u001b[38;5;124m\"\u001b[39m\u001b[38;5;124mInvalid Message:\u001b[39m\u001b[38;5;124m\"\u001b[39m, exc_info\u001b[38;5;241m=\u001b[39m\u001b[38;5;28;01mTrue\u001b[39;00m)\n",
      "\u001b[1;31mKeyboardInterrupt\u001b[0m: Interrupted by user"
     ]
    }
   ],
   "source": [
    "import pandas as pd\n",
    "\n",
    "# Load preprocessed book data\n",
    "books_df = pd.read_csv(\"Preprocessed_Books.csv\")\n",
    "\n",
    "# Categorize books based on mood\n",
    "mood_book_mapping = {\n",
    "    \"Happy\": [],\n",
    "    \"Sad\": [],\n",
    "    \"Energetic\": [],\n",
    "    \"Tired\": [],\n",
    "    \"Moody\": [],\n",
    "    \"Relaxed\": []\n",
    "}\n",
    "\n",
    "# Distribute books from books_df into mood categories\n",
    "for index, row in books_df.iterrows():\n",
    "    mood = index % len(mood_book_mapping)  # Assign books cyclically to moods\n",
    "    mood_name = list(mood_book_mapping.keys())[mood]\n",
    "    mood_book_mapping[mood_name].append(row['Book_Title'])\n",
    "\n",
    "# Function to get mood from user\n",
    "def get_user_mood():\n",
    "    questions = [\n",
    "        \"How are you feeling right now? (Happy, Sad, Energetic, Tired, Moody, Relaxed)\",\n",
    "        \"Do you want something inspiring or reflective?\",\n",
    "        \"Are you looking for something light or deep?\",\n",
    "        \"Do you prefer fiction or non-fiction?\",\n",
    "        \"Would you like a fast-paced or slow-paced book?\",\n",
    "        \"Do you enjoy thought-provoking stories or easy-going narratives?\",\n",
    "        \"Are you in the mood for a classic or a modern book?\",\n",
    "        \"Would you prefer a short read or a long immersive experience?\"\n",
    "    ]\n",
    "    \n",
    "    print(\"Answer the following questions to get a book recommendation:\")\n",
    "    mood = input(questions[0]).strip().capitalize()\n",
    "    \n",
    "    if mood in mood_book_mapping:\n",
    "        return mood\n",
    "    else:\n",
    "        print(\"Invalid mood. Defaulting to Relaxed.\")\n",
    "        return \"Relaxed\"\n",
    "\n",
    "# Generate book recommendation based on mood\n",
    "user_mood = get_user_mood()\n",
    "recommended_books = mood_book_mapping[user_mood]\n",
    "\n",
    "# Display recommendations\n",
    "print(f\"\\nRecommended books for your mood ({user_mood}):\")\n",
    "for book in recommended_books:\n",
    "    print(f\" - {book}\")"
   ]
  },
  {
   "cell_type": "code",
   "execution_count": null,
   "id": "040171ae-4746-4901-a8eb-55245907aa28",
   "metadata": {},
   "outputs": [],
   "source": [
    "import pandas as pd\n",
    "import random\n",
    "\n",
    "# Load books dataset (you need your books CSV for this part)\n",
    "books_df = pd.read_csv('Preprocessed_Books.csv')\n",
    "\n",
    "# Define questions to ask the reader with predefined options\n",
    "questions_with_options = {\n",
    "    \"How do you feel today?\": [\"Cheerful\", \"Moody\", \"Calm\", \"Tired\"],\n",
    "    \"What do you want to do right now?\": [\"Laugh and have fun\", \"Reflect and relax\", \"Go on an adventure\", \"Read something emotional\"],\n",
    "    \"How would you describe your energy level?\": [\"High energy\", \"Low energy\", \"Balanced energy\", \"Very low energy\"],\n",
    "    \"What kind of emotions do you feel today?\": [\"Happy, excited\", \"Sad, nostalgic\", \"Peaceful, content\", \"Motivated, adventurous\"],\n",
    "    \"If you could escape to a different world, what would you choose?\": [\"A world full of fun and excitement\", \"A calm, tranquil place\", \"A fast-paced, action-filled world\", \"A romantic, dream-like place\"]\n",
    "}\n",
    "\n",
    "# Define mood categories based on answers (for simplicity, we use a random answer mapping)\n",
    "mood_categories = {\n",
    "    \"happy\": [\"Cheerful\", \"Happy, excited\", \"Laugh and have fun\", \"High energy\"],\n",
    "    \"sad\": [\"Moody\", \"Sad, nostalgic\", \"Low energy\", \"Read something emotional\"],\n",
    "    \"relaxed\": [\"Calm\", \"Reflect and relax\", \"Balanced energy\", \"A calm, tranquil place\"],\n",
    "    \"energetic\": [\"Motivated, adventurous\", \"Go on an adventure\", \"High energy\", \"A fast-paced, action-filled world\"],\n",
    "    \"romantic\": [\"Tired\", \"Read something emotional\", \"Very low energy\", \"A romantic, dream-like place\"]\n",
    "}\n",
    "\n",
    "# Function to ask questions and guess the mood\n",
    "def guess_mood():\n",
    "    print(\"Please answer the following questions to determine your mood:\")\n",
    "    \n",
    "    answers = []\n",
    "    for question, options in questions_with_options.items():\n",
    "        print(f\"{question}\")\n",
    "        for i, option in enumerate(options, 1):\n",
    "            print(f\"{i}. {option}\")\n",
    "        answer = int(input(f\"Please select an option (1-{len(options)}): \"))\n",
    "        answers.append(options[answer - 1])\n",
    "    \n",
    "    # Simple approach: randomly assign a mood based on answers\n",
    "    mood_guess = random.choice(list(mood_categories.keys()))\n",
    "    \n",
    "    print(f\"Based on your answers, your mood is predicted as: {mood_guess}\")\n",
    "    return mood_guess\n",
    "\n",
    "# Map mood to book recommendations (now using keywords instead of specific titles)\n",
    "mood_to_keywords = {\n",
    "    \"happy\": [\"joy\", \"laugh\", \"fun\", \"adventure\", \"feel-good\"],\n",
    "    \"sad\": [\"sad\", \"nostalgia\", \"tears\", \"heartbreak\", \"grief\"],\n",
    "    \"relaxed\": [\"calm\", \"peaceful\", \"reflect\", \"relax\", \"serene\"],\n",
    "    \"energetic\": [\"action\", \"thrill\", \"mystery\", \"adventure\", \"exciting\"],\n",
    "    \"romantic\": [\"love\", \"romance\", \"dream\", \"relationship\", \"heart\"]\n",
    "}\n",
    "\n",
    "# Function to recommend books based on mood\n",
    "def recommend_books_based_on_mood(mood_guess, top_n=5):\n",
    "    # Map mood to keywords\n",
    "    recommended_keywords = mood_to_keywords.get(mood_guess, [])\n",
    "    \n",
    "    # Filter books by title based on keywords\n",
    "    filtered_books = books_df[books_df['Book_Title'].str.contains('|'.join(recommended_keywords), case=False, na=False)]\n",
    "    \n",
    "    # If no books match the keywords, recommend top N books from the dataset\n",
    "    if filtered_books.empty:\n",
    "        filtered_books = books_df.head(top_n)\n",
    "    \n",
    "    return filtered_books[['Book_Title', 'Book_Author']].head(top_n)\n",
    "\n",
    "# Run the mood prediction and book recommendation\n",
    "reader_mood = guess_mood()\n",
    "recommended_books = recommend_books_based_on_mood(reader_mood)\n",
    "\n",
    "# Display the recommended books\n",
    "print(\"\\nHere are some book recommendations for you:\")\n",
    "print(recommended_books)"
   ]
  },
  {
   "cell_type": "code",
   "execution_count": null,
   "id": "612f6aba-914c-4bd4-b0de-fafd92018520",
   "metadata": {},
   "outputs": [],
   "source": []
  }
 ],
 "metadata": {
  "kernelspec": {
   "display_name": "Python 3 (ipykernel)",
   "language": "python",
   "name": "python3"
  },
  "language_info": {
   "codemirror_mode": {
    "name": "ipython",
    "version": 3
   },
   "file_extension": ".py",
   "mimetype": "text/x-python",
   "name": "python",
   "nbconvert_exporter": "python",
   "pygments_lexer": "ipython3",
   "version": "3.12.4"
  }
 },
 "nbformat": 4,
 "nbformat_minor": 5
}
