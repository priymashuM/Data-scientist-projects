{
 "cells": [
  {
   "cell_type": "markdown",
   "id": "a70bffb6-6f6c-4bf1-879a-6ac12f89db60",
   "metadata": {},
   "source": [
    "#### creating database and table\n"
   ]
  },
  {
   "cell_type": "code",
   "execution_count": 2,
   "id": "dde1746b-8fab-444b-82c7-87734315c55a",
   "metadata": {},
   "outputs": [
    {
     "name": "stdout",
     "output_type": "stream",
     "text": [
      "Database 'eco_friendly' created or already exists.\n",
      "Connected to database: eco_friendly\n"
     ]
    }
   ],
   "source": [
    "import pymysql\n",
    "\n",
    "# Database connection details\n",
    "DB_HOST = \"localhost\"      # Change if using a remote server\n",
    "DB_USER = \"root\"           # Replace with your MySQL username\n",
    "DB_PASSWORD = \"root\"   # Replace with your MySQL password\n",
    "DB_NAME = \"eco_friendly\"   # Database name\n",
    "\n",
    "# Connect to MySQL\n",
    "connection = pymysql.connect(\n",
    "    host=DB_HOST,\n",
    "    user=DB_USER,\n",
    "    password=DB_PASSWORD\n",
    ")\n",
    "\n",
    "cursor = connection.cursor()\n",
    "\n",
    "# Create database if not exists\n",
    "cursor.execute(f\"CREATE DATABASE IF NOT EXISTS {DB_NAME};\")\n",
    "print(f\"Database '{DB_NAME}' created or already exists.\")\n",
    "\n",
    "# Connect to the newly created database\n",
    "connection.select_db(DB_NAME)\n",
    "\n",
    "# Confirm connection\n",
    "print(f\"Connected to database: {DB_NAME}\")\n",
    "\n",
    "# Close the connection\n",
    "cursor.close()\n",
    "connection.close()\n"
   ]
  },
  {
   "cell_type": "markdown",
   "id": "62c23c8c-ef2e-466e-996a-02dd590c50e9",
   "metadata": {},
   "source": [
    "### inserting data into database"
   ]
  },
  {
   "cell_type": "code",
   "execution_count": 7,
   "id": "57867e99-e86c-4b65-bd4e-496022d3d7e6",
   "metadata": {},
   "outputs": [
    {
     "ename": "ValueError",
     "evalue": "❌ Error: 'User_ID' column is missing in Excel file.",
     "output_type": "error",
     "traceback": [
      "\u001b[1;31m---------------------------------------------------------------------------\u001b[0m",
      "\u001b[1;31mValueError\u001b[0m                                Traceback (most recent call last)",
      "Cell \u001b[1;32mIn[7], line 47\u001b[0m\n\u001b[0;32m     45\u001b[0m \u001b[38;5;66;03m# ✅ Ensure 'User_ID' column exists in DataFrame\u001b[39;00m\n\u001b[0;32m     46\u001b[0m \u001b[38;5;28;01mif\u001b[39;00m \u001b[38;5;124m\"\u001b[39m\u001b[38;5;124mUser_ID\u001b[39m\u001b[38;5;124m\"\u001b[39m \u001b[38;5;129;01mnot\u001b[39;00m \u001b[38;5;129;01min\u001b[39;00m df\u001b[38;5;241m.\u001b[39mcolumns:\n\u001b[1;32m---> 47\u001b[0m     \u001b[38;5;28;01mraise\u001b[39;00m \u001b[38;5;167;01mValueError\u001b[39;00m(\u001b[38;5;124m\"\u001b[39m\u001b[38;5;124m❌ Error: \u001b[39m\u001b[38;5;124m'\u001b[39m\u001b[38;5;124mUser_ID\u001b[39m\u001b[38;5;124m'\u001b[39m\u001b[38;5;124m column is missing in Excel file.\u001b[39m\u001b[38;5;124m\"\u001b[39m)\n\u001b[0;32m     49\u001b[0m \u001b[38;5;66;03m# ✅ Insert data into MySQL\u001b[39;00m\n\u001b[0;32m     50\u001b[0m insert_query \u001b[38;5;241m=\u001b[39m \u001b[38;5;124mf\u001b[39m\u001b[38;5;124m\"\"\"\u001b[39m\n\u001b[0;32m     51\u001b[0m \u001b[38;5;124mINSERT INTO \u001b[39m\u001b[38;5;132;01m{\u001b[39;00mTABLE_NAME\u001b[38;5;132;01m}\u001b[39;00m\u001b[38;5;124m (user_id, product_name, category, material, price, description, brand, availability, ratings)\u001b[39m\n\u001b[0;32m     52\u001b[0m \u001b[38;5;124mVALUES (%s, %s, %s, %s, %s, %s, %s, %s, %s);\u001b[39m\n\u001b[0;32m     53\u001b[0m \u001b[38;5;124m\"\"\"\u001b[39m\n",
      "\u001b[1;31mValueError\u001b[0m: ❌ Error: 'User_ID' column is missing in Excel file."
     ]
    }
   ],
   "source": [
    "import pymysql\n",
    "import pandas as pd\n",
    "\n",
    "# Database connection details\n",
    "DB_HOST = \"localhost\"\n",
    "DB_USER = \"root\"\n",
    "DB_PASSWORD = \"root\"\n",
    "DB_NAME = \"eco_friendly\"\n",
    "TABLE_NAME = \"product\"\n",
    "\n",
    "# Connect to MySQL\n",
    "connection = pymysql.connect(\n",
    "    host=DB_HOST,\n",
    "    user=DB_USER,\n",
    "    password=DB_PASSWORD,\n",
    "    database=DB_NAME\n",
    ")\n",
    "cursor = connection.cursor()\n",
    "\n",
    "# Drop the table if it exists (Ensure clean schema)\n",
    "cursor.execute(f\"DROP TABLE IF EXISTS {TABLE_NAME}\")\n",
    "\n",
    "# ✅ Create table with user_id column\n",
    "create_table_query = f\"\"\"\n",
    "CREATE TABLE {TABLE_NAME} (\n",
    "    product_id INT AUTO_INCREMENT PRIMARY KEY,\n",
    "    user_id INT,  -- Now explicitly defining user_id\n",
    "    product_name VARCHAR(255),\n",
    "    category VARCHAR(100),\n",
    "    material VARCHAR(255),\n",
    "    price VARCHAR(50),\n",
    "    description TEXT,\n",
    "    brand VARCHAR(100),\n",
    "    availability VARCHAR(50),\n",
    "    ratings FLOAT\n",
    ");\n",
    "\"\"\"\n",
    "cursor.execute(create_table_query)\n",
    "connection.commit()\n",
    "\n",
    "# Load data from Excel\n",
    "file_path = \"EcoFriendly_Products.xlsx\"  # Ensure correct path\n",
    "df = pd.read_excel(file_path)\n",
    "\n",
    "# ✅ Ensure 'User_ID' column exists in DataFrame\n",
    "if \"User_ID\" not in df.columns:\n",
    "    raise ValueError(\"❌ Error: 'User_ID' column is missing in Excel file.\")\n",
    "\n",
    "# ✅ Insert data into MySQL\n",
    "insert_query = f\"\"\"\n",
    "INSERT INTO {TABLE_NAME} (user_id, product_name, category, material, price, description, brand, availability, ratings)\n",
    "VALUES (%s, %s, %s, %s, %s, %s, %s, %s, %s);\n",
    "\"\"\"\n",
    "\n",
    "for _, row in df.iterrows():\n",
    "    cursor.execute(insert_query, (\n",
    "        int(row[\"User_ID\"]),  \n",
    "        row[\"Product Name\"], \n",
    "        row[\"Category\"], \n",
    "        row[\"Material\"], \n",
    "        row[\"Price\"],\n",
    "        row[\"Description\"], \n",
    "        row[\"Brand\"], \n",
    "        row[\"Availability\"], \n",
    "        float(row[\"Ratings\"]) if not pd.isna(row[\"Ratings\"]) else 0.0  \n",
    "    ))\n",
    "\n",
    "connection.commit()\n",
    "print(\"✅ Data successfully inserted into the database with original user IDs!\")\n",
    "\n",
    "# Close the connection\n",
    "cursor.close()\n",
    "connection.close()\n"
   ]
  },
  {
   "cell_type": "code",
   "execution_count": 11,
   "id": "ad4eedb4-96fa-4e30-a5a9-f498ff35f005",
   "metadata": {},
   "outputs": [
    {
     "name": "stdout",
     "output_type": "stream",
     "text": [
      "🔍 Columns in Excel file: ['Product ID', 'Product Name', 'Category', 'Material', 'Price', 'Description', 'Brand', 'Availability', 'User-ID', 'Ratings']\n",
      "✅ Data successfully inserted into the database with original user IDs!\n"
     ]
    }
   ],
   "source": [
    "import pymysql\n",
    "import pandas as pd\n",
    "\n",
    "# Database connection details\n",
    "DB_HOST = \"localhost\"\n",
    "DB_USER = \"root\"\n",
    "DB_PASSWORD = \"root\"\n",
    "DB_NAME = \"eco_friendly\"\n",
    "TABLE_NAME = \"products\"  # Ensure consistency in table name\n",
    "\n",
    "# Connect to MySQL\n",
    "connection = pymysql.connect(\n",
    "    host=DB_HOST,\n",
    "    user=DB_USER,\n",
    "    password=DB_PASSWORD,\n",
    "    database=DB_NAME\n",
    ")\n",
    "cursor = connection.cursor()\n",
    "\n",
    "# Drop the table if it exists (Ensure clean schema)\n",
    "cursor.execute(f\"DROP TABLE IF EXISTS {TABLE_NAME}\")\n",
    "\n",
    "# ✅ Create table with user_id column\n",
    "create_table_query = f\"\"\"\n",
    "CREATE TABLE {TABLE_NAME} (\n",
    "    product_id INT AUTO_INCREMENT PRIMARY KEY,\n",
    "    user_id INT,  \n",
    "    product_name VARCHAR(255),\n",
    "    category VARCHAR(100),\n",
    "    material VARCHAR(255),\n",
    "    price VARCHAR(50),\n",
    "    description TEXT,\n",
    "    brand VARCHAR(100),\n",
    "    availability VARCHAR(50),\n",
    "    ratings FLOAT\n",
    ");\n",
    "\"\"\"\n",
    "cursor.execute(create_table_query)\n",
    "connection.commit()\n",
    "\n",
    "# Load data from Excel\n",
    "file_path = \"EcoFriendly_Products.xlsx\"  # Ensure correct path\n",
    "df = pd.read_excel(file_path)\n",
    "\n",
    "# ✅ Display actual column names for debugging\n",
    "print(\"🔍 Columns in Excel file:\", df.columns.tolist())\n",
    "\n",
    "# ✅ Dynamically find 'User_ID' column (case-insensitive, including 'User-ID')\n",
    "user_id_col = None\n",
    "for col in df.columns:\n",
    "    if col.strip().lower() in [\"user_id\", \"userid\", \"user id\", \"user-id\"]:\n",
    "        user_id_col = col\n",
    "        break\n",
    "\n",
    "if not user_id_col:\n",
    "    raise ValueError(\"❌ Error: Could not find a 'User_ID' column in the Excel file.\")\n",
    "\n",
    "# ✅ Insert data into MySQL\n",
    "insert_query = f\"\"\"\n",
    "INSERT INTO {TABLE_NAME} (user_id, product_name, category, material, price, description, brand, availability, ratings)\n",
    "VALUES (%s, %s, %s, %s, %s, %s, %s, %s, %s);\n",
    "\"\"\"\n",
    "\n",
    "for _, row in df.iterrows():\n",
    "    cursor.execute(insert_query, (\n",
    "        int(row[user_id_col]) if pd.notna(row[user_id_col]) else None,  # Use dynamically found column\n",
    "        row[\"Product Name\"] if pd.notna(row[\"Product Name\"]) else \"Unknown\",\n",
    "        row[\"Category\"] if pd.notna(row[\"Category\"]) else \"Unknown\",\n",
    "        row[\"Material\"] if pd.notna(row[\"Material\"]) else \"Unknown\",\n",
    "        row[\"Price\"] if pd.notna(row[\"Price\"]) else \"0\",\n",
    "        row[\"Description\"] if pd.notna(row[\"Description\"]) else \"No description\",\n",
    "        row[\"Brand\"] if pd.notna(row[\"Brand\"]) else \"Unknown\",\n",
    "        row[\"Availability\"] if pd.notna(row[\"Availability\"]) else \"Unknown\",\n",
    "        float(row[\"Ratings\"]) if pd.notna(row[\"Ratings\"]) else 0.0  # Handle NaN in Ratings\n",
    "    ))\n",
    "\n",
    "connection.commit()\n",
    "print(\"✅ Data successfully inserted into the database with original user IDs!\")\n",
    "\n",
    "# Close the connection\n",
    "cursor.close()\n",
    "connection.close()\n"
   ]
  },
  {
   "cell_type": "markdown",
   "id": "1bb49574-e82c-4d65-bebc-920b92ca3ad3",
   "metadata": {},
   "source": [
    "### extracting data from database"
   ]
  },
  {
   "cell_type": "code",
   "execution_count": 14,
   "id": "e098fc2c-c020-42c8-af8f-9e64653f44cc",
   "metadata": {},
   "outputs": [
    {
     "name": "stdout",
     "output_type": "stream",
     "text": [
      "✅ Connected to MySQL Database\n",
      "✅ Data successfully extracted from MySQL\n",
      "   product_id  user_id                 product_name    category  \\\n",
      "0           1      100            Bamboo Toothbrush  Toothbrush   \n",
      "1           2      101  Recycled Plastic Toothbrush  Toothbrush   \n",
      "2           3      102        Cornstarch Toothbrush  Toothbrush   \n",
      "3           4      103          Silicone Toothbrush  Toothbrush   \n",
      "4           5      104  Charcoal-infused Toothbrush  Toothbrush   \n",
      "\n",
      "           material  price                                        description  \\\n",
      "0            Bamboo  45.67  Eco-friendly Toothbrush made from Bamboo. Sust...   \n",
      "1  Recycled Plastic  24.41  Eco-friendly Toothbrush made from Recycled Pla...   \n",
      "2        Cornstarch  16.19  Eco-friendly Toothbrush made from Cornstarch. ...   \n",
      "3          Silicone  48.35  Eco-friendly Toothbrush made from Silicone. Su...   \n",
      "4  Charcoal-infused  15.17  Eco-friendly Toothbrush made from Charcoal-inf...   \n",
      "\n",
      "      brand  availability  ratings  \n",
      "0  EcoBrand      In Stock     8.36  \n",
      "1  EcoBrand      In Stock     7.98  \n",
      "2  EcoBrand  Out of Stock     8.89  \n",
      "3  EcoBrand  Out of Stock     7.21  \n",
      "4  EcoBrand      In Stock     9.01  \n",
      "✅ MySQL connection is closed\n"
     ]
    },
    {
     "name": "stderr",
     "output_type": "stream",
     "text": [
      "C:\\Users\\Dell\\AppData\\Local\\Temp\\ipykernel_11336\\4025013269.py:25: UserWarning: pandas only supports SQLAlchemy connectable (engine/connection) or database string URI or sqlite3 DBAPI2 connection. Other DBAPI2 objects are not tested. Please consider using SQLAlchemy.\n",
      "  df = pd.read_sql(query, connection)\n"
     ]
    }
   ],
   "source": [
    "import pymysql\n",
    "import pandas as pd\n",
    "\n",
    "# Database connection details\n",
    "HOST = \"localhost\"\n",
    "USER = \"root\"\n",
    "PASSWORD = \"root\"\n",
    "DATABASE = \"eco_friendly\"\n",
    "\n",
    "try:\n",
    "    # Connect to MySQL database using pymysql\n",
    "    connection = pymysql.connect(\n",
    "        host=HOST,\n",
    "        user=USER,\n",
    "        password=PASSWORD,\n",
    "        database=DATABASE\n",
    "    )\n",
    "\n",
    "    print(\"✅ Connected to MySQL Database\")\n",
    "\n",
    "    # Query to fetch all data from the Products table\n",
    "    query = \"SELECT * FROM products\"  # Ensure table name is correct\n",
    "\n",
    "    # Load data into a Pandas DataFrame\n",
    "    df = pd.read_sql(query, connection)\n",
    "\n",
    "    print(\"✅ Data successfully extracted from MySQL\")\n",
    "    print(df.head())  # Display first 5 rows\n",
    "\n",
    "except pymysql.MySQLError as e:\n",
    "    print(f\"❌ Error: {e}\")\n",
    "\n",
    "finally:\n",
    "    if connection:\n",
    "        connection.close()\n",
    "        print(\"✅ MySQL connection is closed\")\n",
    "\n"
   ]
  },
  {
   "cell_type": "markdown",
   "id": "96828311-fda5-4a3c-8889-7bd3a5cc36e6",
   "metadata": {},
   "source": [
    "###  Content based filtering using cosine similarity"
   ]
  },
  {
   "cell_type": "code",
   "execution_count": 16,
   "id": "56d2dfaa-dde7-4db4-ac5a-c881f1cbbbe8",
   "metadata": {},
   "outputs": [
    {
     "name": "stdout",
     "output_type": "stream",
     "text": [
      "Available Categories: ['Toothbrush' 'Bag' 'Water Bottle' 'Clothing' 'Cutlery' 'Notebook' 'Shoes'\n",
      " 'Toys' 'Straws' 'Phone Cases']\n"
     ]
    },
    {
     "name": "stdin",
     "output_type": "stream",
     "text": [
      "Enter the category you want recommendations from:  Bag\n"
     ]
    },
    {
     "name": "stdout",
     "output_type": "stream",
     "text": [
      "\n",
      "Available Products in Category: Bag\n",
      "['Jute Bag', 'Hemp Bag', 'Organic Cotton Bag', 'Recycled Plastic Bag', 'Cork Bag', 'Canvas Bag', 'Bamboo Fiber Bag', 'Paper Bag', 'Upcycled Denim Bag', 'Tyvek Bag']\n"
     ]
    },
    {
     "name": "stdin",
     "output_type": "stream",
     "text": [
      "Enter the product name for recommendations:  Canvas Bag\n"
     ]
    },
    {
     "name": "stdout",
     "output_type": "stream",
     "text": [
      "\n",
      "Recommended Products:\n",
      "  product_name category material\n",
      "0     Jute Bag      Bag     Jute\n",
      "1     Hemp Bag      Bag     Hemp\n",
      "4     Cork Bag      Bag     Cork\n",
      "7    Paper Bag      Bag    Paper\n",
      "9    Tyvek Bag      Bag    Tyvek\n"
     ]
    }
   ],
   "source": [
    "\n",
    "import pandas as pd\n",
    "import numpy as np\n",
    "from sklearn.feature_extraction.text import TfidfVectorizer\n",
    "from sklearn.metrics.pairwise import cosine_similarity\n",
    "\n",
    "\n",
    "\n",
    "# Step 2: Get Unique Categories & Ask User to Select One\n",
    "unique_categories = df['category'].unique()\n",
    "print(\"Available Categories:\", unique_categories)\n",
    "\n",
    "selected_category = input(\"Enter the category you want recommendations from: \").strip()\n",
    "\n",
    "# Step 3: Filter Products by Selected Category\n",
    "df_filtered = df[df['category'] == selected_category].reset_index(drop=True)\n",
    "\n",
    "# Step 4: Combine 'category', 'material', and 'description' into a single feature\n",
    "df_filtered['combined_features'] = df_filtered['category'] + \" \" + df_filtered['material'] + \" \" + df_filtered['description']\n",
    "\n",
    "# Step 5: Convert text data into numerical form (TF-IDF Vectorization)\n",
    "tfidf = TfidfVectorizer(stop_words='english')\n",
    "tfidf_matrix = tfidf.fit_transform(df_filtered['combined_features'])\n",
    "\n",
    "# Step 6: Compute Similarity Matrix\n",
    "cosine_sim = cosine_similarity(tfidf_matrix, tfidf_matrix)\n",
    "\n",
    "# Step 7: Create Recommendation Function\n",
    "def recommend_products(product_name, num_recommendations=5):\n",
    "    # Check if the product exists in the selected category\n",
    "    if product_name not in df_filtered['product_name'].values:\n",
    "        print(\"Product not found in the selected category.\")\n",
    "        return\n",
    "    \n",
    "    # Find index of the product\n",
    "    idx = df_filtered[df_filtered['product_name'] == product_name].index[0]\n",
    "    \n",
    "    # Get similarity scores for all products in the selected category\n",
    "    sim_scores = list(enumerate(cosine_sim[idx]))\n",
    "    \n",
    "    # Sort products by similarity score (highest first)\n",
    "    sim_scores = sorted(sim_scores, key=lambda x: x[1], reverse=True)\n",
    "    \n",
    "    # Get top N similar products (excluding itself)\n",
    "    sim_scores = sim_scores[1:num_recommendations+1]\n",
    "    \n",
    "    # Get recommended product indices\n",
    "    product_indices = [i[0] for i in sim_scores]\n",
    "    \n",
    "    # Return top recommended products\n",
    "    return df_filtered[['product_name', 'category', 'material']].iloc[product_indices]\n",
    "\n",
    "# Step 8: Ask User for a Product Name in the Selected Category\n",
    "print(\"\\nAvailable Products in Category:\", selected_category)\n",
    "print(df_filtered['product_name'].tolist())\n",
    "\n",
    "product_to_search = input(\"Enter the product name for recommendations: \").strip()\n",
    "\n",
    "# Step 9: Get Recommendations\n",
    "recommendations = recommend_products(product_to_search, 5)\n",
    "\n",
    "if recommendations is not None:\n",
    "    print(\"\\nRecommended Products:\")\n",
    "    print(recommendations)"
   ]
  },
  {
   "cell_type": "markdown",
   "id": "59619de8-21a4-46ce-b011-383f2019d36e",
   "metadata": {},
   "source": [
    "###  Content based filtering using euclidean_distances"
   ]
  },
  {
   "cell_type": "code",
   "execution_count": 18,
   "id": "56cdfafa-a676-42c4-a3cd-54518c398e67",
   "metadata": {},
   "outputs": [
    {
     "name": "stdout",
     "output_type": "stream",
     "text": [
      "Available Categories: ['Toothbrush' 'Bag' 'Water Bottle' 'Clothing' 'Cutlery' 'Notebook' 'Shoes'\n",
      " 'Toys' 'Straws' 'Phone Cases']\n"
     ]
    },
    {
     "name": "stdin",
     "output_type": "stream",
     "text": [
      "Enter the category you want recommendations from:  Cutlery\n"
     ]
    },
    {
     "name": "stdout",
     "output_type": "stream",
     "text": [
      "\n",
      "Available Products in Category: Cutlery\n",
      "['Bamboo Cutlery', 'Coconut Shell Cutlery', 'Recycled Stainless Steel Cutlery', 'Wheat Straw Cutlery', 'Cornstarch Cutlery', 'Wood Cutlery', 'Silicone Cutlery', 'Edible Cutlery Cutlery', 'Paper-based Cutlery', 'Rice Husk Cutlery']\n"
     ]
    },
    {
     "name": "stdin",
     "output_type": "stream",
     "text": [
      "Enter the product name for recommendations:  Wheat Straw Cutlery\n"
     ]
    },
    {
     "name": "stdout",
     "output_type": "stream",
     "text": [
      "\n",
      "Recommended Products:\n",
      "             product_name category        material\n",
      "7  Edible Cutlery Cutlery  Cutlery  Edible Cutlery\n",
      "0          Bamboo Cutlery  Cutlery          Bamboo\n",
      "4      Cornstarch Cutlery  Cutlery      Cornstarch\n",
      "5            Wood Cutlery  Cutlery            Wood\n",
      "6        Silicone Cutlery  Cutlery        Silicone\n"
     ]
    }
   ],
   "source": [
    "import pandas as pd\n",
    "import numpy as np\n",
    "from sklearn.feature_extraction.text import TfidfVectorizer\n",
    "from sklearn.metrics.pairwise import euclidean_distances\n",
    "\n",
    "# Step 1: Load Data (Assuming df is already loaded)\n",
    "# Step 2: Get Unique Categories & Ask User to Select One\n",
    "unique_categories = df['category'].unique()\n",
    "print(\"Available Categories:\", unique_categories)\n",
    "\n",
    "selected_category = input(\"Enter the category you want recommendations from: \").strip()\n",
    "\n",
    "# Step 3: Filter Products by Selected Category\n",
    "df_filtered = df[df['category'] == selected_category].reset_index(drop=True)\n",
    "\n",
    "# Step 4: Combine 'category', 'material', and 'description' into a single feature\n",
    "df_filtered['combined_features'] = df_filtered['category'] + \" \" + df_filtered['material'] + \" \" + df_filtered['description']\n",
    "\n",
    "# Step 5: Convert text data into numerical form (TF-IDF Vectorization)\n",
    "tfidf = TfidfVectorizer(stop_words='english')\n",
    "tfidf_matrix = tfidf.fit_transform(df_filtered['combined_features'])\n",
    "\n",
    "# Step 6: Compute Similarity Matrix using Euclidean Distance\n",
    "euclidean_sim = euclidean_distances(tfidf_matrix, tfidf_matrix)\n",
    "\n",
    "# Step 7: Create Recommendation Function\n",
    "def recommend_products(product_name, num_recommendations=5):\n",
    "    if product_name not in df_filtered['product_name'].values:\n",
    "        print(\"❌ Product not found in the selected category.\")\n",
    "        return\n",
    "    \n",
    "    # Find index of the product\n",
    "    idx = df_filtered[df_filtered['product_name'] == product_name].index[0]\n",
    "    \n",
    "    # Get Euclidean distances for all products in the selected category\n",
    "    dist_scores = list(enumerate(euclidean_sim[idx]))\n",
    "    \n",
    "    # Sort products by distance (lowest first because Euclidean distance is dissimilarity)\n",
    "    dist_scores = sorted(dist_scores, key=lambda x: x[1])\n",
    "    \n",
    "    # Get top N similar products (excluding itself)\n",
    "    dist_scores = dist_scores[1:num_recommendations+1]\n",
    "    \n",
    "    # Get recommended product indices\n",
    "    product_indices = [i[0] for i in dist_scores]\n",
    "    \n",
    "    # Return top recommended products\n",
    "    return df_filtered[['product_name', 'category', 'material']].iloc[product_indices]\n",
    "\n",
    "# Step 8: Ask User for a Product Name in the Selected Category\n",
    "print(\"\\nAvailable Products in Category:\", selected_category)\n",
    "print(df_filtered['product_name'].tolist())\n",
    "\n",
    "product_to_search = input(\"Enter the product name for recommendations: \").strip()\n",
    "\n",
    "# Step 9: Get Recommendations\n",
    "recommendations = recommend_products(product_to_search, 5)\n",
    "\n",
    "if recommendations is not None:\n",
    "    print(\"\\nRecommended Products:\")\n",
    "    print(recommendations)\n"
   ]
  },
  {
   "cell_type": "markdown",
   "id": "4079c617-5669-41e8-b82a-b18fe3ec5597",
   "metadata": {},
   "source": [
    "## Collaborative filtering"
   ]
  },
  {
   "cell_type": "code",
   "execution_count": 21,
   "id": "a1d2fe65-79ec-4591-b54a-d15ceff88873",
   "metadata": {},
   "outputs": [
    {
     "data": {
      "application/vnd.jupyter.widget-view+json": {
       "model_id": "b9f7cc008032453e9746662359398dd7",
       "version_major": 2,
       "version_minor": 0
      },
      "text/plain": [
       "IntText(value=1, description='User ID:')"
      ]
     },
     "metadata": {},
     "output_type": "display_data"
    },
    {
     "data": {
      "application/vnd.jupyter.widget-view+json": {
       "model_id": "3e7a0f598b5945cb9f9dde8e09d40b75",
       "version_major": 2,
       "version_minor": 0
      },
      "text/plain": [
       "Dropdown(description='Select Product:', options=('Bamboo Toothbrush', 'Recycled Plastic Toothbrush', 'Cornstar…"
      ]
     },
     "metadata": {},
     "output_type": "display_data"
    },
    {
     "data": {
      "application/vnd.jupyter.widget-view+json": {
       "model_id": "23d4f0cc286848a39af9e59e012ca61e",
       "version_major": 2,
       "version_minor": 0
      },
      "text/plain": [
       "Button(button_style='primary', description='Get Recommendations', style=ButtonStyle())"
      ]
     },
     "metadata": {},
     "output_type": "display_data"
    },
    {
     "data": {
      "application/vnd.jupyter.widget-view+json": {
       "model_id": "502990aaa7a4419fa736ee82af93b8a5",
       "version_major": 2,
       "version_minor": 0
      },
      "text/plain": [
       "Output()"
      ]
     },
     "metadata": {},
     "output_type": "display_data"
    }
   ],
   "source": [
    "import pandas as pd\n",
    "import numpy as np\n",
    "from scipy.spatial.distance import jaccard\n",
    "import ipywidgets as widgets\n",
    "from IPython.display import display, clear_output\n",
    "# Step 1: User ID Dropdown (simulated)\n",
    "user_id_dropdown = widgets.IntText(\n",
    "    value=1,\n",
    "    description=\"User ID:\",\n",
    "    disabled=False\n",
    ")\n",
    "# Step 2: Dropdown for Product Selection\n",
    "product_dropdown = widgets.Dropdown(\n",
    "    options=df['product_name'].unique(),\n",
    "    description=\"Select Product:\",\n",
    "    disabled=False\n",
    ")\n",
    "# Step 3: Button to Trigger Recommendations\n",
    "recommend_button = widgets.Button(\n",
    "    description=\"Get Recommendations\",\n",
    "    button_style=\"primary\"\n",
    ")\n",
    "# Output widget to display results\n",
    "output = widgets.Output()\n",
    "# Function to Calculate Jaccard Similarity\n",
    "def calculate_jaccard_similarity(df):\n",
    "    # Ensure 'price' and 'ratings' are numeric\n",
    "    df[['price', 'ratings']] = df[['price', 'ratings']].apply(pd.to_numeric, errors='coerce')\n",
    "    # Convert to binary (above/below median)\n",
    "    binary_features = np.where(df[['price', 'ratings']] > df[['price', 'ratings']].median(), 1, 0)\n",
    "    # Compute Jaccard similarity matrix\n",
    "    num_products = len(df)\n",
    "    sim_matrix = np.zeros((num_products, num_products))\n",
    "    for i in range(num_products):\n",
    "        for j in range(num_products):\n",
    "            if i != j:\n",
    "                sim_matrix[i][j] = 1 - jaccard(binary_features[i], binary_features[j])\n",
    "    return sim_matrix\n",
    "# Function to Get Recommendations\n",
    "def recommend_products(user_id, product_name, num_recommendations=5):\n",
    "    with output:\n",
    "        clear_output()\n",
    "        # Check if product exists\n",
    "        if product_name not in df['product_name'].values:\n",
    "            print(\"\\n:warning: Product not found in dataset.\")\n",
    "            return\n",
    "        # Compute Jaccard similarity\n",
    "        similarity_matrix = calculate_jaccard_similarity(df)\n",
    "        # Get index of selected product\n",
    "        product_idx = df[df['product_name'] == product_name].index[0]\n",
    "        # Find similar products\n",
    "        sim_scores = list(enumerate(similarity_matrix[product_idx]))\n",
    "        sim_scores = sorted(sim_scores, key=lambda x: x[1], reverse=True)\n",
    "        sim_scores = sim_scores[1:num_recommendations + 1]  # Exclude the selected product itself\n",
    "        # Get recommended product indices\n",
    "        product_indices = [i[0] for i in sim_scores]\n",
    "        print(\"\\n:small_blue_diamond: Recommended Products Based on:\", product_name, \"(Jaccard Similarity)\")\n",
    "        display(df.iloc[product_indices])\n",
    "# Function to Handle Button Click\n",
    "def on_button_click(b):\n",
    "    selected_product = product_dropdown.value\n",
    "    user_id = user_id_dropdown.value  # Get user_id from widget\n",
    "    if selected_product:\n",
    "        recommend_products(user_id, selected_product, 5)\n",
    "# Link button to function\n",
    "recommend_button.on_click(on_button_click)\n",
    "# Display widgets\n",
    "display(user_id_dropdown, product_dropdown, recommend_button, output)"
   ]
  },
  {
   "cell_type": "markdown",
   "id": "fa47a5f1-f6d3-4944-a763-a7e48b39de18",
   "metadata": {},
   "source": [
    "## Hybrid fitlering"
   ]
  },
  {
   "cell_type": "code",
   "execution_count": 24,
   "id": "06c80821-ae4b-40ad-b5d6-c17654950d1f",
   "metadata": {},
   "outputs": [
    {
     "data": {
      "application/vnd.jupyter.widget-view+json": {
       "model_id": "b1d661d705b64e45aa2cbc40dd6e50c3",
       "version_major": 2,
       "version_minor": 0
      },
      "text/plain": [
       "IntText(value=1, description='User ID:')"
      ]
     },
     "metadata": {},
     "output_type": "display_data"
    },
    {
     "data": {
      "application/vnd.jupyter.widget-view+json": {
       "model_id": "c43510bfef304663abe2d488fe8f023c",
       "version_major": 2,
       "version_minor": 0
      },
      "text/plain": [
       "Dropdown(description='Select Product:', options=('Bamboo Toothbrush', 'Recycled Plastic Toothbrush', 'Cornstar…"
      ]
     },
     "metadata": {},
     "output_type": "display_data"
    },
    {
     "data": {
      "application/vnd.jupyter.widget-view+json": {
       "model_id": "9417f69f5fda44dbb4ac8a3bac0fbf17",
       "version_major": 2,
       "version_minor": 0
      },
      "text/plain": [
       "Button(button_style='primary', description='Get Recommendations', style=ButtonStyle())"
      ]
     },
     "metadata": {},
     "output_type": "display_data"
    },
    {
     "data": {
      "application/vnd.jupyter.widget-view+json": {
       "model_id": "a91dec8da3fb4d2b9314cc34f5aeb295",
       "version_major": 2,
       "version_minor": 0
      },
      "text/plain": [
       "Output()"
      ]
     },
     "metadata": {},
     "output_type": "display_data"
    }
   ],
   "source": [
    "import pandas as pd\n",
    "import numpy as np\n",
    "from scipy.spatial.distance import jaccard\n",
    "from sklearn.feature_extraction.text import TfidfVectorizer\n",
    "from sklearn.metrics.pairwise import cosine_similarity\n",
    "import ipywidgets as widgets\n",
    "from IPython.display import display, clear_output\n",
    "# User Input Widgets\n",
    "user_id_dropdown = widgets.IntText(value=1, description=\"User ID:\", disabled=False)\n",
    "product_dropdown = widgets.Dropdown(options=df['product_name'].unique(), description=\"Select Product:\", disabled=False)\n",
    "recommend_button = widgets.Button(description=\"Get Recommendations\", button_style=\"primary\")\n",
    "output = widgets.Output()\n",
    "# Function to Compute Jaccard Similarity\n",
    "def calculate_jaccard_similarity(df):\n",
    "    df[['price', 'ratings']] = df[['price', 'ratings']].apply(pd.to_numeric, errors='coerce')\n",
    "    binary_features = np.where(df[['price', 'ratings']] > df[['price', 'ratings']].median(), 1, 0)\n",
    "    num_products = len(df)\n",
    "    sim_matrix = np.zeros((num_products, num_products))\n",
    "    for i in range(num_products):\n",
    "        for j in range(num_products):\n",
    "            if i != j:\n",
    "                sim_matrix[i][j] = 1 - jaccard(binary_features[i], binary_features[j])\n",
    "    return sim_matrix\n",
    "# Function to Compute Content Similarity\n",
    "def calculate_content_similarity(df):\n",
    "    df['combined_features'] = df['category'] + \" \" + df['material'] + \" \" + df['description']\n",
    "    tfidf = TfidfVectorizer(stop_words='english')\n",
    "    tfidf_matrix = tfidf.fit_transform(df['combined_features'])\n",
    "    return cosine_similarity(tfidf_matrix, tfidf_matrix)\n",
    "# Hybrid Recommendation Function\n",
    "def recommend_products(user_id, product_name, num_recommendations=5):\n",
    "    with output:\n",
    "        clear_output()\n",
    "        if product_name not in df['product_name'].values:\n",
    "            print(\":warning: Product not found in dataset.\")\n",
    "            return\n",
    "        jaccard_matrix = calculate_jaccard_similarity(df)\n",
    "        content_matrix = calculate_content_similarity(df)\n",
    "        product_idx = df[df['product_name'] == product_name].index[0]\n",
    "        hybrid_scores = (jaccard_matrix[product_idx] + content_matrix[product_idx]) / 2\n",
    "        sim_scores = list(enumerate(hybrid_scores))\n",
    "        sim_scores = sorted(sim_scores, key=lambda x: x[1], reverse=True)\n",
    "        sim_scores = sim_scores[1:num_recommendations + 1]\n",
    "        product_indices = [i[0] for i in sim_scores]\n",
    "        print(\":small_blue_diamond: Recommended Products Based on:\", product_name)\n",
    "        display(df.iloc[product_indices])\n",
    "# Button Click Function\n",
    "def on_button_click(b):\n",
    "    selected_product = product_dropdown.value\n",
    "    user_id = user_id_dropdown.value\n",
    "    if selected_product:\n",
    "        recommend_products(user_id, selected_product, 5)\n",
    "recommend_button.on_click(on_button_click)\n",
    "# Display Widgets\n",
    "display(user_id_dropdown, product_dropdown, recommend_button, output)"
   ]
  },
  {
   "cell_type": "code",
   "execution_count": null,
   "id": "af773aa0-81e6-4183-bf47-323c3a59f7da",
   "metadata": {},
   "outputs": [],
   "source": []
  }
 ],
 "metadata": {
  "kernelspec": {
   "display_name": "Python 3 (ipykernel)",
   "language": "python",
   "name": "python3"
  },
  "language_info": {
   "codemirror_mode": {
    "name": "ipython",
    "version": 3
   },
   "file_extension": ".py",
   "mimetype": "text/x-python",
   "name": "python",
   "nbconvert_exporter": "python",
   "pygments_lexer": "ipython3",
   "version": "3.12.4"
  }
 },
 "nbformat": 4,
 "nbformat_minor": 5
}
